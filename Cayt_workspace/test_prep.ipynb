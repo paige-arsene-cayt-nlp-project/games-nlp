{
 "cells": [
  {
   "cell_type": "code",
   "execution_count": 1,
   "id": "2d69df4b",
   "metadata": {},
   "outputs": [
    {
     "name": "stderr",
     "output_type": "stream",
     "text": [
      "/opt/homebrew/anaconda3/lib/python3.9/site-packages/scipy/__init__.py:146: UserWarning: A NumPy version >=1.16.5 and <1.23.0 is required for this version of SciPy (detected version 1.23.0\n",
      "  warnings.warn(f\"A NumPy version >={np_minversion} and <{np_maxversion}\"\n"
     ]
    }
   ],
   "source": [
    "import pandas as pd\n",
    "import prepare as prep"
   ]
  },
  {
   "cell_type": "code",
   "execution_count": 2,
   "id": "8498aa7f",
   "metadata": {},
   "outputs": [],
   "source": [
    "df = prep.prep_data()"
   ]
  },
  {
   "cell_type": "code",
   "execution_count": 3,
   "id": "fdb72ff0",
   "metadata": {},
   "outputs": [
    {
     "name": "stdout",
     "output_type": "stream",
     "text": [
      "<class 'pandas.core.frame.DataFrame'>\n",
      "Int64Index: 353 entries, 1 to 475\n",
      "Data columns (total 3 columns):\n",
      " #   Column    Non-Null Count  Dtype \n",
      "---  ------    --------------  ----- \n",
      " 0   repo      353 non-null    object\n",
      " 1   language  353 non-null    object\n",
      " 2   content   353 non-null    object\n",
      "dtypes: object(3)\n",
      "memory usage: 11.0+ KB\n"
     ]
    }
   ],
   "source": [
    "df.info() "
   ]
  },
  {
   "cell_type": "code",
   "execution_count": 4,
   "id": "daa43ac3",
   "metadata": {},
   "outputs": [
    {
     "data": {
      "text/plain": [
       "\"recast detour travis linux build status appveyor window build status screenshot navmesh baked sample programrecastdemoscreenshotpngrawtrue recast recast state art navigation mesh construction toolset game automatic mean throw level geometry get robust mesh fast mean swift turnaround time level designer open source come full source customize heart ' content recast process start constructing voxel mold level geometry casting navigation mesh process consists three step building voxel mold partitioning mold simple region peeling region simple polygon 1 voxel mold built input triangle mesh rasterizing triangle multilayer heightfield simple filter applied mold prune location character would able move 2 walkable area described mold divided simple overlayed 2d region resulting region one nonoverlapping contour simplifies final step process tremendously 3 navigation polygon peeled region first tracing boundary simplifying resulting polygon finally converted convex polygon make perfect pathfinding spatial reasoning level detour recast accompanied detour pathfinding spatial reasoning toolkit use navigation mesh detour course data generated recast fit perfectly detour offer simple static navigation mesh suitable many simple case well tiled navigation mesh allows plug piece mesh tiled mesh allows create system stream new navigation data player progress level may regenerate tile world change recast demo find comprehensive demo project recastdemo folder kitchen sink demo containing functionality library new recast detour check samplesolomeshcpprecastdemosourcesamplesolomeshcpp get started building navmeshes navmeshtestertoolcpprecastdemosourcenavmeshtestertoolcpp see detour used find path building recastdemo recastdemo us premake5 build platform specific project download make sure ' available path specify path linux install sdl2 dependency according distro ' guideline run premake5 gmake recastdemo folder cd buildgmake make cd recastdemobin run recastdemo osx grab latest sdl2 development library dmg place sdl2framework libraryframeworks navigate recastdemo folder run premake5 xcode4 open buildxcode4recastnavigationxcworkspace select recastdemo project left pane go buildphases tab expand link binary library remove existing entry sdl2 white box icon readd hitting plus selecting add selecting libraryframeworkssdl2framework suitcase icon set recastdemo project target build window grab latest sdl2 development library release unzip recastdemocontrib rename sdl folder path recastdemocontribsdllibx86 valid run premake5 vs2019 recastdemo folder open solution build run running unit test follow instruction build recastdemo premake generate another build target called test build test project generate executable named test recastdemobin run test executable execute unit test indicate failed display count succeeded integrating project recommended add source directory debugutils detour detourcrowd detourtilecache recast project depending part project need example level building tool could include debugutils recast detour game runtime could include detour contributing see contributing documentcontributingmd guideline making contribution discus discus recast detour httpgroupsgooglecomgrouprecastnavigation development blog httpdigestingduckblogspotcom license recast detour licensed zlib license see licensetxt information\""
      ]
     },
     "execution_count": 4,
     "metadata": {},
     "output_type": "execute_result"
    }
   ],
   "source": [
    "df.content[7]"
   ]
  },
  {
   "cell_type": "code",
   "execution_count": 5,
   "id": "55442e3f",
   "metadata": {},
   "outputs": [
    {
     "data": {
      "text/plain": [
       "JavaScript    90\n",
       "C++           65\n",
       "Python        59\n",
       "C#            44\n",
       "C             31\n",
       "Java          29\n",
       "TypeScript    18\n",
       "HTML          17\n",
       "Name: language, dtype: int64"
      ]
     },
     "execution_count": 5,
     "metadata": {},
     "output_type": "execute_result"
    }
   ],
   "source": [
    "df.language.value_counts()"
   ]
  }
 ],
 "metadata": {
  "kernelspec": {
   "display_name": "Python 3 (ipykernel)",
   "language": "python",
   "name": "python3"
  },
  "language_info": {
   "codemirror_mode": {
    "name": "ipython",
    "version": 3
   },
   "file_extension": ".py",
   "mimetype": "text/x-python",
   "name": "python",
   "nbconvert_exporter": "python",
   "pygments_lexer": "ipython3",
   "version": "3.9.7"
  }
 },
 "nbformat": 4,
 "nbformat_minor": 5
}
