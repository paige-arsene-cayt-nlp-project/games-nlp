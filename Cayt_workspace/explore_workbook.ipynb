{
 "cells": [
  {
   "cell_type": "code",
   "execution_count": 35,
   "id": "b33f85b5",
   "metadata": {},
   "outputs": [],
   "source": [
    "#basics\n",
    "import numpy as np\n",
    "import pandas as pd\n",
    "\n",
    "#viz\n",
    "import matplotlib.pyplot as plt\n",
    "import seaborn as sns\n",
    "sns.set_theme(palette='colorblind')\n",
    "\n",
    "#nlp\n",
    "from sklearn.feature_extraction.text import TfidfVectorizer\n",
    "\n",
    "#modules\n",
    "import prepare as prep"
   ]
  },
  {
   "cell_type": "markdown",
   "id": "758e2a27",
   "metadata": {},
   "source": [
    "### Acquire and Prep\n",
    "- use prep function on existing json file\n",
    "- split the data"
   ]
  },
  {
   "cell_type": "code",
   "execution_count": 2,
   "id": "84194dba",
   "metadata": {},
   "outputs": [],
   "source": [
    "#acquire & prep\n",
    "df = prep.prep_data()"
   ]
  },
  {
   "cell_type": "code",
   "execution_count": 3,
   "id": "6764372f",
   "metadata": {},
   "outputs": [
    {
     "name": "stdout",
     "output_type": "stream",
     "text": [
      "<class 'pandas.core.frame.DataFrame'>\n",
      "Int64Index: 353 entries, 1 to 475\n",
      "Data columns (total 3 columns):\n",
      " #   Column    Non-Null Count  Dtype \n",
      "---  ------    --------------  ----- \n",
      " 0   repo      353 non-null    object\n",
      " 1   language  353 non-null    object\n",
      " 2   content   353 non-null    object\n",
      "dtypes: object(3)\n",
      "memory usage: 11.0+ KB\n"
     ]
    }
   ],
   "source": [
    "df.info()"
   ]
  },
  {
   "cell_type": "markdown",
   "id": "2d0e58dd",
   "metadata": {},
   "source": [
    "##### Split the data"
   ]
  },
  {
   "cell_type": "code",
   "execution_count": 4,
   "id": "d502960e",
   "metadata": {},
   "outputs": [],
   "source": [
    "tr, val, te = prep.split_data(df)"
   ]
  },
  {
   "cell_type": "code",
   "execution_count": 5,
   "id": "49aad6b3",
   "metadata": {},
   "outputs": [
    {
     "name": "stdout",
     "output_type": "stream",
     "text": [
      "<class 'pandas.core.frame.DataFrame'>\n",
      "Int64Index: 197 entries, 115 to 153\n",
      "Data columns (total 3 columns):\n",
      " #   Column    Non-Null Count  Dtype \n",
      "---  ------    --------------  ----- \n",
      " 0   repo      197 non-null    object\n",
      " 1   language  197 non-null    object\n",
      " 2   content   197 non-null    object\n",
      "dtypes: object(3)\n",
      "memory usage: 6.2+ KB\n"
     ]
    }
   ],
   "source": [
    "tr.info()"
   ]
  },
  {
   "cell_type": "markdown",
   "id": "4e906eea",
   "metadata": {},
   "source": [
    "### Exploration"
   ]
  },
  {
   "cell_type": "markdown",
   "id": "64401add",
   "metadata": {},
   "source": [
    "##### Target Variable Distribution"
   ]
  },
  {
   "cell_type": "code",
   "execution_count": 13,
   "id": "d9cc1b50",
   "metadata": {},
   "outputs": [
    {
     "data": {
      "text/plain": [
       "Index(['JavaScript', 'C++', 'Python', 'C#', 'C', 'Java', 'HTML', 'TypeScript'], dtype='object')"
      ]
     },
     "execution_count": 13,
     "metadata": {},
     "output_type": "execute_result"
    }
   ],
   "source": []
  },
  {
   "cell_type": "code",
   "execution_count": 18,
   "id": "326c6cd5",
   "metadata": {},
   "outputs": [
    {
     "data": {
      "image/png": "[encoded data removed]",
      "text/plain": [
       "<Figure size 432x288 with 1 Axes>"
      ]
     },
     "metadata": {},
     "output_type": "display_data"
    }
   ],
   "source": [
    "ax = sns.countplot(data=tr,x='language',order=tr.language.value_counts().index); \n",
    "#show count\n",
    "for bar in ax.patches:\n",
    "    #calculate middle x of bar\n",
    "    x_pt = bar.get_x() + (bar.get_width() / 2)\n",
    "    #Add small buffer to height of bar (y)\n",
    "    y_pt = bar.get_height() + .5\n",
    "    #plot values - note that the height in this case is the value we want to plot\n",
    "    ax.text(x = x_pt, y = y_pt, s = bar.get_height(),horizontalalignment='center')\n",
    "\n",
    "plt.title('Distribution of Readme Languages',size=14)\n",
    "plt.ylabel('Count',size=14)\n",
    "plt.xlabel('Language',size=14)\n",
    "plt.ylim((0,55))\n",
    "plt.tight_layout()"
   ]
  },
  {
   "cell_type": "code",
   "execution_count": null,
   "id": "89cf0981",
   "metadata": {},
   "outputs": [],
   "source": [
    "#as a function\n",
    "def plot_target_distro(tr):\n",
    "    '''\n",
    "    Plots the distribution of the target variable (language)\n",
    "    '''\n",
    "    ax = sns.countplot(data=tr,x='language',order=tr.language.value_counts().index); \n",
    "    #show count\n",
    "    for bar in ax.patches:\n",
    "        #calculate middle x of bar\n",
    "        x_pt = bar.get_x() + (bar.get_width() / 2)\n",
    "        #Add small buffer to height of bar (y)\n",
    "        y_pt = bar.get_height() + .5\n",
    "        #plot values - note that the height in this case is the value we want to plot\n",
    "        ax.text(x = x_pt, y = y_pt, s = bar.get_height(),horizontalalignment='center')\n",
    "\n",
    "    plt.title('Distribution of Readme Languages',size=14)\n",
    "    plt.ylabel('Count',size=14)\n",
    "    plt.xlabel('Language',size=14)\n",
    "    plt.ylim((0,55))\n",
    "    plt.tight_layout()\n",
    "    return None"
   ]
  },
  {
   "cell_type": "markdown",
   "id": "4c2671b7",
   "metadata": {},
   "source": [
    "##### Look at TF and TF-IDF for tes"
   ]
  },
  {
   "cell_type": "code",
   "execution_count": 21,
   "id": "9686af93",
   "metadata": {},
   "outputs": [],
   "source": [
    "#aggregate readme contents by language\n",
    "all_text = ' '.join(tr.content)\n",
    "javascripttxt = ' '.join(tr[tr.language == 'JavaScript'].content)\n",
    "pythontxt = ' '.join(tr[tr.language == 'Python'].content)\n",
    "cplustxt = ' '.join(tr[tr.language == 'C++'].content)\n",
    "csharptxt = ' '.join(tr[tr.language == 'C#'].content)\n",
    "ctxt = ' '.join(tr[tr.language == 'C'].content)\n",
    "javatxt = ' '.join(tr[tr.language == 'Java'].content)\n",
    "htmltxt = ' '.join(tr[tr.language == 'HTML'].content)\n",
    "tstxt = ' '.join(tr[tr.language == 'TypeScript'].content)"
   ]
  },
  {
   "cell_type": "code",
   "execution_count": 22,
   "id": "b09b5b30",
   "metadata": {},
   "outputs": [],
   "source": [
    "#create word lists and get value counts for each\n",
    "all_freq = pd.Series(str(all_text).split()).value_counts()\n",
    "javascr_freq = pd.Series(str(javascripttxt).split()).value_counts()\n",
    "python_freq = pd.Series(str(pythontxt).split()).value_counts()\n",
    "cplus_freq = pd.Series(str(cplustxt).split()).value_counts()\n",
    "csharp_freq = pd.Series(str(csharptxt).split()).value_counts()\n",
    "c_freq = pd.Series(str(ctxt).split()).value_counts()\n",
    "java_freq = pd.Series(str(javatxt).split()).value_counts()\n",
    "html_freq = pd.Series(str(htmltxt).split()).value_counts()\n",
    "ts_freq = pd.Series(str(tstxt).split()).value_counts()"
   ]
  },
  {
   "cell_type": "code",
   "execution_count": 37,
   "id": "72e3e645",
   "metadata": {},
   "outputs": [],
   "source": [
    "#combine into one dataframe\n",
    "freq_list = [all_freq, javascr_freq, python_freq, cplus_freq, csharp_freq,\n",
    "             c_freq, java_freq, html_freq, ts_freq]\n",
    "name_list = ['all','JavaScript','Python','C++','C#','C','Java','HTML','TypeScript']\n",
    "\n",
    "word_counts = (pd.concat(freq_list,axis=1, sort=True)\n",
    "                .set_axis(name_list, axis=1, inplace=False)\n",
    "                .fillna(0)\n",
    "                .apply(lambda s: s.astype(int)))"
   ]
  },
  {
   "cell_type": "code",
   "execution_count": 38,
   "id": "8946e080",
   "metadata": {},
   "outputs": [
    {
     "data": {
      "text/html": [
       "<div>\n",
       "<style scoped>\n",
       "    .dataframe tbody tr th:only-of-type {\n",
       "        vertical-align: middle;\n",
       "    }\n",
       "\n",
       "    .dataframe tbody tr th {\n",
       "        vertical-align: top;\n",
       "    }\n",
       "\n",
       "    .dataframe thead th {\n",
       "        text-align: right;\n",
       "    }\n",
       "</style>\n",
       "<table border=\"1\" class=\"dataframe\">\n",
       "  <thead>\n",
       "    <tr style=\"text-align: right;\">\n",
       "      <th></th>\n",
       "      <th>all</th>\n",
       "      <th>JavaScript</th>\n",
       "      <th>Python</th>\n",
       "      <th>C++</th>\n",
       "      <th>C#</th>\n",
       "      <th>C</th>\n",
       "      <th>Java</th>\n",
       "      <th>HTML</th>\n",
       "      <th>TypeScript</th>\n",
       "    </tr>\n",
       "  </thead>\n",
       "  <tbody>\n",
       "    <tr>\n",
       "      <th>fix</th>\n",
       "      <td>123</td>\n",
       "      <td>69</td>\n",
       "      <td>4</td>\n",
       "      <td>6</td>\n",
       "      <td>40</td>\n",
       "      <td>2</td>\n",
       "      <td>0</td>\n",
       "      <td>0</td>\n",
       "      <td>2</td>\n",
       "    </tr>\n",
       "    <tr>\n",
       "      <th>use</th>\n",
       "      <td>426</td>\n",
       "      <td>74</td>\n",
       "      <td>107</td>\n",
       "      <td>80</td>\n",
       "      <td>93</td>\n",
       "      <td>18</td>\n",
       "      <td>24</td>\n",
       "      <td>2</td>\n",
       "      <td>28</td>\n",
       "    </tr>\n",
       "    <tr>\n",
       "      <th>npm</th>\n",
       "      <td>99</td>\n",
       "      <td>79</td>\n",
       "      <td>0</td>\n",
       "      <td>0</td>\n",
       "      <td>0</td>\n",
       "      <td>0</td>\n",
       "      <td>0</td>\n",
       "      <td>0</td>\n",
       "      <td>20</td>\n",
       "    </tr>\n",
       "    <tr>\n",
       "      <th>method</th>\n",
       "      <td>206</td>\n",
       "      <td>85</td>\n",
       "      <td>23</td>\n",
       "      <td>52</td>\n",
       "      <td>26</td>\n",
       "      <td>0</td>\n",
       "      <td>13</td>\n",
       "      <td>0</td>\n",
       "      <td>7</td>\n",
       "    </tr>\n",
       "    <tr>\n",
       "      <th>run</th>\n",
       "      <td>281</td>\n",
       "      <td>88</td>\n",
       "      <td>61</td>\n",
       "      <td>33</td>\n",
       "      <td>35</td>\n",
       "      <td>14</td>\n",
       "      <td>10</td>\n",
       "      <td>3</td>\n",
       "      <td>37</td>\n",
       "    </tr>\n",
       "    <tr>\n",
       "      <th>install</th>\n",
       "      <td>325</td>\n",
       "      <td>90</td>\n",
       "      <td>115</td>\n",
       "      <td>55</td>\n",
       "      <td>23</td>\n",
       "      <td>13</td>\n",
       "      <td>3</td>\n",
       "      <td>2</td>\n",
       "      <td>24</td>\n",
       "    </tr>\n",
       "    <tr>\n",
       "      <th>add</th>\n",
       "      <td>250</td>\n",
       "      <td>126</td>\n",
       "      <td>18</td>\n",
       "      <td>19</td>\n",
       "      <td>55</td>\n",
       "      <td>9</td>\n",
       "      <td>13</td>\n",
       "      <td>1</td>\n",
       "      <td>9</td>\n",
       "    </tr>\n",
       "    <tr>\n",
       "      <th>class</th>\n",
       "      <td>236</td>\n",
       "      <td>132</td>\n",
       "      <td>9</td>\n",
       "      <td>61</td>\n",
       "      <td>19</td>\n",
       "      <td>0</td>\n",
       "      <td>12</td>\n",
       "      <td>2</td>\n",
       "      <td>1</td>\n",
       "    </tr>\n",
       "    <tr>\n",
       "      <th>'</th>\n",
       "      <td>892</td>\n",
       "      <td>184</td>\n",
       "      <td>271</td>\n",
       "      <td>119</td>\n",
       "      <td>112</td>\n",
       "      <td>44</td>\n",
       "      <td>25</td>\n",
       "      <td>63</td>\n",
       "      <td>74</td>\n",
       "    </tr>\n",
       "    <tr>\n",
       "      <th>game</th>\n",
       "      <td>1763</td>\n",
       "      <td>232</td>\n",
       "      <td>411</td>\n",
       "      <td>174</td>\n",
       "      <td>332</td>\n",
       "      <td>85</td>\n",
       "      <td>116</td>\n",
       "      <td>353</td>\n",
       "      <td>60</td>\n",
       "    </tr>\n",
       "  </tbody>\n",
       "</table>\n",
       "</div>"
      ],
      "text/plain": [
       "          all  JavaScript  Python  C++   C#   C  Java  HTML  TypeScript\n",
       "fix       123          69       4    6   40   2     0     0           2\n",
       "use       426          74     107   80   93  18    24     2          28\n",
       "npm        99          79       0    0    0   0     0     0          20\n",
       "method    206          85      23   52   26   0    13     0           7\n",
       "run       281          88      61   33   35  14    10     3          37\n",
       "install   325          90     115   55   23  13     3     2          24\n",
       "add       250         126      18   19   55   9    13     1           9\n",
       "class     236         132       9   61   19   0    12     2           1\n",
       "'         892         184     271  119  112  44    25    63          74\n",
       "game     1763         232     411  174  332  85   116   353          60"
      ]
     },
     "execution_count": 38,
     "metadata": {},
     "output_type": "execute_result"
    }
   ],
   "source": [
    "word_counts.sort_values(by='JavaScript').tail(10)"
   ]
  },
  {
   "cell_type": "code",
   "execution_count": 86,
   "id": "01289033",
   "metadata": {},
   "outputs": [],
   "source": [
    "#create groupby for content\n",
    "grouped = pd.DataFrame(tr.groupby(by='language')['content'].transform(lambda x: ' '.join(x)).drop_duplicates())\n",
    "#get names for the indices\n",
    "names = [tr.loc[115,'language'], tr.loc[395,'language'],\n",
    "         tr.loc[166,'language'], tr.loc[348,'language'],\n",
    "         tr.loc[124,'language'], tr.loc[248,'language'],\n",
    "         tr.loc[385,'language'], tr.loc[19,'language']]\n",
    "\n",
    "#set axis labels\n",
    "grouped.set_axis(names,inplace=True)"
   ]
  },
  {
   "cell_type": "code",
   "execution_count": 87,
   "id": "a846ba84",
   "metadata": {},
   "outputs": [
    {
     "data": {
      "text/html": [
       "<div>\n",
       "<style scoped>\n",
       "    .dataframe tbody tr th:only-of-type {\n",
       "        vertical-align: middle;\n",
       "    }\n",
       "\n",
       "    .dataframe tbody tr th {\n",
       "        vertical-align: top;\n",
       "    }\n",
       "\n",
       "    .dataframe thead th {\n",
       "        text-align: right;\n",
       "    }\n",
       "</style>\n",
       "<table border=\"1\" class=\"dataframe\">\n",
       "  <thead>\n",
       "    <tr style=\"text-align: right;\">\n",
       "      <th></th>\n",
       "      <th>content</th>\n",
       "    </tr>\n",
       "  </thead>\n",
       "  <tbody>\n",
       "    <tr>\n",
       "      <th>C++</th>\n",
       "      <td>img srchttpsrawgithubusercontentcomgameplay3dg...</td>\n",
       "    </tr>\n",
       "    <tr>\n",
       "      <th>HTML</th>\n",
       "      <td>## welcome github game project based learning ...</td>\n",
       "    </tr>\n",
       "    <tr>\n",
       "      <th>C#</th>\n",
       "      <td>p aligncenter img srchttpsuserimagesgithubuser...</td>\n",
       "    </tr>\n",
       "    <tr>\n",
       "      <th>C</th>\n",
       "      <td># break arcade game breakout arcade game peop...</td>\n",
       "    </tr>\n",
       "    <tr>\n",
       "      <th>JavaScript</th>\n",
       "      <td>## slack poker bot build status bot turn slack...</td>\n",
       "    </tr>\n",
       "    <tr>\n",
       "      <th>Java</th>\n",
       "      <td># gameshardingdb springshardingmybaitsredis sp...</td>\n",
       "    </tr>\n",
       "    <tr>\n",
       "      <th>Python</th>\n",
       "      <td># open source game please visit web page rende...</td>\n",
       "    </tr>\n",
       "    <tr>\n",
       "      <th>TypeScript</th>\n",
       "      <td># heroic game launcher discord github release ...</td>\n",
       "    </tr>\n",
       "  </tbody>\n",
       "</table>\n",
       "</div>"
      ],
      "text/plain": [
       "                                                      content\n",
       "C++         img srchttpsrawgithubusercontentcomgameplay3dg...\n",
       "HTML        ## welcome github game project based learning ...\n",
       "C#          p aligncenter img srchttpsuserimagesgithubuser...\n",
       "C            # break arcade game breakout arcade game peop...\n",
       "JavaScript  ## slack poker bot build status bot turn slack...\n",
       "Java        # gameshardingdb springshardingmybaitsredis sp...\n",
       "Python      # open source game please visit web page rende...\n",
       "TypeScript  # heroic game launcher discord github release ..."
      ]
     },
     "execution_count": 87,
     "metadata": {},
     "output_type": "execute_result"
    }
   ],
   "source": [
    "grouped"
   ]
  },
  {
   "cell_type": "code",
   "execution_count": 91,
   "id": "9c3eaf8b",
   "metadata": {},
   "outputs": [],
   "source": [
    "#Now we can use vectorizer on aggregated columns\n",
    "tfidf = TfidfVectorizer() #initialize vectorizer\n",
    "tfidfs = tfidf.fit_transform(grouped.content) #create sparse matrix\n",
    "tr_tfidf = pd.DataFrame(tfidfs.todense(), columns=tfidf.get_feature_names()) #convert to DataFrame\n",
    "tr_tfidf.set_index(grouped.index, inplace=True)"
   ]
  },
  {
   "cell_type": "code",
   "execution_count": 92,
   "id": "19ec4567",
   "metadata": {},
   "outputs": [
    {
     "name": "stdout",
     "output_type": "stream",
     "text": [
      "<class 'pandas.core.frame.DataFrame'>\n",
      "Index: 8 entries, C++ to TypeScript\n",
      "Columns: 13439 entries, 00 to zypper\n",
      "dtypes: float64(13439)\n",
      "memory usage: 840.0+ KB\n"
     ]
    }
   ],
   "source": [
    "tr_tfidf.info()"
   ]
  },
  {
   "cell_type": "code",
   "execution_count": 93,
   "id": "74735711",
   "metadata": {},
   "outputs": [
    {
     "data": {
      "text/html": [
       "<div>\n",
       "<style scoped>\n",
       "    .dataframe tbody tr th:only-of-type {\n",
       "        vertical-align: middle;\n",
       "    }\n",
       "\n",
       "    .dataframe tbody tr th {\n",
       "        vertical-align: top;\n",
       "    }\n",
       "\n",
       "    .dataframe thead th {\n",
       "        text-align: right;\n",
       "    }\n",
       "</style>\n",
       "<table border=\"1\" class=\"dataframe\">\n",
       "  <thead>\n",
       "    <tr style=\"text-align: right;\">\n",
       "      <th></th>\n",
       "      <th>00</th>\n",
       "      <th>0000001</th>\n",
       "      <th>00003</th>\n",
       "      <th>000080highlight</th>\n",
       "      <th>0001</th>\n",
       "      <th>000backgroundcolor</th>\n",
       "      <th>000fontweightnormaltypecsharp</th>\n",
       "      <th>000typecsharp</th>\n",
       "      <th>001</th>\n",
       "      <th>0016666</th>\n",
       "      <th>...</th>\n",
       "      <th>zookeeper</th>\n",
       "      <th>zoorlcardmodels</th>\n",
       "      <th>zork</th>\n",
       "      <th>zot</th>\n",
       "      <th>zracer</th>\n",
       "      <th>ztrack</th>\n",
       "      <th>zulko</th>\n",
       "      <th>zweif</th>\n",
       "      <th>zyliu28mailustceducnmailtozyliu28mailustceducn</th>\n",
       "      <th>zypper</th>\n",
       "    </tr>\n",
       "  </thead>\n",
       "  <tbody>\n",
       "    <tr>\n",
       "      <th>C++</th>\n",
       "      <td>0.007705</td>\n",
       "      <td>0.0</td>\n",
       "      <td>0.0</td>\n",
       "      <td>0.004597</td>\n",
       "      <td>0.000000</td>\n",
       "      <td>0.018388</td>\n",
       "      <td>0.004597</td>\n",
       "      <td>0.004597</td>\n",
       "      <td>0.0</td>\n",
       "      <td>0.004597</td>\n",
       "      <td>...</td>\n",
       "      <td>0.0</td>\n",
       "      <td>0.0</td>\n",
       "      <td>0.000000</td>\n",
       "      <td>0.0000</td>\n",
       "      <td>0.0000</td>\n",
       "      <td>0.0000</td>\n",
       "      <td>0.0</td>\n",
       "      <td>0.0</td>\n",
       "      <td>0.004597</td>\n",
       "      <td>0.003853</td>\n",
       "    </tr>\n",
       "    <tr>\n",
       "      <th>HTML</th>\n",
       "      <td>0.000000</td>\n",
       "      <td>0.0</td>\n",
       "      <td>0.0</td>\n",
       "      <td>0.000000</td>\n",
       "      <td>0.000000</td>\n",
       "      <td>0.000000</td>\n",
       "      <td>0.000000</td>\n",
       "      <td>0.000000</td>\n",
       "      <td>0.0</td>\n",
       "      <td>0.000000</td>\n",
       "      <td>...</td>\n",
       "      <td>0.0</td>\n",
       "      <td>0.0</td>\n",
       "      <td>0.006201</td>\n",
       "      <td>0.0037</td>\n",
       "      <td>0.0037</td>\n",
       "      <td>0.0037</td>\n",
       "      <td>0.0</td>\n",
       "      <td>0.0</td>\n",
       "      <td>0.000000</td>\n",
       "      <td>0.000000</td>\n",
       "    </tr>\n",
       "    <tr>\n",
       "      <th>C#</th>\n",
       "      <td>0.000000</td>\n",
       "      <td>0.0</td>\n",
       "      <td>0.0</td>\n",
       "      <td>0.000000</td>\n",
       "      <td>0.000000</td>\n",
       "      <td>0.000000</td>\n",
       "      <td>0.000000</td>\n",
       "      <td>0.000000</td>\n",
       "      <td>0.0</td>\n",
       "      <td>0.000000</td>\n",
       "      <td>...</td>\n",
       "      <td>0.0</td>\n",
       "      <td>0.0</td>\n",
       "      <td>0.000000</td>\n",
       "      <td>0.0000</td>\n",
       "      <td>0.0000</td>\n",
       "      <td>0.0000</td>\n",
       "      <td>0.0</td>\n",
       "      <td>0.0</td>\n",
       "      <td>0.000000</td>\n",
       "      <td>0.000000</td>\n",
       "    </tr>\n",
       "    <tr>\n",
       "      <th>C</th>\n",
       "      <td>0.000000</td>\n",
       "      <td>0.0</td>\n",
       "      <td>0.0</td>\n",
       "      <td>0.000000</td>\n",
       "      <td>0.000000</td>\n",
       "      <td>0.000000</td>\n",
       "      <td>0.000000</td>\n",
       "      <td>0.000000</td>\n",
       "      <td>0.0</td>\n",
       "      <td>0.000000</td>\n",
       "      <td>...</td>\n",
       "      <td>0.0</td>\n",
       "      <td>0.0</td>\n",
       "      <td>0.000000</td>\n",
       "      <td>0.0000</td>\n",
       "      <td>0.0000</td>\n",
       "      <td>0.0000</td>\n",
       "      <td>0.0</td>\n",
       "      <td>0.0</td>\n",
       "      <td>0.000000</td>\n",
       "      <td>0.000000</td>\n",
       "    </tr>\n",
       "    <tr>\n",
       "      <th>JavaScript</th>\n",
       "      <td>0.000000</td>\n",
       "      <td>0.0</td>\n",
       "      <td>0.0</td>\n",
       "      <td>0.000000</td>\n",
       "      <td>0.004123</td>\n",
       "      <td>0.000000</td>\n",
       "      <td>0.000000</td>\n",
       "      <td>0.000000</td>\n",
       "      <td>0.0</td>\n",
       "      <td>0.000000</td>\n",
       "      <td>...</td>\n",
       "      <td>0.0</td>\n",
       "      <td>0.0</td>\n",
       "      <td>0.013820</td>\n",
       "      <td>0.0000</td>\n",
       "      <td>0.0000</td>\n",
       "      <td>0.0000</td>\n",
       "      <td>0.0</td>\n",
       "      <td>0.0</td>\n",
       "      <td>0.000000</td>\n",
       "      <td>0.000000</td>\n",
       "    </tr>\n",
       "  </tbody>\n",
       "</table>\n",
       "<p>5 rows × 13439 columns</p>\n",
       "</div>"
      ],
      "text/plain": [
       "                  00  0000001  00003  000080highlight      0001  \\\n",
       "C++         0.007705      0.0    0.0         0.004597  0.000000   \n",
       "HTML        0.000000      0.0    0.0         0.000000  0.000000   \n",
       "C#          0.000000      0.0    0.0         0.000000  0.000000   \n",
       "C           0.000000      0.0    0.0         0.000000  0.000000   \n",
       "JavaScript  0.000000      0.0    0.0         0.000000  0.004123   \n",
       "\n",
       "            000backgroundcolor  000fontweightnormaltypecsharp  000typecsharp  \\\n",
       "C++                   0.018388                       0.004597       0.004597   \n",
       "HTML                  0.000000                       0.000000       0.000000   \n",
       "C#                    0.000000                       0.000000       0.000000   \n",
       "C                     0.000000                       0.000000       0.000000   \n",
       "JavaScript            0.000000                       0.000000       0.000000   \n",
       "\n",
       "            001   0016666  ...  zookeeper  zoorlcardmodels      zork     zot  \\\n",
       "C++         0.0  0.004597  ...        0.0              0.0  0.000000  0.0000   \n",
       "HTML        0.0  0.000000  ...        0.0              0.0  0.006201  0.0037   \n",
       "C#          0.0  0.000000  ...        0.0              0.0  0.000000  0.0000   \n",
       "C           0.0  0.000000  ...        0.0              0.0  0.000000  0.0000   \n",
       "JavaScript  0.0  0.000000  ...        0.0              0.0  0.013820  0.0000   \n",
       "\n",
       "            zracer  ztrack  zulko  zweif  \\\n",
       "C++         0.0000  0.0000    0.0    0.0   \n",
       "HTML        0.0037  0.0037    0.0    0.0   \n",
       "C#          0.0000  0.0000    0.0    0.0   \n",
       "C           0.0000  0.0000    0.0    0.0   \n",
       "JavaScript  0.0000  0.0000    0.0    0.0   \n",
       "\n",
       "            zyliu28mailustceducnmailtozyliu28mailustceducn    zypper  \n",
       "C++                                               0.004597  0.003853  \n",
       "HTML                                              0.000000  0.000000  \n",
       "C#                                                0.000000  0.000000  \n",
       "C                                                 0.000000  0.000000  \n",
       "JavaScript                                        0.000000  0.000000  \n",
       "\n",
       "[5 rows x 13439 columns]"
      ]
     },
     "execution_count": 93,
     "metadata": {},
     "output_type": "execute_result"
    }
   ],
   "source": [
    "tr_tfidf.head()"
   ]
  },
  {
   "cell_type": "code",
   "execution_count": 103,
   "id": "b2b28623",
   "metadata": {},
   "outputs": [
    {
     "data": {
      "text/plain": [
       "game         0.404781\n",
       "header       0.293212\n",
       "xwindow      0.274269\n",
       "text         0.170337\n",
       "version      0.161913\n",
       "cc           0.155230\n",
       "skynx        0.155022\n",
       "available    0.147626\n",
       "file         0.138102\n",
       "build        0.133076\n",
       "Name: C, dtype: float64"
      ]
     },
     "execution_count": 103,
     "metadata": {},
     "output_type": "execute_result"
    }
   ],
   "source": [
    "tr_tfidf.sort_values(by='C',axis=1,ascending=False).loc['C',:].head(10)"
   ]
  },
  {
   "cell_type": "code",
   "execution_count": 116,
   "id": "cdc486da",
   "metadata": {},
   "outputs": [
    {
     "data": {
      "image/png": "[encoded data removed]",
      "text/plain": [
       "<Figure size 864x1296 with 8 Axes>"
      ]
     },
     "metadata": {},
     "output_type": "display_data"
    }
   ],
   "source": [
    "plt.figure(figsize=(12,18))\n",
    "for cnt,l in enumerate(tr_tfidf.index):\n",
    "    #sort by language, grab top 10 - series index is name\n",
    "    top10 = tr_tfidf.sort_values(by=l,axis=1,ascending=False).loc[l,:].head(10)\n",
    "    \n",
    "    plt.subplot(4,2,cnt+1)\n",
    "    #graph first 10 columns\n",
    "    plt.barh(y=top10.index,width=top10);\n",
    "    plt.title(f'Top TF-IDF words in {l}');\n",
    "    plt.xlabel(f'TF-IDF');\n",
    "\n",
    "plt.tight_layout()"
   ]
  }
 ],
 "metadata": {
  "kernelspec": {
   "display_name": "Python 3 (ipykernel)",
   "language": "python",
   "name": "python3"
  },
  "language_info": {
   "codemirror_mode": {
    "name": "ipython",
    "version": 3
   },
   "file_extension": ".py",
   "mimetype": "text/x-python",
   "name": "python",
   "nbconvert_exporter": "python",
   "pygments_lexer": "ipython3",
   "version": "3.9.7"
  }
 },
 "nbformat": 4,
 "nbformat_minor": 5
}
