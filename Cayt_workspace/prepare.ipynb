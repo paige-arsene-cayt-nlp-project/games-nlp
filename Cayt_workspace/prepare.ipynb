{
 "cells": [
  {
   "cell_type": "code",
   "execution_count": 1,
   "id": "4b61f26a",
   "metadata": {},
   "outputs": [
    {
     "name": "stderr",
     "output_type": "stream",
     "text": [
      "/opt/homebrew/anaconda3/lib/python3.9/site-packages/scipy/__init__.py:146: UserWarning: A NumPy version >=1.16.5 and <1.23.0 is required for this version of SciPy (detected version 1.23.0\n",
      "  warnings.warn(f\"A NumPy version >={np_minversion} and <{np_maxversion}\"\n"
     ]
    }
   ],
   "source": [
    "import numpy as np\n",
    "import pandas as pd\n",
    "import json\n",
    "import os\n",
    "import prepare as prep"
   ]
  },
  {
   "cell_type": "code",
   "execution_count": 2,
   "id": "cf21661c",
   "metadata": {},
   "outputs": [],
   "source": [
    "#open json file\n",
    "f = open('data2.json')\n",
    "#get data\n",
    "data = json.loads(f.read())\n",
    "#close json file\n",
    "f.close()"
   ]
  },
  {
   "cell_type": "code",
   "execution_count": 3,
   "id": "2287d9cc",
   "metadata": {},
   "outputs": [
    {
     "data": {
      "text/plain": [
       "list"
      ]
     },
     "execution_count": 3,
     "metadata": {},
     "output_type": "execute_result"
    }
   ],
   "source": [
    "type(data)"
   ]
  },
  {
   "cell_type": "code",
   "execution_count": 4,
   "id": "d20d4ede",
   "metadata": {},
   "outputs": [
    {
     "data": {
      "text/plain": [
       "[{'repo': 'leereilly/games',\n",
       "  'language': None,\n",
       "  'readme_contents': '# Games on GitHub <img src=\"http://i.imgur.com/Cj4rMrS.gif\" height=\"40\" alt=\"Swimming Octocat\" title=\"Games on GitHub\">\\n\\nBelow is a list of open source games and game-related projects that can be found on GitHub - old school text adventures, educational games, 8-bit platform games, browser-based games, indie games, GameJam projects, add-ons/maps/hacks/plugins for commercial games, libraries, frameworks, engines, you name it.\\n\\n#### Contributing\\n\\nIf you\\'d like to add a repository to the list, please [create an Issue](https://github.com/leereilly/games/issues), or fork this repository and submit a pull request ([click here to edit this file from github](https://github.com/leereilly/games/edit/master/README.md)).\\n\\n**Would you like to help maintain and improve this repository?** [Click here for information on becoming a maintainer](https://github.com/leereilly/games/issues/483).\\n\\nHelp: [MarkDown Help](https://help.github.com/articles/github-flavored-markdown), [Markdown Cheatsheet](https://github.com/adam-p/markdown-here/wiki/Markdown-Cheatsheet)\\n\\n-------\\n\\n# Table of Contents.\\n\\n- [Major Companies](#major-companies)\\n- [Browser-Based](#user-content-browser-based)\\n  - [Boardgame](#user-content-boardgame)\\n  - [Arcade](#user-content-arcade)\\n  - [FPS](#user-content-fps)\\n  - [RPG](#user-content-rpg)\\n  - [MMORPG](#user-content-mmorpg)\\n  - [Strategy](#user-content-strategy)\\n  - [Racing](#user-content-racing)\\n  - [Sandbox](#user-content-sandbox)\\n  - [Puzzle](#user-content-puzzle)\\n  - [Clicker](#user-content-clicker)\\n  - [Point and Click](#user-content-point-and-click)\\n  - [Others](#user-content-others)\\n- [Native](#user-content-native)\\n  - [Action](#user-content-action-1)\\n  - [Arcade](#user-content-arcade-1)\\n  - [FPS](#user-content-fps-1)\\n  - [MMORPG](#user-content-mmorpg-1)\\n  - [RPG](#user-content-rpg-1)\\n  - [Platform](#user-content-platform)\\n  - [Puzzle/card/board](#user-content-puzzlecardboard)\\n  - [Programming](#user-content-programming)\\n  - [Sandbox](#user-content-sandbox-1)\\n  - [Strategy](#user-content-strategy-1)\\n- [Mobile Games](#user-content-mobile-games)\\n  - [Android](#user-content-android)\\n  - [IOS](#user-content-ios)\\n- [Chat bots](#chat-bots)\\n- [Just The Source](#user-content-just-the-source)\\n- [Frameworks/Engines/Libraries](#user-content-frameworksengineslibraries)\\n- [Maps/Hacks/Plugins/Utilities/All of the Things™](#user-content-mapshackspluginsutilitiesall-of-the-things)\\n\\n-------\\n\\n# Major Companies\\n\\nA selection of major game studios, publishers, etc. using GitHub:\\n\\n[<img src=\"https://github.com/zynga.png\" title=\"Zynga\" height=\"50\">](https://github.com/zynga)&nbsp;\\n[<img src=\"https://github.com/mojang.png\" title=\"Mojang\" height=\"50\">](https://github.com/mojang)&nbsp;\\n[<img src=\"https://github.com/riotgames.png\" title=\"Riot Games\" height=\"50\">](https://github.com/riotgames)&nbsp;\\n[<img src=\"https://github.com/epicgames.png\" title=\"Epic Games\" height=\"50\">](https://github.com/epicgames)&nbsp;\\n[<img src=\"https://github.com/OculusVR.png\" title=\"Oculus VR Inc\" height=\"50\">](https://github.com/OculusVR)&nbsp;\\n[<img src=\"https://github.com/unity-technologies.png\" title=\"Unity Technologies\" height=\"50\">](https://github.com/unity-technologies)&nbsp;\\n[<img src=\"https://github.com/electronicarts.png\" title=\"Electronic Arts\" height=\"50\">](https://github.com/electronicarts)&nbsp;\\n[<img src=\"https://github.com/valvesoftware.png\" title=\"Valve\" height=\"50\">](https://github.com/valvesoftware)&nbsp;\\n[<img src=\"https://github.com/gree.png\" title=\"GREE\" height=\"50\">](https://github.com/gree)&nbsp;\\n[<img src=\"https://github.com/dena.png\" title=\"DeNA\" height=\"50\">](https://github.com/dena)&nbsp;\\n[<img src=\"https://github.com/playgameservices.png\" title=\"Google Play Game Services\" height=\"50\">](https://github.com/playgameservices)&nbsp;\\n[<img src=\"https://github.com/blizzard.png\" title=\"Blizzard\" height=\"50\">](https://github.com/blizzard)&nbsp;\\n[<img src=\"https://github.com/ccpgames.png\" title=\"CCP Games\" height=\"50\">](https://github.com/ccpgames)&nbsp;\\n\\n\\n# Browser-Based\\n\\n## Boardgame\\n\\n* [3D Hartwing Chess Set](https://github.com/juliangarnier/3D-Hartwig-chess-set) - 3D chess game done in HTML/CSS/JS. [Play it now!](http://codepen.io/juliangarnier/full/BsIih)\\n* [c4](https://github.com/kenrick95/c4) - Connect Four game, with AI, in HTML/CSS/JS. [Play it now!](https://kenrick95.github.io/c4/demo/)\\n* [Desperate Gods](https://github.com/David20321/FTJ) - Free online board game that was designed to be played just like a board game in real-life: no rules are enforced by the computer. [Play it now!](http://www.wolfire.com/desperate-gods)\\n* [Green Mahjong](https://github.com/danbeck/green-mahjong) - Solitaire mahjong game done in HTML/CSS/JS.\\n* [Kriegspiel](https://github.com/binarymax/kriegspiel) - The game of imperfect information, the Kriegspiel chess variant.\\n* [Lichess](https://github.com/ornicar/lila) - Free chess game using HTML5 & websockets, built with Scala, Play 2.1, MongoDB and Elasticsearch. [Play it now!](http://lichess.org/)\\n\\n\\n## Arcade\\n\\n* [Alge\\'s Escapade](https://github.com/Dave-and-Mike/game-off-2012) - HTML5, JavaScript, GameJs arcade game where you control an Algae. [Play it now!](http://dave-and-mike.github.io/game-off-2012/)\\n* [Alien Invasion](https://github.com/cykod/AlienInvasion) - Demo Game for Mobile HTML5 Game Development. [Play it now!](http://cykod.github.io/AlienInvasion/)\\n* [Arashi](https://github.com/stephank/arashi-js) - Arashi is a clone of the Arcade game Tempest. [Play it now!](http://stephank.github.io/arashi-js/)\\n* [Asteroids](http://github.com/dmcinnes/HTML5-Asteroids) - Pure JavaScript asteroids. [Play it now!](http://dougmcinnes.com/html-5-asteroids/)\\n* [Avabranch](https://github.com/Zolmeister/avabranch) - GitHub Game Off 2012 entry. [Play it now!](http://avabranch.zolmeister.com/)\\n* [Ball And Wall](https://github.com/budnix/ball-and-wall) - Pure JavaScript arkanoid style game. [Play it now!](http://ballandwall.com/)\\n* [Breakout](https://github.com/Couchfriends/breakout) - Breakout multiplayer with HTML5.\\n* [Captain Rogers](https://github.com/EnclaveGames/Captain-Rogers) - Captain Rogers: Asteroid Belt of Sirius - HTML5 mobile game created using ImpactJS. [Play it now!](http://enclavegames.com/games/captain-rogers/)\\n* [Cell Mates](https://github.com/gamebytes/cellmates) - Game made in 48 hours for the 2013 Global Game Jam.\\n* [Ceros Snake](https://github.com/mjhasbach/ceros-snake) - A remake of the iconic 70\\'s Snake game.\\n* [CHANG€](https://github.com/RothschildGames/change) - Intense game about the extreme life of supermarket cashiers. [Play it now!](http://change-game.herokuapp.com/)\\n* [Chromacore](https://github.com/Murkantilism/game-off-2013) - 2D musical platformer set in a dark, black & white world that progressively becomes more colorful and happy through successful gameplay.\\n* [Circus Charlie](https://github.com/eugenioclrc/circushtml5) - HTML5 tribute created in Phaser.\\n* [Jolly Jumper](https://github.com/shohan4556/jolly-jumper) - Made in Phaser. [Play it now!](http://shohan4556.github.io/jolly-jumper/)\\n* [Clumsy Bird](https://github.com/ellisonleao/clumsy-bird) - Flappy Bird clone in JavaScript using MelonJS. [Play it now!](http://www.varunpant.com/static/resources/CrappyBird/index.html)\\n* [Codename Lumberjack](https://github.com/arkeus/Codename-Lumberjack) - Simple flash game written using Actionscript 3.0 and Flixel. [Play it now!](http://projects.iarke.us/codenamelumberjack/)\\n* [Coffee Snake](https://github.com/dommmel/coffee-snake) - HTML5 snake game written in CoffeeScript. [Play it now!](http://dommmel.github.com/coffee-snake/)\\n* [Coil](https://github.com/leereilly/Coil) - HTML5 canvas game where you defeat enemies by wrapping enemies in your trail. [Play it now!](http://hakim.se/experiments/html5/coil/)\\n* [Color Quest](https://github.com/redbluegames/game-off-2013) - Infinite runner following a black and white pixel\\'s quest to change into a color pixel. [Play it now!](http://redbluegames.com/game-off-2013/)\\n* [Core Commiter](https://github.com/vladikoff/game-off-2012) - GitHub Game Off 2012 Entry. [Play it now!](http://committer.meteor.com/)\\n* [Crappy Bird](https://github.com/varunpant/CrappyBird) - Flappy Bird clone in JavaScript and Canvas2D API.\\n* [Custom Tetris](https://github.com/ondras/custom-tetris) - Play the classic Tetris game the way you like it. [Play it now!](http://ondras.github.io/custom-tetris/)\\n* [d3shooter](https://github.com/nsmirn0v/d3shooter) - Asteroids style game in HTML5 as a demo of the d3 library. [Play it now!](http://d3shooter.herokuapp.com)\\n* [Digger](https://github.com/lutzroeder/digger) - HTML5 version of a Boulderdash game.\\n* [Drakonas](https://github.com/Casmo/Drakonas) - Classic shoot \\'em up game build with the Three.js library.\\n* [Drill Bunny](https://github.com/DreamShowAdventures/LudumDare29) - Written in JavaScript and using the great Phaser library. [Play it now!](http://dreamshowadventures.github.io/LudumDare29/)\\n* [DuckHunt JS](https://github.com/MattSurabian/DuckHunt-JS) - DuckHunt ported to JS and HTML5 with a level creator. [Play it now!](http://mattsurabian.com/duckhunt/)\\n* [EKG Runner](https://github.com/Myztiq/ekgrunner) - Game made in 48 hours for the 2013 Global Game Jam.\\n* [Emberwind](https://github.com/operasoftware/Emberwind) - HTML5 port of the indie platform game Emberwind.\\n* [ExecutiveMan](https://github.com/CamHenlin/ExecutiveMan) - JavaScript MegaMan clone.\\n* [Flappy Bird](https://github.com/hyspace/flappy) - flappy bird in html5.\\n* [Fluid Table Tennis](https://github.com/anirudhjoshi/fluid_table_tennis) - Renders a table tennis game interacting with a full-color real-time fluid simulation at 60 FPS. [Play it now!](http://anirudhjoshi.github.com/fluid_table_tennis)\\n* [FlxInvaders](https://github.com/AdamAtomic/Flx-Invaders) - Very simple Flixel game inspired by the Taito classic. [Play it now!](http://flixel.org/flxinvaders/)\\n* [FlxTeroids](https://github.com/AdamAtomic/FlxTeroids) - Very simple Flixel game inspired by the classic arcade shooter. [Play it now!](http://www.flixel.org/flxteroids/)\\n* [Grave Robbers](https://github.com/AdamAtomic/GraveRobbers) - Sort of GIRP-inspired tower defense. [Play it now!](http://adamatomic.com/graverobbers)\\n* [Heal \\'em All](https://github.com/krzysu/game-off-2013) - Imagine, what if the cure exists? What if zombies plague can be stoped? Explore old, abandoned graveyard, heal as many zombies as you can, and find your way out. But be careful not to become one of them. [Play it now!](http://games.myviews.pl/heal-em-all/)\\n* [HotFix](https://github.com/sdrdis/hotfix) - Help Hotfix collect stargazers and avoid enemies. Collect commits to upgrade hotfix and add new features. [Play it now!](http://sdrdis.github.com/hotfix/)\\n* [hurry!](https://github.com/hughsk/ludum-dare-27) - Small but speedy arcade shooter. [Play it now!](http://hughsk.io/ludum-dare-27/)\\n* [Hyperspace Garbage Collector](https://github.com/razh/game-off-2013) - General Hyperspace Waste Management Solutions. [Play it now!](http://razh.github.io/game-off-2013/)\\n* [I Spy A Ghost](https://github.com/OmarShehata/I-Spy-A-Ghost) - an experimental p2p multiplayer game made in HTML5/Phaser using WebRTC. [Play it now!](http://omarshehata.me/html/ludum/)\\n* [Jekyll & Hyde Collide](https://github.com/awesome-interactive/game-off-2013) - Multi-layered infinite side-scroller. [Play it now!](http://awesome-interactive.github.io/game-off-2013/ExportedGame.html)\\n* [JumpSuit](https://github.com/KordonBleu/jumpsuit) - a multiplayer space shooter set in a wrapped universe. [Play it now!](http://jumpsuit.space/)\\n* [Marble Soccer](https://github.com/jeromeetienne/marbleSoccer) - Marble game for learning three.js.\\n* [Mario 5 HTML](https://github.com/robertkleffner/mariohtml5) - Infinite Mario in HTML5 JavaScript - using Canvas and Audio elements.\\n* [Mega Girl](https://github.com/ddionisio/game-off-2013) - Megaman inspired game. [Play it now!](http://www.renegadeware.com/web_games/megagirl/)\\n* [Masonry JavaScript Tetris Clone](https://github.com/gamedolphin/Masonry-JavaScript-Tetris-Clone) - Tetris clone created using HTML5/JavaScript/Phaser.\\n* [Mode](https://github.com/AdamAtomic/Mode) - Small(but sadly not that simple) demo game built on the Flixel framework. [Play it now!](http://www.adamatomic.com/mode/)\\n* [Monster Wants Candy](https://github.com/EnclaveGames/Monster-Wants-Candy-demo) - Simple HTML5 game created with Phaser 2.0.7. [Play it now!](http://candy-demo.enclavegames.com/)\\n* [Newton Adventure](https://github.com/devnewton/newton_adventure) - Play Newton, a very special hero who has the power to change gravity direction! [Play it now!](http://play.bci.im/newton_adventure/)\\n* [Octocat Jump](https://github.com/ogoshen/game-off-2012) - GitHub Game Off 2012 Entry. [Play it now!](http://ogoshen.github.io/game-off-2012/)\\n* [Onslaught Arena](https://github.com/lostdecade/onslaught_arena) - Fight off hordes of classic medieval monsters in this fast paced arcade shooter! [Play it now!](http://arcade.lostdecadegames.com/onslaught_arena/)\\n* [Pappu Pakia](https://github.com/mindd-it/pappu-pakia) - Addictive game where you guide little Pappu around obstacles while collecting coins, stars, and berries and avoiding enemies known as Pakias. [Play it now!](http://khele.in/pappu-pakia/)\\n* [Phaser Snake](https://github.com/gamedolphin/javascript_snake) - JavaScript version of the snake game, created using the Phaser Engine.\\n* [PixelPlatformer](https://github.com/bendangelo/PixelPlatformer) - Simple platformer game that demostrates the power of the Entity game engine.\\n* [PolyBranch](https://github.com/gbatha/PolyBranch) - Minimalist 3D game. Dodging branches may seem easy at first, but how long can you hold up as you approach terminal velocity? [Play it now!](http://gregbatha.com/branches/)\\n* [Protocol 390](https://github.com/josegallegos07/game-off-2013) - To survive in People\\'s Park, you must supply the prophet with change.\\n* [Raging Gardens](https://github.com/petarov/game-off-2012) - Javascript/HTML5 web browser game where a a hungry (ninja) rabbit farts too often.\\n* [Release Cycles](https://github.com/RothschildGames/release-cycles) - Abstract racing game where you fight against the clock and the computer to get as far as you can in a product\\'s life-cycle.\\n* [Save The Forest](https://github.com/softvar/save-the-forest) - Save the burning forest! [Play it now!](http://js13kgames.com/games/save-the-forest/index.html)\\n* [Ski Free](https://github.com/basicallydan/skifree.js) - JavaScript port of the classic PC Game, Skifree. [Play it now!](http://basicallydan.github.com/skifree.js)\\n* [Snake](https://github.com/jrgdiz/snake) - Clone of the classic Snake game. [Play it now!](http://diz.es/snake/)\\n* [Snake_new](https://github.com/RabiRoshan/snake_game) - Classic nokia snake game using web. [Play it now!](https://rabiroshan.github.io/snake_game/)\\n* [Space-Shooter](https://github.com/Couchfriends/Space-Shooter) - A classic shoot\\'em up space shooter build in HTML5 with multiplayer. [Play it now!](http://couchfriends.com/games/5)\\n* [Spashal](https://github.com/MrRar/spashal) - Danger lurks around every corner in space. [Play it now!](http://mrrar.github.io/spashal/)\\n* [Square Off!](https://github.com/ScriptaGames/SquareOff/) - multiplayer 1v1 air-hockey style game, place squares to deflect the ball. [Play it now!](http://sqoff.com/)\\n* [SORADES 13K](https://github.com/maettig/starship-sorades-13k) - Scrolling shooter in the vein of \"Raptor: Call of the Shadows\" and \"Warning Forever\". [Play it now!](http://maettig.com/code/canvas/starship-sorades-13k/)\\n* [Space Crusade](https://github.com/Loopeex/space-crusade) - HTML5 game developped with PhaserJS Framework.\\n* [Space Invaders](https://github.com/StrykerKKD/SpaceInvaders) - Remake of Space Invaders in require.js. [Play it now!](http://strykerkkd.github.io/SpaceInvaders/)\\n* [Super Mario Bros](https://github.com/martindrapeau/backbone-game-engine) - Super Mario Bros level one written with Backbone Game Engine. [Play it now!](http://martindrapeau.github.io/backbone-game-engine/super-mario-bros/index.html)\\n* [Survivor](https://github.com/scottschiller/SURVIVOR) - Playable HTML + CSS + JavaScript remake of a space-based \"shoot-\\'em-up\" arcade game for Atari / Commodore 64 from 1982, including a level editor and design tool. [Play it now!](http://www.schillmania.com/survivor/)\\n* [WPilot](https://github.com/jfd/wpilot) - A browser-based remake of the famous XPilot game, built with NodeJS and HTML5\\n* [zedinvaders](https://github.com/salvatorecapolupo/zedinvaders) - Game is based on our original comic ZED, seen inside \"zero-episode\" called \"Game Over\".\\n* [FullScreenMario](https://github.com/FullScreenShenanigans/FullScreenMario/) – a free HTML 5 remake of Super Mario Bros with additional features.\\n\\n## FPS\\n\\n* [BananaBread](https://github.com/kripken/BananaBread) - Port of the Cube 2/Sauerbraten 3D game engine/first person shooter to the web, compiling C++ and OpenGL to JavaScript and WebGL using Emscripten. [Play it now!](https://kripken.github.io/BananaBread/cube2/bb.html)\\n\\n## RPG\\n\\n* [Diablo JS](https://github.com/mitallast/diablo-js) - Isometric minimal-code style game at html5 canvas and javascript.  [Play it now!](http://mitallast.github.io/diablo-js/)\\n* [Roguish](https://github.com/CamHenlin/Roguish) - RPG/Rogue-like game created in JavaScript.\\n* [Room for Change](https://github.com/antionio/game-off-2013) - Randomly generated action RPG.\\n\\n## MMORPG\\n\\n* [BrowserQuest](https://github.com/mozilla/BrowserQuest) - HTML5/JavaScript multiplayer game experiment. [Play it now!](http://browserquest.mozilla.org/)\\n* [Tap Tap Adventure](https://github.com/Tach-Yon/Tap-Tap-Adventure) - Expansion of BrowserQuest. [Play it now!](http://taptapadventure.com/play)\\n\\n## Strategy\\n* [Ancient Beast](https://github.com/FreezingMoon/AncientBeast) - Materialize and control beasts in order to defeat your opponents! [Play it now!](http://ancientbeast.com/play)\\n* [Command & Conquer](https://github.com/adityaravishankar/command-and-conquer) - Clone of the popular RTS. [Play it now!](http://www.adityaravishankar.com/projects/games/command-and-conquer/)\\n* [Freeciv-web](https://github.com/freeciv/freeciv-web) - An turn-based strategy game implemented in HTML5.\\n* [Hexa Battle](https://github.com/itajaja/hb) - A turn based dungeon crawler written with Typescript, using React and SVG. [Play it now!](http://giacomotag.io/hb/)\\n* [Tower Defense](https://github.com/Casmo/tower-defense) - 3D Tower Defense build with Three.js in HTML5.\\n\\n## Racing\\n\\n* [HexGL](https://github.com/BKcore/HexGL) - Futuristic HTML5 racing game by Thibaut Despoulain using HTML5, Javascript and WebGL. [Play it now!](http://hexgl.bkcore.com/)\\n* [Trigger Rally Online Edition](https://github.com/CodeArtemis/TriggerRally) - Fast arcade rally racing.\\n\\n## Sandbox\\n\\n* [3d.city](https://github.com/lo-th/3d.city) - 3d city builder game. [Play it now!](http://lo-th.github.io/3d.city/index.html)\\n* [Blk Game](https://github.com/morozd/blk-game) - Multiplayer Javascript/WebGL voxel world game demo. [Play it now!](http://benvanik.github.io/blk-game/)\\n* [Cube Engine](https://github.com/Nurgak/Cube-engine) - 3D engine completely written in HTML5 without OpenGL. [Play it now!](http://nurgak.github.io/Cube-engine/)\\n* [Project Cube](https://github.com/B-Train04/Project-Cube) - Voxel game based on Minecraft made with HTML5. [Play it now!](https://b-train04.github.io/Project-Cube/projectCube/index.html)\\n\\n## Puzzle\\n\\n* [0hh0](https://github.com/Q42/0hn0) - Companion game to 0hh1 by Q42. [Play it now!](http://0hh0.com)\\n* [0hh1](https://github.com/Q42/0hh1) - Lovely little logic game by Q42. [Play it now!](http://0hh1.com)\\n* [2048](https://github.com/gabrielecirulli/2048) - Sliding addition game [Play it now!](http://gabrielecirulli.github.io/2048/)\\n* [A Dark Room](https://github.com/doublespeakgames/adarkroom) - Minimalist Text Adventure game written in JavaScript. [Play it now!](http://adarkroom.doublespeakgames.com/)\\n* [Anagramica](https://github.com/binarymax/anagramica) - A word game and API for anagrams. [Play it now!](http://www.anagramica.com/)\\n* [Astry](https://github.com/wwwtyro/Astray) - WebGL maze game built with Three.js and Box2dWeb. [Play it now!](http://wwwtyro.github.io/Astray/)\\n* [Beatrix](https://github.com/cxong/Beatrix) - Music game where you arrange the drums to catch the beats and play the right rhythm. [Play it now!](http://gamejolt.com/games/puzzle/beatrix/27454/)\\n* [BitBot](https://github.com/recardona/BitBot) - HTML/JS game where you control a bot, which must sense, plan, and act.\\n* [BlicblockJS](https://github.com/cheshire137/blicblock-js) - JavaScript game based on Blicblock in The Sims 4. Match tetrominoes to clear the board.\\n* [Blockrain.js](https://github.com/Aerolab/blockrain.js) - Embed & play the classic game on your site. Simple as that. [Play it now!](http://aerolab.github.io/blockrain.js/)\\n* [Branching Out](https://github.com/thehen/game-off-2012) - Minimalist game about leaving home. [Play it now!](http://henryhoffman.com/branchingout/)\\n* [Clone Man](https://github.com/adhicl/game-off-2012) - Puzzle, memory, retro game with simple graphics. [Play it now!](http://www.kongregate.com/games/Sorobaid/clone-man)\\n* [Couch 2048](https://github.com/mvasilkov/glitch2016) - A physics-based puzzle, loosely related to the original 2048 game. [Play it now!](http://js13kgames.com/games/couch-2048/index.html)\\n* [cube-composer](https://github.com/sharkdp/cube-composer) - A puzzle game inspired by functional programming. [Play it now!](http://david-peter.de/cube-composer)\\n* [Drunken Viking](https://github.com/cxong/DrunkenViking) - Retrace your drunken rampage in reverse time. [Play it now!](http://congusbongus.itch.io/drunken-viking)\\n* [Ending](http://robotacid.com/flash/ending) - Roguelike puzzle game. [Play it now!](http://robotacid.com/flash/ending/)\\n* [Follow me! A Simon Clone](https://github.com/gamedolphin/follow_me_javascript_simon_clone) - Fully commented version of the famous game - [*Simon*](http://en.wikipedia.org/wiki/Simon_%28game%29) - in JavaScript, built using Phaser game engine.\\n* [For King](https://github.com/AD1337/ForKingGame) - Puzzle platformer game about a king in search for his lost crown. [Play it now!](http://www.newgrounds.com/dump/item/1cc54f046fa51768d8169e65121b0af0)\\n* [Genetic Drift](https://github.com/DancingBanana/genetic-drift) - Victor, an annoyed janitor dealing with a lot of annoyed clones and the problems that inevitably arise from genetic duplication. Will he make it home to feed his faithful pet companion?.\\n* [Hex 2048](https://github.com/jeffhou/hex-2048) - Hexgrid-based clone of 2048. [Play it now!](https://jeffhou.github.io/hex-2048/)\\n* [Hexahedral](https://github.com/mminer/hexahedral) - Push down all the blocks in the minimum number of moves. [Play it now!](http://matthewminer.com/hexahedral)\\n* [Hextris](https://github.com/Hextris/hextris) - Addictive puzzle game inspired by Tetris. [Play it now!](http://hextris.io/)\\n* [Infectors](https://github.com/satanas/infectors) - Sokoban-like puzzle game developed with Phaser. [Play it now!](http://satanas.github.io/infectors/)\\n* [Lost! Beneath the Surface](https://github.com/gamedolphin/Lost-Beneath-The-Surface) - You\\'re a firefly lost in the dark, beneath the surface and must find a way out of the mazes created by the horrors in the dark.\\n* [Maze 3D](https://github.com/demonixis/Maze3D) - A 3D maze game. [Play it now!](http://demonixis.github.io/Maze3D/)\\n* [Monkey Rally](https://github.com/antila/ludum-dare-28) - JavaScript game created for the Ludum Dare #28 jam. [Play it now!](http://antila.github.io/ludum-dare-28/)\\n* [Ned Et Les Maki](https://github.com/devnewton/nedetlesmaki) - Puzzle game with isometric 3D graphics inspired by Sokoban. [Play it now!](http://play.bci.im/nedetlesmaki/)\\n* [Orbium](https://github.com/bni/orbium) - Modern version of the 90\\'s game Log!cal. [Play it now!](http://bni.github.io/orbium/)\\n* [Parity](https://github.com/abejfehr/parity) - A numbers puzzle game. [Play it now!](http://abefehr.com/parity/)\\n* [Pond](https://github.com/Zolmeister/pond) - A narrow fellow in the Pond. [Play it now!](http://thepond.zolmeister.com/)\\n* [Pop Pop Win](https://github.com/dart-lang/pop-pop-win) - Implementation of Minesweeper in Dart. [Play it now!](http://dart-lang.github.io/sample-pop_pop_win/)\\n* [Prism](https://github.com/Zolmeister/prism) - Match all the colors.\\n* [Push and Fork](https://github.com/Octocarina/game-off-2012) - Puzzle game in which you carry a fork, push blocks, and go back in time.. [Play it now!](http://gelisam.com/octocarina/)\\n* [Shape Experiment](https://github.com/binarymax/shape) - The shape recognition reflex game. [Play it now!](http://shapex.org/)\\n* [Sliding Puzzle](https://github.com/gamedolphin/sliding_puzzle) - Sliding blocks puzzle game.\\n* [Sudoku JS](https://github.com/baruchel/sudoku-js) - A Sudoku puzzle game with a clean design and mobile devices in mind. [Play it now](http://baruchel.insomnia247.nl/sudoku-js/sudoku.html)\\n* [Swap](https://github.com/nmoroze/swap) - New(award winning) take on the classic tile-based puzzle game, where you change which character you\\'re controlling to reach your goal. [Play it now!](http://nmoroze.github.io/swap/)\\n* [TransCube](https://github.com/jeroenverfallie/ggo13-transcube) - 2d puzzle platformer based on the concept of transforming into different \"blocks\", with their unique properties, and making you way to the end of the level with the provided transformations. [Play it now!](http://code.jerev.be/ggo13-transcube/)\\n* [untrusted](https://github.com/AlexNisnevich/untrusted) - Meta-JavaScript adventure game by Alex Nisnevich and Greg Shuflin. [Play it now!](http://alex.nisnevich.com/untrusted/)\\n* [Matching Pairs](https://github.com/gamedolphin/matching-pairs) - Made in HTML5 using Phaser as the framework, original assets and generated music.\\n* [Zoko](https://github.com/lulea/game-off-2012) - 3D version of Sokoban. [Play it now!](http://lulea.github.io/game-off-2012/)\\n* [Zop](https://github.com/Zolmeister/zop) - Connect like colors. [Play it now!](https://zop.zolmeister.com/)\\n\\n## Clicker\\n\\n* [Particle Clicker](https://github.com/particle-clicker/particle-clicker) - Addictive incremental game that teaches players the history of high energy particle physics. [Play it now!](http://cern.ch/particle-clicker)\\n\\n## Point and Click\\n\\n* [The House](https://github.com/arturkot/the-house-game) – You\\'re in a strange house. Can you find the way out? Is there any? [Play it now!](https://the-house.arturkot.pl/)\\n\\n## Others\\n\\n* [Beast](https://github.com/dominikwilkowski/beast.js) - An homage to the 1984 ASCII game \"BEAST\" from Dan Baker, Alan Brown, Mark Hamilton and Derrick Shadel written in node. You have to squash little ASCII beasts between pushable blocks but watch you to not be eaten by them.\\n* [binb](https://github.com/lpinca/binb) - Competitive, multiplayer, realtime, guess the song game. [Play it now!](https://binb.co)\\n* [Dental Defender: Saga of the Candy Horde](https://github.com/cshepp/candyjam/) - HTML5 shooter/tower defense game for the #CandyJam. [Play it now!](http://cas002.itch.io/dental-defenders-saga-of-the-candy-horde)\\n* [Descensus 2](https://github.com/TomWHall/Descensus2) - A TypeScript 2D physics game.\\n* [Hauberk](https://github.com/munificent/hauberk) - Hauberk is a roguelike, an ASCII-art based procedurally-generated dungeon crawl game. It\\'s written in Dart and runs in your browser.\\n* [HeartLine](https://github.com/gamebytes/heartline.github.com) - Game made in 48 hours for the 2013 Global Game Jam.\\n* [Psiral](https://github.com/petarov/game-off-2013) - JavaScript/HTML5 game, GitHub Game Off 2 winner. [Play it now!](http://psiral.herokuapp.com/)\\n* [CyberPong](https://github.com/dreamtocode/Cyber-Pong) - Unusual Ping Pong game, adaptable with Makey Makey Kit.\\n* [Squirts](https://github.com/KrofDrakula/squirts) - Well-known indie game implemented in JavaScript.\\n* [The Killer](https://github.com/JordanMagnuson/The-Killer) - Flash/ActionScript3-based \"nongame\". [Play it now!](http://www.gametrekking.com/the-games/cambodia/the-killer/play-now)\\n* [Turkey Cooking Simulator](https://github.com/fernjager/game-off-2013) - You have been invited to craft the centerpiece of the American thanksgiving dinner, the turkey. Woo your girlfriend / boyfriend and be judged by your future in-laws! Apply your culinary expertise to impress your family. [Play it now!](http://fernjager.github.io/game-off-2013/index.html)\\n\\n-------\\n\\n# Native\\n\\n## Action\\n* [OpenTomb](https://github.com/opentomb/OpenTomb) - An open-source Tomb Raider 1-5 engine remake.\\n\\n## Arcade\\n\\n* [hēXōn](https://github.com/LucKeyProductions/heXon) - A twin-stick-shooter with 3D graphics and a classic feel.\\n* [C-Dogs SDL](https://github.com/cxong/cdogs-sdl) - Overhead shoot-em-up port of the classic DOS game.\\n* [Chaos Projectile](https://github.com/WinterLicht/Chaos-Projectile) - 2D run\\'n\\'gun action game with RPG elements.\\n* [Clonepoint](https://github.com/rohit-n/Clonepoint) - Libre clone of Gunpoint, a game in which you hack and punch your way to victory.\\n* [DynaDungeons](https://github.com/akien-mga/dynadungeons) - Bomberman clone using the awesome open source Godot game engine.\\n* [Duckmarines](https://github.com/SimonLarsen/duckmarines) - A ChuChu Rocket remake for PC.\\n* [Epic Inventor](https://github.com/BlkStormy/epic-inventor) - Indie, side-scrolling, action, RPG.\\n* [Falling Time](https://github.com/cxong/FallingTime) - Arcade game inspired by Fall Down.\\n* [Kroniax](https://github.com/AlexAUT/Kroniax) - Sidescrolling skill-based game.\\n* [Missile Command](https://github.com/chadpaulson/missile-command) - Missile Command clone in Lua with LÖVE.\\n* [Mystic Mine](https://github.com/koonsolo/MysticMine) - Single and multiplayer action game with mining carts.\\n* [OpenLieroX](https://github.com/albertz/openlierox) - Liero clone, like realtime Worms, or a 2D Quake.\\n* [OSGG](https://github.com/DusteDdk/Osgg) - Oldskool Gravity Game, very difficult lander game in glorious vector graphics.\\n* [Savage Wheels](https://github.com/petarov/savagewheels) - 2D car crashing game similar to the old classic Destruction Derby.\\n* [Space Shooter](https://github.com/prodicus/spaceShooter) - Cross platform, 2D space shooting game made using pygame.\\n* [SDL-Ball](https://github.com/DusteDdk/SDL-Ball) - Pretty looking breakout clone available in most distributions.\\n* [Taisei](https://github.com/laochailan/taisei) - Fan-made, open Source clone of the Touhou series.\\n* [Teeworlds](https://github.com/teeworlds/teeworlds/) - Online multi-player platform 2D shooter.\\n* [Wannabe Tempest](https://github.com/awlzac/wbt) - Tempest(80\\'s arcade game) clone in Java, and a small project for playing with git.\\n* [Witch Blast](https://github.com/Cirrus-Minor/witchblast) - Roguelite dungeon crawl shooter similar to The Binding of Isaac.\\n\\n## FPS\\n\\n* [AssaultCube](https://github.com/assaultcube/AC) - Total conversion of Wouter van Oortmerssen\\'s FPS called Cube.\\n* [Freedoom](https://github.com/freedoom/freedoom) - Free software FPS based on the classic Doom engine.\\n* [GlPortal](https://github.com/GlPortal/glPortal) - A modern 3D game and engine with portals written in C++.\\n* [ioquake3](https://github.com/ioquake/ioq3) - The free software FPS engine that can be used to play Quake 3, or make your own game.\\n* [LWJake2](https://github.com/flibitijibibo/LWJake2) - LWJGL port of Quake 2.\\n* [OpenLara](https://github.com/XProger/OpenLara) - Tomb Raider open-source engine [Play it now!](http://xproger.info/projects/OpenLara/)\\n* [openspades](https://github.com/yvt/openspades) - Compatible client of Ace of Spades 0.75.\\n* [Red Eclipse](https://github.com/red-eclipse) - Free, casual arena shooter featuring parkour.\\n* [Smokin\\' Guns](https://github.com/smokin-guns/SmokinGuns) - Semi-realistic simulation of the \"Old West\\'s\" great atmosphere.\\n* [Turtle Arena](https://github.com/Turtle-Arena/turtle-arena-code) - Third-person action game using the Spearmint engine.\\n* [Unvanquished](https://github.com/Unvanquished/Unvanquished) - Fast-paced, futuristic FPS with RTS elements.\\n* [Warsow](https://github.com/Warsow) - Fast-paced FPS in a futuristic cartoonish world.\\n\\n\\n## MMORPG\\n\\n* [Open Meridian](https://github.com/OpenMeridian/Meridian59) - The first 3D MMORPG, released in 1996 and open sourced in 2012. Forked in 2013, Actively developed. [Play it now!](http://openmeridian.org)\\n* [Meridian 59](https://github.com/Meridian59/Meridian59) - The first 3D MMORPG, released in 1996 and open sourced in 2012. The original codebase for Meridian 59, less frequently updated. [Play it now!](http://www.meridian59.com)\\n* [Stendhal](https://github.com/arianne/stendhal) - a fun friendly and free 2D multiplayer online adventure game with an old school feel. [Play it now!](https://stendhalgame.org)\\n\\n## RPG\\n\\n* [Angband](https://github.com/angband/angband) - Single-player dungeon exploration game in the universe of JRR Tolkien.\\n* [Arx Fatalis](https://github.com/arx/ArxLibertatis) - Cross-platform port of Arx Fatalis, a first-person role-playing game.\\n* [Cataclysm: Dark Days Ahead](https://github.com/CleverRaven/Cataclysm-DDA) - Roguelike set in a post-apocalyptic world.\\n* [Cendric](https://github.com/tizian/Cendric2) - Platformer-RPG in a fantasy setting with puzzle elements.\\n* [Crystal Picnic](https://github.com/Nooskewl/crystal-picnic) - Lighthearted and colourful tribute to the classic era of action RPGs.\\n* [Dungeon Crawl Stone Soup](https://github.com/crawl/crawl) - Single-player roguelike dungeon exploration game with a larger focus on combat compared to other popular roguelikes.\\n* [Dungeon Monkey Eternal](https://github.com/jwvhewitt/dmeternal) - Party-based fantasy roguelike role-playing game.\\n* [Egoboo](https://github.com/egoboo/egoboo) - Cool 3D dungeon crawling game in the spirit of NetHack.\\n* [Flare RPG](https://github.com/clintbellanger/flare-game) - Fantasy action RPG game with its own engine.\\n* [Freeablo](https://github.com/wheybags/freeablo) - Open-source implementation of the Diablo I engine.\\n* [Monster RPG 2](https://github.com/Nooskewl/monster-rpg-2) - Turn-based J-RPG in a fantasy universe.\\n* [NetHack](https://github.com/NetHack/NetHack) - Single-player roguelike dungeon exploration game and one of the most popular games in its genre.\\n* [OpenMW](https://github.com/OpenMW/openmw) - Reimplementation of the Morrowind game engine.\\n* [The Legend of Zelda: Mystery of Solarus DX](https://github.com/christopho/zsdx) - sequel to The Legend of Zelda: A Link to the Past released on the SNES, written in lua and created with the [Solarus](https://github.com/christopho/solarus) engine\\n* [Valyria Tear](https://github.com/Bertram25/ValyriaTear) - Single-player medieval-fantasy 2D J-RPG.\\n\\n## Platform\\n\\n* [Captain Holetooth](https://github.com/hirnbix/captain-holetooth) - A fun, explorative and story-driven platformer with minigames. Made with the Godot Engine.\\n* [Commander Genius](https://github.com/gerstrong/Commander-Genius) - Commander Keen compatible clone.\\n* [Elemental One](https://github.com/voithos/elemental-one) - Built with the Phaser HTML5 game framework. [Play it now!](http://skepsi.me/elemental-one/)\\n* [Escape of the cat](https://github.com/gl00my/catesc) - Hardcore oldschool platformer on [INSTEAD](http://github.com/instead-hub/instead).\\n* [Frogatto](https://github.com/frogatto/frogatto) - Action-adventure game, starring a certain quixotic frog.\\n* [Gish](https://github.com/blinry/gish) - Award-winning physics platformer.\\n* [Journey to the Center of Hawkthorne](https://github.com/hawkthorne/hawkthorne-journey) - This 2d platformer is based on Community\\'s Digital Estate Planning episodebuilt using the LÖVE game engine.\\n* [Mario-Level-1](https://github.com/justinmeister/Mario-Level-1) - First level of Super Mario Bros made with Python and Pygame.\\n* [HFT Mario Party](https://github.com/amiruqdah/mario-party) - a remixed local multiplayer reimagining of the original Mario      Bros.\\n* [Sky Engine](https://github.com/ilenburg/game-engine) - Custom engine 2D platform game made with OpenGL.\\n* [The Legend of Edgar](https://github.com/riksweeney/edgar) - 2D platform game with a persistent world.\\n* [The Secret Chronicles of Dr. M.](https://github.com/Secretchronicles/TSC) - A 2D platform game in classic style.\\n* [SuperTux](https://github.com/SuperTux/supertux) - Classic 2D jump\\'n\\'run sidescroller with Tux.\\n\\n## Puzzle/card/board\\n\\n* [2048-cli](https://github.com/Tiehuis/2048-cli) - CLI version of the game 2048 for your Linux terminal.\\n* [2048-in-terminal](https://github.com/alewmoose/2048-in-terminal) - CLI version of the game 2048 made right.\\n* [Castles of Dr. Creep](https://github.com/segrax/DrCreep) - The Castles of Dr. Creep\\n* [Dominion](https://github.com/paulbatum/Dominion) - C# implementation of Dominion, a board/card game.\\n* [EbbeFlut](https://github.com/karussell/ebbeflut) - Really nice board game implemented in a bad way a VERY long time ago.\\n* [IRMINGARD](https://github.com/gamebytes/irmingard-backbone) - Patience card game written in Ruby.\\n* [Minilens](https://github.com/KOBUGE-Games/minilens) - Cute puzzle platformer starring a cleaning robot on post-apocalyptic Earth.\\n* [nudoku](https://github.com/jubalh/nudoku) - ncurses based CLI sudoku game\\n* [PuzzleDash](https://github.com/zeDoctor/PuzzleDash) - Match-3 puzzle game built in the [Dash engine](https://github.com/Circular-Studios/Dash).\\n* [tictactoe](https://github.com/cout-hello-world/tictactoe) - Graphical tic-tac-toe AI which never loses\\n* [Wizznic](https://github.com/DusteDdk/Wizznic) - Most awesome puzzle game.\\n* [PokerTH](https://github.com/pokerth/pokerth) - Implementation of Texas Hold\\'em supporting (online) multiplayer and botplay. [Play it now!](http://www.pokerth.net/)\\n\\n## Racing\\n\\n* [Stunt Rally](https://github.com/stuntrally/stuntrally) - Rally game with Track Editor, based on VDrift and OGRE.\\n* [SuperTuxKart](https://github.com/supertuxkart/stk-code) - Free 3D kart racing game featuring open source mascots.\\n\\n## Programming\\n\\n* [CengBall](https://github.com/eckucukoglu/cengball) - Soccer programming game with 2D simulation.\\n\\n## Sandbox\\n\\n* [Blackvoxel](https://github.com/Blackvoxel/Blackvoxel) - Sandbox game based on a molecular voxel interaction engine.\\n* [Craft](https://github.com/fogleman/Craft) - Simple Minecraft clone written in C using modern OpenGL.\\n* [Endless Sky](https://github.com/endless-sky/endless-sky) - Space trading and combat game similar to the classic Escape Velocity series.\\n* [Freeminer](https://github.com/freeminer/freeminer) - Sandbox game inspired by Minecraft.\\n* [Minecraft](https://github.com/fogleman/Minecraft) - Simple Minecraft-inspired demo written in [Python](https://www.python.org/) and [Pyglet](http://www.pyglet.org/).\\n* [Manic Digger](https://github.com/manicdigger/manicdigger) - A multiplayer block-building voxel game, Minecraft clone.\\n* [Minetest](https://github.com/minetest/minetest) - Infinite-world block sandbox game with survival and crafting.\\n* [Pycraft](https://github.com/itsapi/pycraft) - A Minecraft-inspired game for the terminal.\\n* [Rigs of Rods](https://github.com/RigsOfRods/rigs-of-rods) - Soft-Body physics simulator for vehicles and more.\\n* [Space Engineers](https://github.com/KeenSoftwareHouse/SpaceEngineers) - Space Engineers is a voxel-based sandbox game set in an asteroid field in space.\\n* [Terasology](https://github.com/MovingBlocks/Terasology) - Voxel world game engine inspired by Minecraft and others with fancy graphic effects and a heavy focus on extensibility.\\n* [The Powder Toy](https://github.com/simtr/The-Powder-Toy) - Falling-sand physics sandbox game.\\n\\n## Strategy\\n\\n* [0 A.D.](https://github.com/0ad/0ad) - 3D RTS similar to Age of Empires II\\n* [Caesaria](https://github.com/dalerank/caesaria-game) - Remake of the popular citybuilder and economic sim Caesar III.\\n* [Colobot](https://github.com/colobot/colobot) - A real-time strategy game with programmable bots.\\n* [CorsixTH](https://github.com/CorsixTH/CorsixTH) - Clone of Theme Hospital.\\n* [Curse of War](https://github.com/a-nikolaev/curseofwar) - Fast-paced action strategy game with ncurses and SDL frontends.\\n* [Harris](https://github.com/ec429/harris) - Strategy game based around the actions of RAF Bomber Command in the Second World War.\\n* [Hedgewars](https://github.com/hedgewars/hw) - A turn based strategy, artillery, action and comedy game.\\n* [KaM Remake](https://github.com/Kromster80/kam_remake) - RTS game remake of “Knights and Merchants”  written in Delphi from scratch.\\n* [KeeperRL](https://github.com/miki151/keeperrl) - Roguelike dungeon builder inspired by Dwarf Fortress.\\n* [Last Colony](https://github.com/adityaravishankar/last-colony) - RTS game with both a single player campaign mode as well as a multiplayer mode, created entirely in HTML5 and JavaScript. [Play it now!](http://www.adityaravishankar.com/projects/games/lastcolony/)\\n* [MegaGlest](https://github.com/MegaGlest/megaglest-source) - MegaGlest real-time strategy game engine (cross-platform, 3-d).\\n* [Micropolis](https://github.com/SimHacker/micropolis) - City-building game based on the original code for SimCity.\\n* [openage](https://github.com/SFTtech/openage) - Clone of the Age of Empires II engine.\\n* [OpenDungeons](https://github.com/OpenDungeons/OpenDungeons) - Open source game inspired by Dungeon Keeper - Dark, damp and dangerous...\\n* [OpenFodder](https://github.com/OpenFodder/openfodder) - Open-source implementation of Cannon Fodder\\n* [OpenRA](https://github.com/OpenRA/OpenRA) - Open-source implementation of the Red Alert engine using .NET/mono and OpenGL. Runs on Windows, Linux and OSX.\\n* [OpenTTD](https://github.com/OpenTTD/OpenTTD) - OpenTTD is a transport simulation game based upon the popular game Transport Tycoon Deluxe, written by Chris Sawyer.\\n* [OpenXcom](https://github.com/SupSuper/OpenXcom) - Clone of the original X-COM.\\n* [Pax Britannica](https://github.com/henkboom/pax-britannica) - Underwater one-button real-time strategy game.\\n* [PCOTM (Phone Case of the Monster)](https://github.com/jwoertink/pcotm) - Ruby game, where you play as a phone-collecting monster.\\n* [Pioneer](https://github.com/pioneerspacesim/pioneer) - Game of lonely space adventure.\\n* [Polly-B-Gone](https://github.com/mbostock/polly-b-gone) - Physics platform game about a plucky wheeled robot named Polly.\\n* [OpenRCT2](https://github.com/OpenRCT2/OpenRCT2) - Open source recreation of Rollercoaster Tycoon 2.\\n* [Race into Space](https://github.com/raceintospace/raceintospace) - Turn-based space race strategy game originally by Interplay.\\n* [Seven Kingdoms: Ancient Adversaries](https://github.com/the3dfxdude/7kaa) - Classic RTS game liberated in 2009.\\n* [Source of Tales](https://github.com/tales/sourceoftales) - Entry in the Liberated Pixel Cup 2012.\\n* [Tanks of Freedom](https://github.com/w84death/Tanks-of-Freedom) - Turn-based strategy game in isometric pixel-art style.\\n* [The Battle for Wesnoth](https://github.com/wesnoth/wesnoth) - Turn-based strategy game with a high fantasy theme.\\n* [Unknown Horizons](https://github.com/unknown-horizons/) - 2D isometric RTS economic strategy game written in C++ & Python, built on the Flexible Isometric Free Engine.\\n* [Voxeliq](https://github.com/raistlinthewiz/voxeliq) - Block-based game engine implementation developed with C#.\\n* [Wargus](https://github.com/Wargus/wargus) - Wargus is a Warcraft2 Mod that allows you to play Warcraft2 with the Stratagus engine.\\n* [Warzone 2100](https://github.com/Warzone2100/warzone2100) - Postnuclear realtime strategy.\\n* [Wyrmsun](https://github.com/andrettin/wyrmsun) - Strategy game based on history, mythology and fiction.\\n* [Zero-K](https://github.com/ZeroK-RTS/Zero-K) - Open source RTS game with physical projectiles and smart units\\n\\n## Others\\n\\n * [OpenNotrium](https://github.com/verhoevenv/OpenNotrium) - Open source version of Notrium, a top-down survival game.\\n\\n# Mobile Games\\n\\n## Android\\n\\n* [ChaseWhisplyProject](https://github.com/tvbarthel/ChaseWhisplyProject) - Chase Whisply is a FPS. You have to seek, find and kill the ghosts living around you.\\n* [Colorphun](https://github.com/prakhar1989/colorphun) - ColorPhun is a simple color based Android Game.\\n* [Game of Life](https://github.com/zsoltk/GameOfLife) - Conway\\'s Game of Life with editable rules\\n* [Gidi Games](https://github.com/chuvidi2003/GidiGames) - Lexis, TicTacToe, Puzzlemania - a collection of 3 board games done with Cocos2d for Android.\\n* [Green Mahjong](https://github.com/danbeck/green-mahjong) - Solitaire mahjong game done in HTML/CSS/JS.\\n* [Green Wall](https://github.com/awlzac/greenwall) - Weirdly addictive arcade-style android game, where you fling fruit at a wall. Project developed using Android Studio 1.0.\\n* [Memory Game](https://github.com/sromku/memory-game) - Simple and beautiful memory game for kids.\\n* [Pixel Dungeon](https://github.com/watabou/pixel-dungeon) - Traditional roguelike game with pixel-art graphics and simple interface.\\n* [PuzzleGame](https://github.com/chuvidi2003/PuzzleGame) - Slider puzzle game implementation created with Cocos2d for Android.\\n* [Wannabe Tempest](https://github.com/awlzac/wbta) - Clone of 80\\'s coin-op arcade game Tempest(80\\'s arcade game).\\n\\n## IOS\\n\\n* [Bat Loves Bugs](https://github.com/xyclos/BatLovesBugs) - Arcade game about a bug-craving bat.\\n* [Bridges](https://github.com/zgrossbart/bridges) - Puzzle game with bridges, houses, tolls, and subways for iOS.\\n* [Canabalt](https://github.com/ericjohnson/canabalt-ios) - Release of Canabalt for iOS.\\n* [Choose Figure](https://github.com/ISosnovik/chooseFigure) - Simple logic game. Choose the right figure. Train your attention.\\n* [Doom](https://github.com/id-Software/DOOM-iOS) - Doom Classic for iOS.\\n* [DrugsNRock](https://github.com/biou/DrugsNRock) - Simple multiplayer rhythm game designed during the 2013 Global Game Jam.\\n* [FinalFighter](https://github.com/sebcode/FinalFighter-iphone) - Tank deathmatch battle game developed using Cocos2D.\\n* [Frogatto](https://github.com/frogatto/frogatto) - Action-adventure game, starring a certain quixotic frog.\\n* [Gorillas](https://github.com/Lyndir/Gorillas) - iPhone(or iPod touch) port of the popular old QBasic game.\\n* [Green Mahjong](https://github.com/danbeck/green-mahjong) - Solitaire mahjong game done in HTML/CSS/JS.\\n* [Light Jockey](https://github.com/jmfieldman/Light-Jockey) - iOS Auditorium-like game.\\n* [Lumio](https://github.com/joannecdyer/lumio) - Puzzle game for iOS developed using Cocos2D. Available free on the App Store.\\n* [Sakura Fly](https://github.com/l800891/Sakura-Fly) - iOS action game developed using SpriteKit. Available free on the App Store.\\n* [Wolfenstein 3D](https://github.com/id-Software/Wolf3D-iOS) - Wolfenstein 3D for iOS Source Release.\\n\\n-------\\n\\n# Chat bots\\n* [c4bot](https://github.com/kenrick95/c4bot) - Chat bot that plays Connect Four with you, works in web chat, Facebook Messenger, Skype, and Telegram. [Play it now!](https://bots.botframework.com/bot?id=c4bot)\\n\\n-------\\n\\n# Just The Source\\n\\n* [Aquaria](https://github.com/AquariaOSE/Aquaria) - Breath-taking underwater fantasy game. Winner of the Grand Prize at the 2007 Independent Games Festival.\\n* [Doom 3](https://github.com/TTimo/doom3.gpl) - Doom 3 GPL source code release.\\n* [ID Software](https://github.com/id-Software) - Includes Doom, Quake, Wolfenstein and more.\\n* [Jedi Academy](https://github.com/grayj/Jedi-Academy) - Jedi Academy source only, mirror of SourceForge from Raven Software.\\n* [Jedi Outcast](https://github.com/grayj/Jedi-Outcast) - Jedi Outcast source only, mirror of SourceForge from Raven Software.\\n* [MaNGOS](https://github.com/mangos/mangos) - Full featured World of Warcraft server.\\n* [Miner Wars 2081](https://github.com/KeenSoftwareHouse/Miner-Wars-2081) - For modders of Miner Wars 2081, a 6DOF action-survival space-shooter simulation-game set in the year 2081.\\n* [OpenJK](https://github.com/JACoders/OpenJK) - Community maintained fork of Jedi Academy and Jedi Outcast development.\\n* [Prince of Persia](https://github.com/jmechner/Prince-of-Persia-Apple-II) - Source code for the original Prince of Persia game that was written on the Apple II, in 6502 assembly language, between 1985-89.\\n* [UFO RUN](https://github.com/Nextpeer/Nextpeer-UFORUN) - Real time multiplayer with Nextpeer.\\n* [System Shock](https://github.com/NightDiveStudios/shockmac/) - Source code for original System Shock game (PowerMac version), more readable fork available [here](https://github.com/ToxicFrog/shockmac).\\n\\n-------\\n\\n# Frameworks/Engines/Libraries\\n\\n* [Akihabara](https://github.com/Akihabara/akihabara) - Set of libraries, tools and presets to create pixelated indie-style 8/16-bit era games in Javascript.\\n* [Allegro 5](https://github.com/liballeg/allegro5) - C++ libraries to make 2D games(graphics, sound, etc.).\\n* [ammo.js](https://github.com/kripken/ammo.js) - Direct port of the Bullet Physics engine to JavaScript using Emscripten.\\n* [Atomic Engine](https://github.com/AtomicGameEngine/AtomicGameEngine) - features 2D and 3D rendering, standards compliant JavaScript, full Player and Editor source on GitHub, Windows & Mac Editors, with deployment to Windows, Mac, WebGL, Android, and iOS from the editor.\\n* [Babylon.js](https://github.com/BabylonJS/Babylon.js) - Complete JavaScript framework for building 3D games with HTML 5 and WebGL.\\n* [bgfx](https://github.com/bkaradzic/bgfx#bgfx---cross-platform-rendering-library) - Cross-platform rendering library.\\n* [Chilli Works](https://github.com/ChilliWorks/ChilliSource) - An open source, cross-platform game engine designed for indie developers.\\n* [Chipmunk Physics](https://github.com/slembcke/Chipmunk-Physics) - Simple, lightweight, fast and portable 2D rigid body physics library written in C.\\n* [ChoiceScript](https://github.com/dfabulich/choicescript) - A language/engine for developing text-based multiple-choice interactive novels\\n* [Cocos2d for Android](https://github.com/ZhouWeikuan/cocos2d) - Cocos2d for Android, based on cocos2d-android-0.82, and now ported from cocos2d-iphone 0.99.4.\\n* [Cocos2d for iPhone](https://github.com/cocos2d/cocos2d-iphone) - Framework for building 2D games, demos, and other graphical/interactive applications for iPod Touch, iPhone, iPad and Mac. It is based on the cocos2d design but instead of using python it, uses objective-C.\\n* [Cocos2d for HTML5](https://github.com/cocos2d/cocos2d-html5) - Cocos2d for Web Browsers. Built using JavaScript.\\n* [Cocos2d-x](https://github.com/cocos2d/cocos2d-x) - Multi-platform framework for building 2d games, interactive books, demos and other graphical applications. It is based on cocos2d-iphone, but instead of using Objective-C, it uses C++. It works on iOS, Android, Windows Phone, OS X, Windows and Linux.\\n* [Crafty](https://github.com/craftyjs/Crafty) - JavaScript game library that can help you create games in a structured way.\\n* [CutJS](https://github.com/piqnt/cutjs) - Lightweight and fast 2D HTML5 rendering engine for cross-platform game development.\\n* [Dash](https://github.com/Circular-Studios/Dash) - Free and open 3D game engine written in D.\\n* [Duality](https://github.com/AdamsLair/duality) - 2D Game Development Framework.\\n* [EaselJS](https://github.com/CreateJS/EaselJS/) - Library to make working with the Canvas element easier.\\n* [EntityJS](https://github.com/bendangelo/entityjs) - HTML5 JavaScript game engine utlizing the entity-component design.\\n* [Evennia MUD/MU* Creation System](https://github.com/evennia/evennia) - Library for creating online multiplayer text games (MUD, MUSH, MUX, MUCK, MOO etc) in pure Python.\\n* [Flare](https://github.com/clintbellanger/flare-engine) - Free/Libre Action Roleplaying Engine.\\n* [Flashpunk](https://github.com/Draknek/FlashPunk) - Free ActionScript 3 library designed for developing 2D Flash games.\\n* [Flixel](https://github.com/AdamAtomic/flixel) - Game-making library written entirely in ActionScript 3.\\n* [GameJS](https://github.com/gamejs/gamejs) - GameJs is a JavaScript library for writing 2D games or other interactive graphic applications for the HTML Canvas inspired by PyGame.\\n* [GamePlay](https://github.com/gameplay3d/GamePlay) - Cross-platform, C++ game framework/engine for creating 2D/3D mobile and desktop games.\\n* [GemRB](https://github.com/gemrb/gemrb) - Cross-platform implementation of Bioware\\'s Infinity Engine.\\n* [GenesisEngine](https://github.com/SaintGimp/GenesisEngine) - GenesisEngine allows you to create and explore procedurally-generated planetary systems, from ground level all the way out into space. Experiments with procedurally-generated worlds, XNA, and design patterns.\\n* [Gladiator 3D](https://github.com/krotik/gladiator_3d) - Canvas based JavaScript ray casting engine for pseudo 3D games.\\n* [Godot](https://github.com/okamstudio/godot) - Fully featured, MIT licensed, game engine. It focuses on having great tools, and a visual oriented workflow that can export to PC, Mobile and Web platforms with no hassle. The editor, language and APIs are feature rich, yet simple to learn, allowing you to become productive in a matter of hours.\\n* [HaxeFlixel](https://github.com/HaxeFlixel/flixel) - Free, cross-platform 2D game engine powered by Haxe and OpenFL http://www.haxeflixel.com/\\n* [JiGS](https://github.com/Techbot/JiGS-PHP-RPG-engine) - Online RPG and Trading Game Engine built in PHP.\\n* [jMonkeyEngine](https://github.com/jMonkeyEngine/jmonkeyengine) - Cutting edge, cross-platform 3D game engine for adventurous Java developers.\\n* [kiwi.js](https://github.com/gamelab/kiwi.js) - Blazingly fast mobile & desktop browser based HTML5 game framework. It uses CocoonJS for publishing to the AppStore.\\n* [libGDX](https://github.com/libgdx/libgdx) - Desktop/Android/HTML5/iOS Java game development framework.\\n* [libRocket](https://github.com/librocket/librocket) - C++ user interface package based on the HTML and CSS standards. It is designed as a complete solution for any project\\'s interface needs.\\n* [libSDL2pp](https://github.com/libSDL2pp/libSDL2pp) - C++11 bindings for [SDL 2.0](http://libsdl.org/).\\n* [lycheeJS](https://github.com/LazerUnicorns/lycheeJS) - Free HTML5 + native OpenGL Game Engine for Embedded, Console, Mobile, Server and Desktop.\\n* [Matter.js](https://github.com/liabru/matter-js) - Matter.js is a JavaScript 2D rigid body physics engine for the web.\\n* [melonJS](https://github.com/melonjs/melonJS) - HTML5 game framework for 2D games.\\n* [MonoGame](https://github.com/mono/MonoGame) - XNA Implementation for Mono based platforms (supports iOS, Android, Linux, and started work on PS Suite and NaCli ).\\n* [Oimo.js](https://github.com/lo-th/Oimo.js) - Lightweight 3d physics engine for javascript.\\n* [OpenRTS](https://github.com/methusalah/OpenRTS) - Real-Time Strategy game 3D engine coded in java 7.\\n* [Oxygine](https://github.com/oxygine/oxygine-framework) - C++ engine and framework for 2D games on iOS, Android, Windows, Linux and Mac.\\n* [panda.js](https://github.com/ekelokorpi/panda.js) - Free HTML5 game engine for mobile and desktop with Canvas and WebGL rendering.\\n* [Phaser](https://github.com/photonstorm/phaser) - Phaser is a fun, free and fast 2D game framework for making HTML5 games for desktop and mobile web browsers, supporting Canvas and WebGL rendering.\\n* [PhysicsJS](https://github.com/wellcaffeinated/PhysicsJS) - Modular, extendable, and easy-to-use physics engine for JavaScript.\\n* [pixi.js](https://github.com/GoodBoyDigital/pixi.js) - Super fast HTML 5 2D rendering engine that uses webGL with canvas fallback.\\n* [Plasma](https://github.com/H-uru/Plasma) - Cyan Worlds\\'s Plasma game engine.\\n* [PlayCanvas](https://github.com/playcanvas/engine) - 3D WebGL game engine with online toolset.\\n* [QICI Engine](https://github.com/qiciengine/qiciengine) - free JavaScript game engine library with a web-based comprehensive suite of toolset for making HTML5 games.\\n* [Quasi-Engine](https://github.com/INdT/Quasi-Engine) - a QtQuick framework that intends to be a complete toolset to ease 2d game development.\\n* [Ren\\'py](https://github.com/renpy/renpy) - A Visual Novel Engine, written in python, for both mobile (iOS beta) and desktop platforms.\\n* [SFML](https://github.com/LaurentGomila/SFML) - Simple and Fast Multimedia Library.\\n* [Solarus](https://github.com/christopho/solarus) - An Action-RPG game engine written in C++.\\n* [Spring](https://github.com/spring/spring) - Real Time Strategy game engine.\\n* [Starling](https://github.com/Gamua/Starling-Framework) - ActionScript 3 library that mimics the conventional Flash display tree architecture, can be deployed to mobile devices (iOS, Android), the desktop (Windows, OS X), and to the browser (via the Flash plugin).\\n* [Superpowers](https://github.com/superpowers) - TypeScript & ThreeJS powered game engine and framework (2D & 3D with WebGL)\\n* [Tesseract](https://github.com/lsalzman/tesseract) - Make mapping more fun by using modern dynamic rendering techniques, sothat you can get instant feedback on lighting changes, not just geometry.\\n* [three.js](https://github.com/mrdoob/three.js) - JavaScript 3D library used in many browser games.\\n* [tiled](https://github.com/bjorn/tiled) - Tiled is a general purpose tile map editor. It is meant to be used for editing maps of any tile-based game, be it an RPG, a platformer or a Breakout clone.\\n* [Torque 2D](https://github.com/GarageGames/Torque2D) - MIT Licensed version of Torque 2D from GarageGames.\\n* [Torque 3D](https://github.com/GarageGames/Torque3D) - MIT Licensed version of Torque 3D from GarageGames.\\n* [Turbulenz Engine](https://github.com/turbulenz/turbulenz_engine) - HTML5 game engine and server-side APIs available in JavaScript and TypeScript for building and distributing 2D and 3D games.\\n* [Urho3D](https://github.com/urho3d/Urho3D) - Urho3D is a free lightweight, cross-platform 2D and 3D game engine implemented in C++ and released under the MIT license. Greatly inspired by OGRE and Horde3D.\\n* [Wurfel Engine](https://github.com/BSVogler/WurfelEngineSDK) An isometric game engine for games with an open world made of blocks or voxels.\\n* [XLE](https://github.com/xlgames-inc/XLE) - Rendering engine with advanced features such as Image Based Lighting, dynamic area lights, and a node based material editor. Flexible and modular, it is designed to drop into existing solutions. XLE is the \"hackable\" engine, intended to be customised for specialised requirements.\\n\\n-------\\n\\n# Maps/Hacks/Plugins/Utilities/All of the Things™\\n\\n* [Bfxr](https://github.com/increpare/bfxr) - Flash + AIR sound effects generator. Based on Sfxr.\\n* [Brood War API](https://github.com/bwapi/bwapi) - C++ framework to interact with the Real Time Strategy (RTS) game Starcraft: Broodwar.\\n* [FlxCollisions](https://github.com/gamebytes/FlxCollisions) - Simple set of 2d physics + collision demos for flixel v2.0. [Play it now!](http://flixel.org/flxcollisions/)\\n* [Gamertag](https://github.com/barisbalic/gamertag) - Gem for retrieving Xbox Live Gamertag information from various sources.\\n* [Greenworks](https://github.com/greenheartgames/greenworks) - A node.js/nw.js addon allowing you to integrate HTML5 game with Steamworks.\\n* [Halo::Reach::API](https://github.com/agoragames/halo-reach-api) - Ruby gem for interacting with the Halo:Reach API.\\n* [IodineGBA](https://github.com/taisel/IodineGBA) - GameBoy Advance emulator written entirely in JavaScript and powered by HTML5.\\n* [itch](https://github.com/itchio/itch) - An electron cross-platform game downloader, installer, and library manager for itch.io written in TypeScript.\\n* [JavaScript Breakouts](https://github.com/city41/breakouts) - Collection of JavaScript engine implementations of [*Breakout*](http://en.wikipedia.org/wiki/Breakout_%28video_game%29).\\n* [Leaderboard(Java)](https://github.com/agoragames/java-leaderboard) - Leaderboards backed by Redis(in Java).\\n* [Leaderboard(PHP)](https://github.com/agoragames/php-leaderboard) - Leaderboards backed by Redis(in PHP).\\n* [Leaderboard(Python)](https://github.com/agoragames/python-leaderboard) - Leaderboards backed by Redis(in Python).\\n* [Leaderboard(Ruby)](https://github.com/agoragames/leaderboard) - Leaderboards backed by Redis(in Ruby).\\n* [Leaderboard(Scala)](https://github.com/agoragames/scala-leaderboard) - Leaderboards backed by Redis (in Scala).\\n* [libfreenect](https://github.com/OpenKinect/libfreenect) - Drivers and libraries for the Xbox Kinect device on WIndows, Linux, and OS X.\\n* [OpenEmu](https://github.com/OpenEmu/OpenEmu) - Project to bring game emulation to OS X as a first class citizen.\\n* [Mudlet](https://github.com/Mudlet/Mudlet) - A cross-platform, open source, and super fast MUD (text-only MMORPGs) client with scripting in Lua.\\n* [stats.js](https://github.com/mrdoob/stats.js) - JavaScript performance monitor.\\n* [Tassadar](https://github.com/agoragames/tassadar) - Starcraft 2 replay parser written in pure Ruby.\\n* [World of Warcraft Addons](https://github.com/TekNoLogic) - Various World of Warcraft addons written in Lua.\\n* [World of Warcraft API Docs](https://github.com/Blizzard/api-wow-docs) - Public documentation for the RESTful web service provided as part of the World of Warcraft community site.\\n\\n# License\\n\\n<a rel=\"license\" href=\"http://creativecommons.org/licenses/by-nc-sa/4.0/\"><img alt=\"Creative Commons License\" style=\"border-width:0\" src=\"https://i.creativecommons.org/l/by-nc-sa/4.0/88x31.png\" /></a><br />This work is licensed under a <a rel=\"license\" href=\"http://creativecommons.org/licenses/by-nc-sa/4.0/\">Creative Commons Attribution-NonCommercial-ShareAlike 4.0 International License</a>.\\n\\n[![Awesome](https://cdn.rawgit.com/sindresorhus/awesome/d7305f38d29fed78fa85652e3a63e154dd8e8829/media/badge.svg)](https://github.com/sindresorhus/awesome)\\n'},\n",
       " {'repo': 'CharlesPikachu/Games',\n",
       "  'language': 'Python',\n",
       "  'readme_contents': '<div align=\"center\">\\n  <img src=\"./docs/logo.png\" width=\"600\"/>\\n</div>\\n<br />\\n\\n[![docs](https://img.shields.io/badge/docs-latest-blue)](https://cpgames.readthedocs.io/zh/latest/)\\n[![PyPI - Python Version](https://img.shields.io/pypi/pyversions/cpgames)](https://pypi.org/project/cpgames/)\\n[![PyPI](https://img.shields.io/pypi/v/cpgames)](https://pypi.org/project/cpgames)\\n[![license](https://img.shields.io/github/license/CharlesPikachu/Games.svg)](https://github.com/CharlesPikachu/Games/blob/master/LICENSE)\\n[![PyPI - Downloads](https://pepy.tech/badge/cpgames)](https://pypi.org/project/cpgames/)\\n[![PyPI - Downloads](https://img.shields.io/pypi/dm/cpgames?style=flat-square)](https://pypi.org/project/cpgames/)\\n[![issue resolution](https://isitmaintained.com/badge/resolution/CharlesPikachu/Games.svg)](https://github.com/CharlesPikachu/Games/issues)\\n[![open issues](https://isitmaintained.com/badge/open/CharlesPikachu/Games.svg)](https://github.com/CharlesPikachu/Games/issues)\\n\\nDocuments: http://cpgames.readthedocs.io/\\n\\n\\n# Games\\n```\\nCreate interesting games by pure python.\\nYou can star this repository to keep track of the project if it\\'s helpful for you, thank you for your support.\\n```\\n\\n\\n# Statement\\n```\\nMost of the game materals(including music, fonts and pictures) in this repository are collected from the web, copyright belongs to the original author.\\nThis repository is created just for learning python(Commercial prohibition).\\n```\\n\\n\\n# Support List\\n|   ID      |  English Name             |  Chinese Name           |   Core Code                                                |   Introduction                                               |\\n|   :----:  |  :----:                   |  :----:                 |   :----:                                                   |   :----:                                                     |\\n|   Game1   |  bunnybadger              |  兔子和獾(射击游戏)     |   [click](./cpgames/core/games/bunnybadger)              |   [click](https://mp.weixin.qq.com/s/_-AChGldQzdwXN-ljcCMFQ) |\\n|   Game2   |  voicecontrolpikachu      |  仿八分音符的声控小游戏 |   [click](./cpgames/core/games/voicecontrolpikachu)      |   [click](https://mp.weixin.qq.com/s/NmK5fAMoOHahOf6OvV6XFA) | \\n|   Game3   |  puzzlepieces             |  拼图小游戏             |   [click](./cpgames/core/games/puzzlepieces)             |   [click](https://mp.weixin.qq.com/s/tcmrbNCptka2ZTfEs-W_Lg) |\\n|   Game4   |  ski                      |  滑雪游戏               |   [click](./cpgames/core/games/ski)                      |   [click](https://mp.weixin.qq.com/s/2MVTEa4ut9TOAgBOOWEUSg) |\\n|   Game5   |  tankwar                  |  经典坦克大战小游戏     |   [click](./cpgames/core/games/tankwar)                  |   [click](https://mp.weixin.qq.com/s/1xXULpT36P7LTO5HDbjptg) |\\n|   Game6   |  flappybird               |  飞扬的小鸟小游戏       |   [click](./cpgames/core/games/flappybird)               |   [click](https://mp.weixin.qq.com/s/44CZjwvjnH0kkkKIn5U9Uw) |\\n|   Game7   |  trexrush                 |  仿谷歌浏览器小恐龙游戏 |   [click](./cpgames/core/games/trexrush)                 |   [click](https://mp.weixin.qq.com/s/PnvcSBe0Va3GVIodGIjYRg) |\\n|   Game8   |  towerdefense             |  塔防游戏               |   [click](./cpgames/core/games/towerdefense)\\t           |   [click](https://mp.weixin.qq.com/s/mcnN3dF5tzWlRg91cnWTEw) |\\n|   Game9   |  catchcoins               |  接金币小游戏           |   [click](./cpgames/core/games/catchcoins)\\t           |   [click](https://mp.weixin.qq.com/s/ZmMm7MKo7VyWZUAHEe9_JQ) |\\n|   Game10  |  aircraftwar              |  飞机大战               |   [click](./cpgames/core/games/catchcoins)               |   [click](https://mp.weixin.qq.com/s/n-f_6sh8bB7-dtIFJLbnFg) |\\n|   Game11  |  tetris                   |  俄罗斯方块             |   [click](./cpgames/core/games/tetris)                   |   [click](https://mp.weixin.qq.com/s/KFqpjmH6juZ2K8uKOoEaaA) |\\n|   Game12  |  sokoban                  |  推箱子                 |   [click](./cpgames/core/games/sokoban)                  |   [click](https://mp.weixin.qq.com/s/y6CZd4h3uo7602LrI7aFdQ) |\\n|   Game13  |  alieninvasion            |  外星人入侵小游戏       |   [click](./cpgames/core/games/alieninvasion)            |   [click](https://mp.weixin.qq.com/s/9UylZkV3sVTQLjThIaVObg) |\\n|   Game14  |  pacman                   |  吃豆人小游戏           |   [click](./cpgames/core/games/pacman)                   |   [click](https://mp.weixin.qq.com/s/UBVLDW2T-Y6R-0IaRfu81Q) |\\n|   Game15  |  gemgem                   |  消消乐                 |   [click](./cpgames/core/games/gemgem)                   |   [click](https://mp.weixin.qq.com/s/H0dFwoEcJT-JPKfNvPt2Kw) |\\n|   Game16  |  twentyfourpoint          |  24点小游戏             |   [click](./cpgames/core/games/twentyfourpoint)          |   [click](https://mp.weixin.qq.com/s/raronw7X0WlntI48nUOvoQ) |\\n|   Game17  |  pingpong                 |  乒乓球小游戏           |   [click](./cpgames/core/games/pingpong)                 |   [click](https://mp.weixin.qq.com/s/C6v0Zj8-fhysqRQ_lcEZIQ) |\\n|   Game18  |  breakoutclone            |  打砖块小游戏           |   [click](./cpgames/core/games/breakoutclone)            |   [click](https://mp.weixin.qq.com/s/9tNVTA06dFthdugNs3TePA) |\\n|   Game19  |  bomberman                |  炸弹人小游戏           |   [click](./cpgames/core/games/bomberman)                |   [click](https://mp.weixin.qq.com/s/XzB_cJMFEtz6p_MvqiaCrA) |\\n|   Game20  |  maze                     |  走迷宫小游戏           |   [click](./cpgames/core/games/maze)                     |   [click](https://mp.weixin.qq.com/s/s9jburcC4WaOO_0ce54-Rg) |\\n|   Game21  |  whacamole                |  打地鼠                 |   [click](./cpgames/core/games/whacamole)                |   [click](https://mp.weixin.qq.com/s/OFtW2Lx5i0Y9GXrF_PyqaA) |\\n|   Game22  |  gobang                   |  五子棋小游戏           |   [click](./cpgames/core/games/gobang)                   |   [click](https://mp.weixin.qq.com/s/79aBuK_EytVAbDp5hY8cHA) |\\n|   Game23  |  twozerofoureight         |  2048小游戏             |   [click](./cpgames/core/games/twozerofoureight)         |   [click](https://mp.weixin.qq.com/s/WJhg4J0MuuEcmDasRzuE9Q) |\\n|   Game24  |  greedysnake              |  贪吃蛇小游戏           |   [click](./cpgames/core/games/greedysnake)              |   [click](https://mp.weixin.qq.com/s/YdRLYz4BnfgRZMYqKvDnRA) |\\n|   Game25  |  minesweeper              |  扫雷小游戏             |   [click](./cpgames/core/games/minesweeper)              |   [click](https://mp.weixin.qq.com/s/O2nKNsWUigrKomW3l29Zlw) |\\n|   Game26  |  angrybirds               |  愤怒的小鸟             |   [click](./cpgames/core/games/angrybirds)               |   [click](https://mp.weixin.qq.com/s/-Z_4PEF7f3ZS1CKd9D6Brg) |\\n|   Game27  |  flipcardbymemory         |  记忆翻牌小游戏         |   [click](./cpgames/core/games/flipcardbymemory)         |   [click](https://mp.weixin.qq.com/s/H5UisWDWubdaQEBo-sH6iA) |\\n|   Game28  |  magictower               |  魔塔小游戏             |   [click](./cpgames/core/games/magictower)               |   [click]()                                                  |\\n|   Game29  |  bloodfootball            |  热血足球小游戏         |   [click](./cpgames/core/games/bloodfootball)            |   [click](https://mp.weixin.qq.com/s/DKLs0y-yXkkQbcXcdlQu3w) |\\n\\n\\n# Install\\n\\n#### Whl install\\n```sh\\nwget https://github.com/CharlesPikachu/Games/releases/download/v0.1.2/cpgames-0.1.2-py3-none-any.whl\\npip install cpgames-0.1.2-py3-none-any.whl\\n```\\n\\n#### Pip install\\n```\\nrun \"pip install cpgames\"\\n```\\n\\n#### Source code install\\n```sh\\n(1) Offline\\nStep1: git clone https://github.com/CharlesPikachu/Games.git\\nStep2: cd Games -> run \"python setup.py install\"\\n(2) Online\\nrun \"pip install git+https://github.com/CharlesPikachu/Games.git@master\"\\n```\\n\\n\\n# Quick Start\\n```python\\nimport random\\nfrom cpgames import cpgames\\n\\ngame_client = cpgames.CPGames()\\nall_supports = game_client.getallsupported()\\ngame_client.execute(random.choice(list(all_supports.values())))\\n```\\n\\n\\n# Screenshot\\n![img](./docs/screenshot.gif)\\n\\n\\n# Projects in Charles_pikachu\\n- [Games](https://github.com/CharlesPikachu/Games): Create interesting games by pure python.\\n- [DecryptLogin](https://github.com/CharlesPikachu/DecryptLogin): APIs for loginning some websites by using requests.\\n- [Musicdl](https://github.com/CharlesPikachu/musicdl): A lightweight music downloader written by pure python.\\n- [Videodl](https://github.com/CharlesPikachu/videodl): A lightweight video downloader written by pure python.\\n- [Pytools](https://github.com/CharlesPikachu/pytools): Some useful tools written by pure python.\\n- [PikachuWeChat](https://github.com/CharlesPikachu/pikachuwechat): Play WeChat with itchat-uos.\\n- [Pydrawing](https://github.com/CharlesPikachu/pydrawing): Beautify your image or video.\\n- [ImageCompressor](https://github.com/CharlesPikachu/imagecompressor): Image compressors written by pure python.\\n- [FreeProxy](https://github.com/CharlesPikachu/freeproxy): Collecting free proxies from internet.\\n- [Paperdl](https://github.com/CharlesPikachu/paperdl): Search and download paper from specific websites.\\n- [Sciogovterminal](https://github.com/CharlesPikachu/sciogovterminal): Browse \"The State Council Information Office of the People\\'s Republic of China\" in the terminal.\\n- [CodeFree](https://github.com/CharlesPikachu/codefree): Make no code a reality.\\n- [DeepLearningToys](https://github.com/CharlesPikachu/deeplearningtoys): Some deep learning toys implemented in pytorch.\\n- [DataAnalysis](https://github.com/CharlesPikachu/dataanalysis): Some data analysis projects in charles_pikachu.\\n- [Imagedl](https://github.com/CharlesPikachu/imagedl): Search and download images from specific websites.\\n- [Pytoydl](https://github.com/CharlesPikachu/pytoydl): A toy deep learning framework built upon numpy.\\n- [NovelDL](https://github.com/CharlesPikachu/noveldl): Search and download novels from some specific websites.\\n\\n\\n# Citation\\nIf you use this project in your research, please cite this project.\\n```\\n@misc{games2020,\\n    author = {Zhenchao Jin},\\n    title = {Games: Create interesting games by pure python},\\n    year = {2020},\\n    publisher = {GitHub},\\n    journal = {GitHub repository},\\n    howpublished = {\\\\url{https://github.com/CharlesPikachu/Games}},\\n}\\n```\\n\\n\\n# More\\n\\n#### WeChat Official Accounts\\n*Charles_pikachu*  \\n![img](./docs/pikachu.jpg)'}]"
      ]
     },
     "execution_count": 4,
     "metadata": {},
     "output_type": "execute_result"
    }
   ],
   "source": [
    "data[0:2]"
   ]
  },
  {
   "cell_type": "code",
   "execution_count": 5,
   "id": "b6251450",
   "metadata": {},
   "outputs": [
    {
     "data": {
      "text/html": [
       "<div>\n",
       "<style scoped>\n",
       "    .dataframe tbody tr th:only-of-type {\n",
       "        vertical-align: middle;\n",
       "    }\n",
       "\n",
       "    .dataframe tbody tr th {\n",
       "        vertical-align: top;\n",
       "    }\n",
       "\n",
       "    .dataframe thead th {\n",
       "        text-align: right;\n",
       "    }\n",
       "</style>\n",
       "<table border=\"1\" class=\"dataframe\">\n",
       "  <thead>\n",
       "    <tr style=\"text-align: right;\">\n",
       "      <th></th>\n",
       "      <th>repo</th>\n",
       "      <th>language</th>\n",
       "      <th>readme_contents</th>\n",
       "    </tr>\n",
       "  </thead>\n",
       "  <tbody>\n",
       "    <tr>\n",
       "      <th>0</th>\n",
       "      <td>leereilly/games</td>\n",
       "      <td>None</td>\n",
       "      <td># Games on GitHub &lt;img src=\"http://i.imgur.com...</td>\n",
       "    </tr>\n",
       "    <tr>\n",
       "      <th>1</th>\n",
       "      <td>CharlesPikachu/Games</td>\n",
       "      <td>Python</td>\n",
       "      <td>&lt;div align=\"center\"&gt;\\n  &lt;img src=\"./docs/logo....</td>\n",
       "    </tr>\n",
       "    <tr>\n",
       "      <th>2</th>\n",
       "      <td>channingbreeze/games</td>\n",
       "      <td>JavaScript</td>\n",
       "      <td>### 基于Phaser的小游戏集\\n这是一个基于Phaser的小游戏集，目的是方便大家学习...</td>\n",
       "    </tr>\n",
       "    <tr>\n",
       "      <th>3</th>\n",
       "      <td>arcxingye/EatKano</td>\n",
       "      <td>JavaScript</td>\n",
       "      <td>&lt;p align=\"center\"&gt;\\n  &lt;a href=\"https://xingye....</td>\n",
       "    </tr>\n",
       "    <tr>\n",
       "      <th>4</th>\n",
       "      <td>coding-horror/basic-computer-games</td>\n",
       "      <td>C#</td>\n",
       "      <td>### What are we doing?\\n\\nWe’re updating the f...</td>\n",
       "    </tr>\n",
       "  </tbody>\n",
       "</table>\n",
       "</div>"
      ],
      "text/plain": [
       "                                 repo    language  \\\n",
       "0                     leereilly/games        None   \n",
       "1                CharlesPikachu/Games      Python   \n",
       "2                channingbreeze/games  JavaScript   \n",
       "3                   arcxingye/EatKano  JavaScript   \n",
       "4  coding-horror/basic-computer-games          C#   \n",
       "\n",
       "                                     readme_contents  \n",
       "0  # Games on GitHub <img src=\"http://i.imgur.com...  \n",
       "1  <div align=\"center\">\\n  <img src=\"./docs/logo....  \n",
       "2  ### 基于Phaser的小游戏集\\n这是一个基于Phaser的小游戏集，目的是方便大家学习...  \n",
       "3  <p align=\"center\">\\n  <a href=\"https://xingye....  \n",
       "4  ### What are we doing?\\n\\nWe’re updating the f...  "
      ]
     },
     "execution_count": 5,
     "metadata": {},
     "output_type": "execute_result"
    }
   ],
   "source": [
    "#convert to df\n",
    "df = pd.DataFrame(data)\n",
    "df.head()"
   ]
  },
  {
   "cell_type": "code",
   "execution_count": 6,
   "id": "d7adf4f3",
   "metadata": {},
   "outputs": [],
   "source": [
    "df.rename(columns={'readme_contents':'content'},inplace=True)"
   ]
  },
  {
   "cell_type": "code",
   "execution_count": 7,
   "id": "bbbfe72f",
   "metadata": {},
   "outputs": [
    {
     "name": "stdout",
     "output_type": "stream",
     "text": [
      "<class 'pandas.core.frame.DataFrame'>\n",
      "RangeIndex: 477 entries, 0 to 476\n",
      "Data columns (total 3 columns):\n",
      " #   Column    Non-Null Count  Dtype \n",
      "---  ------    --------------  ----- \n",
      " 0   repo      477 non-null    object\n",
      " 1   language  434 non-null    object\n",
      " 2   content   477 non-null    object\n",
      "dtypes: object(3)\n",
      "memory usage: 11.3+ KB\n"
     ]
    }
   ],
   "source": [
    "df.info()"
   ]
  },
  {
   "cell_type": "code",
   "execution_count": 8,
   "id": "b259e060",
   "metadata": {},
   "outputs": [
    {
     "name": "stdout",
     "output_type": "stream",
     "text": [
      "<class 'pandas.core.frame.DataFrame'>\n",
      "Int64Index: 434 entries, 1 to 475\n",
      "Data columns (total 3 columns):\n",
      " #   Column    Non-Null Count  Dtype \n",
      "---  ------    --------------  ----- \n",
      " 0   repo      434 non-null    object\n",
      " 1   language  434 non-null    object\n",
      " 2   content   434 non-null    object\n",
      "dtypes: object(3)\n",
      "memory usage: 13.6+ KB\n"
     ]
    }
   ],
   "source": [
    "df.dropna(axis=0,inplace=True)\n",
    "df.info()"
   ]
  },
  {
   "cell_type": "code",
   "execution_count": 9,
   "id": "a4db84ba",
   "metadata": {},
   "outputs": [
    {
     "data": {
      "text/plain": [
       "JavaScript           90\n",
       "C++                  65\n",
       "Python               59\n",
       "C#                   44\n",
       "C                    31\n",
       "Java                 29\n",
       "TypeScript           18\n",
       "HTML                 17\n",
       "PHP                   8\n",
       "Rust                  7\n",
       "Shell                 6\n",
       "Lua                   6\n",
       "Go                    5\n",
       "Ruby                  5\n",
       "Jupyter Notebook      5\n",
       "Dart                  5\n",
       "Haxe                  4\n",
       "ActionScript          3\n",
       "Kotlin                3\n",
       "Swift                 2\n",
       "Batchfile             2\n",
       "Vue                   2\n",
       "Visual Basic .NET     1\n",
       "Clojure               1\n",
       "R                     1\n",
       "Logos                 1\n",
       "Perl                  1\n",
       "CSS                   1\n",
       "Racket                1\n",
       "Elm                   1\n",
       "MATLAB                1\n",
       "SourcePawn            1\n",
       "Pascal                1\n",
       "CMake                 1\n",
       "Vala                  1\n",
       "PowerShell            1\n",
       "Erlang                1\n",
       "GLSL                  1\n",
       "Objective-C           1\n",
       "GDScript              1\n",
       "Name: language, dtype: int64"
      ]
     },
     "execution_count": 9,
     "metadata": {},
     "output_type": "execute_result"
    }
   ],
   "source": [
    "df.language.value_counts()"
   ]
  },
  {
   "cell_type": "code",
   "execution_count": 15,
   "id": "06630ea3",
   "metadata": {},
   "outputs": [],
   "source": [
    "test_df = df.copy()"
   ]
  },
  {
   "cell_type": "code",
   "execution_count": 16,
   "id": "315dbffc",
   "metadata": {},
   "outputs": [
    {
     "data": {
      "text/plain": [
       "pandas.core.series.Series"
      ]
     },
     "execution_count": 16,
     "metadata": {},
     "output_type": "execute_result"
    }
   ],
   "source": [
    "vc = test_df.language.value_counts()\n",
    "type(vc)"
   ]
  },
  {
   "cell_type": "code",
   "execution_count": 29,
   "id": "a1207145",
   "metadata": {},
   "outputs": [],
   "source": [
    "keep_lang = vc[vc>=10].index.tolist()"
   ]
  },
  {
   "cell_type": "code",
   "execution_count": 30,
   "id": "cb89c96f",
   "metadata": {},
   "outputs": [
    {
     "data": {
      "text/plain": [
       "8"
      ]
     },
     "execution_count": 30,
     "metadata": {},
     "output_type": "execute_result"
    }
   ],
   "source": [
    "len(keep_lang)"
   ]
  },
  {
   "cell_type": "code",
   "execution_count": 31,
   "id": "30c17c1a",
   "metadata": {},
   "outputs": [
    {
     "data": {
      "text/plain": [
       "['JavaScript', 'C++', 'Python', 'C#', 'C']"
      ]
     },
     "execution_count": 31,
     "metadata": {},
     "output_type": "execute_result"
    }
   ],
   "source": [
    "keep_lang[0:5]"
   ]
  },
  {
   "cell_type": "code",
   "execution_count": 34,
   "id": "d73f4457",
   "metadata": {},
   "outputs": [
    {
     "data": {
      "text/plain": [
       "JavaScript    90\n",
       "C++           65\n",
       "Python        59\n",
       "C#            44\n",
       "C             31\n",
       "Java          29\n",
       "TypeScript    18\n",
       "HTML          17\n",
       "Name: language, dtype: int64"
      ]
     },
     "execution_count": 34,
     "metadata": {},
     "output_type": "execute_result"
    }
   ],
   "source": [
    "test_df[test_df.language.isin(keep_lang)].language.value_counts()"
   ]
  },
  {
   "cell_type": "code",
   "execution_count": null,
   "id": "0fdd47a0",
   "metadata": {},
   "outputs": [],
   "source": []
  },
  {
   "cell_type": "code",
   "execution_count": 10,
   "id": "4e0547b3",
   "metadata": {
    "scrolled": true
   },
   "outputs": [
    {
     "data": {
      "text/plain": [
       "'\\nRecast & Detour\\n===============\\n\\n[![Travis (Linux) Build Status](https://travis-ci.org/recastnavigation/recastnavigation.svg?branch=master)](https://travis-ci.org/recastnavigation/recastnavigation)\\n[![Appveyor (Windows) Build  Status](https://ci.appveyor.com/api/projects/status/20w84u25b3f8h179/branch/master?svg=true)](https://ci.appveyor.com/project/recastnavigation/recastnavigation/branch/master)\\n\\n![screenshot of a navmesh baked with the sample program](/RecastDemo/screenshot.png?raw=true)\\n\\n## Recast\\n\\nRecast is state of the art navigation mesh construction toolset for games.\\n\\n* It is automatic, which means that you can throw any level geometry at it and you will get robust mesh out\\n* It is fast which means swift turnaround times for level designers\\n* It is open source so it comes with full source and you can customize it to your heart\\'s content. \\n\\nThe Recast process starts with constructing a voxel mold from a level geometry \\nand then casting a navigation mesh over it. The process consists of three steps, \\nbuilding the voxel mold, partitioning the mold into simple regions, peeling off \\nthe regions as simple polygons.\\n\\n1. The voxel mold is built from the input triangle mesh by rasterizing the triangles into a multi-layer heightfield. Some simple filters are  then applied to the mold to prune out locations where the character would not be able to move.\\n2. The walkable areas described by the mold are divided into simple overlayed 2D regions. The resulting regions have only one non-overlapping contour, which simplifies the final step of the process tremendously.\\n3. The navigation polygons are peeled off from the regions by first tracing the boundaries and then simplifying them. The resulting polygons are finally converted to convex polygons which makes them perfect for pathfinding and spatial reasoning about the level. \\n\\n\\n## Detour\\n\\nRecast is accompanied with Detour, path-finding and spatial reasoning toolkit. You can use any navigation mesh with Detour, but of course the data generated with Recast fits perfectly.\\n\\nDetour offers simple static navigation mesh which is suitable for many simple cases, as well as tiled navigation mesh which allows you to plug in and out pieces of the mesh. The tiled mesh allows you to create systems where you stream new navigation data in and out as the player progresses the level, or you may regenerate tiles as the world changes. \\n\\n\\n## Recast Demo\\n\\nYou can find a comprehensive demo project in RecastDemo folder. It is a kitchen sink demo containing all the functionality of the library. If you are new to Recast & Detour, check out [Sample_SoloMesh.cpp](/RecastDemo/Source/Sample_SoloMesh.cpp) to get started with building navmeshes and [NavMeshTesterTool.cpp](/RecastDemo/Source/NavMeshTesterTool.cpp) to see how Detour can be used to find paths.\\n\\n### Building RecastDemo\\n\\nRecastDemo uses [premake5](http://premake.github.io/) to build platform specific projects. Download it and make sure it\\'s available on your path, or specify the path to it.\\n\\n#### Linux\\n\\n- Install SDL2 and its dependencies according to your distro\\'s guidelines.\\n- run `premake5 gmake` from the `RecastDemo` folder.\\n- `cd Build/gmake` then `make`\\n- `cd RecastDemo/Bin` and then run `./RecastDemo`\\n\\n#### OSX\\n\\n- Grab the latest SDL2 development library dmg from [here](https://www.libsdl.org/download-2.0.php) and place `SDL2.framework` in `/Library/Frameworks/`\\n- Navigate to the `RecastDemo` folder and run `premake5 xcode4`\\n- Open `Build/xcode4/recastnavigation.xcworkspace`\\n- Select the \"RecastDemo\" project in the left pane, go to the \"BuildPhases\" tab and expand \"Link Binary With Libraries\"\\n- Remove the existing entry for SDL2 (it should have a white box icon) and re-add it by hitting the plus, selecting \"Add Other\", and selecting `/Library/Frameworks/SDL2.framework`.  It should now have a suitcase icon.\\n- Set the RecastDemo project as the target and build.\\n\\n#### Windows\\n\\n- Grab the latest SDL2 development library release from [here](https://www.libsdl.org/download-2.0.php) and unzip it `RecastDemo\\\\Contrib`.  Rename the SDL folder such that the path `RecastDemo\\\\Contrib\\\\SDL\\\\lib\\\\x86` is valid.\\n- Run `\"premake5\" vs2019` from the `RecastDemo` folder\\n- Open the solution, build, and run.\\n\\n### Running Unit tests\\n\\n- Follow the instructions to build RecastDemo above.  Premake should generate another build target called \"Tests\".\\n- Build the \"Tests\" project.  This will generate an executable named \"Tests\" in `RecastDemo/Bin/`\\n- Run the \"Tests\" executable.  It will execute all the unit tests, indicate those that failed, and display a count of those that succeeded.\\n\\n## Integrating with your own project\\n\\nIt is recommended to add the source directories `DebugUtils`, `Detour`, `DetourCrowd`, `DetourTileCache`, and `Recast` into your own project depending on which parts of the project you need. For example your level building tool could include `DebugUtils`, `Recast`, and `Detour`, and your game runtime could just include `Detour`.\\n\\n## Contributing\\n\\nSee the [Contributing document](CONTRIBUTING.md) for guidelines for making contributions.\\n\\n## Discuss\\n\\n- Discuss Recast & Detour: http://groups.google.com/group/recastnavigation\\n- Development blog: http://digestingduck.blogspot.com/\\n\\n## License\\n\\nRecast & Detour is licensed under ZLib license, see License.txt for more information.\\n'"
      ]
     },
     "execution_count": 10,
     "metadata": {},
     "output_type": "execute_result"
    }
   ],
   "source": [
    "df.content[7]"
   ]
  },
  {
   "cell_type": "code",
   "execution_count": 11,
   "id": "0d4f53b1",
   "metadata": {},
   "outputs": [],
   "source": [
    "df.content = df.content.apply(prep.basic_clean)"
   ]
  },
  {
   "cell_type": "code",
   "execution_count": 12,
   "id": "c0fda182",
   "metadata": {},
   "outputs": [
    {
     "data": {
      "text/plain": [
       "\"recast  detour   travis linux build status appveyor windows build  status  screenshot of a navmesh baked with the sample programrecastdemoscreenshotpngrawtrue recast  recast is state of the art navigation mesh construction toolset for games   it is automatic which means that you can throw any level geometry at it and you will get robust mesh out  it is fast which means swift turnaround times for level designers  it is open source so it comes with full source and you can customize it to your heart's content   the recast process starts with constructing a voxel mold from a level geometry  and then casting a navigation mesh over it the process consists of three steps  building the voxel mold partitioning the mold into simple regions peeling off  the regions as simple polygons  1 the voxel mold is built from the input triangle mesh by rasterizing the triangles into a multilayer heightfield some simple filters are  then applied to the mold to prune out locations where the character would not be able to move 2 the walkable areas described by the mold are divided into simple overlayed 2d regions the resulting regions have only one nonoverlapping contour which simplifies the final step of the process tremendously 3 the navigation polygons are peeled off from the regions by first tracing the boundaries and then simplifying them the resulting polygons are finally converted to convex polygons which makes them perfect for pathfinding and spatial reasoning about the level   detour  recast is accompanied with detour pathfinding and spatial reasoning toolkit you can use any navigation mesh with detour but of course the data generated with recast fits perfectly  detour offers simple static navigation mesh which is suitable for many simple cases as well as tiled navigation mesh which allows you to plug in and out pieces of the mesh the tiled mesh allows you to create systems where you stream new navigation data in and out as the player progresses the level or you may regenerate tiles as the world changes   recast demo  you can find a comprehensive demo project in recastdemo folder it is a kitchen sink demo containing all the functionality of the library if you are new to recast  detour check out samplesolomeshcpprecastdemosourcesamplesolomeshcpp to get started with building navmeshes and navmeshtestertoolcpprecastdemosourcenavmeshtestertoolcpp to see how detour can be used to find paths building recastdemo  recastdemo uses premake5 to build platform specific projects download it and make sure it's available on your path or specify the path to it linux   install sdl2 and its dependencies according to your distro's guidelines  run premake5 gmake from the recastdemo folder  cd buildgmake then make  cd recastdemobin and then run recastdemo osx   grab the latest sdl2 development library dmg from here and place sdl2framework in libraryframeworks  navigate to the recastdemo folder and run premake5 xcode4  open buildxcode4recastnavigationxcworkspace  select the recastdemo project in the left pane go to the buildphases tab and expand link binary with libraries  remove the existing entry for sdl2 it should have a white box icon and readd it by hitting the plus selecting add other and selecting libraryframeworkssdl2framework  it should now have a suitcase icon  set the recastdemo project as the target and build windows   grab the latest sdl2 development library release from here and unzip it recastdemocontrib  rename the sdl folder such that the path recastdemocontribsdllibx86 is valid  run premake5 vs2019 from the recastdemo folder  open the solution build and run running unit tests   follow the instructions to build recastdemo above  premake should generate another build target called tests  build the tests project  this will generate an executable named tests in recastdemobin  run the tests executable  it will execute all the unit tests indicate those that failed and display a count of those that succeeded integrating with your own project  it is recommended to add the source directories debugutils detour detourcrowd detourtilecache and recast into your own project depending on which parts of the project you need for example your level building tool could include debugutils recast and detour and your game runtime could just include detour contributing  see the contributing documentcontributingmd for guidelines for making contributions discuss   discuss recast  detour httpgroupsgooglecomgrouprecastnavigation  development blog httpdigestingduckblogspotcom license  recast  detour is licensed under zlib license see licensetxt for more information\""
      ]
     },
     "execution_count": 12,
     "metadata": {},
     "output_type": "execute_result"
    }
   ],
   "source": [
    "df.content[7]"
   ]
  },
  {
   "cell_type": "markdown",
   "id": "787c83ac",
   "metadata": {},
   "source": [
    "### Prepare:\n",
    "- convert to DF format\n",
    "- drop any rows w/o a language\n",
    "- On the contents:\n",
    "  - unicode\n",
    "  - extra characters - Leave them in for now\n",
    "  - tokenization\n",
    "  - lemmatize\n",
    "  - remove stopwords - iterate later\n",
    "- save as csv"
   ]
  },
  {
   "cell_type": "code",
   "execution_count": 13,
   "id": "f6a5fb98",
   "metadata": {},
   "outputs": [],
   "source": [
    "def get_json_data():\n",
    "    '''\n",
    "    Retrieves json data.  Returns List of Dictionaries\n",
    "    '''\n",
    "    #open json file\n",
    "    f = open('data2.json')\n",
    "    #get data\n",
    "    data = json.loads(f.read())\n",
    "    #close json file\n",
    "    f.close()\n",
    "    return data\n",
    "\n",
    "def prep_data():\n",
    "    '''\n",
    "    Prepares the Github Readme data for exploration and modeling.\n",
    "    \n",
    "    Outputs: Pandas DataFrame\n",
    "    '''\n",
    "    #retrieve stored data\n",
    "    data = get_json_data()\n",
    "    #Convert to DataFrame\n",
    "    df = pd.DataFrame(data)\n",
    "    #rename readme_contents column\n",
    "    df.rename(columns={'readme_contents':'content'},inplace=True)\n",
    "    #drop rows with nulls\n",
    "    df.dropna(axis=0,inplace=True)\n",
    "    \n",
    "    #Do a Basic Clean - lowercase, unicode, ascii, some special character removal\n",
    "    df.content = df.content.apply(prep.basic_clean)\n",
    "    #tokenize\n",
    "    df.content = df.content.apply(prep.tokenize)\n",
    "    #remove stopwords\n",
    "    df.content = df.content.apply(prep.remove_stopwords)\n",
    "    #lemmatize\n",
    "    df.content = df.content.apply(prep.lemmatize)\n",
    "    \n",
    "    return df\n",
    "    \n",
    "    \n",
    "    "
   ]
  },
  {
   "cell_type": "code",
   "execution_count": 14,
   "id": "da7c40ae",
   "metadata": {},
   "outputs": [
    {
     "data": {
      "text/plain": [
       "\"recast detour travis linux build status appveyor window build status screenshot navmesh baked sample programrecastdemoscreenshotpngrawtrue recast recast state art navigation mesh construction toolset game automatic mean throw level geometry get robust mesh fast mean swift turnaround time level designer open source come full source customize heart ' content recast process start constructing voxel mold level geometry casting navigation mesh process consists three step building voxel mold partitioning mold simple region peeling region simple polygon 1 voxel mold built input triangle mesh rasterizing triangle multilayer heightfield simple filter applied mold prune location character would able move 2 walkable area described mold divided simple overlayed 2d region resulting region one nonoverlapping contour simplifies final step process tremendously 3 navigation polygon peeled region first tracing boundary simplifying resulting polygon finally converted convex polygon make perfect pathfinding spatial reasoning level detour recast accompanied detour pathfinding spatial reasoning toolkit use navigation mesh detour course data generated recast fit perfectly detour offer simple static navigation mesh suitable many simple case well tiled navigation mesh allows plug piece mesh tiled mesh allows create system stream new navigation data player progress level may regenerate tile world change recast demo find comprehensive demo project recastdemo folder kitchen sink demo containing functionality library new recast detour check samplesolomeshcpprecastdemosourcesamplesolomeshcpp get started building navmeshes navmeshtestertoolcpprecastdemosourcenavmeshtestertoolcpp see detour used find path building recastdemo recastdemo us premake5 build platform specific project download make sure ' available path specify path linux install sdl2 dependency according distro ' guideline run premake5 gmake recastdemo folder cd buildgmake make cd recastdemobin run recastdemo osx grab latest sdl2 development library dmg place sdl2framework libraryframeworks navigate recastdemo folder run premake5 xcode4 open buildxcode4recastnavigationxcworkspace select recastdemo project left pane go buildphases tab expand link binary library remove existing entry sdl2 white box icon readd hitting plus selecting add selecting libraryframeworkssdl2framework suitcase icon set recastdemo project target build window grab latest sdl2 development library release unzip recastdemocontrib rename sdl folder path recastdemocontribsdllibx86 valid run premake5 vs2019 recastdemo folder open solution build run running unit test follow instruction build recastdemo premake generate another build target called test build test project generate executable named test recastdemobin run test executable execute unit test indicate failed display count succeeded integrating project recommended add source directory debugutils detour detourcrowd detourtilecache recast project depending part project need example level building tool could include debugutils recast detour game runtime could include detour contributing see contributing documentcontributingmd guideline making contribution discus discus recast detour httpgroupsgooglecomgrouprecastnavigation development blog httpdigestingduckblogspotcom license recast detour licensed zlib license see licensetxt information\""
      ]
     },
     "execution_count": 14,
     "metadata": {},
     "output_type": "execute_result"
    }
   ],
   "source": [
    "test = prep_data()\n",
    "test.content[7]"
   ]
  },
  {
   "cell_type": "markdown",
   "id": "86abe672",
   "metadata": {},
   "source": [
    "### Hypothesis\n",
    "- Library names in the readme will help indicate language\n",
    "  - EX: Pandas will be an indicator of Python\n",
    "- Words like 'analysis' or 'most popular' will be used with Python, R and other common DA languages\n",
    "  - as opposed to C++, C#, etc\n",
    "\n",
    "### Explore:\n",
    "- What is the target variable distribution?\n",
    "- For each of the top 5 languages, what are the most common words?\n",
    "  - table, wordcloud\n",
    "- For each of the top 5 languages, what are the common bigrams\n",
    "  - table, barchart, wordcloud\n",
    "- Visualize off of TF & TF-IDf\n",
    "  \n",
    "### Modeling\n",
    "- Goal: predict language based off readme contents\n",
    "- Get the TF-IDF stuff\n",
    "- Do 3 classification models"
   ]
  }
 ],
 "metadata": {
  "kernelspec": {
   "display_name": "Python 3 (ipykernel)",
   "language": "python",
   "name": "python3"
  },
  "language_info": {
   "codemirror_mode": {
    "name": "ipython",
    "version": 3
   },
   "file_extension": ".py",
   "mimetype": "text/x-python",
   "name": "python",
   "nbconvert_exporter": "python",
   "pygments_lexer": "ipython3",
   "version": "3.9.7"
  }
 },
 "nbformat": 4,
 "nbformat_minor": 5
}
