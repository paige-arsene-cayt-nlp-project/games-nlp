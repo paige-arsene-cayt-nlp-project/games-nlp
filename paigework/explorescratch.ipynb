{
 "cells": [
  {
   "cell_type": "code",
   "execution_count": 1,
   "id": "2ab964de",
   "metadata": {},
   "outputs": [],
   "source": [
    "import re\n",
    "import unicodedata\n",
    "import pandas as pd\n",
    "import nltk\n",
    "from wordcloud import WordCloud\n",
    "from nltk.tokenize.toktok import ToktokTokenizer\n",
    "from nltk.corpus import stopwords\n",
    "from sklearn.model_selection import train_test_split\n",
    "\n",
    "import matplotlib.pyplot as plt\n",
    "import seaborn as sns\n",
    "\n",
    "import warnings\n",
    "warnings.filterwarnings('ignore')\n",
    "\n",
    "import env\n",
    "import acquire2\n",
    "import prepare"
   ]
  },
  {
   "cell_type": "code",
   "execution_count": 2,
   "id": "37698e78",
   "metadata": {},
   "outputs": [
    {
     "data": {
      "text/html": [
       "<div>\n",
       "<style scoped>\n",
       "    .dataframe tbody tr th:only-of-type {\n",
       "        vertical-align: middle;\n",
       "    }\n",
       "\n",
       "    .dataframe tbody tr th {\n",
       "        vertical-align: top;\n",
       "    }\n",
       "\n",
       "    .dataframe thead th {\n",
       "        text-align: right;\n",
       "    }\n",
       "</style>\n",
       "<table border=\"1\" class=\"dataframe\">\n",
       "  <thead>\n",
       "    <tr style=\"text-align: right;\">\n",
       "      <th></th>\n",
       "      <th>repo</th>\n",
       "      <th>language</th>\n",
       "      <th>content</th>\n",
       "    </tr>\n",
       "  </thead>\n",
       "  <tbody>\n",
       "    <tr>\n",
       "      <th>1</th>\n",
       "      <td>CharlesPikachu/Games</td>\n",
       "      <td>Python</td>\n",
       "      <td>div aligncenter img srcdocslogopng width600 di...</td>\n",
       "    </tr>\n",
       "    <tr>\n",
       "      <th>2</th>\n",
       "      <td>channingbreeze/games</td>\n",
       "      <td>JavaScript</td>\n",
       "      <td>### phaser phaserphaserphaserhttpwwwphaserchin...</td>\n",
       "    </tr>\n",
       "    <tr>\n",
       "      <th>3</th>\n",
       "      <td>arcxingye/EatKano</td>\n",
       "      <td>JavaScript</td>\n",
       "      <td>p aligncenter hrefhttpsxingyemegameeatkanoimg ...</td>\n",
       "    </tr>\n",
       "    <tr>\n",
       "      <th>4</th>\n",
       "      <td>coding-horror/basic-computer-games</td>\n",
       "      <td>C#</td>\n",
       "      <td>### updating first million selling computer bo...</td>\n",
       "    </tr>\n",
       "    <tr>\n",
       "      <th>5</th>\n",
       "      <td>rwv/chinese-dos-games</td>\n",
       "      <td>Python</td>\n",
       "      <td># do do 1898 python 3 python python downloadda...</td>\n",
       "    </tr>\n",
       "  </tbody>\n",
       "</table>\n",
       "</div>"
      ],
      "text/plain": [
       "                                 repo    language  \\\n",
       "1                CharlesPikachu/Games      Python   \n",
       "2                channingbreeze/games  JavaScript   \n",
       "3                   arcxingye/EatKano  JavaScript   \n",
       "4  coding-horror/basic-computer-games          C#   \n",
       "5               rwv/chinese-dos-games      Python   \n",
       "\n",
       "                                             content  \n",
       "1  div aligncenter img srcdocslogopng width600 di...  \n",
       "2  ### phaser phaserphaserphaserhttpwwwphaserchin...  \n",
       "3  p aligncenter hrefhttpsxingyemegameeatkanoimg ...  \n",
       "4  ### updating first million selling computer bo...  \n",
       "5  # do do 1898 python 3 python python downloadda...  "
      ]
     },
     "execution_count": 2,
     "metadata": {},
     "output_type": "execute_result"
    }
   ],
   "source": [
    "df = prepare.prep_data()\n",
    "df.head(5)"
   ]
  },
  {
   "cell_type": "code",
   "execution_count": 3,
   "id": "3f8ff1c4",
   "metadata": {},
   "outputs": [
    {
     "name": "stdout",
     "output_type": "stream",
     "text": [
      "<class 'pandas.core.frame.DataFrame'>\n",
      "Int64Index: 353 entries, 1 to 475\n",
      "Data columns (total 3 columns):\n",
      " #   Column    Non-Null Count  Dtype \n",
      "---  ------    --------------  ----- \n",
      " 0   repo      353 non-null    object\n",
      " 1   language  353 non-null    object\n",
      " 2   content   353 non-null    object\n",
      "dtypes: object(3)\n",
      "memory usage: 11.0+ KB\n"
     ]
    }
   ],
   "source": [
    "df.info()"
   ]
  },
  {
   "cell_type": "code",
   "execution_count": 4,
   "id": "2b57ffb2",
   "metadata": {},
   "outputs": [],
   "source": [
    "def split_data(df):\n",
    "    '''\n",
    "    This function performs split on game data, stratify language.\n",
    "    Returns train, validate, and test dfs. It is an all-in-all function.\n",
    "    '''\n",
    "    train_validate, test = train_test_split(df, test_size=.2, \n",
    "                                        random_state=123, \n",
    "                                        stratify=df.language)\n",
    "    train, validate = train_test_split(train_validate, test_size=.3, \n",
    "                                   random_state=123, \n",
    "                                   stratify=train_validate.language)\n",
    "    return train, validate, test\n"
   ]
  },
  {
   "cell_type": "code",
   "execution_count": 5,
   "id": "29c985d5",
   "metadata": {},
   "outputs": [],
   "source": [
    "train, validate, test = split_data(df)"
   ]
  },
  {
   "cell_type": "code",
   "execution_count": 6,
   "id": "f77d18a2",
   "metadata": {},
   "outputs": [
    {
     "data": {
      "text/plain": [
       "(197, 3)"
      ]
     },
     "execution_count": 6,
     "metadata": {},
     "output_type": "execute_result"
    }
   ],
   "source": [
    "train.shape"
   ]
  },
  {
   "cell_type": "code",
   "execution_count": 7,
   "id": "8c18fb1f",
   "metadata": {},
   "outputs": [
    {
     "data": {
      "text/plain": [
       "(85, 3)"
      ]
     },
     "execution_count": 7,
     "metadata": {},
     "output_type": "execute_result"
    }
   ],
   "source": [
    "validate.shape"
   ]
  },
  {
   "cell_type": "code",
   "execution_count": 8,
   "id": "99b90e86",
   "metadata": {},
   "outputs": [
    {
     "data": {
      "text/plain": [
       "(71, 3)"
      ]
     },
     "execution_count": 8,
     "metadata": {},
     "output_type": "execute_result"
    }
   ],
   "source": [
    "test.shape"
   ]
  },
  {
   "cell_type": "code",
   "execution_count": 9,
   "id": "690e142a",
   "metadata": {},
   "outputs": [
    {
     "data": {
      "text/html": [
       "<div>\n",
       "<style scoped>\n",
       "    .dataframe tbody tr th:only-of-type {\n",
       "        vertical-align: middle;\n",
       "    }\n",
       "\n",
       "    .dataframe tbody tr th {\n",
       "        vertical-align: top;\n",
       "    }\n",
       "\n",
       "    .dataframe thead th {\n",
       "        text-align: right;\n",
       "    }\n",
       "</style>\n",
       "<table border=\"1\" class=\"dataframe\">\n",
       "  <thead>\n",
       "    <tr style=\"text-align: right;\">\n",
       "      <th></th>\n",
       "      <th>repo</th>\n",
       "      <th>language</th>\n",
       "      <th>content</th>\n",
       "    </tr>\n",
       "  </thead>\n",
       "  <tbody>\n",
       "    <tr>\n",
       "      <th>115</th>\n",
       "      <td>gameplay3d/gameplay</td>\n",
       "      <td>C++</td>\n",
       "      <td>img srchttpsrawgithubusercontentcomgameplay3dg...</td>\n",
       "    </tr>\n",
       "    <tr>\n",
       "      <th>395</th>\n",
       "      <td>rtait/github-games</td>\n",
       "      <td>HTML</td>\n",
       "      <td>## welcome github game project based learning ...</td>\n",
       "    </tr>\n",
       "    <tr>\n",
       "      <th>166</th>\n",
       "      <td>ChainSafe/web3.unity</td>\n",
       "      <td>C#</td>\n",
       "      <td>p aligncenter img srchttpsuserimagesgithubuser...</td>\n",
       "    </tr>\n",
       "    <tr>\n",
       "      <th>26</th>\n",
       "      <td>Ubpa/GAMES102</td>\n",
       "      <td>C++</td>\n",
       "      <td># game 102 0 game 102 game 102 ustcztmailustce...</td>\n",
       "    </tr>\n",
       "    <tr>\n",
       "      <th>162</th>\n",
       "      <td>Artikash/Textractor</td>\n",
       "      <td>C++</td>\n",
       "      <td># textractor looksscreenshotpng englishreadmem...</td>\n",
       "    </tr>\n",
       "    <tr>\n",
       "      <th>...</th>\n",
       "      <td>...</td>\n",
       "      <td>...</td>\n",
       "      <td>...</td>\n",
       "    </tr>\n",
       "    <tr>\n",
       "      <th>217</th>\n",
       "      <td>datamllab/rlcard</td>\n",
       "      <td>Python</td>\n",
       "      <td># rlcard toolkit reinforcement learning card g...</td>\n",
       "    </tr>\n",
       "    <tr>\n",
       "      <th>156</th>\n",
       "      <td>google/flatui</td>\n",
       "      <td>C++</td>\n",
       "      <td>flatui version 110 #flatuireadme welcome flatu...</td>\n",
       "    </tr>\n",
       "    <tr>\n",
       "      <th>116</th>\n",
       "      <td>Zulko/easyAI</td>\n",
       "      <td>Python</td>\n",
       "      <td>easyai easyai full documentation purepython ar...</td>\n",
       "    </tr>\n",
       "    <tr>\n",
       "      <th>158</th>\n",
       "      <td>yongzhidai/GameServer</td>\n",
       "      <td>Java</td>\n",
       "      <td># gameserver &amp;#9; src &amp;#9; dbsqlmapper mybaits...</td>\n",
       "    </tr>\n",
       "    <tr>\n",
       "      <th>153</th>\n",
       "      <td>AlmasB/FXGLGames</td>\n",
       "      <td>Java</td>\n",
       "      <td>repo contains sample game built hrefhttpsgithu...</td>\n",
       "    </tr>\n",
       "  </tbody>\n",
       "</table>\n",
       "<p>197 rows × 3 columns</p>\n",
       "</div>"
      ],
      "text/plain": [
       "                      repo language  \\\n",
       "115    gameplay3d/gameplay      C++   \n",
       "395     rtait/github-games     HTML   \n",
       "166   ChainSafe/web3.unity       C#   \n",
       "26           Ubpa/GAMES102      C++   \n",
       "162    Artikash/Textractor      C++   \n",
       "..                     ...      ...   \n",
       "217       datamllab/rlcard   Python   \n",
       "156          google/flatui      C++   \n",
       "116           Zulko/easyAI   Python   \n",
       "158  yongzhidai/GameServer     Java   \n",
       "153       AlmasB/FXGLGames     Java   \n",
       "\n",
       "                                               content  \n",
       "115  img srchttpsrawgithubusercontentcomgameplay3dg...  \n",
       "395  ## welcome github game project based learning ...  \n",
       "166  p aligncenter img srchttpsuserimagesgithubuser...  \n",
       "26   # game 102 0 game 102 game 102 ustcztmailustce...  \n",
       "162  # textractor looksscreenshotpng englishreadmem...  \n",
       "..                                                 ...  \n",
       "217  # rlcard toolkit reinforcement learning card g...  \n",
       "156  flatui version 110 #flatuireadme welcome flatu...  \n",
       "116  easyai easyai full documentation purepython ar...  \n",
       "158  # gameserver &#9; src &#9; dbsqlmapper mybaits...  \n",
       "153  repo contains sample game built hrefhttpsgithu...  \n",
       "\n",
       "[197 rows x 3 columns]"
      ]
     },
     "execution_count": 9,
     "metadata": {},
     "output_type": "execute_result"
    }
   ],
   "source": [
    "train"
   ]
  },
  {
   "cell_type": "markdown",
   "id": "7aa99768",
   "metadata": {},
   "source": [
    "What are the most common words in READMEs?"
   ]
  },
  {
   "cell_type": "code",
   "execution_count": 10,
   "id": "9a5ffb12",
   "metadata": {},
   "outputs": [
    {
     "data": {
      "image/png": "[encoded data removed]",
      "text/plain": [
       "<Figure size 432x288 with 1 Axes>"
      ]
     },
     "metadata": {},
     "output_type": "display_data"
    }
   ],
   "source": [
    "sns.set_theme(style=\"white\")\n",
    "ax = sns.countplot(x=\"language\", data=train, palette=\"Set2\",order = train['language'].value_counts().index)\n",
    "ax.tick_params(axis='x', rotation=90)\n",
    "ax.set_xlabel('Programming Language (Readme.md)', size = 16)\n",
    "ax.set_ylabel('Count / Frequency', size = 16)\n",
    "ax.set_title(\"Programming Language Distribution\", size = 20)\n",
    "plt.show()"
   ]
  },
  {
   "cell_type": "code",
   "execution_count": 11,
   "id": "a193359a",
   "metadata": {},
   "outputs": [
    {
     "data": {
      "text/plain": [
       "JavaScript    50\n",
       "C++           36\n",
       "Python        33\n",
       "C#            24\n",
       "C             18\n",
       "Java          16\n",
       "HTML          10\n",
       "TypeScript    10\n",
       "Name: language, dtype: int64"
      ]
     },
     "execution_count": 11,
     "metadata": {},
     "output_type": "execute_result"
    }
   ],
   "source": [
    "train.language.value_counts()"
   ]
  },
  {
   "cell_type": "markdown",
   "id": "82798814",
   "metadata": {},
   "source": [
    "## Top 5 Languages for ALL Readmes: Javascript, C++, Python, C#, C"
   ]
  },
  {
   "cell_type": "code",
   "execution_count": 43,
   "id": "25db7c5e",
   "metadata": {},
   "outputs": [],
   "source": [
    "# Set up word counts dataframe\n",
    "all_text = ' '.join(train.content)\n",
    "javascripttxt = ' '.join(train[train.language == 'JavaScript'].content)\n",
    "pythontxt = ' '.join(train[train.language == 'Python'].content)\n",
    "cplustxt = ' '.join(train[train.language == 'C++'].content)\n",
    "csharptxt = ' '.join(train[train.language == 'C#'].content)\n",
    "ctxt = ' '.join(train[train.language == 'C'].content)"
   ]
  },
  {
   "cell_type": "code",
   "execution_count": 49,
   "id": "229522b5",
   "metadata": {},
   "outputs": [],
   "source": [
    "# frequency df\n",
    "all_freq = pd.Series(str(all_text).split()).value_counts()\n",
    "javascr_freq = pd.Series(str(javascripttxt).split()).value_counts()\n",
    "python_freq = pd.Series(str(pythontxt).split()).value_counts()\n",
    "cplus_freq = pd.Series(str(cplustxt).split()).value_counts()\n",
    "csharp_freq = pd.Series(str(csharptxt).split()).value_counts()\n",
    "c_freq = pd.Series(str(ctxt).split()).value_counts()"
   ]
  },
  {
   "cell_type": "code",
   "execution_count": 60,
   "id": "fe1b3590",
   "metadata": {},
   "outputs": [],
   "source": [
    "#Create wordclouds\n",
    "j_cloud = WordCloud(background_color='white', height=1000, width=400).generate((javascripttxt))\n",
    "py_cloud = WordCloud(background_color='white', height=1000, width=400).generate((pythontxt))\n",
    "cplus_cloud = WordCloud(background_color='white', height=1000, width=400).generate((cplustxt))\n",
    "csharp_cloud = WordCloud(background_color='white', height=1000, width=400).generate((csharptxt))\n",
    "c_cloud = WordCloud(background_color='white', height=1000, width=400).generate((ctxt))"
   ]
  },
  {
   "cell_type": "code",
   "execution_count": 57,
   "id": "d0dd1ee8",
   "metadata": {},
   "outputs": [],
   "source": [
    "#Create bigrams for languages\n",
    "j_bigrams = pd.Series(nltk.ngrams(javascripttxt.split(), 2))\n",
    "py_bigrams = pd.Series(nltk.ngrams(pythontxt.split(), 2))\n",
    "cplus_bigrams = pd.Series(nltk.ngrams(cplustxt.split(), 2))\n",
    "csharp_bigrams = pd.Series(nltk.ngrams(csharptxt.split(), 2))\n",
    "c_bigrams = pd.Series(nltk.ngrams(cplustxt.split(), 2))"
   ]
  },
  {
   "cell_type": "markdown",
   "id": "57f4ab32",
   "metadata": {},
   "source": [
    "### Javascript"
   ]
  },
  {
   "cell_type": "code",
   "execution_count": 55,
   "id": "e7694231",
   "metadata": {},
   "outputs": [
    {
     "data": {
      "text/plain": [
       "game       232\n",
       "'          184\n",
       "class      132\n",
       "add        126\n",
       "install     90\n",
       "run         88\n",
       "dtype: int64"
      ]
     },
     "execution_count": 55,
     "metadata": {},
     "output_type": "execute_result"
    }
   ],
   "source": [
    "javascr_freq.head(6)"
   ]
  },
  {
   "cell_type": "code",
   "execution_count": 71,
   "id": "df5408c5",
   "metadata": {},
   "outputs": [
    {
     "ename": "ValueError",
     "evalue": "Could not interpret input 'javascripttxt'",
     "output_type": "error",
     "traceback": [
      "\u001b[0;31m---------------------------------------------------------------------------\u001b[0m",
      "\u001b[0;31mValueError\u001b[0m                                Traceback (most recent call last)",
      "\u001b[0;32m/var/folders/6m/5f3p8xk954n_z611nvzksq440000gn/T/ipykernel_72075/2274251534.py\u001b[0m in \u001b[0;36m<module>\u001b[0;34m\u001b[0m\n\u001b[1;32m      1\u001b[0m \u001b[0;31m# bar chart\u001b[0m\u001b[0;34m\u001b[0m\u001b[0;34m\u001b[0m\u001b[0m\n\u001b[0;32m----> 2\u001b[0;31m \u001b[0msns\u001b[0m\u001b[0;34m.\u001b[0m\u001b[0mbarplot\u001b[0m\u001b[0;34m(\u001b[0m\u001b[0mx\u001b[0m \u001b[0;34m=\u001b[0m \u001b[0;34m'javascripttxt'\u001b[0m\u001b[0;34m,\u001b[0m \u001b[0my\u001b[0m \u001b[0;34m=\u001b[0m \u001b[0;34m'javascr_freq'\u001b[0m\u001b[0;34m)\u001b[0m\u001b[0;34m\u001b[0m\u001b[0;34m\u001b[0m\u001b[0m\n\u001b[0m\u001b[1;32m      3\u001b[0m \u001b[0mplt\u001b[0m\u001b[0;34m.\u001b[0m\u001b[0mshow\u001b[0m\u001b[0;34m(\u001b[0m\u001b[0;34m)\u001b[0m\u001b[0;34m\u001b[0m\u001b[0;34m\u001b[0m\u001b[0m\n",
      "\u001b[0;32m/opt/homebrew/anaconda3/lib/python3.9/site-packages/seaborn/_decorators.py\u001b[0m in \u001b[0;36minner_f\u001b[0;34m(*args, **kwargs)\u001b[0m\n\u001b[1;32m     44\u001b[0m             )\n\u001b[1;32m     45\u001b[0m         \u001b[0mkwargs\u001b[0m\u001b[0;34m.\u001b[0m\u001b[0mupdate\u001b[0m\u001b[0;34m(\u001b[0m\u001b[0;34m{\u001b[0m\u001b[0mk\u001b[0m\u001b[0;34m:\u001b[0m \u001b[0marg\u001b[0m \u001b[0;32mfor\u001b[0m \u001b[0mk\u001b[0m\u001b[0;34m,\u001b[0m \u001b[0marg\u001b[0m \u001b[0;32min\u001b[0m \u001b[0mzip\u001b[0m\u001b[0;34m(\u001b[0m\u001b[0msig\u001b[0m\u001b[0;34m.\u001b[0m\u001b[0mparameters\u001b[0m\u001b[0;34m,\u001b[0m \u001b[0margs\u001b[0m\u001b[0;34m)\u001b[0m\u001b[0;34m}\u001b[0m\u001b[0;34m)\u001b[0m\u001b[0;34m\u001b[0m\u001b[0;34m\u001b[0m\u001b[0m\n\u001b[0;32m---> 46\u001b[0;31m         \u001b[0;32mreturn\u001b[0m \u001b[0mf\u001b[0m\u001b[0;34m(\u001b[0m\u001b[0;34m**\u001b[0m\u001b[0mkwargs\u001b[0m\u001b[0;34m)\u001b[0m\u001b[0;34m\u001b[0m\u001b[0;34m\u001b[0m\u001b[0m\n\u001b[0m\u001b[1;32m     47\u001b[0m     \u001b[0;32mreturn\u001b[0m \u001b[0minner_f\u001b[0m\u001b[0;34m\u001b[0m\u001b[0;34m\u001b[0m\u001b[0m\n\u001b[1;32m     48\u001b[0m \u001b[0;34m\u001b[0m\u001b[0m\n",
      "\u001b[0;32m/opt/homebrew/anaconda3/lib/python3.9/site-packages/seaborn/categorical.py\u001b[0m in \u001b[0;36mbarplot\u001b[0;34m(x, y, hue, data, order, hue_order, estimator, ci, n_boot, units, seed, orient, color, palette, saturation, errcolor, errwidth, capsize, dodge, ax, **kwargs)\u001b[0m\n\u001b[1;32m   3180\u001b[0m ):\n\u001b[1;32m   3181\u001b[0m \u001b[0;34m\u001b[0m\u001b[0m\n\u001b[0;32m-> 3182\u001b[0;31m     plotter = _BarPlotter(x, y, hue, data, order, hue_order,\n\u001b[0m\u001b[1;32m   3183\u001b[0m                           \u001b[0mestimator\u001b[0m\u001b[0;34m,\u001b[0m \u001b[0mci\u001b[0m\u001b[0;34m,\u001b[0m \u001b[0mn_boot\u001b[0m\u001b[0;34m,\u001b[0m \u001b[0munits\u001b[0m\u001b[0;34m,\u001b[0m \u001b[0mseed\u001b[0m\u001b[0;34m,\u001b[0m\u001b[0;34m\u001b[0m\u001b[0;34m\u001b[0m\u001b[0m\n\u001b[1;32m   3184\u001b[0m                           \u001b[0morient\u001b[0m\u001b[0;34m,\u001b[0m \u001b[0mcolor\u001b[0m\u001b[0;34m,\u001b[0m \u001b[0mpalette\u001b[0m\u001b[0;34m,\u001b[0m \u001b[0msaturation\u001b[0m\u001b[0;34m,\u001b[0m\u001b[0;34m\u001b[0m\u001b[0;34m\u001b[0m\u001b[0m\n",
      "\u001b[0;32m/opt/homebrew/anaconda3/lib/python3.9/site-packages/seaborn/categorical.py\u001b[0m in \u001b[0;36m__init__\u001b[0;34m(self, x, y, hue, data, order, hue_order, estimator, ci, n_boot, units, seed, orient, color, palette, saturation, errcolor, errwidth, capsize, dodge)\u001b[0m\n\u001b[1;32m   1582\u001b[0m                  errwidth, capsize, dodge):\n\u001b[1;32m   1583\u001b[0m         \u001b[0;34m\"\"\"Initialize the plotter.\"\"\"\u001b[0m\u001b[0;34m\u001b[0m\u001b[0;34m\u001b[0m\u001b[0m\n\u001b[0;32m-> 1584\u001b[0;31m         self.establish_variables(x, y, hue, data, orient,\n\u001b[0m\u001b[1;32m   1585\u001b[0m                                  order, hue_order, units)\n\u001b[1;32m   1586\u001b[0m         \u001b[0mself\u001b[0m\u001b[0;34m.\u001b[0m\u001b[0mestablish_colors\u001b[0m\u001b[0;34m(\u001b[0m\u001b[0mcolor\u001b[0m\u001b[0;34m,\u001b[0m \u001b[0mpalette\u001b[0m\u001b[0;34m,\u001b[0m \u001b[0msaturation\u001b[0m\u001b[0;34m)\u001b[0m\u001b[0;34m\u001b[0m\u001b[0;34m\u001b[0m\u001b[0m\n",
      "\u001b[0;32m/opt/homebrew/anaconda3/lib/python3.9/site-packages/seaborn/categorical.py\u001b[0m in \u001b[0;36mestablish_variables\u001b[0;34m(self, x, y, hue, data, orient, order, hue_order, units)\u001b[0m\n\u001b[1;32m    151\u001b[0m                 \u001b[0;32mif\u001b[0m \u001b[0misinstance\u001b[0m\u001b[0;34m(\u001b[0m\u001b[0mvar\u001b[0m\u001b[0;34m,\u001b[0m \u001b[0mstr\u001b[0m\u001b[0;34m)\u001b[0m\u001b[0;34m:\u001b[0m\u001b[0;34m\u001b[0m\u001b[0;34m\u001b[0m\u001b[0m\n\u001b[1;32m    152\u001b[0m                     \u001b[0merr\u001b[0m \u001b[0;34m=\u001b[0m \u001b[0;34m\"Could not interpret input '{}'\"\u001b[0m\u001b[0;34m.\u001b[0m\u001b[0mformat\u001b[0m\u001b[0;34m(\u001b[0m\u001b[0mvar\u001b[0m\u001b[0;34m)\u001b[0m\u001b[0;34m\u001b[0m\u001b[0;34m\u001b[0m\u001b[0m\n\u001b[0;32m--> 153\u001b[0;31m                     \u001b[0;32mraise\u001b[0m \u001b[0mValueError\u001b[0m\u001b[0;34m(\u001b[0m\u001b[0merr\u001b[0m\u001b[0;34m)\u001b[0m\u001b[0;34m\u001b[0m\u001b[0;34m\u001b[0m\u001b[0m\n\u001b[0m\u001b[1;32m    154\u001b[0m \u001b[0;34m\u001b[0m\u001b[0m\n\u001b[1;32m    155\u001b[0m             \u001b[0;31m# Figure out the plotting orientation\u001b[0m\u001b[0;34m\u001b[0m\u001b[0;34m\u001b[0m\u001b[0m\n",
      "\u001b[0;31mValueError\u001b[0m: Could not interpret input 'javascripttxt'"
     ]
    }
   ],
   "source": [
    "# bar chart\n",
    "sns.barplot(x = 'javascripttxt', y = 'javascr_freq')\n",
    "plt.show() ????????????????"
   ]
  },
  {
   "cell_type": "code",
   "execution_count": 69,
   "id": "93a934e6",
   "metadata": {},
   "outputs": [],
   "source": [
    "# wordcloud"
   ]
  },
  {
   "cell_type": "code",
   "execution_count": 70,
   "id": "e720763f",
   "metadata": {},
   "outputs": [],
   "source": [
    "# bigram"
   ]
  },
  {
   "cell_type": "code",
   "execution_count": null,
   "id": "b1483ceb",
   "metadata": {},
   "outputs": [],
   "source": []
  }
 ],
 "metadata": {
  "kernelspec": {
   "display_name": "Python 3 (ipykernel)",
   "language": "python",
   "name": "python3"
  },
  "language_info": {
   "codemirror_mode": {
    "name": "ipython",
    "version": 3
   },
   "file_extension": ".py",
   "mimetype": "text/x-python",
   "name": "python",
   "nbconvert_exporter": "python",
   "pygments_lexer": "ipython3",
   "version": "3.9.7"
  }
 },
 "nbformat": 4,
 "nbformat_minor": 5
}
