{
 "cells": [
  {
   "cell_type": "code",
   "execution_count": 3,
   "id": "648b5211",
   "metadata": {},
   "outputs": [],
   "source": [
    "import os\n",
    "import json\n",
    "from typing import Dict, List, Optional, Union, cast\n",
    "import requests\n",
    "import pandas as pd\n",
    "from env import github_token, github_username\n",
    "\n",
    "#import prepare\n",
    "#import acquire\n",
    "#import explore\n",
    "#import model\n",
    "\n",
    "import unicodedata\n",
    "import re\n",
    "import json\n",
    "\n",
    "import nltk\n",
    "from nltk.tokenize.toktok import ToktokTokenizer\n",
    "from nltk.corpus import stopwords\n",
    "from wordcloud import WordCloud\n",
    "\n",
    "from sklearn.model_selection import train_test_split\n",
    "from sklearn.linear_model import LogisticRegression\n",
    "from sklearn.metrics import classification_report, accuracy_score\n",
    "from sklearn.feature_extraction.text import TfidfVectorizer\n",
    "from sklearn.neighbors import KNeighborsClassifier\n",
    "from sklearn.metrics import confusion_matrix\n",
    "from sklearn.ensemble import RandomForestClassifier\n",
    "from sklearn.tree import DecisionTreeClassifier\n",
    "\n",
    "import matplotlib.pyplot as plt\n",
    "import seaborn as sns\n",
    "\n",
    "import warnings\n",
    "warnings.filter=\"ignore\"\n",
    "\n",
    "from bs4 import BeautifulSoup"
   ]
  },
  {
   "cell_type": "code",
   "execution_count": null,
   "id": "237c7e15",
   "metadata": {},
   "outputs": [],
   "source": [
    "#Acquire the URLS for the Repositories to explore\n",
    "\n",
    "headers = acquire.headers\n",
    "\n",
    "endpoint = \"https://api.github.com/search/repositories\"\n",
    "# category that we will be searching.\n",
    "query = \"oceanography\"\n",
    "# sorting by stars on repositories.\n",
    "sort = \"stars\"\n",
    "# max number of repositories to pull per page.\n",
    "per_page = 100\n",
    "# order in which to pull.\n",
    "order = \"desc\"\n",
    "#page we will start on.\n",
    "page = 1\n",
    "\n",
    "##Make the request\n",
    "response = requests.get(f\"{endpoint}?q={query}&sort={sort}&per_page={per_page}&order={order}&page={page}\", headers=headers)\n",
    "payload = response.json()\n",
    "payload['items']"
   ]
  }
 ],
 "metadata": {
  "kernelspec": {
   "display_name": "Python 3 (ipykernel)",
   "language": "python",
   "name": "python3"
  },
  "language_info": {
   "codemirror_mode": {
    "name": "ipython",
    "version": 3
   },
   "file_extension": ".py",
   "mimetype": "text/x-python",
   "name": "python",
   "nbconvert_exporter": "python",
   "pygments_lexer": "ipython3",
   "version": "3.9.7"
  }
 },
 "nbformat": 4,
 "nbformat_minor": 5
}
