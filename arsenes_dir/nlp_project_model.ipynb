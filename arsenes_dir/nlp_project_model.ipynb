{
 "cells": [
  {
   "cell_type": "markdown",
   "id": "77c0524e",
   "metadata": {},
   "source": [
    "# Modeling"
   ]
  },
  {
   "cell_type": "code",
   "execution_count": 44,
   "id": "3a760e56",
   "metadata": {},
   "outputs": [],
   "source": [
    "# Ignoring warning messages from python\n",
    "import warnings\n",
    "warnings.filterwarnings('ignore')\n",
    "\n",
    "# General use imports\n",
    "import pandas as pd\n",
    "import numpy as np\n",
    "\n",
    "# Specific Modules\n",
    "import prepare as prep\n",
    "import json\n",
    "import os\n",
    "import unicodedata\n",
    "import nltk\n",
    "from nltk.tokenize.toktok import ToktokTokenizer\n",
    "from nltk.corpus import stopwords\n",
    "from sklearn.model_selection import train_test_split\n",
    "from sklearn.linear_model import LogisticRegression\n",
    "from sklearn.ensemble import RandomForestClassifier\n",
    "from sklearn.metrics import classification_report, accuracy_score\n",
    "from sklearn.feature_extraction.text import TfidfVectorizer\n",
    "\n",
    "\n",
    "# # Visualization imports\n",
    "import matplotlib.pyplot as plt\n",
    "import seaborn as sns\n",
    "# import plotly.graph_objects as go\n",
    "# import plotly\n",
    "# import plotly.express as px"
   ]
  },
  {
   "cell_type": "code",
   "execution_count": 2,
   "id": "ec252a66",
   "metadata": {},
   "outputs": [],
   "source": [
    "df = prep.prep_data()"
   ]
  },
  {
   "cell_type": "code",
   "execution_count": 3,
   "id": "237bd77d",
   "metadata": {},
   "outputs": [
    {
     "data": {
      "text/plain": [
       "(353, 3)"
      ]
     },
     "execution_count": 3,
     "metadata": {},
     "output_type": "execute_result"
    }
   ],
   "source": [
    "df.shape"
   ]
  },
  {
   "cell_type": "code",
   "execution_count": 4,
   "id": "b928f0ae",
   "metadata": {},
   "outputs": [
    {
     "name": "stdout",
     "output_type": "stream",
     "text": [
      "<class 'pandas.core.frame.DataFrame'>\n",
      "Int64Index: 353 entries, 1 to 475\n",
      "Data columns (total 3 columns):\n",
      " #   Column    Non-Null Count  Dtype \n",
      "---  ------    --------------  ----- \n",
      " 0   repo      353 non-null    object\n",
      " 1   language  353 non-null    object\n",
      " 2   content   353 non-null    object\n",
      "dtypes: object(3)\n",
      "memory usage: 11.0+ KB\n"
     ]
    }
   ],
   "source": [
    "df.info()"
   ]
  },
  {
   "cell_type": "code",
   "execution_count": 5,
   "id": "34c06604",
   "metadata": {},
   "outputs": [
    {
     "data": {
      "text/html": [
       "<div>\n",
       "<style scoped>\n",
       "    .dataframe tbody tr th:only-of-type {\n",
       "        vertical-align: middle;\n",
       "    }\n",
       "\n",
       "    .dataframe tbody tr th {\n",
       "        vertical-align: top;\n",
       "    }\n",
       "\n",
       "    .dataframe thead th {\n",
       "        text-align: right;\n",
       "    }\n",
       "</style>\n",
       "<table border=\"1\" class=\"dataframe\">\n",
       "  <thead>\n",
       "    <tr style=\"text-align: right;\">\n",
       "      <th></th>\n",
       "      <th>repo</th>\n",
       "      <th>language</th>\n",
       "      <th>content</th>\n",
       "    </tr>\n",
       "  </thead>\n",
       "  <tbody>\n",
       "    <tr>\n",
       "      <th>1</th>\n",
       "      <td>CharlesPikachu/Games</td>\n",
       "      <td>Python</td>\n",
       "      <td>div aligncenter img srcdocslogopng width600 di...</td>\n",
       "    </tr>\n",
       "    <tr>\n",
       "      <th>2</th>\n",
       "      <td>channingbreeze/games</td>\n",
       "      <td>JavaScript</td>\n",
       "      <td>### phaser phaserphaserphaserhttpwwwphaserchin...</td>\n",
       "    </tr>\n",
       "    <tr>\n",
       "      <th>3</th>\n",
       "      <td>arcxingye/EatKano</td>\n",
       "      <td>JavaScript</td>\n",
       "      <td>p aligncenter hrefhttpsxingyemegameeatkanoimg ...</td>\n",
       "    </tr>\n",
       "    <tr>\n",
       "      <th>4</th>\n",
       "      <td>coding-horror/basic-computer-games</td>\n",
       "      <td>C#</td>\n",
       "      <td>### updating first million selling computer bo...</td>\n",
       "    </tr>\n",
       "    <tr>\n",
       "      <th>5</th>\n",
       "      <td>rwv/chinese-dos-games</td>\n",
       "      <td>Python</td>\n",
       "      <td># do do 1898 python 3 python python downloadda...</td>\n",
       "    </tr>\n",
       "  </tbody>\n",
       "</table>\n",
       "</div>"
      ],
      "text/plain": [
       "                                 repo    language  \\\n",
       "1                CharlesPikachu/Games      Python   \n",
       "2                channingbreeze/games  JavaScript   \n",
       "3                   arcxingye/EatKano  JavaScript   \n",
       "4  coding-horror/basic-computer-games          C#   \n",
       "5               rwv/chinese-dos-games      Python   \n",
       "\n",
       "                                             content  \n",
       "1  div aligncenter img srcdocslogopng width600 di...  \n",
       "2  ### phaser phaserphaserphaserhttpwwwphaserchin...  \n",
       "3  p aligncenter hrefhttpsxingyemegameeatkanoimg ...  \n",
       "4  ### updating first million selling computer bo...  \n",
       "5  # do do 1898 python 3 python python downloadda...  "
      ]
     },
     "execution_count": 5,
     "metadata": {},
     "output_type": "execute_result"
    }
   ],
   "source": [
    "df.head()"
   ]
  },
  {
   "cell_type": "markdown",
   "id": "43a6448f",
   "metadata": {},
   "source": [
    "## Splitting and vectorizing"
   ]
  },
  {
   "cell_type": "code",
   "execution_count": 6,
   "id": "cace01d0",
   "metadata": {},
   "outputs": [],
   "source": [
    "train, validate, test = prep.split_data(df)"
   ]
  },
  {
   "cell_type": "code",
   "execution_count": 7,
   "id": "593cd130",
   "metadata": {},
   "outputs": [
    {
     "data": {
      "text/plain": [
       "(197, 3)"
      ]
     },
     "execution_count": 7,
     "metadata": {},
     "output_type": "execute_result"
    }
   ],
   "source": [
    "train.shape"
   ]
  },
  {
   "cell_type": "code",
   "execution_count": 8,
   "id": "e312c1f6",
   "metadata": {},
   "outputs": [
    {
     "data": {
      "text/plain": [
       "(85, 3)"
      ]
     },
     "execution_count": 8,
     "metadata": {},
     "output_type": "execute_result"
    }
   ],
   "source": [
    "validate.shape"
   ]
  },
  {
   "cell_type": "code",
   "execution_count": 9,
   "id": "86f5f623",
   "metadata": {},
   "outputs": [
    {
     "data": {
      "text/plain": [
       "(71, 3)"
      ]
     },
     "execution_count": 9,
     "metadata": {},
     "output_type": "execute_result"
    }
   ],
   "source": [
    "test.shape"
   ]
  },
  {
   "cell_type": "code",
   "execution_count": 10,
   "id": "f3f058ed",
   "metadata": {},
   "outputs": [],
   "source": [
    "tfidf = TfidfVectorizer()\n",
    "X_train = tfidf.fit_transform(train.content)\n",
    "y_train = train.language"
   ]
  },
  {
   "cell_type": "code",
   "execution_count": 11,
   "id": "bed2720a",
   "metadata": {},
   "outputs": [
    {
     "data": {
      "text/plain": [
       "<197x13439 sparse matrix of type '<class 'numpy.float64'>'\n",
       "\twith 33640 stored elements in Compressed Sparse Row format>"
      ]
     },
     "execution_count": 11,
     "metadata": {},
     "output_type": "execute_result"
    }
   ],
   "source": [
    "X_train"
   ]
  },
  {
   "cell_type": "code",
   "execution_count": 12,
   "id": "db5d3a84",
   "metadata": {},
   "outputs": [
    {
     "data": {
      "text/plain": [
       "115       C++\n",
       "395      HTML\n",
       "166        C#\n",
       "26        C++\n",
       "162       C++\n",
       "        ...  \n",
       "217    Python\n",
       "156       C++\n",
       "116    Python\n",
       "158      Java\n",
       "153      Java\n",
       "Name: language, Length: 197, dtype: object"
      ]
     },
     "execution_count": 12,
     "metadata": {},
     "output_type": "execute_result"
    }
   ],
   "source": [
    "y_train"
   ]
  },
  {
   "cell_type": "code",
   "execution_count": 13,
   "id": "91c2335a",
   "metadata": {},
   "outputs": [],
   "source": [
    "# tfidf = TfidfVectorizer()\n",
    "X_validate = tfidf.transform(validate.content)\n",
    "y_validate = validate.language"
   ]
  },
  {
   "cell_type": "code",
   "execution_count": 14,
   "id": "33c4e8fe",
   "metadata": {},
   "outputs": [],
   "source": [
    "# tfidf = TfidfVectorizer()\n",
    "X_test = tfidf.transform(test.content)\n",
    "y_test = test.language"
   ]
  },
  {
   "cell_type": "code",
   "execution_count": 17,
   "id": "56043d6d",
   "metadata": {},
   "outputs": [
    {
     "data": {
      "text/plain": [
       "((85, 13439), (197, 13439))"
      ]
     },
     "execution_count": 17,
     "metadata": {},
     "output_type": "execute_result"
    }
   ],
   "source": [
    "X_validate.shape, X_train.shape"
   ]
  },
  {
   "cell_type": "markdown",
   "id": "0bfc601d",
   "metadata": {},
   "source": [
    "## Logistic Regression Models"
   ]
  },
  {
   "cell_type": "markdown",
   "id": "8ebc1329",
   "metadata": {},
   "source": [
    ">### Train"
   ]
  },
  {
   "cell_type": "code",
   "execution_count": 18,
   "id": "3f247df6",
   "metadata": {},
   "outputs": [],
   "source": [
    "model_train = pd.DataFrame(dict(actual=y_train))"
   ]
  },
  {
   "cell_type": "code",
   "execution_count": 19,
   "id": "e322bebb",
   "metadata": {},
   "outputs": [
    {
     "data": {
      "text/html": [
       "<div>\n",
       "<style scoped>\n",
       "    .dataframe tbody tr th:only-of-type {\n",
       "        vertical-align: middle;\n",
       "    }\n",
       "\n",
       "    .dataframe tbody tr th {\n",
       "        vertical-align: top;\n",
       "    }\n",
       "\n",
       "    .dataframe thead th {\n",
       "        text-align: right;\n",
       "    }\n",
       "</style>\n",
       "<table border=\"1\" class=\"dataframe\">\n",
       "  <thead>\n",
       "    <tr style=\"text-align: right;\">\n",
       "      <th></th>\n",
       "      <th>actual</th>\n",
       "    </tr>\n",
       "  </thead>\n",
       "  <tbody>\n",
       "    <tr>\n",
       "      <th>115</th>\n",
       "      <td>C++</td>\n",
       "    </tr>\n",
       "    <tr>\n",
       "      <th>395</th>\n",
       "      <td>HTML</td>\n",
       "    </tr>\n",
       "    <tr>\n",
       "      <th>166</th>\n",
       "      <td>C#</td>\n",
       "    </tr>\n",
       "    <tr>\n",
       "      <th>26</th>\n",
       "      <td>C++</td>\n",
       "    </tr>\n",
       "    <tr>\n",
       "      <th>162</th>\n",
       "      <td>C++</td>\n",
       "    </tr>\n",
       "  </tbody>\n",
       "</table>\n",
       "</div>"
      ],
      "text/plain": [
       "    actual\n",
       "115    C++\n",
       "395   HTML\n",
       "166     C#\n",
       "26     C++\n",
       "162    C++"
      ]
     },
     "execution_count": 19,
     "metadata": {},
     "output_type": "execute_result"
    }
   ],
   "source": [
    "model_train.head()"
   ]
  },
  {
   "cell_type": "code",
   "execution_count": 20,
   "id": "b381d999",
   "metadata": {},
   "outputs": [
    {
     "data": {
      "text/plain": [
       "(8,\n",
       " array(['C++', 'HTML', 'C#', 'C', 'JavaScript', 'Java', 'Python',\n",
       "        'TypeScript'], dtype=object))"
      ]
     },
     "execution_count": 20,
     "metadata": {},
     "output_type": "execute_result"
    }
   ],
   "source": [
    "model_train.actual.nunique(), model_train.actual.unique()"
   ]
  },
  {
   "cell_type": "code",
   "execution_count": 21,
   "id": "deb631f4",
   "metadata": {},
   "outputs": [
    {
     "data": {
      "text/plain": [
       "JavaScript    50\n",
       "C++           36\n",
       "Python        33\n",
       "C#            24\n",
       "C             18\n",
       "Java          16\n",
       "HTML          10\n",
       "TypeScript    10\n",
       "Name: actual, dtype: int64"
      ]
     },
     "execution_count": 21,
     "metadata": {},
     "output_type": "execute_result"
    }
   ],
   "source": [
    "model_train.actual.value_counts()"
   ]
  },
  {
   "cell_type": "code",
   "execution_count": 22,
   "id": "665d2d09",
   "metadata": {},
   "outputs": [
    {
     "data": {
      "text/html": [
       "<div>\n",
       "<style scoped>\n",
       "    .dataframe tbody tr th:only-of-type {\n",
       "        vertical-align: middle;\n",
       "    }\n",
       "\n",
       "    .dataframe tbody tr th {\n",
       "        vertical-align: top;\n",
       "    }\n",
       "\n",
       "    .dataframe thead th {\n",
       "        text-align: right;\n",
       "    }\n",
       "</style>\n",
       "<table border=\"1\" class=\"dataframe\">\n",
       "  <thead>\n",
       "    <tr style=\"text-align: right;\">\n",
       "      <th></th>\n",
       "      <th>actual</th>\n",
       "      <th>baseline</th>\n",
       "    </tr>\n",
       "  </thead>\n",
       "  <tbody>\n",
       "    <tr>\n",
       "      <th>115</th>\n",
       "      <td>C++</td>\n",
       "      <td>False</td>\n",
       "    </tr>\n",
       "    <tr>\n",
       "      <th>395</th>\n",
       "      <td>HTML</td>\n",
       "      <td>False</td>\n",
       "    </tr>\n",
       "    <tr>\n",
       "      <th>166</th>\n",
       "      <td>C#</td>\n",
       "      <td>False</td>\n",
       "    </tr>\n",
       "    <tr>\n",
       "      <th>26</th>\n",
       "      <td>C++</td>\n",
       "      <td>False</td>\n",
       "    </tr>\n",
       "    <tr>\n",
       "      <th>162</th>\n",
       "      <td>C++</td>\n",
       "      <td>False</td>\n",
       "    </tr>\n",
       "  </tbody>\n",
       "</table>\n",
       "</div>"
      ],
      "text/plain": [
       "    actual  baseline\n",
       "115    C++     False\n",
       "395   HTML     False\n",
       "166     C#     False\n",
       "26     C++     False\n",
       "162    C++     False"
      ]
     },
     "execution_count": 22,
     "metadata": {},
     "output_type": "execute_result"
    }
   ],
   "source": [
    "model_train['baseline'] = model_train['actual'] == 'JavaScript'\n",
    "model_train.head()"
   ]
  },
  {
   "cell_type": "code",
   "execution_count": 23,
   "id": "8e2948f6",
   "metadata": {},
   "outputs": [
    {
     "data": {
      "text/plain": [
       "0.25380710659898476"
      ]
     },
     "execution_count": 23,
     "metadata": {},
     "output_type": "execute_result"
    }
   ],
   "source": [
    "model_train.baseline.mean()"
   ]
  },
  {
   "cell_type": "code",
   "execution_count": 24,
   "id": "551ee363",
   "metadata": {},
   "outputs": [],
   "source": [
    "lm = LogisticRegression().fit(X_train, y_train)\n",
    "\n",
    "model_train['predicted'] = lm.predict(X_train)"
   ]
  },
  {
   "cell_type": "code",
   "execution_count": 25,
   "id": "06b93196",
   "metadata": {},
   "outputs": [
    {
     "data": {
      "text/html": [
       "<div>\n",
       "<style scoped>\n",
       "    .dataframe tbody tr th:only-of-type {\n",
       "        vertical-align: middle;\n",
       "    }\n",
       "\n",
       "    .dataframe tbody tr th {\n",
       "        vertical-align: top;\n",
       "    }\n",
       "\n",
       "    .dataframe thead th {\n",
       "        text-align: right;\n",
       "    }\n",
       "</style>\n",
       "<table border=\"1\" class=\"dataframe\">\n",
       "  <thead>\n",
       "    <tr style=\"text-align: right;\">\n",
       "      <th></th>\n",
       "      <th>actual</th>\n",
       "      <th>baseline</th>\n",
       "      <th>predicted</th>\n",
       "    </tr>\n",
       "  </thead>\n",
       "  <tbody>\n",
       "    <tr>\n",
       "      <th>115</th>\n",
       "      <td>C++</td>\n",
       "      <td>False</td>\n",
       "      <td>C++</td>\n",
       "    </tr>\n",
       "    <tr>\n",
       "      <th>395</th>\n",
       "      <td>HTML</td>\n",
       "      <td>False</td>\n",
       "      <td>HTML</td>\n",
       "    </tr>\n",
       "    <tr>\n",
       "      <th>166</th>\n",
       "      <td>C#</td>\n",
       "      <td>False</td>\n",
       "      <td>C#</td>\n",
       "    </tr>\n",
       "    <tr>\n",
       "      <th>26</th>\n",
       "      <td>C++</td>\n",
       "      <td>False</td>\n",
       "      <td>C++</td>\n",
       "    </tr>\n",
       "    <tr>\n",
       "      <th>162</th>\n",
       "      <td>C++</td>\n",
       "      <td>False</td>\n",
       "      <td>C++</td>\n",
       "    </tr>\n",
       "  </tbody>\n",
       "</table>\n",
       "</div>"
      ],
      "text/plain": [
       "    actual  baseline predicted\n",
       "115    C++     False       C++\n",
       "395   HTML     False      HTML\n",
       "166     C#     False        C#\n",
       "26     C++     False       C++\n",
       "162    C++     False       C++"
      ]
     },
     "execution_count": 25,
     "metadata": {},
     "output_type": "execute_result"
    }
   ],
   "source": [
    "model_train.head()"
   ]
  },
  {
   "cell_type": "code",
   "execution_count": null,
   "id": "bc338075",
   "metadata": {},
   "outputs": [],
   "source": [
    "model_train['predicted'] = lm.predict(X_train)"
   ]
  },
  {
   "cell_type": "code",
   "execution_count": 26,
   "id": "c37c30c4",
   "metadata": {},
   "outputs": [
    {
     "name": "stdout",
     "output_type": "stream",
     "text": [
      "Accuracy: 85.79%\n",
      "------------------\n",
      "Confusion Matrix\n",
      "actual       C  C#  C++  HTML  Java  JavaScript  Python  TypeScript\n",
      "predicted                                                          \n",
      "C           11   0    0     0     0           0       0           0\n",
      "C#           0  24    0     0     0           0       0           0\n",
      "C++          2   0   35     0     2           0       1           0\n",
      "HTML         0   0    0     6     0           0       0           0\n",
      "Java         0   0    0     0     9           0       0           0\n",
      "JavaScript   5   0    1     4     5          50       0           8\n",
      "Python       0   0    0     0     0           0      32           0\n",
      "TypeScript   0   0    0     0     0           0       0           2\n",
      "------------------\n",
      "Classification Report\n",
      "\n",
      "\n",
      "              precision    recall  f1-score   support\n",
      "\n",
      "           C       1.00      0.61      0.76        18\n",
      "          C#       1.00      1.00      1.00        24\n",
      "         C++       0.88      0.97      0.92        36\n",
      "        HTML       1.00      0.60      0.75        10\n",
      "        Java       1.00      0.56      0.72        16\n",
      "  JavaScript       0.68      1.00      0.81        50\n",
      "      Python       1.00      0.97      0.98        33\n",
      "  TypeScript       1.00      0.20      0.33        10\n",
      "\n",
      "    accuracy                           0.86       197\n",
      "   macro avg       0.94      0.74      0.79       197\n",
      "weighted avg       0.90      0.86      0.84       197\n",
      "\n"
     ]
    }
   ],
   "source": [
    "print('Accuracy: {:.2%}'.format(accuracy_score(model_train.actual, model_train.predicted)))\n",
    "print('------------------')\n",
    "print('Confusion Matrix')\n",
    "print(pd.crosstab(model_train.predicted, model_train.actual))\n",
    "print('------------------')\n",
    "print('Classification Report')\n",
    "print('\\n')\n",
    "print(classification_report(model_train.actual, model_train.predicted))"
   ]
  },
  {
   "cell_type": "markdown",
   "id": "dd13e43a",
   "metadata": {},
   "source": [
    ">### Validate"
   ]
  },
  {
   "cell_type": "code",
   "execution_count": 31,
   "id": "483f42be",
   "metadata": {},
   "outputs": [
    {
     "data": {
      "text/html": [
       "<div>\n",
       "<style scoped>\n",
       "    .dataframe tbody tr th:only-of-type {\n",
       "        vertical-align: middle;\n",
       "    }\n",
       "\n",
       "    .dataframe tbody tr th {\n",
       "        vertical-align: top;\n",
       "    }\n",
       "\n",
       "    .dataframe thead th {\n",
       "        text-align: right;\n",
       "    }\n",
       "</style>\n",
       "<table border=\"1\" class=\"dataframe\">\n",
       "  <thead>\n",
       "    <tr style=\"text-align: right;\">\n",
       "      <th></th>\n",
       "      <th>actual</th>\n",
       "      <th>baseline</th>\n",
       "      <th>predicted</th>\n",
       "    </tr>\n",
       "  </thead>\n",
       "  <tbody>\n",
       "    <tr>\n",
       "      <th>115</th>\n",
       "      <td>C++</td>\n",
       "      <td>False</td>\n",
       "      <td>C++</td>\n",
       "    </tr>\n",
       "    <tr>\n",
       "      <th>395</th>\n",
       "      <td>HTML</td>\n",
       "      <td>False</td>\n",
       "      <td>HTML</td>\n",
       "    </tr>\n",
       "    <tr>\n",
       "      <th>166</th>\n",
       "      <td>C#</td>\n",
       "      <td>False</td>\n",
       "      <td>C#</td>\n",
       "    </tr>\n",
       "    <tr>\n",
       "      <th>26</th>\n",
       "      <td>C++</td>\n",
       "      <td>False</td>\n",
       "      <td>C++</td>\n",
       "    </tr>\n",
       "    <tr>\n",
       "      <th>162</th>\n",
       "      <td>C++</td>\n",
       "      <td>False</td>\n",
       "      <td>C++</td>\n",
       "    </tr>\n",
       "  </tbody>\n",
       "</table>\n",
       "</div>"
      ],
      "text/plain": [
       "    actual  baseline predicted\n",
       "115    C++     False       C++\n",
       "395   HTML     False      HTML\n",
       "166     C#     False        C#\n",
       "26     C++     False       C++\n",
       "162    C++     False       C++"
      ]
     },
     "execution_count": 31,
     "metadata": {},
     "output_type": "execute_result"
    }
   ],
   "source": [
    "model_train.head()"
   ]
  },
  {
   "cell_type": "code",
   "execution_count": 37,
   "id": "979823f8",
   "metadata": {},
   "outputs": [],
   "source": [
    "model_validate = pd.DataFrame(dict(actual=y_validate))"
   ]
  },
  {
   "cell_type": "code",
   "execution_count": 38,
   "id": "4dbdda7e",
   "metadata": {},
   "outputs": [
    {
     "data": {
      "text/html": [
       "<div>\n",
       "<style scoped>\n",
       "    .dataframe tbody tr th:only-of-type {\n",
       "        vertical-align: middle;\n",
       "    }\n",
       "\n",
       "    .dataframe tbody tr th {\n",
       "        vertical-align: top;\n",
       "    }\n",
       "\n",
       "    .dataframe thead th {\n",
       "        text-align: right;\n",
       "    }\n",
       "</style>\n",
       "<table border=\"1\" class=\"dataframe\">\n",
       "  <thead>\n",
       "    <tr style=\"text-align: right;\">\n",
       "      <th></th>\n",
       "      <th>actual</th>\n",
       "    </tr>\n",
       "  </thead>\n",
       "  <tbody>\n",
       "    <tr>\n",
       "      <th>183</th>\n",
       "      <td>C++</td>\n",
       "    </tr>\n",
       "    <tr>\n",
       "      <th>140</th>\n",
       "      <td>JavaScript</td>\n",
       "    </tr>\n",
       "    <tr>\n",
       "      <th>334</th>\n",
       "      <td>C</td>\n",
       "    </tr>\n",
       "    <tr>\n",
       "      <th>60</th>\n",
       "      <td>Python</td>\n",
       "    </tr>\n",
       "    <tr>\n",
       "      <th>196</th>\n",
       "      <td>C++</td>\n",
       "    </tr>\n",
       "  </tbody>\n",
       "</table>\n",
       "</div>"
      ],
      "text/plain": [
       "         actual\n",
       "183         C++\n",
       "140  JavaScript\n",
       "334           C\n",
       "60       Python\n",
       "196         C++"
      ]
     },
     "execution_count": 38,
     "metadata": {},
     "output_type": "execute_result"
    }
   ],
   "source": [
    "model_validate.head()"
   ]
  },
  {
   "cell_type": "code",
   "execution_count": 39,
   "id": "c149e7a1",
   "metadata": {},
   "outputs": [],
   "source": [
    "model_validate['validate_pred'] = lm.predict(X_validate)"
   ]
  },
  {
   "cell_type": "code",
   "execution_count": 40,
   "id": "115bbdda",
   "metadata": {},
   "outputs": [
    {
     "data": {
      "text/html": [
       "<div>\n",
       "<style scoped>\n",
       "    .dataframe tbody tr th:only-of-type {\n",
       "        vertical-align: middle;\n",
       "    }\n",
       "\n",
       "    .dataframe tbody tr th {\n",
       "        vertical-align: top;\n",
       "    }\n",
       "\n",
       "    .dataframe thead th {\n",
       "        text-align: right;\n",
       "    }\n",
       "</style>\n",
       "<table border=\"1\" class=\"dataframe\">\n",
       "  <thead>\n",
       "    <tr style=\"text-align: right;\">\n",
       "      <th></th>\n",
       "      <th>actual</th>\n",
       "      <th>validate_pred</th>\n",
       "    </tr>\n",
       "  </thead>\n",
       "  <tbody>\n",
       "    <tr>\n",
       "      <th>183</th>\n",
       "      <td>C++</td>\n",
       "      <td>JavaScript</td>\n",
       "    </tr>\n",
       "    <tr>\n",
       "      <th>140</th>\n",
       "      <td>JavaScript</td>\n",
       "      <td>JavaScript</td>\n",
       "    </tr>\n",
       "    <tr>\n",
       "      <th>334</th>\n",
       "      <td>C</td>\n",
       "      <td>C++</td>\n",
       "    </tr>\n",
       "    <tr>\n",
       "      <th>60</th>\n",
       "      <td>Python</td>\n",
       "      <td>C++</td>\n",
       "    </tr>\n",
       "    <tr>\n",
       "      <th>196</th>\n",
       "      <td>C++</td>\n",
       "      <td>C++</td>\n",
       "    </tr>\n",
       "  </tbody>\n",
       "</table>\n",
       "</div>"
      ],
      "text/plain": [
       "         actual validate_pred\n",
       "183         C++    JavaScript\n",
       "140  JavaScript    JavaScript\n",
       "334           C           C++\n",
       "60       Python           C++\n",
       "196         C++           C++"
      ]
     },
     "execution_count": 40,
     "metadata": {},
     "output_type": "execute_result"
    }
   ],
   "source": [
    "model_validate.head()"
   ]
  },
  {
   "cell_type": "code",
   "execution_count": 41,
   "id": "4494b6ea",
   "metadata": {},
   "outputs": [
    {
     "name": "stdout",
     "output_type": "stream",
     "text": [
      "Accuracy: 45.88%\n",
      "------------------\n",
      "Confusion Matrix\n",
      "actual         C  C#  C++  HTML  Java  JavaScript  Python  TypeScript\n",
      "validate_pred                                                        \n",
      "C              1   0    0     0     0           0       0           0\n",
      "C#             0   2    0     0     0           0       0           0\n",
      "C++            1   0    6     0     3           0       1           0\n",
      "HTML           0   0    0     2     0           0       0           0\n",
      "JavaScript     5   9    9     2     4          22       7           4\n",
      "Python         0   0    1     0     0           0       6           0\n",
      "------------------\n",
      "Classification Report\n",
      "\n",
      "\n",
      "              precision    recall  f1-score   support\n",
      "\n",
      "           C       1.00      0.14      0.25         7\n",
      "          C#       1.00      0.18      0.31        11\n",
      "         C++       0.55      0.38      0.44        16\n",
      "        HTML       1.00      0.50      0.67         4\n",
      "        Java       0.00      0.00      0.00         7\n",
      "  JavaScript       0.35      1.00      0.52        22\n",
      "      Python       0.86      0.43      0.57        14\n",
      "  TypeScript       0.00      0.00      0.00         4\n",
      "\n",
      "    accuracy                           0.46        85\n",
      "   macro avg       0.59      0.33      0.35        85\n",
      "weighted avg       0.59      0.46      0.41        85\n",
      "\n"
     ]
    }
   ],
   "source": [
    "print('Accuracy: {:.2%}'.format(accuracy_score(model_validate.actual, model_validate.validate_pred)))\n",
    "print('------------------')\n",
    "print('Confusion Matrix')\n",
    "print(pd.crosstab(model_validate.validate_pred, model_validate.actual))\n",
    "print('------------------')\n",
    "print('Classification Report')\n",
    "print('\\n')\n",
    "print(classification_report(model_validate.actual, model_validate.validate_pred))"
   ]
  },
  {
   "cell_type": "markdown",
   "id": "c9d82fc8",
   "metadata": {},
   "source": [
    "## Random Forest"
   ]
  },
  {
   "cell_type": "code",
   "execution_count": 42,
   "id": "1a2499ef",
   "metadata": {},
   "outputs": [
    {
     "data": {
      "text/plain": [
       "<197x13439 sparse matrix of type '<class 'numpy.float64'>'\n",
       "\twith 33640 stored elements in Compressed Sparse Row format>"
      ]
     },
     "execution_count": 42,
     "metadata": {},
     "output_type": "execute_result"
    }
   ],
   "source": [
    "X_train"
   ]
  },
  {
   "cell_type": "code",
   "execution_count": null,
   "id": "7db5aa0b",
   "metadata": {},
   "outputs": [],
   "source": [
    "RandomForestClassifier(bootstrap=True, \n",
    "                    class_weight=None, \n",
    "                    criterion='gini',\n",
    "                    min_samples_leaf=1,\n",
    "                    n_estimators=100,\n",
    "                    max_depth=3, \n",
    "                    random_state=175)"
   ]
  },
  {
   "cell_type": "code",
   "execution_count": 56,
   "id": "27acbf87",
   "metadata": {},
   "outputs": [
    {
     "name": "stdout",
     "output_type": "stream",
     "text": [
      "RandomForest depth 3\n",
      "\n",
      "              C     C#        C++   HTML       Java  JavaScript     Python  \\\n",
      "precision   0.0   1.00   1.000000   1.00   1.000000    0.316456   1.000000   \n",
      "recall      0.0   0.25   0.361111   0.60   0.062500    1.000000   0.393939   \n",
      "f1-score    0.0   0.40   0.530612   0.75   0.117647    0.480769   0.565217   \n",
      "support    18.0  24.00  36.000000  10.00  16.000000   50.000000  33.000000   \n",
      "\n",
      "           TypeScript  accuracy   macro avg  weighted avg  \n",
      "precision         0.0  0.451777    0.664557      0.684380  \n",
      "recall            0.0  0.451777    0.333444      0.451777  \n",
      "f1-score          0.0  0.451777    0.355531      0.410026  \n",
      "support          10.0  0.451777  197.000000    197.000000  \n",
      "\n",
      "=======================\n",
      "\n",
      "RandomForest depth 4\n",
      "\n",
      "              C         C#        C++   HTML       Java  JavaScript  \\\n",
      "precision   0.0   1.000000   1.000000   1.00   1.000000    0.340136   \n",
      "recall      0.0   0.375000   0.500000   0.60   0.062500    1.000000   \n",
      "f1-score    0.0   0.545455   0.666667   0.75   0.117647    0.507614   \n",
      "support    18.0  24.000000  36.000000  10.00  16.000000   50.000000   \n",
      "\n",
      "              Python  TypeScript  accuracy   macro avg  weighted avg  \n",
      "precision   1.000000         0.0  0.507614    0.667517      0.690390  \n",
      "recall      0.484848         0.0  0.507614    0.377794      0.507614  \n",
      "f1-score    0.653061         0.0  0.507614    0.405055      0.474137  \n",
      "support    33.000000        10.0  0.507614  197.000000    197.000000  \n",
      "\n",
      "=======================\n",
      "\n",
      "RandomForest depth 5\n",
      "\n",
      "              C         C#        C++   HTML       Java  JavaScript  \\\n",
      "precision   0.0   1.000000   1.000000   1.00   1.000000    0.370370   \n",
      "recall      0.0   0.583333   0.555556   0.60   0.062500    1.000000   \n",
      "f1-score    0.0   0.736842   0.714286   0.75   0.117647    0.540541   \n",
      "support    18.0  24.000000  36.000000  10.00  16.000000   50.000000   \n",
      "\n",
      "              Python  TypeScript  accuracy   macro avg  weighted avg  \n",
      "precision   1.000000    1.000000  0.568528    0.796296      0.748825  \n",
      "recall      0.575758    0.200000  0.568528    0.447143      0.568528  \n",
      "f1-score    0.730769    0.333333  0.568528    0.490427      0.544450  \n",
      "support    33.000000   10.000000  0.568528  197.000000    197.000000  \n",
      "\n",
      "=======================\n",
      "\n",
      "RandomForest depth 6\n",
      "\n",
      "                   C         C#        C++   HTML       Java  JavaScript  \\\n",
      "precision   1.000000   1.000000   0.956522   1.00   1.000000    0.400000   \n",
      "recall      0.166667   0.625000   0.611111   0.60   0.187500    1.000000   \n",
      "f1-score    0.285714   0.769231   0.745763   0.75   0.315789    0.571429   \n",
      "support    18.000000  24.000000  36.000000  10.00  16.000000   50.000000   \n",
      "\n",
      "              Python  TypeScript  accuracy   macro avg  weighted avg  \n",
      "precision   1.000000    1.000000  0.614213    0.919565      0.839770  \n",
      "recall      0.575758    0.300000  0.614213    0.508254      0.614213  \n",
      "f1-score    0.730769    0.461538  0.614213    0.578779      0.610694  \n",
      "support    33.000000   10.000000  0.614213  197.000000    197.000000  \n",
      "\n",
      "=======================\n",
      "\n",
      "RandomForest depth 7\n",
      "\n",
      "                   C         C#        C++   HTML       Java  JavaScript  \\\n",
      "precision   1.000000   1.000000   1.000000   1.00   1.000000    0.442478   \n",
      "recall      0.388889   0.708333   0.638889   0.60   0.437500    1.000000   \n",
      "f1-score    0.560000   0.829268   0.779661   0.75   0.608696    0.613497   \n",
      "support    18.000000  24.000000  36.000000  10.00  16.000000   50.000000   \n",
      "\n",
      "              Python  TypeScript  accuracy   macro avg  weighted avg  \n",
      "precision   1.000000    1.000000  0.680203    0.930310      0.858497  \n",
      "recall      0.606061    0.400000  0.680203    0.597459      0.680203  \n",
      "f1-score    0.754717    0.571429  0.680203    0.683408      0.693321  \n",
      "support    33.000000   10.000000  0.680203  197.000000    197.000000  \n",
      "\n",
      "=======================\n",
      "\n",
      "RandomForest depth 8\n",
      "\n",
      "                   C         C#        C++   HTML       Java  JavaScript  \\\n",
      "precision   1.000000   1.000000   1.000000   1.00   1.000000    0.462963   \n",
      "recall      0.500000   0.708333   0.694444   0.60   0.437500    1.000000   \n",
      "f1-score    0.666667   0.829268   0.819672   0.75   0.608696    0.632911   \n",
      "support    18.000000  24.000000  36.000000  10.00  16.000000   50.000000   \n",
      "\n",
      "              Python  TypeScript  accuracy   macro avg  weighted avg  \n",
      "precision   1.000000    1.000000  0.705584    0.932870      0.863696  \n",
      "recall      0.636364    0.400000  0.705584    0.622080      0.705584  \n",
      "f1-score    0.777778    0.571429  0.705584    0.707053      0.719169  \n",
      "support    33.000000   10.000000  0.705584  197.000000    197.000000  \n",
      "\n",
      "=======================\n",
      "\n",
      "RandomForest depth 9\n",
      "\n",
      "                   C         C#        C++       HTML       Java  JavaScript  \\\n",
      "precision   1.000000   1.000000   1.000000   1.000000   1.000000    0.495050   \n",
      "recall      0.611111   0.750000   0.694444   0.700000   0.500000    1.000000   \n",
      "f1-score    0.758621   0.857143   0.819672   0.823529   0.666667    0.662252   \n",
      "support    18.000000  24.000000  36.000000  10.000000  16.000000   50.000000   \n",
      "\n",
      "              Python  TypeScript  accuracy   macro avg  weighted avg  \n",
      "precision   1.000000        1.00  0.741117    0.936881      0.871840  \n",
      "recall      0.636364        0.60  0.741117    0.686490      0.741117  \n",
      "f1-score    0.777778        0.75  0.741117    0.764458      0.755919  \n",
      "support    33.000000       10.00  0.741117  197.000000    197.000000  \n",
      "\n",
      "=======================\n",
      "\n",
      "RandomForest depth 10\n",
      "\n",
      "                   C         C#        C++       HTML     Java  JavaScript  \\\n",
      "precision   1.000000   1.000000   1.000000   1.000000   1.0000    0.543478   \n",
      "recall      0.666667   0.833333   0.750000   0.700000   0.5625    1.000000   \n",
      "f1-score    0.800000   0.909091   0.857143   0.823529   0.7200    0.704225   \n",
      "support    18.000000  24.000000  36.000000  10.000000  16.0000   50.000000   \n",
      "\n",
      "              Python  TypeScript  accuracy   macro avg  weighted avg  \n",
      "precision   1.000000        1.00  0.786802    0.942935      0.884132  \n",
      "recall      0.727273        0.60  0.786802    0.729972      0.786802  \n",
      "f1-score    0.842105        0.75  0.786802    0.800762      0.798636  \n",
      "support    33.000000       10.00  0.786802  197.000000    197.000000  \n",
      "\n",
      "=======================\n",
      "\n",
      "RandomForest depth 11\n",
      "\n",
      "                   C         C#        C++       HTML     Java  JavaScript  \\\n",
      "precision   1.000000   1.000000   1.000000   1.000000   1.0000    0.568182   \n",
      "recall      0.722222   0.791667   0.750000   0.800000   0.5625    1.000000   \n",
      "f1-score    0.838710   0.883721   0.857143   0.888889   0.7200    0.724638   \n",
      "support    18.000000  24.000000  36.000000  10.000000  16.0000   50.000000   \n",
      "\n",
      "              Python  TypeScript  accuracy   macro avg  weighted avg  \n",
      "precision   1.000000    1.000000  0.807107    0.946023      0.890401  \n",
      "recall      0.787879    0.700000  0.807107    0.764283      0.807107  \n",
      "f1-score    0.881356    0.823529  0.807107    0.827248      0.817888  \n",
      "support    33.000000   10.000000  0.807107  197.000000    197.000000  \n",
      "\n",
      "=======================\n",
      "\n",
      "RandomForest depth 12\n",
      "\n",
      "                   C         C#        C++       HTML     Java  JavaScript  \\\n",
      "precision   1.000000   1.000000   1.000000   1.000000   1.0000    0.595238   \n",
      "recall      0.722222   0.875000   0.777778   0.800000   0.5625    1.000000   \n",
      "f1-score    0.838710   0.933333   0.875000   0.888889   0.7200    0.746269   \n",
      "support    18.000000  24.000000  36.000000  10.000000  16.0000   50.000000   \n",
      "\n",
      "              Python  TypeScript  accuracy   macro avg  weighted avg  \n",
      "precision   1.000000    1.000000  0.827411    0.949405      0.897269  \n",
      "recall      0.818182    0.700000  0.827411    0.781960      0.827411  \n",
      "f1-score    0.900000    0.823529  0.827411    0.840716      0.835809  \n",
      "support    33.000000   10.000000  0.827411  197.000000    197.000000  \n",
      "\n",
      "=======================\n",
      "\n"
     ]
    }
   ],
   "source": [
    "for i in range(3, 13):\n",
    "    multi_depth = RandomForestClassifier(max_depth=i, random_state=175)\n",
    "\n",
    "    all_rf = multi_depth.fit(X_train, y_train)\n",
    "\n",
    "    y_pred = all_rf.predict(X_train)\n",
    "\n",
    "    report = classification_report(y_train, y_pred, output_dict=True)\n",
    "#     best_depth = report\n",
    "    print(f'RandomForest depth {i}\\n')\n",
    "    print(pd.DataFrame(report))\n",
    "    print('\\n=======================\\n')\n",
    "#     print(f'Best Depth {})"
   ]
  },
  {
   "cell_type": "code",
   "execution_count": 57,
   "id": "aace13c8",
   "metadata": {},
   "outputs": [
    {
     "data": {
      "text/plain": [
       "['C',\n",
       " 'C#',\n",
       " 'C++',\n",
       " 'HTML',\n",
       " 'Java',\n",
       " 'JavaScript',\n",
       " 'Python',\n",
       " 'TypeScript',\n",
       " 'accuracy',\n",
       " 'macro avg',\n",
       " 'weighted avg']"
      ]
     },
     "execution_count": 57,
     "metadata": {},
     "output_type": "execute_result"
    }
   ],
   "source": [
    "list(report)"
   ]
  },
  {
   "cell_type": "code",
   "execution_count": null,
   "id": "ccaa1ecb",
   "metadata": {},
   "outputs": [],
   "source": []
  }
 ],
 "metadata": {
  "kernelspec": {
   "display_name": "Python 3 (ipykernel)",
   "language": "python",
   "name": "python3"
  },
  "language_info": {
   "codemirror_mode": {
    "name": "ipython",
    "version": 3
   },
   "file_extension": ".py",
   "mimetype": "text/x-python",
   "name": "python",
   "nbconvert_exporter": "python",
   "pygments_lexer": "ipython3",
   "version": "3.9.7"
  }
 },
 "nbformat": 4,
 "nbformat_minor": 5
}
