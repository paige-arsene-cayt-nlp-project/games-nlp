{
 "cells": [
  {
   "cell_type": "markdown",
   "id": "ba428e80",
   "metadata": {},
   "source": [
    "# Modeling"
   ]
  },
  {
   "cell_type": "code",
   "execution_count": 68,
   "id": "f33761c2",
   "metadata": {},
   "outputs": [],
   "source": [
    "# Ignoring warning messages from python\n",
    "import warnings\n",
    "warnings.filterwarnings('ignore')\n",
    "\n",
    "# General use imports\n",
    "import pandas as pd\n",
    "import numpy as np\n",
    "\n",
    "# Specific Modules\n",
    "import prepare as prep\n",
    "import json\n",
    "import os\n",
    "import unicodedata\n",
    "import nltk\n",
    "from nltk.tokenize.toktok import ToktokTokenizer\n",
    "from nltk.corpus import stopwords\n",
    "from sklearn.model_selection import train_test_split\n",
    "from sklearn.linear_model import LogisticRegression\n",
    "from sklearn.ensemble import RandomForestClassifier\n",
    "from sklearn.neighbors import KNeighborsClassifier\n",
    "from sklearn.metrics import classification_report, accuracy_score\n",
    "from sklearn.feature_extraction.text import TfidfVectorizer\n",
    "\n",
    "\n",
    "# # Visualization imports\n",
    "import matplotlib.pyplot as plt\n",
    "import seaborn as sns\n",
    "import plotly.graph_objects as go\n",
    "import plotly\n",
    "import plotly.express as px"
   ]
  },
  {
   "cell_type": "markdown",
   "id": "459b4931",
   "metadata": {},
   "source": [
    "## 1. Getting the data"
   ]
  },
  {
   "cell_type": "code",
   "execution_count": 2,
   "id": "95349e27",
   "metadata": {},
   "outputs": [],
   "source": [
    "df = prep.prep_data()"
   ]
  },
  {
   "cell_type": "code",
   "execution_count": 3,
   "id": "c8c97aea",
   "metadata": {},
   "outputs": [
    {
     "data": {
      "text/plain": [
       "(353, 3)"
      ]
     },
     "execution_count": 3,
     "metadata": {},
     "output_type": "execute_result"
    }
   ],
   "source": [
    "df.shape"
   ]
  },
  {
   "cell_type": "code",
   "execution_count": 4,
   "id": "8fc98276",
   "metadata": {},
   "outputs": [
    {
     "name": "stdout",
     "output_type": "stream",
     "text": [
      "<class 'pandas.core.frame.DataFrame'>\n",
      "Int64Index: 353 entries, 1 to 475\n",
      "Data columns (total 3 columns):\n",
      " #   Column    Non-Null Count  Dtype \n",
      "---  ------    --------------  ----- \n",
      " 0   repo      353 non-null    object\n",
      " 1   language  353 non-null    object\n",
      " 2   content   353 non-null    object\n",
      "dtypes: object(3)\n",
      "memory usage: 11.0+ KB\n"
     ]
    }
   ],
   "source": [
    "df.info()"
   ]
  },
  {
   "cell_type": "code",
   "execution_count": 5,
   "id": "82844efe",
   "metadata": {},
   "outputs": [
    {
     "data": {
      "text/html": [
       "<div>\n",
       "<style scoped>\n",
       "    .dataframe tbody tr th:only-of-type {\n",
       "        vertical-align: middle;\n",
       "    }\n",
       "\n",
       "    .dataframe tbody tr th {\n",
       "        vertical-align: top;\n",
       "    }\n",
       "\n",
       "    .dataframe thead th {\n",
       "        text-align: right;\n",
       "    }\n",
       "</style>\n",
       "<table border=\"1\" class=\"dataframe\">\n",
       "  <thead>\n",
       "    <tr style=\"text-align: right;\">\n",
       "      <th></th>\n",
       "      <th>repo</th>\n",
       "      <th>language</th>\n",
       "      <th>content</th>\n",
       "    </tr>\n",
       "  </thead>\n",
       "  <tbody>\n",
       "    <tr>\n",
       "      <th>1</th>\n",
       "      <td>CharlesPikachu/Games</td>\n",
       "      <td>Python</td>\n",
       "      <td>div aligncenter img srcdocslogopng width600 di...</td>\n",
       "    </tr>\n",
       "    <tr>\n",
       "      <th>2</th>\n",
       "      <td>channingbreeze/games</td>\n",
       "      <td>JavaScript</td>\n",
       "      <td>### phaser phaserphaserphaserhttpwwwphaserchin...</td>\n",
       "    </tr>\n",
       "    <tr>\n",
       "      <th>3</th>\n",
       "      <td>arcxingye/EatKano</td>\n",
       "      <td>JavaScript</td>\n",
       "      <td>p aligncenter hrefhttpsxingyemegameeatkanoimg ...</td>\n",
       "    </tr>\n",
       "    <tr>\n",
       "      <th>4</th>\n",
       "      <td>coding-horror/basic-computer-games</td>\n",
       "      <td>C#</td>\n",
       "      <td>### updating first million selling computer bo...</td>\n",
       "    </tr>\n",
       "    <tr>\n",
       "      <th>5</th>\n",
       "      <td>rwv/chinese-dos-games</td>\n",
       "      <td>Python</td>\n",
       "      <td># do do 1898 python 3 python python downloadda...</td>\n",
       "    </tr>\n",
       "  </tbody>\n",
       "</table>\n",
       "</div>"
      ],
      "text/plain": [
       "                                 repo    language  \\\n",
       "1                CharlesPikachu/Games      Python   \n",
       "2                channingbreeze/games  JavaScript   \n",
       "3                   arcxingye/EatKano  JavaScript   \n",
       "4  coding-horror/basic-computer-games          C#   \n",
       "5               rwv/chinese-dos-games      Python   \n",
       "\n",
       "                                             content  \n",
       "1  div aligncenter img srcdocslogopng width600 di...  \n",
       "2  ### phaser phaserphaserphaserhttpwwwphaserchin...  \n",
       "3  p aligncenter hrefhttpsxingyemegameeatkanoimg ...  \n",
       "4  ### updating first million selling computer bo...  \n",
       "5  # do do 1898 python 3 python python downloadda...  "
      ]
     },
     "execution_count": 5,
     "metadata": {},
     "output_type": "execute_result"
    }
   ],
   "source": [
    "df.head()"
   ]
  },
  {
   "cell_type": "markdown",
   "id": "6550f028",
   "metadata": {},
   "source": [
    "## 2. Splitting and vectorizing"
   ]
  },
  {
   "cell_type": "code",
   "execution_count": 6,
   "id": "40551a85",
   "metadata": {},
   "outputs": [],
   "source": [
    "# Calling the split function and displaying the shape of the datasets\n",
    "\n",
    "train, validate, test = prep.split_data(df)"
   ]
  },
  {
   "cell_type": "code",
   "execution_count": 7,
   "id": "7bda4246",
   "metadata": {},
   "outputs": [
    {
     "data": {
      "text/plain": [
       "(197, 3)"
      ]
     },
     "execution_count": 7,
     "metadata": {},
     "output_type": "execute_result"
    }
   ],
   "source": [
    "train.shape"
   ]
  },
  {
   "cell_type": "code",
   "execution_count": 8,
   "id": "b304aa87",
   "metadata": {},
   "outputs": [
    {
     "data": {
      "text/plain": [
       "(85, 3)"
      ]
     },
     "execution_count": 8,
     "metadata": {},
     "output_type": "execute_result"
    }
   ],
   "source": [
    "validate.shape"
   ]
  },
  {
   "cell_type": "code",
   "execution_count": 9,
   "id": "8c1babec",
   "metadata": {},
   "outputs": [
    {
     "data": {
      "text/plain": [
       "(71, 3)"
      ]
     },
     "execution_count": 9,
     "metadata": {},
     "output_type": "execute_result"
    }
   ],
   "source": [
    "test.shape"
   ]
  },
  {
   "cell_type": "code",
   "execution_count": 10,
   "id": "7a35cefa",
   "metadata": {},
   "outputs": [],
   "source": [
    "# Vectorizing and 'learning' on train dataset\n",
    "\n",
    "tfidf = TfidfVectorizer()\n",
    "X_train = tfidf.fit_transform(train.content)\n",
    "y_train = train.language"
   ]
  },
  {
   "cell_type": "code",
   "execution_count": 11,
   "id": "dd0cb57f",
   "metadata": {},
   "outputs": [
    {
     "data": {
      "text/plain": [
       "<197x13439 sparse matrix of type '<class 'numpy.float64'>'\n",
       "\twith 33640 stored elements in Compressed Sparse Row format>"
      ]
     },
     "execution_count": 11,
     "metadata": {},
     "output_type": "execute_result"
    }
   ],
   "source": [
    "X_train"
   ]
  },
  {
   "cell_type": "code",
   "execution_count": 12,
   "id": "73cd4586",
   "metadata": {},
   "outputs": [
    {
     "data": {
      "text/plain": [
       "115       C++\n",
       "395      HTML\n",
       "166        C#\n",
       "26        C++\n",
       "162       C++\n",
       "        ...  \n",
       "217    Python\n",
       "156       C++\n",
       "116    Python\n",
       "158      Java\n",
       "153      Java\n",
       "Name: language, Length: 197, dtype: object"
      ]
     },
     "execution_count": 12,
     "metadata": {},
     "output_type": "execute_result"
    }
   ],
   "source": [
    "y_train"
   ]
  },
  {
   "cell_type": "code",
   "execution_count": 13,
   "id": "3aecf5d7",
   "metadata": {},
   "outputs": [],
   "source": [
    "# Applying the vectorization without giving out the content of validate\n",
    "X_validate = tfidf.transform(validate.content)\n",
    "y_validate = validate.language"
   ]
  },
  {
   "cell_type": "code",
   "execution_count": 14,
   "id": "e819dc1a",
   "metadata": {},
   "outputs": [],
   "source": [
    "# Applying the vectorization without giving out the content of validate\n",
    "X_test = tfidf.transform(test.content)\n",
    "y_test = test.language"
   ]
  },
  {
   "cell_type": "code",
   "execution_count": 17,
   "id": "95db02d9",
   "metadata": {},
   "outputs": [
    {
     "data": {
      "text/plain": [
       "((85, 13439), (197, 13439))"
      ]
     },
     "execution_count": 17,
     "metadata": {},
     "output_type": "execute_result"
    }
   ],
   "source": [
    "X_validate.shape, X_train.shape"
   ]
  },
  {
   "cell_type": "markdown",
   "id": "4e9cc01b",
   "metadata": {},
   "source": [
    "## Logistic Regression Models"
   ]
  },
  {
   "cell_type": "markdown",
   "id": "8b48e61d",
   "metadata": {},
   "source": [
    ">### Building a baseline and fitting the train dataset and modeling"
   ]
  },
  {
   "cell_type": "code",
   "execution_count": 18,
   "id": "a51b0e35",
   "metadata": {},
   "outputs": [],
   "source": [
    "# Creating a dataframe of the target variable\n",
    "model_train = pd.DataFrame(dict(actual=y_train))"
   ]
  },
  {
   "cell_type": "code",
   "execution_count": 19,
   "id": "61101c53",
   "metadata": {},
   "outputs": [
    {
     "data": {
      "text/html": [
       "<div>\n",
       "<style scoped>\n",
       "    .dataframe tbody tr th:only-of-type {\n",
       "        vertical-align: middle;\n",
       "    }\n",
       "\n",
       "    .dataframe tbody tr th {\n",
       "        vertical-align: top;\n",
       "    }\n",
       "\n",
       "    .dataframe thead th {\n",
       "        text-align: right;\n",
       "    }\n",
       "</style>\n",
       "<table border=\"1\" class=\"dataframe\">\n",
       "  <thead>\n",
       "    <tr style=\"text-align: right;\">\n",
       "      <th></th>\n",
       "      <th>actual</th>\n",
       "    </tr>\n",
       "  </thead>\n",
       "  <tbody>\n",
       "    <tr>\n",
       "      <th>115</th>\n",
       "      <td>C++</td>\n",
       "    </tr>\n",
       "    <tr>\n",
       "      <th>395</th>\n",
       "      <td>HTML</td>\n",
       "    </tr>\n",
       "    <tr>\n",
       "      <th>166</th>\n",
       "      <td>C#</td>\n",
       "    </tr>\n",
       "    <tr>\n",
       "      <th>26</th>\n",
       "      <td>C++</td>\n",
       "    </tr>\n",
       "    <tr>\n",
       "      <th>162</th>\n",
       "      <td>C++</td>\n",
       "    </tr>\n",
       "  </tbody>\n",
       "</table>\n",
       "</div>"
      ],
      "text/plain": [
       "    actual\n",
       "115    C++\n",
       "395   HTML\n",
       "166     C#\n",
       "26     C++\n",
       "162    C++"
      ]
     },
     "execution_count": 19,
     "metadata": {},
     "output_type": "execute_result"
    }
   ],
   "source": [
    "model_train.head()"
   ]
  },
  {
   "cell_type": "code",
   "execution_count": 20,
   "id": "ce5ffb06",
   "metadata": {},
   "outputs": [
    {
     "data": {
      "text/plain": [
       "(8,\n",
       " array(['C++', 'HTML', 'C#', 'C', 'JavaScript', 'Java', 'Python',\n",
       "        'TypeScript'], dtype=object))"
      ]
     },
     "execution_count": 20,
     "metadata": {},
     "output_type": "execute_result"
    }
   ],
   "source": [
    "# Checking the unique content of the actuals\n",
    "model_train.actual.nunique(), model_train.actual.unique()"
   ]
  },
  {
   "cell_type": "code",
   "execution_count": 21,
   "id": "aedb743e",
   "metadata": {},
   "outputs": [
    {
     "data": {
      "text/plain": [
       "JavaScript    50\n",
       "C++           36\n",
       "Python        33\n",
       "C#            24\n",
       "C             18\n",
       "Java          16\n",
       "HTML          10\n",
       "TypeScript    10\n",
       "Name: actual, dtype: int64"
      ]
     },
     "execution_count": 21,
     "metadata": {},
     "output_type": "execute_result"
    }
   ],
   "source": [
    "# checking the value count to decide the baseline target\n",
    "model_train.actual.value_counts()"
   ]
  },
  {
   "cell_type": "code",
   "execution_count": 22,
   "id": "b54c2073",
   "metadata": {},
   "outputs": [
    {
     "data": {
      "text/html": [
       "<div>\n",
       "<style scoped>\n",
       "    .dataframe tbody tr th:only-of-type {\n",
       "        vertical-align: middle;\n",
       "    }\n",
       "\n",
       "    .dataframe tbody tr th {\n",
       "        vertical-align: top;\n",
       "    }\n",
       "\n",
       "    .dataframe thead th {\n",
       "        text-align: right;\n",
       "    }\n",
       "</style>\n",
       "<table border=\"1\" class=\"dataframe\">\n",
       "  <thead>\n",
       "    <tr style=\"text-align: right;\">\n",
       "      <th></th>\n",
       "      <th>actual</th>\n",
       "      <th>baseline</th>\n",
       "    </tr>\n",
       "  </thead>\n",
       "  <tbody>\n",
       "    <tr>\n",
       "      <th>115</th>\n",
       "      <td>C++</td>\n",
       "      <td>False</td>\n",
       "    </tr>\n",
       "    <tr>\n",
       "      <th>395</th>\n",
       "      <td>HTML</td>\n",
       "      <td>False</td>\n",
       "    </tr>\n",
       "    <tr>\n",
       "      <th>166</th>\n",
       "      <td>C#</td>\n",
       "      <td>False</td>\n",
       "    </tr>\n",
       "    <tr>\n",
       "      <th>26</th>\n",
       "      <td>C++</td>\n",
       "      <td>False</td>\n",
       "    </tr>\n",
       "    <tr>\n",
       "      <th>162</th>\n",
       "      <td>C++</td>\n",
       "      <td>False</td>\n",
       "    </tr>\n",
       "  </tbody>\n",
       "</table>\n",
       "</div>"
      ],
      "text/plain": [
       "    actual  baseline\n",
       "115    C++     False\n",
       "395   HTML     False\n",
       "166     C#     False\n",
       "26     C++     False\n",
       "162    C++     False"
      ]
     },
     "execution_count": 22,
     "metadata": {},
     "output_type": "execute_result"
    }
   ],
   "source": [
    "# Since JavaScript has the highest occurence I'll use it \n",
    "model_train['baseline'] = model_train['actual'] == 'JavaScript'\n",
    "model_train.head()"
   ]
  },
  {
   "cell_type": "code",
   "execution_count": 94,
   "id": "043d373f",
   "metadata": {},
   "outputs": [
    {
     "name": "stdout",
     "output_type": "stream",
     "text": [
      "The baseline model has an average capture rate for Javascript of:25.38%\n"
     ]
    }
   ],
   "source": [
    "# Calculating the baseline model\n",
    "print(f'The baseline model has an average capture rate for Javascript of:{model_train.baseline.mean():.2%}')"
   ]
  },
  {
   "cell_type": "code",
   "execution_count": 24,
   "id": "288945af",
   "metadata": {},
   "outputs": [],
   "source": [
    "# Applying the LogisticRegression (default settings) and predicting the occurence of the languages\n",
    "\n",
    "lm = LogisticRegression().fit(X_train, y_train)\n",
    "\n",
    "model_train['predicted'] = lm.predict(X_train)"
   ]
  },
  {
   "cell_type": "code",
   "execution_count": 25,
   "id": "1b1c483c",
   "metadata": {},
   "outputs": [
    {
     "data": {
      "text/html": [
       "<div>\n",
       "<style scoped>\n",
       "    .dataframe tbody tr th:only-of-type {\n",
       "        vertical-align: middle;\n",
       "    }\n",
       "\n",
       "    .dataframe tbody tr th {\n",
       "        vertical-align: top;\n",
       "    }\n",
       "\n",
       "    .dataframe thead th {\n",
       "        text-align: right;\n",
       "    }\n",
       "</style>\n",
       "<table border=\"1\" class=\"dataframe\">\n",
       "  <thead>\n",
       "    <tr style=\"text-align: right;\">\n",
       "      <th></th>\n",
       "      <th>actual</th>\n",
       "      <th>baseline</th>\n",
       "      <th>predicted</th>\n",
       "    </tr>\n",
       "  </thead>\n",
       "  <tbody>\n",
       "    <tr>\n",
       "      <th>115</th>\n",
       "      <td>C++</td>\n",
       "      <td>False</td>\n",
       "      <td>C++</td>\n",
       "    </tr>\n",
       "    <tr>\n",
       "      <th>395</th>\n",
       "      <td>HTML</td>\n",
       "      <td>False</td>\n",
       "      <td>HTML</td>\n",
       "    </tr>\n",
       "    <tr>\n",
       "      <th>166</th>\n",
       "      <td>C#</td>\n",
       "      <td>False</td>\n",
       "      <td>C#</td>\n",
       "    </tr>\n",
       "    <tr>\n",
       "      <th>26</th>\n",
       "      <td>C++</td>\n",
       "      <td>False</td>\n",
       "      <td>C++</td>\n",
       "    </tr>\n",
       "    <tr>\n",
       "      <th>162</th>\n",
       "      <td>C++</td>\n",
       "      <td>False</td>\n",
       "      <td>C++</td>\n",
       "    </tr>\n",
       "  </tbody>\n",
       "</table>\n",
       "</div>"
      ],
      "text/plain": [
       "    actual  baseline predicted\n",
       "115    C++     False       C++\n",
       "395   HTML     False      HTML\n",
       "166     C#     False        C#\n",
       "26     C++     False       C++\n",
       "162    C++     False       C++"
      ]
     },
     "execution_count": 25,
     "metadata": {},
     "output_type": "execute_result"
    }
   ],
   "source": [
    "# Displaying actual, baseline, and pedicted\n",
    "model_train.head()"
   ]
  },
  {
   "cell_type": "code",
   "execution_count": 26,
   "id": "3e15c2eb",
   "metadata": {},
   "outputs": [
    {
     "name": "stdout",
     "output_type": "stream",
     "text": [
      "Accuracy: 85.79%\n",
      "------------------\n",
      "Confusion Matrix\n",
      "actual       C  C#  C++  HTML  Java  JavaScript  Python  TypeScript\n",
      "predicted                                                          \n",
      "C           11   0    0     0     0           0       0           0\n",
      "C#           0  24    0     0     0           0       0           0\n",
      "C++          2   0   35     0     2           0       1           0\n",
      "HTML         0   0    0     6     0           0       0           0\n",
      "Java         0   0    0     0     9           0       0           0\n",
      "JavaScript   5   0    1     4     5          50       0           8\n",
      "Python       0   0    0     0     0           0      32           0\n",
      "TypeScript   0   0    0     0     0           0       0           2\n",
      "------------------\n",
      "Classification Report\n",
      "\n",
      "\n",
      "              precision    recall  f1-score   support\n",
      "\n",
      "           C       1.00      0.61      0.76        18\n",
      "          C#       1.00      1.00      1.00        24\n",
      "         C++       0.88      0.97      0.92        36\n",
      "        HTML       1.00      0.60      0.75        10\n",
      "        Java       1.00      0.56      0.72        16\n",
      "  JavaScript       0.68      1.00      0.81        50\n",
      "      Python       1.00      0.97      0.98        33\n",
      "  TypeScript       1.00      0.20      0.33        10\n",
      "\n",
      "    accuracy                           0.86       197\n",
      "   macro avg       0.94      0.74      0.79       197\n",
      "weighted avg       0.90      0.86      0.84       197\n",
      "\n"
     ]
    }
   ],
   "source": [
    "# Displaying the accuracy and c;assification report of the model\n",
    "\n",
    "print('Accuracy: {:.2%}'.format(accuracy_score(model_train.actual, model_train.predicted)))\n",
    "print('------------------')\n",
    "print('Confusion Matrix')\n",
    "print(pd.crosstab(model_train.predicted, model_train.actual))\n",
    "print('------------------')\n",
    "print('Classification Report')\n",
    "print('\\n')\n",
    "print(classification_report(model_train.actual, model_train.predicted))"
   ]
  },
  {
   "cell_type": "markdown",
   "id": "89711cdd",
   "metadata": {},
   "source": [
    ">### Running model on validate dadtaset"
   ]
  },
  {
   "cell_type": "code",
   "execution_count": 31,
   "id": "1efa21b1",
   "metadata": {},
   "outputs": [
    {
     "data": {
      "text/html": [
       "<div>\n",
       "<style scoped>\n",
       "    .dataframe tbody tr th:only-of-type {\n",
       "        vertical-align: middle;\n",
       "    }\n",
       "\n",
       "    .dataframe tbody tr th {\n",
       "        vertical-align: top;\n",
       "    }\n",
       "\n",
       "    .dataframe thead th {\n",
       "        text-align: right;\n",
       "    }\n",
       "</style>\n",
       "<table border=\"1\" class=\"dataframe\">\n",
       "  <thead>\n",
       "    <tr style=\"text-align: right;\">\n",
       "      <th></th>\n",
       "      <th>actual</th>\n",
       "      <th>baseline</th>\n",
       "      <th>predicted</th>\n",
       "    </tr>\n",
       "  </thead>\n",
       "  <tbody>\n",
       "    <tr>\n",
       "      <th>115</th>\n",
       "      <td>C++</td>\n",
       "      <td>False</td>\n",
       "      <td>C++</td>\n",
       "    </tr>\n",
       "    <tr>\n",
       "      <th>395</th>\n",
       "      <td>HTML</td>\n",
       "      <td>False</td>\n",
       "      <td>HTML</td>\n",
       "    </tr>\n",
       "    <tr>\n",
       "      <th>166</th>\n",
       "      <td>C#</td>\n",
       "      <td>False</td>\n",
       "      <td>C#</td>\n",
       "    </tr>\n",
       "    <tr>\n",
       "      <th>26</th>\n",
       "      <td>C++</td>\n",
       "      <td>False</td>\n",
       "      <td>C++</td>\n",
       "    </tr>\n",
       "    <tr>\n",
       "      <th>162</th>\n",
       "      <td>C++</td>\n",
       "      <td>False</td>\n",
       "      <td>C++</td>\n",
       "    </tr>\n",
       "  </tbody>\n",
       "</table>\n",
       "</div>"
      ],
      "text/plain": [
       "    actual  baseline predicted\n",
       "115    C++     False       C++\n",
       "395   HTML     False      HTML\n",
       "166     C#     False        C#\n",
       "26     C++     False       C++\n",
       "162    C++     False       C++"
      ]
     },
     "execution_count": 31,
     "metadata": {},
     "output_type": "execute_result"
    }
   ],
   "source": [
    "model_train.head()"
   ]
  },
  {
   "cell_type": "code",
   "execution_count": 37,
   "id": "933ebf95",
   "metadata": {},
   "outputs": [],
   "source": [
    "model_validate = pd.DataFrame(dict(actual=y_validate))"
   ]
  },
  {
   "cell_type": "code",
   "execution_count": 38,
   "id": "66c3346f",
   "metadata": {},
   "outputs": [
    {
     "data": {
      "text/html": [
       "<div>\n",
       "<style scoped>\n",
       "    .dataframe tbody tr th:only-of-type {\n",
       "        vertical-align: middle;\n",
       "    }\n",
       "\n",
       "    .dataframe tbody tr th {\n",
       "        vertical-align: top;\n",
       "    }\n",
       "\n",
       "    .dataframe thead th {\n",
       "        text-align: right;\n",
       "    }\n",
       "</style>\n",
       "<table border=\"1\" class=\"dataframe\">\n",
       "  <thead>\n",
       "    <tr style=\"text-align: right;\">\n",
       "      <th></th>\n",
       "      <th>actual</th>\n",
       "    </tr>\n",
       "  </thead>\n",
       "  <tbody>\n",
       "    <tr>\n",
       "      <th>183</th>\n",
       "      <td>C++</td>\n",
       "    </tr>\n",
       "    <tr>\n",
       "      <th>140</th>\n",
       "      <td>JavaScript</td>\n",
       "    </tr>\n",
       "    <tr>\n",
       "      <th>334</th>\n",
       "      <td>C</td>\n",
       "    </tr>\n",
       "    <tr>\n",
       "      <th>60</th>\n",
       "      <td>Python</td>\n",
       "    </tr>\n",
       "    <tr>\n",
       "      <th>196</th>\n",
       "      <td>C++</td>\n",
       "    </tr>\n",
       "  </tbody>\n",
       "</table>\n",
       "</div>"
      ],
      "text/plain": [
       "         actual\n",
       "183         C++\n",
       "140  JavaScript\n",
       "334           C\n",
       "60       Python\n",
       "196         C++"
      ]
     },
     "execution_count": 38,
     "metadata": {},
     "output_type": "execute_result"
    }
   ],
   "source": [
    "model_validate.head()"
   ]
  },
  {
   "cell_type": "code",
   "execution_count": 39,
   "id": "cf3ef91d",
   "metadata": {},
   "outputs": [],
   "source": [
    "# Predicting on validate\n",
    "model_validate['validate_pred'] = lm.predict(X_validate)"
   ]
  },
  {
   "cell_type": "code",
   "execution_count": 40,
   "id": "84951ca3",
   "metadata": {},
   "outputs": [
    {
     "data": {
      "text/html": [
       "<div>\n",
       "<style scoped>\n",
       "    .dataframe tbody tr th:only-of-type {\n",
       "        vertical-align: middle;\n",
       "    }\n",
       "\n",
       "    .dataframe tbody tr th {\n",
       "        vertical-align: top;\n",
       "    }\n",
       "\n",
       "    .dataframe thead th {\n",
       "        text-align: right;\n",
       "    }\n",
       "</style>\n",
       "<table border=\"1\" class=\"dataframe\">\n",
       "  <thead>\n",
       "    <tr style=\"text-align: right;\">\n",
       "      <th></th>\n",
       "      <th>actual</th>\n",
       "      <th>validate_pred</th>\n",
       "    </tr>\n",
       "  </thead>\n",
       "  <tbody>\n",
       "    <tr>\n",
       "      <th>183</th>\n",
       "      <td>C++</td>\n",
       "      <td>JavaScript</td>\n",
       "    </tr>\n",
       "    <tr>\n",
       "      <th>140</th>\n",
       "      <td>JavaScript</td>\n",
       "      <td>JavaScript</td>\n",
       "    </tr>\n",
       "    <tr>\n",
       "      <th>334</th>\n",
       "      <td>C</td>\n",
       "      <td>C++</td>\n",
       "    </tr>\n",
       "    <tr>\n",
       "      <th>60</th>\n",
       "      <td>Python</td>\n",
       "      <td>C++</td>\n",
       "    </tr>\n",
       "    <tr>\n",
       "      <th>196</th>\n",
       "      <td>C++</td>\n",
       "      <td>C++</td>\n",
       "    </tr>\n",
       "  </tbody>\n",
       "</table>\n",
       "</div>"
      ],
      "text/plain": [
       "         actual validate_pred\n",
       "183         C++    JavaScript\n",
       "140  JavaScript    JavaScript\n",
       "334           C           C++\n",
       "60       Python           C++\n",
       "196         C++           C++"
      ]
     },
     "execution_count": 40,
     "metadata": {},
     "output_type": "execute_result"
    }
   ],
   "source": [
    "model_validate.head()"
   ]
  },
  {
   "cell_type": "code",
   "execution_count": 41,
   "id": "c152ac1c",
   "metadata": {},
   "outputs": [
    {
     "name": "stdout",
     "output_type": "stream",
     "text": [
      "Accuracy: 45.88%\n",
      "------------------\n",
      "Confusion Matrix\n",
      "actual         C  C#  C++  HTML  Java  JavaScript  Python  TypeScript\n",
      "validate_pred                                                        \n",
      "C              1   0    0     0     0           0       0           0\n",
      "C#             0   2    0     0     0           0       0           0\n",
      "C++            1   0    6     0     3           0       1           0\n",
      "HTML           0   0    0     2     0           0       0           0\n",
      "JavaScript     5   9    9     2     4          22       7           4\n",
      "Python         0   0    1     0     0           0       6           0\n",
      "------------------\n",
      "Classification Report\n",
      "\n",
      "\n",
      "              precision    recall  f1-score   support\n",
      "\n",
      "           C       1.00      0.14      0.25         7\n",
      "          C#       1.00      0.18      0.31        11\n",
      "         C++       0.55      0.38      0.44        16\n",
      "        HTML       1.00      0.50      0.67         4\n",
      "        Java       0.00      0.00      0.00         7\n",
      "  JavaScript       0.35      1.00      0.52        22\n",
      "      Python       0.86      0.43      0.57        14\n",
      "  TypeScript       0.00      0.00      0.00         4\n",
      "\n",
      "    accuracy                           0.46        85\n",
      "   macro avg       0.59      0.33      0.35        85\n",
      "weighted avg       0.59      0.46      0.41        85\n",
      "\n"
     ]
    }
   ],
   "source": [
    "print('Accuracy: {:.2%}'.format(accuracy_score(model_validate.actual, model_validate.validate_pred)))\n",
    "print('------------------')\n",
    "print('Confusion Matrix')\n",
    "print(pd.crosstab(model_validate.validate_pred, model_validate.actual))\n",
    "print('------------------')\n",
    "print('Classification Report')\n",
    "print('\\n')\n",
    "print(classification_report(model_validate.actual, model_validate.validate_pred))"
   ]
  },
  {
   "cell_type": "markdown",
   "id": "b342e353",
   "metadata": {},
   "source": [
    ">### Summary  \n",
    "        - The train dataset had an accuracy at 85.79%\n",
    "        - The validate dataset went down to 45.88%\n",
    "        - I will run a Random Forest Model to have a different perspective"
   ]
  },
  {
   "cell_type": "markdown",
   "id": "8d0e18de",
   "metadata": {},
   "source": [
    "## Random Forest Model"
   ]
  },
  {
   "cell_type": "code",
   "execution_count": 42,
   "id": "31ec95f4",
   "metadata": {},
   "outputs": [
    {
     "data": {
      "text/plain": [
       "<197x13439 sparse matrix of type '<class 'numpy.float64'>'\n",
       "\twith 33640 stored elements in Compressed Sparse Row format>"
      ]
     },
     "execution_count": 42,
     "metadata": {},
     "output_type": "execute_result"
    }
   ],
   "source": [
    "X_train"
   ]
  },
  {
   "cell_type": "code",
   "execution_count": 95,
   "id": "70fff670",
   "metadata": {},
   "outputs": [],
   "source": [
    "model_train_rf = pd.DataFrame(dict(actual=y_train))"
   ]
  },
  {
   "cell_type": "code",
   "execution_count": 97,
   "id": "916b7fc0",
   "metadata": {},
   "outputs": [
    {
     "data": {
      "text/html": [
       "<div>\n",
       "<style scoped>\n",
       "    .dataframe tbody tr th:only-of-type {\n",
       "        vertical-align: middle;\n",
       "    }\n",
       "\n",
       "    .dataframe tbody tr th {\n",
       "        vertical-align: top;\n",
       "    }\n",
       "\n",
       "    .dataframe thead th {\n",
       "        text-align: right;\n",
       "    }\n",
       "</style>\n",
       "<table border=\"1\" class=\"dataframe\">\n",
       "  <thead>\n",
       "    <tr style=\"text-align: right;\">\n",
       "      <th></th>\n",
       "      <th>actual</th>\n",
       "    </tr>\n",
       "  </thead>\n",
       "  <tbody>\n",
       "    <tr>\n",
       "      <th>115</th>\n",
       "      <td>C++</td>\n",
       "    </tr>\n",
       "    <tr>\n",
       "      <th>395</th>\n",
       "      <td>HTML</td>\n",
       "    </tr>\n",
       "  </tbody>\n",
       "</table>\n",
       "</div>"
      ],
      "text/plain": [
       "    actual\n",
       "115    C++\n",
       "395   HTML"
      ]
     },
     "execution_count": 97,
     "metadata": {},
     "output_type": "execute_result"
    }
   ],
   "source": [
    "model_train_rf.head(2)"
   ]
  },
  {
   "cell_type": "code",
   "execution_count": 101,
   "id": "e3dc85bc",
   "metadata": {
    "scrolled": false
   },
   "outputs": [
    {
     "name": "stdout",
     "output_type": "stream",
     "text": [
      "RandomForest depth 3\n",
      "\n",
      "              C     C#        C++   HTML       Java  JavaScript     Python  \\\n",
      "precision   0.0   1.00   1.000000   1.00   1.000000    0.316456   1.000000   \n",
      "recall      0.0   0.25   0.361111   0.60   0.062500    1.000000   0.393939   \n",
      "f1-score    0.0   0.40   0.530612   0.75   0.117647    0.480769   0.565217   \n",
      "support    18.0  24.00  36.000000  10.00  16.000000   50.000000  33.000000   \n",
      "\n",
      "           TypeScript  accuracy   macro avg  weighted avg  \n",
      "precision         0.0  0.451777    0.664557      0.684380  \n",
      "recall            0.0  0.451777    0.333444      0.451777  \n",
      "f1-score          0.0  0.451777    0.355531      0.410026  \n",
      "support          10.0  0.451777  197.000000    197.000000  \n",
      "\n",
      "=======================\n",
      "\n",
      "RandomForest depth 4\n",
      "\n",
      "              C         C#        C++   HTML       Java  JavaScript  \\\n",
      "precision   0.0   1.000000   1.000000   1.00   1.000000    0.340136   \n",
      "recall      0.0   0.375000   0.500000   0.60   0.062500    1.000000   \n",
      "f1-score    0.0   0.545455   0.666667   0.75   0.117647    0.507614   \n",
      "support    18.0  24.000000  36.000000  10.00  16.000000   50.000000   \n",
      "\n",
      "              Python  TypeScript  accuracy   macro avg  weighted avg  \n",
      "precision   1.000000         0.0  0.507614    0.667517      0.690390  \n",
      "recall      0.484848         0.0  0.507614    0.377794      0.507614  \n",
      "f1-score    0.653061         0.0  0.507614    0.405055      0.474137  \n",
      "support    33.000000        10.0  0.507614  197.000000    197.000000  \n",
      "\n",
      "=======================\n",
      "\n",
      "RandomForest depth 5\n",
      "\n",
      "              C         C#        C++   HTML       Java  JavaScript  \\\n",
      "precision   0.0   1.000000   1.000000   1.00   1.000000    0.370370   \n",
      "recall      0.0   0.583333   0.555556   0.60   0.062500    1.000000   \n",
      "f1-score    0.0   0.736842   0.714286   0.75   0.117647    0.540541   \n",
      "support    18.0  24.000000  36.000000  10.00  16.000000   50.000000   \n",
      "\n",
      "              Python  TypeScript  accuracy   macro avg  weighted avg  \n",
      "precision   1.000000    1.000000  0.568528    0.796296      0.748825  \n",
      "recall      0.575758    0.200000  0.568528    0.447143      0.568528  \n",
      "f1-score    0.730769    0.333333  0.568528    0.490427      0.544450  \n",
      "support    33.000000   10.000000  0.568528  197.000000    197.000000  \n",
      "\n",
      "=======================\n",
      "\n",
      "RandomForest depth 6\n",
      "\n",
      "                   C         C#        C++   HTML       Java  JavaScript  \\\n",
      "precision   1.000000   1.000000   0.956522   1.00   1.000000    0.400000   \n",
      "recall      0.166667   0.625000   0.611111   0.60   0.187500    1.000000   \n",
      "f1-score    0.285714   0.769231   0.745763   0.75   0.315789    0.571429   \n",
      "support    18.000000  24.000000  36.000000  10.00  16.000000   50.000000   \n",
      "\n",
      "              Python  TypeScript  accuracy   macro avg  weighted avg  \n",
      "precision   1.000000    1.000000  0.614213    0.919565      0.839770  \n",
      "recall      0.575758    0.300000  0.614213    0.508254      0.614213  \n",
      "f1-score    0.730769    0.461538  0.614213    0.578779      0.610694  \n",
      "support    33.000000   10.000000  0.614213  197.000000    197.000000  \n",
      "\n",
      "=======================\n",
      "\n",
      "RandomForest depth 7\n",
      "\n",
      "                   C         C#        C++   HTML       Java  JavaScript  \\\n",
      "precision   1.000000   1.000000   1.000000   1.00   1.000000    0.442478   \n",
      "recall      0.388889   0.708333   0.638889   0.60   0.437500    1.000000   \n",
      "f1-score    0.560000   0.829268   0.779661   0.75   0.608696    0.613497   \n",
      "support    18.000000  24.000000  36.000000  10.00  16.000000   50.000000   \n",
      "\n",
      "              Python  TypeScript  accuracy   macro avg  weighted avg  \n",
      "precision   1.000000    1.000000  0.680203    0.930310      0.858497  \n",
      "recall      0.606061    0.400000  0.680203    0.597459      0.680203  \n",
      "f1-score    0.754717    0.571429  0.680203    0.683408      0.693321  \n",
      "support    33.000000   10.000000  0.680203  197.000000    197.000000  \n",
      "\n",
      "=======================\n",
      "\n",
      "RandomForest depth 8\n",
      "\n",
      "                   C         C#        C++   HTML       Java  JavaScript  \\\n",
      "precision   1.000000   1.000000   1.000000   1.00   1.000000    0.462963   \n",
      "recall      0.500000   0.708333   0.694444   0.60   0.437500    1.000000   \n",
      "f1-score    0.666667   0.829268   0.819672   0.75   0.608696    0.632911   \n",
      "support    18.000000  24.000000  36.000000  10.00  16.000000   50.000000   \n",
      "\n",
      "              Python  TypeScript  accuracy   macro avg  weighted avg  \n",
      "precision   1.000000    1.000000  0.705584    0.932870      0.863696  \n",
      "recall      0.636364    0.400000  0.705584    0.622080      0.705584  \n",
      "f1-score    0.777778    0.571429  0.705584    0.707053      0.719169  \n",
      "support    33.000000   10.000000  0.705584  197.000000    197.000000  \n",
      "\n",
      "=======================\n",
      "\n",
      "RandomForest depth 9\n",
      "\n",
      "                   C         C#        C++       HTML       Java  JavaScript  \\\n",
      "precision   1.000000   1.000000   1.000000   1.000000   1.000000    0.495050   \n",
      "recall      0.611111   0.750000   0.694444   0.700000   0.500000    1.000000   \n",
      "f1-score    0.758621   0.857143   0.819672   0.823529   0.666667    0.662252   \n",
      "support    18.000000  24.000000  36.000000  10.000000  16.000000   50.000000   \n",
      "\n",
      "              Python  TypeScript  accuracy   macro avg  weighted avg  \n",
      "precision   1.000000        1.00  0.741117    0.936881      0.871840  \n",
      "recall      0.636364        0.60  0.741117    0.686490      0.741117  \n",
      "f1-score    0.777778        0.75  0.741117    0.764458      0.755919  \n",
      "support    33.000000       10.00  0.741117  197.000000    197.000000  \n",
      "\n",
      "=======================\n",
      "\n",
      "RandomForest depth 10\n",
      "\n",
      "                   C         C#        C++       HTML     Java  JavaScript  \\\n",
      "precision   1.000000   1.000000   1.000000   1.000000   1.0000    0.543478   \n",
      "recall      0.666667   0.833333   0.750000   0.700000   0.5625    1.000000   \n",
      "f1-score    0.800000   0.909091   0.857143   0.823529   0.7200    0.704225   \n",
      "support    18.000000  24.000000  36.000000  10.000000  16.0000   50.000000   \n",
      "\n",
      "              Python  TypeScript  accuracy   macro avg  weighted avg  \n",
      "precision   1.000000        1.00  0.786802    0.942935      0.884132  \n",
      "recall      0.727273        0.60  0.786802    0.729972      0.786802  \n",
      "f1-score    0.842105        0.75  0.786802    0.800762      0.798636  \n",
      "support    33.000000       10.00  0.786802  197.000000    197.000000  \n",
      "\n",
      "=======================\n",
      "\n",
      "RandomForest depth 11\n",
      "\n",
      "                   C         C#        C++       HTML     Java  JavaScript  \\\n",
      "precision   1.000000   1.000000   1.000000   1.000000   1.0000    0.568182   \n",
      "recall      0.722222   0.791667   0.750000   0.800000   0.5625    1.000000   \n",
      "f1-score    0.838710   0.883721   0.857143   0.888889   0.7200    0.724638   \n",
      "support    18.000000  24.000000  36.000000  10.000000  16.0000   50.000000   \n",
      "\n",
      "              Python  TypeScript  accuracy   macro avg  weighted avg  \n",
      "precision   1.000000    1.000000  0.807107    0.946023      0.890401  \n",
      "recall      0.787879    0.700000  0.807107    0.764283      0.807107  \n",
      "f1-score    0.881356    0.823529  0.807107    0.827248      0.817888  \n",
      "support    33.000000   10.000000  0.807107  197.000000    197.000000  \n",
      "\n",
      "=======================\n",
      "\n",
      "RandomForest depth 12\n",
      "\n",
      "                   C         C#        C++       HTML     Java  JavaScript  \\\n",
      "precision   1.000000   1.000000   1.000000   1.000000   1.0000    0.595238   \n",
      "recall      0.722222   0.875000   0.777778   0.800000   0.5625    1.000000   \n",
      "f1-score    0.838710   0.933333   0.875000   0.888889   0.7200    0.746269   \n",
      "support    18.000000  24.000000  36.000000  10.000000  16.0000   50.000000   \n",
      "\n",
      "              Python  TypeScript  accuracy   macro avg  weighted avg  \n",
      "precision   1.000000    1.000000  0.827411    0.949405      0.897269  \n",
      "recall      0.818182    0.700000  0.827411    0.781960      0.827411  \n",
      "f1-score    0.900000    0.823529  0.827411    0.840716      0.835809  \n",
      "support    33.000000   10.000000  0.827411  197.000000    197.000000  \n",
      "\n",
      "=======================\n",
      "\n"
     ]
    }
   ],
   "source": [
    "# Writing a loop to capture a certain range of depth for the model to consider\n",
    "for i in range(3, 13):\n",
    "    multi_depth = RandomForestClassifier(max_depth=i, random_state=175)\n",
    "\n",
    "    all_rf = multi_depth.fit(X_train, y_train)\n",
    "\n",
    "    y_pred = all_rf.predict(X_train)\n",
    "\n",
    "    report = classification_report(y_train, y_pred, output_dict=True)\n",
    "    print(f'RandomForest depth {i}\\n')\n",
    "    print(pd.DataFrame(report))\n",
    "    print('\\n=======================\\n')"
   ]
  },
  {
   "cell_type": "markdown",
   "id": "9e2b94ea",
   "metadata": {},
   "source": [
    ">### The bext depth is depth 12 with an accuracy at 82.74%"
   ]
  },
  {
   "cell_type": "markdown",
   "id": "1c61a1a9",
   "metadata": {},
   "source": [
    ">### On out-of-sample data, Validate"
   ]
  },
  {
   "cell_type": "code",
   "execution_count": 66,
   "id": "cf0482f4",
   "metadata": {
    "scrolled": false
   },
   "outputs": [
    {
     "name": "stdout",
     "output_type": "stream",
     "text": [
      "RandomForest depth 3\n",
      "\n",
      "             C         C#        C++  HTML  Java  JavaScript     Python  \\\n",
      "precision  0.0   1.000000   1.000000   0.0   0.0    0.360656   1.000000   \n",
      "recall     0.0   0.363636   0.687500   0.0   0.0    1.000000   0.500000   \n",
      "f1-score   0.0   0.533333   0.814815   0.0   0.0    0.530120   0.666667   \n",
      "support    7.0  11.000000  16.000000   4.0   7.0   22.000000  14.000000   \n",
      "\n",
      "           TypeScript  accuracy  macro avg  weighted avg  \n",
      "precision    1.000000  0.541176   0.545082      0.622758  \n",
      "recall       0.500000  0.541176   0.381392      0.541176  \n",
      "f1-score     0.666667  0.541176   0.401450      0.500781  \n",
      "support      4.000000  0.541176  85.000000     85.000000  \n",
      "\n",
      "=======================\n",
      "\n",
      "RandomForest depth 4\n",
      "\n",
      "                  C         C#        C++  HTML      Java  JavaScript  \\\n",
      "precision  1.000000   1.000000   1.000000   0.0  1.000000    0.431373   \n",
      "recall     0.428571   0.727273   0.750000   0.0  0.142857    1.000000   \n",
      "f1-score   0.600000   0.842105   0.857143   0.0  0.250000    0.602740   \n",
      "support    7.000000  11.000000  16.000000   4.0  7.000000   22.000000   \n",
      "\n",
      "              Python  TypeScript  accuracy  macro avg  weighted avg  \n",
      "precision   1.000000    1.000000  0.658824   0.803922      0.805767  \n",
      "recall      0.571429    0.500000  0.658824   0.515016      0.658824  \n",
      "f1-score    0.727273    0.666667  0.658824   0.568241      0.647485  \n",
      "support    14.000000    4.000000  0.658824  85.000000     85.000000  \n",
      "\n",
      "=======================\n",
      "\n",
      "RandomForest depth 5\n",
      "\n",
      "                  C         C#        C++      HTML      Java  JavaScript  \\\n",
      "precision  1.000000   1.000000   1.000000  1.000000  1.000000    0.511628   \n",
      "recall     0.857143   0.818182   0.750000  0.500000  0.428571    1.000000   \n",
      "f1-score   0.923077   0.900000   0.857143  0.666667  0.600000    0.676923   \n",
      "support    7.000000  11.000000  16.000000  4.000000  7.000000   22.000000   \n",
      "\n",
      "              Python  TypeScript  accuracy  macro avg  weighted avg  \n",
      "precision   1.000000    1.000000  0.752941   0.938953      0.873598  \n",
      "recall      0.571429    0.500000  0.752941   0.678166      0.752941  \n",
      "f1-score    0.727273    0.666667  0.752941   0.752219      0.760980  \n",
      "support    14.000000    4.000000  0.752941  85.000000     85.000000  \n",
      "\n",
      "=======================\n",
      "\n",
      "RandomForest depth 6\n",
      "\n",
      "             C         C#        C++      HTML      Java  JavaScript  \\\n",
      "precision  1.0   1.000000   1.000000  1.000000  1.000000    0.647059   \n",
      "recall     1.0   0.818182   0.750000  0.750000  0.714286    1.000000   \n",
      "f1-score   1.0   0.900000   0.857143  0.857143  0.833333    0.785714   \n",
      "support    7.0  11.000000  16.000000  4.000000  7.000000   22.000000   \n",
      "\n",
      "              Python  TypeScript  accuracy  macro avg  weighted avg  \n",
      "precision   1.000000         1.0  0.858824   0.955882      0.908651  \n",
      "recall      0.785714         1.0  0.858824   0.852273      0.858824  \n",
      "f1-score    0.880000         1.0  0.858824   0.889167      0.864493  \n",
      "support    14.000000         4.0  0.858824  85.000000     85.000000  \n",
      "\n",
      "=======================\n",
      "\n",
      "RandomForest depth 7\n",
      "\n",
      "             C         C#        C++      HTML      Java  JavaScript  \\\n",
      "precision  1.0   1.000000   1.000000  1.000000  1.000000    0.666667   \n",
      "recall     1.0   0.818182   0.812500  0.750000  0.714286    1.000000   \n",
      "f1-score   1.0   0.900000   0.896552  0.857143  0.833333    0.800000   \n",
      "support    7.0  11.000000  16.000000  4.000000  7.000000   22.000000   \n",
      "\n",
      "              Python  TypeScript  accuracy  macro avg  weighted avg  \n",
      "precision   1.000000         1.0  0.870588   0.958333      0.913725  \n",
      "recall      0.785714         1.0  0.870588   0.860085      0.870588  \n",
      "f1-score    0.880000         1.0  0.870588   0.895878      0.875609  \n",
      "support    14.000000         4.0  0.870588  85.000000     85.000000  \n",
      "\n",
      "=======================\n",
      "\n",
      "RandomForest depth 8\n",
      "\n",
      "             C         C#        C++      HTML      Java  JavaScript  \\\n",
      "precision  1.0   1.000000   1.000000  1.000000  1.000000    0.666667   \n",
      "recall     1.0   0.818182   0.812500  0.750000  0.714286    1.000000   \n",
      "f1-score   1.0   0.900000   0.896552  0.857143  0.833333    0.800000   \n",
      "support    7.0  11.000000  16.000000  4.000000  7.000000   22.000000   \n",
      "\n",
      "              Python  TypeScript  accuracy  macro avg  weighted avg  \n",
      "precision   1.000000         1.0  0.870588   0.958333      0.913725  \n",
      "recall      0.785714         1.0  0.870588   0.860085      0.870588  \n",
      "f1-score    0.880000         1.0  0.870588   0.895878      0.875609  \n",
      "support    14.000000         4.0  0.870588  85.000000     85.000000  \n",
      "\n",
      "=======================\n",
      "\n",
      "RandomForest depth 9\n",
      "\n",
      "             C         C#        C++      HTML      Java  JavaScript  \\\n",
      "precision  1.0   1.000000   1.000000  1.000000  1.000000    0.666667   \n",
      "recall     1.0   0.818182   0.812500  0.750000  0.714286    1.000000   \n",
      "f1-score   1.0   0.900000   0.896552  0.857143  0.833333    0.800000   \n",
      "support    7.0  11.000000  16.000000  4.000000  7.000000   22.000000   \n",
      "\n",
      "              Python  TypeScript  accuracy  macro avg  weighted avg  \n",
      "precision   1.000000         1.0  0.870588   0.958333      0.913725  \n",
      "recall      0.785714         1.0  0.870588   0.860085      0.870588  \n",
      "f1-score    0.880000         1.0  0.870588   0.895878      0.875609  \n",
      "support    14.000000         4.0  0.870588  85.000000     85.000000  \n",
      "\n",
      "=======================\n",
      "\n",
      "RandomForest depth 10\n",
      "\n",
      "             C         C#        C++      HTML      Java  JavaScript  \\\n",
      "precision  1.0   1.000000   1.000000  1.000000  1.000000    0.666667   \n",
      "recall     1.0   0.818182   0.812500  0.750000  0.714286    1.000000   \n",
      "f1-score   1.0   0.900000   0.896552  0.857143  0.833333    0.800000   \n",
      "support    7.0  11.000000  16.000000  4.000000  7.000000   22.000000   \n",
      "\n",
      "              Python  TypeScript  accuracy  macro avg  weighted avg  \n",
      "precision   1.000000         1.0  0.870588   0.958333      0.913725  \n",
      "recall      0.785714         1.0  0.870588   0.860085      0.870588  \n",
      "f1-score    0.880000         1.0  0.870588   0.895878      0.875609  \n",
      "support    14.000000         4.0  0.870588  85.000000     85.000000  \n",
      "\n",
      "=======================\n",
      "\n",
      "RandomForest depth 11\n",
      "\n",
      "             C         C#        C++      HTML      Java  JavaScript  \\\n",
      "precision  1.0   1.000000   1.000000  1.000000  1.000000    0.709677   \n",
      "recall     1.0   0.818182   0.812500  0.750000  0.714286    1.000000   \n",
      "f1-score   1.0   0.900000   0.896552  0.857143  0.833333    0.830189   \n",
      "support    7.0  11.000000  16.000000  4.000000  7.000000   22.000000   \n",
      "\n",
      "              Python  TypeScript  accuracy  macro avg  weighted avg  \n",
      "precision   1.000000         1.0  0.894118   0.963710      0.924858  \n",
      "recall      0.928571         1.0  0.894118   0.877942      0.894118  \n",
      "f1-score    0.962963         1.0  0.894118   0.910022      0.897087  \n",
      "support    14.000000         4.0  0.894118  85.000000     85.000000  \n",
      "\n",
      "=======================\n",
      "\n",
      "RandomForest depth 12\n",
      "\n",
      "             C         C#        C++      HTML      Java  JavaScript  \\\n",
      "precision  1.0   1.000000   1.000000  1.000000  1.000000    0.709677   \n",
      "recall     1.0   0.818182   0.812500  0.750000  0.714286    1.000000   \n",
      "f1-score   1.0   0.900000   0.896552  0.857143  0.833333    0.830189   \n",
      "support    7.0  11.000000  16.000000  4.000000  7.000000   22.000000   \n",
      "\n",
      "              Python  TypeScript  accuracy  macro avg  weighted avg  \n",
      "precision   1.000000         1.0  0.894118   0.963710      0.924858  \n",
      "recall      0.928571         1.0  0.894118   0.877942      0.894118  \n",
      "f1-score    0.962963         1.0  0.894118   0.910022      0.897087  \n",
      "support    14.000000         4.0  0.894118  85.000000     85.000000  \n",
      "\n",
      "=======================\n",
      "\n"
     ]
    }
   ],
   "source": [
    "for i in range(3, 13):\n",
    "    multi_depth = RandomForestClassifier(max_depth=i, random_state=175)\n",
    "\n",
    "    all_rf = multi_depth.fit(X_validate, y_validate)\n",
    "\n",
    "    y_pred_validate = all_rf.predict(X_validate)\n",
    "\n",
    "    report = classification_report(y_validate, y_pred_validate, output_dict=True)\n",
    "    print(f'RandomForest depth {i}\\n')\n",
    "    print(pd.DataFrame(report))\n",
    "    print('\\n=======================\\n')"
   ]
  },
  {
   "cell_type": "markdown",
   "id": "1eb86a0e",
   "metadata": {},
   "source": [
    ">### Summary  \n",
    "        - The best depth for the train dataset is 12 with an accuracy at "
   ]
  },
  {
   "cell_type": "markdown",
   "id": "c5b5766f",
   "metadata": {},
   "source": [
    "## K Nearest Neighbor Model (KNN) "
   ]
  },
  {
   "cell_type": "code",
   "execution_count": 69,
   "id": "aa426ca0",
   "metadata": {},
   "outputs": [],
   "source": [
    "# KNN Default values\n",
    "knn = KNeighborsClassifier()"
   ]
  },
  {
   "cell_type": "code",
   "execution_count": null,
   "id": "4991e224",
   "metadata": {},
   "outputs": [],
   "source": [
    "knn.fit(X_train, y_train)"
   ]
  },
  {
   "cell_type": "code",
   "execution_count": null,
   "id": "497cc8e6",
   "metadata": {},
   "outputs": [],
   "source": [
    "KNeighborsClassifier()"
   ]
  },
  {
   "cell_type": "code",
   "execution_count": null,
   "id": "633531ec",
   "metadata": {},
   "outputs": [],
   "source": [
    "y_pred = knn.predict(X_train)"
   ]
  },
  {
   "cell_type": "code",
   "execution_count": 72,
   "id": "c5d1dfd7",
   "metadata": {
    "scrolled": false
   },
   "outputs": [
    {
     "name": "stdout",
     "output_type": "stream",
     "text": [
      "KNN depth 3\n",
      "\n",
      "                   C     C#        C++   HTML       Java  JavaScript  \\\n",
      "precision   0.173077   1.00   0.952381   1.00   1.000000    1.000000   \n",
      "recall      1.000000   0.25   0.555556   0.60   0.437500    0.560000   \n",
      "f1-score    0.295082   0.40   0.701754   0.75   0.608696    0.717949   \n",
      "support    18.000000  24.00  36.000000  10.00  16.000000   50.000000   \n",
      "\n",
      "              Python  TypeScript  accuracy   macro avg  weighted avg  \n",
      "precision   1.000000    1.000000  0.558376    0.890682      0.915742  \n",
      "recall      0.666667    0.300000  0.558376    0.546215      0.558376  \n",
      "f1-score    0.800000    0.461538  0.558376    0.591877      0.631099  \n",
      "support    33.000000   10.000000  0.558376  197.000000    197.000000  \n",
      "\n",
      "=======================\n",
      "\n",
      "KNN depth 4\n",
      "\n",
      "               C     C#        C++   HTML       Java  JavaScript     Python  \\\n",
      "precision   0.25   0.75   0.913043   1.00   0.909091    0.820513   0.923077   \n",
      "recall      1.00   0.50   0.583333   0.60   0.625000    0.640000   0.727273   \n",
      "f1-score    0.40   0.60   0.711864   0.75   0.740741    0.719101   0.813559   \n",
      "support    18.00  24.00  36.000000  10.00  16.000000   50.000000  33.000000   \n",
      "\n",
      "           TypeScript  accuracy   macro avg  weighted avg  \n",
      "precision    0.750000  0.639594    0.789466      0.806610  \n",
      "recall       0.300000  0.639594    0.621951      0.639594  \n",
      "f1-score     0.428571  0.639594    0.645480      0.678514  \n",
      "support     10.000000  0.639594  197.000000    197.000000  \n",
      "\n",
      "=======================\n",
      "\n",
      "KNN depth 5\n",
      "\n",
      "                   C         C#        C++   HTML       Java  JavaScript  \\\n",
      "precision   0.367347   0.714286   0.564103   1.00   0.888889    0.727273   \n",
      "recall      1.000000   0.625000   0.611111   0.60   0.500000    0.640000   \n",
      "f1-score    0.537313   0.666667   0.586667   0.75   0.640000    0.680851   \n",
      "support    18.000000  24.000000  36.000000  10.00  16.000000   50.000000   \n",
      "\n",
      "              Python  TypeScript  accuracy   macro avg  weighted avg  \n",
      "precision   0.916667         0.6  0.639594    0.722320      0.715222  \n",
      "recall      0.666667         0.3  0.639594    0.617847      0.639594  \n",
      "f1-score    0.771930         0.4  0.639594    0.629178      0.649989  \n",
      "support    33.000000        10.0  0.639594  197.000000    197.000000  \n",
      "\n",
      "=======================\n",
      "\n",
      "KNN depth 6\n",
      "\n",
      "                   C         C#        C++   HTML       Java  JavaScript  \\\n",
      "precision   0.326531   0.560000   0.600000   1.00   0.750000    0.736842   \n",
      "recall      0.888889   0.583333   0.583333   0.60   0.562500    0.560000   \n",
      "f1-score    0.477612   0.571429   0.591549   0.75   0.642857    0.636364   \n",
      "support    18.000000  24.000000  36.000000  10.00  16.000000   50.000000   \n",
      "\n",
      "              Python  TypeScript  accuracy   macro avg  weighted avg  \n",
      "precision   0.793103         0.0  0.593909    0.595810      0.639249  \n",
      "recall      0.696970         0.0  0.593909    0.559378      0.593909  \n",
      "f1-score    0.741935         0.0  0.593909    0.551468      0.597436  \n",
      "support    33.000000        10.0  0.593909  197.000000    197.000000  \n",
      "\n",
      "=======================\n",
      "\n",
      "KNN depth 7\n",
      "\n",
      "                   C         C#        C++       HTML       Java  JavaScript  \\\n",
      "precision   0.352941   0.500000   0.513514   0.750000   0.571429    0.738095   \n",
      "recall      0.666667   0.666667   0.527778   0.600000   0.500000    0.620000   \n",
      "f1-score    0.461538   0.571429   0.520548   0.666667   0.533333    0.673913   \n",
      "support    18.000000  24.000000  36.000000  10.000000  16.000000   50.000000   \n",
      "\n",
      "              Python  TypeScript  accuracy   macro avg  weighted avg  \n",
      "precision   0.758621         0.0   0.57868    0.523075      0.585896  \n",
      "recall      0.666667         0.0   0.57868    0.530972      0.578680  \n",
      "f1-score    0.709677         0.0   0.57868    0.517138      0.573993  \n",
      "support    33.000000        10.0   0.57868  197.000000    197.000000  \n",
      "\n",
      "=======================\n",
      "\n",
      "KNN depth 8\n",
      "\n",
      "                   C         C#        C++       HTML       Java  JavaScript  \\\n",
      "precision   0.384615   0.533333   0.564103   0.750000   0.600000    0.714286   \n",
      "recall      0.555556   0.666667   0.611111   0.600000   0.562500    0.700000   \n",
      "f1-score    0.454545   0.592593   0.586667   0.666667   0.580645    0.707071   \n",
      "support    18.000000  24.000000  36.000000  10.000000  16.000000   50.000000   \n",
      "\n",
      "              Python  TypeScript  accuracy   macro avg  weighted avg  \n",
      "precision   0.724138         0.0  0.604061    0.533809      0.592597  \n",
      "recall      0.636364         0.0  0.604061    0.541525      0.604061  \n",
      "f1-score    0.677419         0.0  0.604061    0.533201      0.594870  \n",
      "support    33.000000        10.0  0.604061  197.000000    197.000000  \n",
      "\n",
      "=======================\n",
      "\n",
      "KNN depth 9\n",
      "\n",
      "                   C         C#        C++       HTML       Java  JavaScript  \\\n",
      "precision   0.450000   0.607143   0.534884   0.545455   0.571429    0.692308   \n",
      "recall      0.500000   0.708333   0.638889   0.600000   0.500000    0.720000   \n",
      "f1-score    0.473684   0.653846   0.582278   0.571429   0.533333    0.705882   \n",
      "support    18.000000  24.000000  36.000000  10.000000  16.000000   50.000000   \n",
      "\n",
      "              Python  TypeScript  accuracy   macro avg  weighted avg  \n",
      "precision   0.785714         0.0  0.614213    0.523366      0.594257  \n",
      "recall      0.666667         0.0  0.614213    0.541736      0.614213  \n",
      "f1-score    0.721311         0.0  0.614213    0.530221      0.601653  \n",
      "support    33.000000        10.0  0.614213  197.000000    197.000000  \n",
      "\n",
      "=======================\n",
      "\n",
      "KNN depth 10\n",
      "\n",
      "                   C         C#        C++       HTML       Java  JavaScript  \\\n",
      "precision   0.428571   0.482759   0.478261   0.500000   0.571429    0.673077   \n",
      "recall      0.333333   0.583333   0.611111   0.600000   0.500000    0.700000   \n",
      "f1-score    0.375000   0.528302   0.536585   0.545455   0.533333    0.686275   \n",
      "support    18.000000  24.000000  36.000000  10.000000  16.000000   50.000000   \n",
      "\n",
      "              Python  TypeScript  accuracy   macro avg  weighted avg  \n",
      "precision   0.793103         0.0   0.57868    0.490900      0.560848  \n",
      "recall      0.696970         0.0   0.57868    0.503093      0.578680  \n",
      "f1-score    0.741935         0.0   0.57868    0.493361      0.566151  \n",
      "support    33.000000        10.0   0.57868  197.000000    197.000000  \n",
      "\n",
      "=======================\n",
      "\n",
      "KNN depth 11\n",
      "\n",
      "                   C         C#        C++   HTML       Java  JavaScript  \\\n",
      "precision   0.500000   0.451613   0.522727   0.40   0.636364    0.611111   \n",
      "recall      0.333333   0.583333   0.638889   0.60   0.437500    0.660000   \n",
      "f1-score    0.400000   0.509091   0.575000   0.48   0.518519    0.634615   \n",
      "support    18.000000  24.000000  36.000000  10.00  16.000000   50.000000   \n",
      "\n",
      "              Python  TypeScript  accuracy   macro avg  weighted avg  \n",
      "precision   0.800000         0.0  0.573604    0.490227      0.557331  \n",
      "recall      0.727273         0.0  0.573604    0.497541      0.573604  \n",
      "f1-score    0.761905         0.0  0.573604    0.484891      0.558823  \n",
      "support    33.000000        10.0  0.573604  197.000000    197.000000  \n",
      "\n",
      "=======================\n",
      "\n",
      "KNN depth 12\n",
      "\n",
      "                   C         C#        C++   HTML       Java  JavaScript  \\\n",
      "precision   0.400000   0.437500   0.511111   0.40   0.500000    0.527273   \n",
      "recall      0.111111   0.583333   0.638889   0.60   0.375000    0.580000   \n",
      "f1-score    0.173913   0.500000   0.567901   0.48   0.428571    0.552381   \n",
      "support    18.000000  24.000000  36.000000  10.00  16.000000   50.000000   \n",
      "\n",
      "              Python  TypeScript  accuracy   macro avg  weighted avg  \n",
      "precision   0.666667         0.0  0.517766    0.430319      0.489663  \n",
      "recall      0.666667         0.0  0.517766    0.444375      0.517766  \n",
      "f1-score    0.666667         0.0  0.517766    0.421179      0.491630  \n",
      "support    33.000000        10.0  0.517766  197.000000    197.000000  \n",
      "\n",
      "=======================\n",
      "\n"
     ]
    }
   ],
   "source": [
    "for i in range(3, 13):\n",
    "    knn_depth = KNeighborsClassifier(n_neighbors=i)\n",
    "\n",
    "    all_knn = knn_depth.fit(X_train, y_train)\n",
    "\n",
    "    y_pred_knn = all_knn.predict(X_train)\n",
    "\n",
    "    report = classification_report(y_train, y_pred_knn, output_dict=True)\n",
    "    print(f'KNN depth {i}\\n')\n",
    "    print(pd.DataFrame(report))\n",
    "    print('\\n=======================\\n')"
   ]
  },
  {
   "cell_type": "markdown",
   "id": "80a63fd6",
   "metadata": {},
   "source": [
    ">### On out-of-sample data"
   ]
  },
  {
   "cell_type": "code",
   "execution_count": 73,
   "id": "cd804add",
   "metadata": {
    "scrolled": false
   },
   "outputs": [
    {
     "name": "stdout",
     "output_type": "stream",
     "text": [
      "KNN depth 3\n",
      "\n",
      "             C    C#        C++      HTML      Java  JavaScript  Python  \\\n",
      "precision  0.0   0.0   0.202532  1.000000  1.000000    1.000000     0.0   \n",
      "recall     0.0   0.0   1.000000  0.500000  0.285714    0.090909     0.0   \n",
      "f1-score   0.0   0.0   0.336842  0.666667  0.444444    0.166667     0.0   \n",
      "support    7.0  11.0  16.000000  4.000000  7.000000   22.000000    14.0   \n",
      "\n",
      "           TypeScript  accuracy  macro avg  weighted avg  \n",
      "precision         0.0  0.258824   0.400316      0.426359  \n",
      "recall            0.0  0.258824   0.234578      0.258824  \n",
      "f1-score          0.0  0.258824   0.201827      0.174517  \n",
      "support           4.0  0.258824  85.000000     85.000000  \n",
      "\n",
      "=======================\n",
      "\n",
      "KNN depth 4\n",
      "\n",
      "                  C         C#        C++  HTML  Java  JavaScript  Python  \\\n",
      "precision  1.000000   1.000000   0.202532   0.0   0.0         0.0     0.0   \n",
      "recall     0.142857   0.454545   1.000000   0.0   0.0         0.0     0.0   \n",
      "f1-score   0.250000   0.625000   0.336842   0.0   0.0         0.0     0.0   \n",
      "support    7.000000  11.000000  16.000000   4.0   7.0        22.0    14.0   \n",
      "\n",
      "           TypeScript  accuracy  macro avg  weighted avg  \n",
      "precision         0.0  0.258824   0.275316      0.249888  \n",
      "recall            0.0  0.258824   0.199675      0.258824  \n",
      "f1-score          0.0  0.258824   0.151480      0.164876  \n",
      "support           4.0  0.258824  85.000000     85.000000  \n",
      "\n",
      "=======================\n",
      "\n",
      "KNN depth 5\n",
      "\n",
      "                  C         C#        C++  HTML  Java  JavaScript     Python  \\\n",
      "precision  1.000000   1.000000   0.225352   0.0   0.0    1.000000   1.000000   \n",
      "recall     0.285714   0.454545   1.000000   0.0   0.0    0.227273   0.142857   \n",
      "f1-score   0.444444   0.625000   0.367816   0.0   0.0    0.370370   0.250000   \n",
      "support    7.000000  11.000000  16.000000   4.0   7.0   22.000000  14.000000   \n",
      "\n",
      "           TypeScript  accuracy  macro avg  weighted avg  \n",
      "precision         0.0  0.352941   0.528169      0.677713  \n",
      "recall            0.0  0.352941   0.263799      0.352941  \n",
      "f1-score          0.0  0.352941   0.257204      0.323757  \n",
      "support           4.0  0.352941  85.000000     85.000000  \n",
      "\n",
      "=======================\n",
      "\n",
      "KNN depth 6\n",
      "\n",
      "                  C         C#        C++  HTML  Java  JavaScript     Python  \\\n",
      "precision  0.750000   1.000000   0.220339   0.0   0.0    0.750000   1.000000   \n",
      "recall     0.428571   0.636364   0.812500   0.0   0.0    0.409091   0.214286   \n",
      "f1-score   0.545455   0.777778   0.346667   0.0   0.0    0.529412   0.352941   \n",
      "support    7.000000  11.000000  16.000000   4.0   7.0   22.000000  14.000000   \n",
      "\n",
      "           TypeScript  accuracy  macro avg  weighted avg  \n",
      "precision         0.0  0.411765   0.465042      0.591476  \n",
      "recall            0.0  0.411765   0.312601      0.411765  \n",
      "f1-score          0.0  0.411765   0.319031      0.405984  \n",
      "support           4.0  0.411765  85.000000     85.000000  \n",
      "\n",
      "=======================\n",
      "\n",
      "KNN depth 7\n",
      "\n",
      "                  C         C#        C++  HTML  Java  JavaScript     Python  \\\n",
      "precision  1.000000   1.000000   0.241379   0.0   0.0    0.733333   0.833333   \n",
      "recall     0.142857   0.454545   0.875000   0.0   0.0    0.500000   0.357143   \n",
      "f1-score   0.250000   0.625000   0.378378   0.0   0.0    0.594595   0.500000   \n",
      "support    7.000000  11.000000  16.000000   4.0   7.0   22.000000  14.000000   \n",
      "\n",
      "           TypeScript  accuracy  macro avg  weighted avg  \n",
      "precision         0.0  0.423529   0.476006      0.584260  \n",
      "recall            0.0  0.423529   0.291193      0.423529  \n",
      "f1-score          0.0  0.423529   0.293497      0.408943  \n",
      "support           4.0  0.423529  85.000000     85.000000  \n",
      "\n",
      "=======================\n",
      "\n",
      "KNN depth 8\n",
      "\n",
      "                  C         C#        C++  HTML  Java  JavaScript     Python  \\\n",
      "precision  1.000000   1.000000   0.237288   0.0   0.0    0.764706   1.000000   \n",
      "recall     0.142857   0.272727   0.875000   0.0   0.0    0.590909   0.357143   \n",
      "f1-score   0.250000   0.428571   0.373333   0.0   0.0    0.666667   0.526316   \n",
      "support    7.000000  11.000000  16.000000   4.0   7.0   22.000000  14.000000   \n",
      "\n",
      "           TypeScript  accuracy  macro avg  weighted avg  \n",
      "precision         0.0  0.423529   0.500249      0.619060  \n",
      "recall            0.0  0.423529   0.279830      0.423529  \n",
      "f1-score          0.0  0.423529   0.280611      0.405561  \n",
      "support           4.0  0.423529  85.000000     85.000000  \n",
      "\n",
      "=======================\n",
      "\n",
      "KNN depth 9\n",
      "\n",
      "                  C         C#        C++  HTML  Java  JavaScript     Python  \\\n",
      "precision  1.000000   0.666667   0.228070   0.0   0.0    0.722222   0.800000   \n",
      "recall     0.142857   0.181818   0.812500   0.0   0.0    0.590909   0.285714   \n",
      "f1-score   0.250000   0.285714   0.356164   0.0   0.0    0.650000   0.421053   \n",
      "support    7.000000  11.000000  16.000000   4.0   7.0   22.000000  14.000000   \n",
      "\n",
      "           TypeScript  accuracy  macro avg  weighted avg  \n",
      "precision         0.0  0.388235   0.427120      0.530251  \n",
      "recall            0.0  0.388235   0.251725      0.388235  \n",
      "f1-score          0.0  0.388235   0.245366      0.362191  \n",
      "support           4.0  0.388235  85.000000     85.000000  \n",
      "\n",
      "=======================\n",
      "\n",
      "KNN depth 10\n",
      "\n",
      "             C         C#        C++  HTML  Java  JavaScript     Python  \\\n",
      "precision  0.0   0.200000   0.232143   0.0   0.0    0.705882   0.666667   \n",
      "recall     0.0   0.090909   0.812500   0.0   0.0    0.545455   0.285714   \n",
      "f1-score   0.0   0.125000   0.361111   0.0   0.0    0.615385   0.400000   \n",
      "support    7.0  11.000000  16.000000   4.0   7.0   22.000000  14.000000   \n",
      "\n",
      "           TypeScript  accuracy  macro avg  weighted avg  \n",
      "precision         0.0  0.352941   0.225586      0.362083  \n",
      "recall            0.0  0.352941   0.216822      0.352941  \n",
      "f1-score          0.0  0.352941   0.187687      0.309309  \n",
      "support           4.0  0.352941  85.000000     85.000000  \n",
      "\n",
      "=======================\n",
      "\n",
      "KNN depth 11\n",
      "\n",
      "             C         C#        C++  HTML  Java  JavaScript     Python  \\\n",
      "precision  0.0   0.285714   0.285714   0.0   0.0    0.583333   0.800000   \n",
      "recall     0.0   0.181818   0.875000   0.0   0.0    0.636364   0.285714   \n",
      "f1-score   0.0   0.222222   0.430769   0.0   0.0    0.608696   0.421053   \n",
      "support    7.0  11.000000  16.000000   4.0   7.0   22.000000  14.000000   \n",
      "\n",
      "           TypeScript  accuracy  macro avg  weighted avg  \n",
      "precision         0.0       0.4   0.244345      0.373501  \n",
      "recall            0.0       0.4   0.247362      0.400000  \n",
      "f1-score          0.0       0.4   0.210342      0.336739  \n",
      "support           4.0       0.4  85.000000     85.000000  \n",
      "\n",
      "=======================\n",
      "\n",
      "KNN depth 12\n",
      "\n",
      "             C         C#        C++  HTML      Java  JavaScript     Python  \\\n",
      "precision  0.0   0.428571   0.244898   0.0  1.000000    0.619048   0.571429   \n",
      "recall     0.0   0.272727   0.750000   0.0  0.142857    0.590909   0.285714   \n",
      "f1-score   0.0   0.333333   0.369231   0.0  0.250000    0.604651   0.380952   \n",
      "support    7.0  11.000000  16.000000   4.0  7.000000   22.000000  14.000000   \n",
      "\n",
      "           TypeScript  accuracy  macro avg  weighted avg  \n",
      "precision         0.0  0.388235   0.357993      0.438255  \n",
      "recall            0.0  0.388235   0.255276      0.388235  \n",
      "f1-score          0.0  0.388235   0.242271      0.352471  \n",
      "support           4.0  0.388235  85.000000     85.000000  \n",
      "\n",
      "=======================\n",
      "\n"
     ]
    }
   ],
   "source": [
    "for i in range(3, 13):\n",
    "    knn_depth = KNeighborsClassifier(n_neighbors=i)\n",
    "\n",
    "    all_knn = knn_depth.fit(X_validate, y_validate)\n",
    "\n",
    "    y_val_pred_knn = all_knn.predict(X_validate)\n",
    "\n",
    "    report = classification_report(y_validate, y_val_pred_knn, output_dict=True)\n",
    "    print(f'KNN depth {i}\\n')\n",
    "    print(pd.DataFrame(report))\n",
    "    print('\\n=======================\\n')"
   ]
  },
  {
   "cell_type": "code",
   "execution_count": null,
   "id": "d29abb7f",
   "metadata": {},
   "outputs": [],
   "source": []
  }
 ],
 "metadata": {
  "kernelspec": {
   "display_name": "Python 3 (ipykernel)",
   "language": "python",
   "name": "python3"
  },
  "language_info": {
   "codemirror_mode": {
    "name": "ipython",
    "version": 3
   },
   "file_extension": ".py",
   "mimetype": "text/x-python",
   "name": "python",
   "nbconvert_exporter": "python",
   "pygments_lexer": "ipython3",
   "version": "3.9.7"
  }
 },
 "nbformat": 4,
 "nbformat_minor": 5
}
