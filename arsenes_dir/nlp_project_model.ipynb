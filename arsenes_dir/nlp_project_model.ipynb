{
 "cells": [
  {
   "cell_type": "markdown",
   "id": "c3c29810",
   "metadata": {},
   "source": [
    "# Modeling\n",
    "> - The first performance indicator we use is Accuracy because we want to make correct predictions most of the time, at least more than the baseline.  \n",
    "> - The second performance indicator we want to use is Precision because we use the most utilized language as our positive case. So we want to make sur that our model predicts the other languages as precisely as possible."
   ]
  },
  {
   "cell_type": "code",
   "execution_count": 1,
   "id": "3997d90c",
   "metadata": {},
   "outputs": [],
   "source": [
    "# Ignoring warning messages from python\n",
    "import warnings\n",
    "warnings.filterwarnings('ignore')\n",
    "\n",
    "# General use imports\n",
    "import pandas as pd\n",
    "import numpy as np\n",
    "\n",
    "# Specific Modules\n",
    "import prepare as prep\n",
    "import json\n",
    "import os\n",
    "import unicodedata\n",
    "import nltk\n",
    "from nltk.tokenize.toktok import ToktokTokenizer\n",
    "from nltk.corpus import stopwords\n",
    "from sklearn.model_selection import train_test_split\n",
    "from sklearn.linear_model import LogisticRegression\n",
    "from sklearn.ensemble import RandomForestClassifier\n",
    "from sklearn.neighbors import KNeighborsClassifier\n",
    "from sklearn.metrics import classification_report, accuracy_score\n",
    "from sklearn.feature_extraction.text import TfidfVectorizer\n",
    "from sklearn.tree import export_graphviz\n",
    "\n",
    "\n",
    "\n",
    "# # Visualization imports\n",
    "import matplotlib.pyplot as plt\n",
    "import seaborn as sns\n",
    "import plotly.graph_objects as go\n",
    "import plotly\n",
    "import plotly.express as px"
   ]
  },
  {
   "cell_type": "markdown",
   "id": "24775358",
   "metadata": {},
   "source": [
    "## 1. Getting the data"
   ]
  },
  {
   "cell_type": "code",
   "execution_count": 2,
   "id": "586212fe",
   "metadata": {},
   "outputs": [],
   "source": [
    "df = prep.prep_data()"
   ]
  },
  {
   "cell_type": "code",
   "execution_count": 3,
   "id": "9467a7b3",
   "metadata": {},
   "outputs": [
    {
     "data": {
      "text/plain": [
       "(353, 3)"
      ]
     },
     "execution_count": 3,
     "metadata": {},
     "output_type": "execute_result"
    }
   ],
   "source": [
    "df.shape"
   ]
  },
  {
   "cell_type": "code",
   "execution_count": 4,
   "id": "9495fe6b",
   "metadata": {},
   "outputs": [
    {
     "name": "stdout",
     "output_type": "stream",
     "text": [
      "<class 'pandas.core.frame.DataFrame'>\n",
      "Int64Index: 353 entries, 1 to 475\n",
      "Data columns (total 3 columns):\n",
      " #   Column    Non-Null Count  Dtype \n",
      "---  ------    --------------  ----- \n",
      " 0   repo      353 non-null    object\n",
      " 1   language  353 non-null    object\n",
      " 2   content   353 non-null    object\n",
      "dtypes: object(3)\n",
      "memory usage: 11.0+ KB\n"
     ]
    }
   ],
   "source": [
    "df.info()"
   ]
  },
  {
   "cell_type": "code",
   "execution_count": 5,
   "id": "0273bac2",
   "metadata": {},
   "outputs": [
    {
     "data": {
      "text/html": [
       "<div>\n",
       "<style scoped>\n",
       "    .dataframe tbody tr th:only-of-type {\n",
       "        vertical-align: middle;\n",
       "    }\n",
       "\n",
       "    .dataframe tbody tr th {\n",
       "        vertical-align: top;\n",
       "    }\n",
       "\n",
       "    .dataframe thead th {\n",
       "        text-align: right;\n",
       "    }\n",
       "</style>\n",
       "<table border=\"1\" class=\"dataframe\">\n",
       "  <thead>\n",
       "    <tr style=\"text-align: right;\">\n",
       "      <th></th>\n",
       "      <th>repo</th>\n",
       "      <th>language</th>\n",
       "      <th>content</th>\n",
       "    </tr>\n",
       "  </thead>\n",
       "  <tbody>\n",
       "    <tr>\n",
       "      <th>1</th>\n",
       "      <td>CharlesPikachu/Games</td>\n",
       "      <td>Python</td>\n",
       "      <td>div aligncenter img srcdocslogopng width600 di...</td>\n",
       "    </tr>\n",
       "    <tr>\n",
       "      <th>2</th>\n",
       "      <td>channingbreeze/games</td>\n",
       "      <td>JavaScript</td>\n",
       "      <td>### phaser phaserphaserphaserhttpwwwphaserchin...</td>\n",
       "    </tr>\n",
       "    <tr>\n",
       "      <th>3</th>\n",
       "      <td>arcxingye/EatKano</td>\n",
       "      <td>JavaScript</td>\n",
       "      <td>p aligncenter hrefhttpsxingyemegameeatkanoimg ...</td>\n",
       "    </tr>\n",
       "    <tr>\n",
       "      <th>4</th>\n",
       "      <td>coding-horror/basic-computer-games</td>\n",
       "      <td>C#</td>\n",
       "      <td>### updating first million selling computer bo...</td>\n",
       "    </tr>\n",
       "    <tr>\n",
       "      <th>5</th>\n",
       "      <td>rwv/chinese-dos-games</td>\n",
       "      <td>Python</td>\n",
       "      <td># do do 1898 python 3 python python downloadda...</td>\n",
       "    </tr>\n",
       "  </tbody>\n",
       "</table>\n",
       "</div>"
      ],
      "text/plain": [
       "                                 repo    language  \\\n",
       "1                CharlesPikachu/Games      Python   \n",
       "2                channingbreeze/games  JavaScript   \n",
       "3                   arcxingye/EatKano  JavaScript   \n",
       "4  coding-horror/basic-computer-games          C#   \n",
       "5               rwv/chinese-dos-games      Python   \n",
       "\n",
       "                                             content  \n",
       "1  div aligncenter img srcdocslogopng width600 di...  \n",
       "2  ### phaser phaserphaserphaserhttpwwwphaserchin...  \n",
       "3  p aligncenter hrefhttpsxingyemegameeatkanoimg ...  \n",
       "4  ### updating first million selling computer bo...  \n",
       "5  # do do 1898 python 3 python python downloadda...  "
      ]
     },
     "execution_count": 5,
     "metadata": {},
     "output_type": "execute_result"
    }
   ],
   "source": [
    "df.head()"
   ]
  },
  {
   "cell_type": "markdown",
   "id": "ad56b2ad",
   "metadata": {},
   "source": [
    "## 2. Splitting and vectorizing"
   ]
  },
  {
   "cell_type": "code",
   "execution_count": 6,
   "id": "b360cba5",
   "metadata": {},
   "outputs": [],
   "source": [
    "# Calling the split function and displaying the shape of the datasets\n",
    "\n",
    "train, validate, test = prep.split_data(df)"
   ]
  },
  {
   "cell_type": "code",
   "execution_count": 7,
   "id": "65362181",
   "metadata": {},
   "outputs": [
    {
     "data": {
      "text/plain": [
       "(197, 3)"
      ]
     },
     "execution_count": 7,
     "metadata": {},
     "output_type": "execute_result"
    }
   ],
   "source": [
    "train.shape"
   ]
  },
  {
   "cell_type": "code",
   "execution_count": 8,
   "id": "9b69165c",
   "metadata": {},
   "outputs": [
    {
     "data": {
      "text/plain": [
       "(85, 3)"
      ]
     },
     "execution_count": 8,
     "metadata": {},
     "output_type": "execute_result"
    }
   ],
   "source": [
    "validate.shape"
   ]
  },
  {
   "cell_type": "code",
   "execution_count": 9,
   "id": "1ac95dfa",
   "metadata": {},
   "outputs": [
    {
     "data": {
      "text/plain": [
       "(71, 3)"
      ]
     },
     "execution_count": 9,
     "metadata": {},
     "output_type": "execute_result"
    }
   ],
   "source": [
    "test.shape"
   ]
  },
  {
   "cell_type": "code",
   "execution_count": 10,
   "id": "06bd649b",
   "metadata": {},
   "outputs": [],
   "source": [
    "# Vectorizing and 'learning' on train dataset\n",
    "\n",
    "tfidf = TfidfVectorizer()\n",
    "X_train = tfidf.fit_transform(train.content)\n",
    "y_train = train.language"
   ]
  },
  {
   "cell_type": "code",
   "execution_count": 11,
   "id": "276e240f",
   "metadata": {},
   "outputs": [
    {
     "data": {
      "text/plain": [
       "<197x13439 sparse matrix of type '<class 'numpy.float64'>'\n",
       "\twith 33640 stored elements in Compressed Sparse Row format>"
      ]
     },
     "execution_count": 11,
     "metadata": {},
     "output_type": "execute_result"
    }
   ],
   "source": [
    "X_train"
   ]
  },
  {
   "cell_type": "code",
   "execution_count": 12,
   "id": "493a279d",
   "metadata": {},
   "outputs": [
    {
     "data": {
      "text/plain": [
       "115       C++\n",
       "395      HTML\n",
       "166        C#\n",
       "26        C++\n",
       "162       C++\n",
       "        ...  \n",
       "217    Python\n",
       "156       C++\n",
       "116    Python\n",
       "158      Java\n",
       "153      Java\n",
       "Name: language, Length: 197, dtype: object"
      ]
     },
     "execution_count": 12,
     "metadata": {},
     "output_type": "execute_result"
    }
   ],
   "source": [
    "y_train"
   ]
  },
  {
   "cell_type": "code",
   "execution_count": 13,
   "id": "dc4f3b59",
   "metadata": {},
   "outputs": [],
   "source": [
    "# Applying the vectorization without giving out the content of validate\n",
    "X_validate = tfidf.transform(validate.content)\n",
    "y_validate = validate.language"
   ]
  },
  {
   "cell_type": "code",
   "execution_count": 14,
   "id": "3f279846",
   "metadata": {},
   "outputs": [],
   "source": [
    "# Applying the vectorization without giving out the content of validate\n",
    "X_test = tfidf.transform(test.content)\n",
    "y_test = test.language"
   ]
  },
  {
   "cell_type": "code",
   "execution_count": 15,
   "id": "c3751a89",
   "metadata": {},
   "outputs": [
    {
     "data": {
      "text/plain": [
       "((85, 13439), (197, 13439))"
      ]
     },
     "execution_count": 15,
     "metadata": {},
     "output_type": "execute_result"
    }
   ],
   "source": [
    "X_validate.shape, X_train.shape"
   ]
  },
  {
   "cell_type": "markdown",
   "id": "6fafa605",
   "metadata": {},
   "source": [
    "## Logistic Regression Models"
   ]
  },
  {
   "cell_type": "markdown",
   "id": "ec2c39a7",
   "metadata": {},
   "source": [
    ">### Building a baseline and fitting the train dataset and modeling"
   ]
  },
  {
   "cell_type": "code",
   "execution_count": 16,
   "id": "c1a94e6f",
   "metadata": {},
   "outputs": [],
   "source": [
    "# Creating a dataframe of the target variable\n",
    "y_train_df = pd.DataFrame(dict(actual=y_train))"
   ]
  },
  {
   "cell_type": "code",
   "execution_count": 17,
   "id": "7344b5b2",
   "metadata": {},
   "outputs": [
    {
     "data": {
      "text/html": [
       "<div>\n",
       "<style scoped>\n",
       "    .dataframe tbody tr th:only-of-type {\n",
       "        vertical-align: middle;\n",
       "    }\n",
       "\n",
       "    .dataframe tbody tr th {\n",
       "        vertical-align: top;\n",
       "    }\n",
       "\n",
       "    .dataframe thead th {\n",
       "        text-align: right;\n",
       "    }\n",
       "</style>\n",
       "<table border=\"1\" class=\"dataframe\">\n",
       "  <thead>\n",
       "    <tr style=\"text-align: right;\">\n",
       "      <th></th>\n",
       "      <th>actual</th>\n",
       "    </tr>\n",
       "  </thead>\n",
       "  <tbody>\n",
       "    <tr>\n",
       "      <th>115</th>\n",
       "      <td>C++</td>\n",
       "    </tr>\n",
       "    <tr>\n",
       "      <th>395</th>\n",
       "      <td>HTML</td>\n",
       "    </tr>\n",
       "    <tr>\n",
       "      <th>166</th>\n",
       "      <td>C#</td>\n",
       "    </tr>\n",
       "    <tr>\n",
       "      <th>26</th>\n",
       "      <td>C++</td>\n",
       "    </tr>\n",
       "    <tr>\n",
       "      <th>162</th>\n",
       "      <td>C++</td>\n",
       "    </tr>\n",
       "  </tbody>\n",
       "</table>\n",
       "</div>"
      ],
      "text/plain": [
       "    actual\n",
       "115    C++\n",
       "395   HTML\n",
       "166     C#\n",
       "26     C++\n",
       "162    C++"
      ]
     },
     "execution_count": 17,
     "metadata": {},
     "output_type": "execute_result"
    }
   ],
   "source": [
    "y_train_df.head()"
   ]
  },
  {
   "cell_type": "code",
   "execution_count": 18,
   "id": "59d73923",
   "metadata": {},
   "outputs": [
    {
     "data": {
      "text/plain": [
       "(8,\n",
       " array(['C++', 'HTML', 'C#', 'C', 'JavaScript', 'Java', 'Python',\n",
       "        'TypeScript'], dtype=object))"
      ]
     },
     "execution_count": 18,
     "metadata": {},
     "output_type": "execute_result"
    }
   ],
   "source": [
    "# Checking the unique content of the actuals\n",
    "y_train_df.actual.nunique(), y_train_df.actual.unique()"
   ]
  },
  {
   "cell_type": "code",
   "execution_count": 19,
   "id": "dbd8ed60",
   "metadata": {},
   "outputs": [
    {
     "data": {
      "text/plain": [
       "JavaScript    50\n",
       "C++           36\n",
       "Python        33\n",
       "C#            24\n",
       "C             18\n",
       "Java          16\n",
       "HTML          10\n",
       "TypeScript    10\n",
       "Name: actual, dtype: int64"
      ]
     },
     "execution_count": 19,
     "metadata": {},
     "output_type": "execute_result"
    }
   ],
   "source": [
    "# checking the value count to decide the baseline target\n",
    "y_train_df.actual.value_counts()"
   ]
  },
  {
   "cell_type": "code",
   "execution_count": 20,
   "id": "c102bc2f",
   "metadata": {},
   "outputs": [
    {
     "data": {
      "text/html": [
       "<div>\n",
       "<style scoped>\n",
       "    .dataframe tbody tr th:only-of-type {\n",
       "        vertical-align: middle;\n",
       "    }\n",
       "\n",
       "    .dataframe tbody tr th {\n",
       "        vertical-align: top;\n",
       "    }\n",
       "\n",
       "    .dataframe thead th {\n",
       "        text-align: right;\n",
       "    }\n",
       "</style>\n",
       "<table border=\"1\" class=\"dataframe\">\n",
       "  <thead>\n",
       "    <tr style=\"text-align: right;\">\n",
       "      <th></th>\n",
       "      <th>actual</th>\n",
       "      <th>baseline</th>\n",
       "    </tr>\n",
       "  </thead>\n",
       "  <tbody>\n",
       "    <tr>\n",
       "      <th>115</th>\n",
       "      <td>C++</td>\n",
       "      <td>False</td>\n",
       "    </tr>\n",
       "    <tr>\n",
       "      <th>395</th>\n",
       "      <td>HTML</td>\n",
       "      <td>False</td>\n",
       "    </tr>\n",
       "    <tr>\n",
       "      <th>166</th>\n",
       "      <td>C#</td>\n",
       "      <td>False</td>\n",
       "    </tr>\n",
       "    <tr>\n",
       "      <th>26</th>\n",
       "      <td>C++</td>\n",
       "      <td>False</td>\n",
       "    </tr>\n",
       "    <tr>\n",
       "      <th>162</th>\n",
       "      <td>C++</td>\n",
       "      <td>False</td>\n",
       "    </tr>\n",
       "  </tbody>\n",
       "</table>\n",
       "</div>"
      ],
      "text/plain": [
       "    actual  baseline\n",
       "115    C++     False\n",
       "395   HTML     False\n",
       "166     C#     False\n",
       "26     C++     False\n",
       "162    C++     False"
      ]
     },
     "execution_count": 20,
     "metadata": {},
     "output_type": "execute_result"
    }
   ],
   "source": [
    "# Since JavaScript has the highest occurence I'll use it \n",
    "y_train_df['baseline'] = y_train_df['actual'] == 'JavaScript'\n",
    "y_train_df.head()"
   ]
  },
  {
   "cell_type": "code",
   "execution_count": 21,
   "id": "5310a110",
   "metadata": {},
   "outputs": [
    {
     "name": "stdout",
     "output_type": "stream",
     "text": [
      "The baseline model has an average capture rate for Javascript of: 25.38%\n"
     ]
    }
   ],
   "source": [
    "# Calculating the baseline model\n",
    "print(f'The baseline model has an average capture rate for Javascript of: {y_train_df.baseline.mean():.2%}')"
   ]
  },
  {
   "cell_type": "code",
   "execution_count": 22,
   "id": "49cca019",
   "metadata": {},
   "outputs": [],
   "source": [
    "# Applying the LogisticRegression (default settings) on the train dataset\n",
    "\n",
    "lm = LogisticRegression().fit(X_train, y_train)\n",
    "\n",
    "y_train_df['predicted'] = lm.predict(X_train)"
   ]
  },
  {
   "cell_type": "code",
   "execution_count": 46,
   "id": "8255c4ca",
   "metadata": {},
   "outputs": [
    {
     "data": {
      "text/plain": [
       "8.419999999999998"
      ]
     },
     "execution_count": 46,
     "metadata": {},
     "output_type": "execute_result"
    }
   ],
   "source": [
    "33.8 - 25.38"
   ]
  },
  {
   "cell_type": "code",
   "execution_count": 23,
   "id": "7343b777",
   "metadata": {},
   "outputs": [
    {
     "data": {
      "text/html": [
       "<div>\n",
       "<style scoped>\n",
       "    .dataframe tbody tr th:only-of-type {\n",
       "        vertical-align: middle;\n",
       "    }\n",
       "\n",
       "    .dataframe tbody tr th {\n",
       "        vertical-align: top;\n",
       "    }\n",
       "\n",
       "    .dataframe thead th {\n",
       "        text-align: right;\n",
       "    }\n",
       "</style>\n",
       "<table border=\"1\" class=\"dataframe\">\n",
       "  <thead>\n",
       "    <tr style=\"text-align: right;\">\n",
       "      <th></th>\n",
       "      <th>actual</th>\n",
       "      <th>baseline</th>\n",
       "      <th>predicted</th>\n",
       "    </tr>\n",
       "  </thead>\n",
       "  <tbody>\n",
       "    <tr>\n",
       "      <th>115</th>\n",
       "      <td>C++</td>\n",
       "      <td>False</td>\n",
       "      <td>C++</td>\n",
       "    </tr>\n",
       "    <tr>\n",
       "      <th>395</th>\n",
       "      <td>HTML</td>\n",
       "      <td>False</td>\n",
       "      <td>HTML</td>\n",
       "    </tr>\n",
       "    <tr>\n",
       "      <th>166</th>\n",
       "      <td>C#</td>\n",
       "      <td>False</td>\n",
       "      <td>C#</td>\n",
       "    </tr>\n",
       "    <tr>\n",
       "      <th>26</th>\n",
       "      <td>C++</td>\n",
       "      <td>False</td>\n",
       "      <td>C++</td>\n",
       "    </tr>\n",
       "    <tr>\n",
       "      <th>162</th>\n",
       "      <td>C++</td>\n",
       "      <td>False</td>\n",
       "      <td>C++</td>\n",
       "    </tr>\n",
       "  </tbody>\n",
       "</table>\n",
       "</div>"
      ],
      "text/plain": [
       "    actual  baseline predicted\n",
       "115    C++     False       C++\n",
       "395   HTML     False      HTML\n",
       "166     C#     False        C#\n",
       "26     C++     False       C++\n",
       "162    C++     False       C++"
      ]
     },
     "execution_count": 23,
     "metadata": {},
     "output_type": "execute_result"
    }
   ],
   "source": [
    "# Displaying actual, baseline, and pedicted\n",
    "y_train_df.head()"
   ]
  },
  {
   "cell_type": "code",
   "execution_count": 24,
   "id": "a6af9397",
   "metadata": {},
   "outputs": [
    {
     "name": "stdout",
     "output_type": "stream",
     "text": [
      "Accuracy: 85.79%\n",
      "------------------\n",
      "Confusion Matrix\n",
      "actual       C  C#  C++  HTML  Java  JavaScript  Python  TypeScript\n",
      "predicted                                                          \n",
      "C           11   0    0     0     0           0       0           0\n",
      "C#           0  24    0     0     0           0       0           0\n",
      "C++          2   0   35     0     2           0       1           0\n",
      "HTML         0   0    0     6     0           0       0           0\n",
      "Java         0   0    0     0     9           0       0           0\n",
      "JavaScript   5   0    1     4     5          50       0           8\n",
      "Python       0   0    0     0     0           0      32           0\n",
      "TypeScript   0   0    0     0     0           0       0           2\n",
      "------------------\n",
      "Classification Report\n",
      "\n",
      "\n",
      "              precision    recall  f1-score   support\n",
      "\n",
      "           C       1.00      0.61      0.76        18\n",
      "          C#       1.00      1.00      1.00        24\n",
      "         C++       0.88      0.97      0.92        36\n",
      "        HTML       1.00      0.60      0.75        10\n",
      "        Java       1.00      0.56      0.72        16\n",
      "  JavaScript       0.68      1.00      0.81        50\n",
      "      Python       1.00      0.97      0.98        33\n",
      "  TypeScript       1.00      0.20      0.33        10\n",
      "\n",
      "    accuracy                           0.86       197\n",
      "   macro avg       0.94      0.74      0.79       197\n",
      "weighted avg       0.90      0.86      0.84       197\n",
      "\n"
     ]
    }
   ],
   "source": [
    "# Displaying the accuracy and classification report of the model\n",
    "\n",
    "print('Accuracy: {:.2%}'.format(accuracy_score(y_train_df.actual, y_train_df.predicted)))\n",
    "print('------------------')\n",
    "print('Confusion Matrix')\n",
    "print(pd.crosstab(y_train_df.predicted, y_train_df.actual))\n",
    "print('------------------')\n",
    "print('Classification Report')\n",
    "print('\\n')\n",
    "print(classification_report(y_train_df.actual, y_train_df.predicted))"
   ]
  },
  {
   "cell_type": "markdown",
   "id": "d0f5669f",
   "metadata": {},
   "source": [
    ">### Visualizing the model"
   ]
  },
  {
   "cell_type": "code",
   "execution_count": null,
   "id": "9deb0313",
   "metadata": {},
   "outputs": [],
   "source": [
    "y_pred_proba = lm.predict_proba(X_train)\n",
    "y_pred_proba"
   ]
  },
  {
   "cell_type": "code",
   "execution_count": null,
   "id": "6f2f5caa",
   "metadata": {},
   "outputs": [],
   "source": [
    "# y_pred is the same as model_train.predicted\n",
    "# I am just using this label for personal clarity\n",
    "\n",
    "y_pred = lm.predict(X_train)"
   ]
  },
  {
   "cell_type": "code",
   "execution_count": null,
   "id": "bcb2ec0a",
   "metadata": {},
   "outputs": [],
   "source": [
    "y_pred_proba.shape, y_pred.shape"
   ]
  },
  {
   "cell_type": "code",
   "execution_count": null,
   "id": "75e10e44",
   "metadata": {},
   "outputs": [],
   "source": [
    "type(y_pred_proba)"
   ]
  },
  {
   "cell_type": "code",
   "execution_count": null,
   "id": "e35ada64",
   "metadata": {},
   "outputs": [],
   "source": [
    "type(y_pred)"
   ]
  },
  {
   "cell_type": "code",
   "execution_count": null,
   "id": "202adbf6",
   "metadata": {},
   "outputs": [],
   "source": [
    "fig = plt.figure()\n",
    "ax = fig.add_subplot(111)\n",
    "ax.scatter(y_pred_proba, y_pred)"
   ]
  },
  {
   "cell_type": "markdown",
   "id": "28b41c85",
   "metadata": {},
   "source": [
    ">### No luck with plotting the Logistic Regression either. The size is definitely an issue but I'll finish up and come back to it"
   ]
  },
  {
   "cell_type": "markdown",
   "id": "a2621e03",
   "metadata": {},
   "source": [
    ">### Running model on validate dadtaset"
   ]
  },
  {
   "cell_type": "code",
   "execution_count": 36,
   "id": "8480cd6c",
   "metadata": {},
   "outputs": [],
   "source": [
    "# Predicting on validate\n",
    "lm = LogisticRegression().fit(X_train, y_train)\n",
    "y_validate_pred = lm.predict(X_validate)"
   ]
  },
  {
   "cell_type": "code",
   "execution_count": 39,
   "id": "c7c38895",
   "metadata": {},
   "outputs": [
    {
     "name": "stdout",
     "output_type": "stream",
     "text": [
      "Accuracy: 45.88%\n",
      "------------------\n",
      "Confusion Matrix\n",
      "language    C  C#  C++  HTML  Java  JavaScript  Python  TypeScript\n",
      "row_0                                                             \n",
      "C           1   0    0     0     0           0       0           0\n",
      "C#          0   2    0     0     0           0       0           0\n",
      "C++         1   0    6     0     3           0       1           0\n",
      "HTML        0   0    0     2     0           0       0           0\n",
      "JavaScript  5   9    9     2     4          22       7           4\n",
      "Python      0   0    1     0     0           0       6           0\n",
      "------------------\n",
      "Classification Report\n",
      "\n",
      "\n",
      "              precision    recall  f1-score   support\n",
      "\n",
      "           C       1.00      0.14      0.25         7\n",
      "          C#       1.00      0.18      0.31        11\n",
      "         C++       0.55      0.38      0.44        16\n",
      "        HTML       1.00      0.50      0.67         4\n",
      "        Java       0.00      0.00      0.00         7\n",
      "  JavaScript       0.35      1.00      0.52        22\n",
      "      Python       0.86      0.43      0.57        14\n",
      "  TypeScript       0.00      0.00      0.00         4\n",
      "\n",
      "    accuracy                           0.46        85\n",
      "   macro avg       0.59      0.33      0.35        85\n",
      "weighted avg       0.59      0.46      0.41        85\n",
      "\n"
     ]
    }
   ],
   "source": [
    "print('Accuracy: {:.2%}'.format(accuracy_score(y_validate, y_validate_pred)))\n",
    "print('------------------')\n",
    "print('Confusion Matrix')\n",
    "print(pd.crosstab(y_validate_pred, y_validate))\n",
    "print('------------------')\n",
    "print('Classification Report')\n",
    "print('\\n')\n",
    "print(classification_report(y_validate, y_validate_pred))"
   ]
  },
  {
   "cell_type": "markdown",
   "id": "1822a023",
   "metadata": {},
   "source": [
    ">### Summary for the Logistic Regression model  \n",
    "        - The train dataset had an accuracy at 85.79%\n",
    "        - The validate dataset went down to 45.88%. This still beats the baseline which is 25% \n",
    "        - Recall is 100% meaning our model performs well on identifying a specific language (Javascrit) and Precision 35% meaning that it is hard for our model to predict other languages\n",
    "        - I will run a Random Forest Model to have a different perspective"
   ]
  },
  {
   "cell_type": "markdown",
   "id": "f14d546f",
   "metadata": {},
   "source": [
    "## Random Forest Model"
   ]
  },
  {
   "cell_type": "code",
   "execution_count": 40,
   "id": "317704dc",
   "metadata": {},
   "outputs": [
    {
     "name": "stdout",
     "output_type": "stream",
     "text": [
      "RandomForest depth 3\n",
      "\n",
      "              C     C#        C++   HTML       Java  JavaScript     Python  \\\n",
      "precision   0.0   1.00   1.000000   1.00   1.000000    0.316456   1.000000   \n",
      "recall      0.0   0.25   0.361111   0.60   0.062500    1.000000   0.393939   \n",
      "f1-score    0.0   0.40   0.530612   0.75   0.117647    0.480769   0.565217   \n",
      "support    18.0  24.00  36.000000  10.00  16.000000   50.000000  33.000000   \n",
      "\n",
      "           TypeScript  accuracy   macro avg  weighted avg  \n",
      "precision         0.0  0.451777    0.664557      0.684380  \n",
      "recall            0.0  0.451777    0.333444      0.451777  \n",
      "f1-score          0.0  0.451777    0.355531      0.410026  \n",
      "support          10.0  0.451777  197.000000    197.000000  \n",
      "\n",
      "=======================\n",
      "\n",
      "RandomForest depth 4\n",
      "\n",
      "              C         C#        C++   HTML       Java  JavaScript  \\\n",
      "precision   0.0   1.000000   1.000000   1.00   1.000000    0.340136   \n",
      "recall      0.0   0.375000   0.500000   0.60   0.062500    1.000000   \n",
      "f1-score    0.0   0.545455   0.666667   0.75   0.117647    0.507614   \n",
      "support    18.0  24.000000  36.000000  10.00  16.000000   50.000000   \n",
      "\n",
      "              Python  TypeScript  accuracy   macro avg  weighted avg  \n",
      "precision   1.000000         0.0  0.507614    0.667517      0.690390  \n",
      "recall      0.484848         0.0  0.507614    0.377794      0.507614  \n",
      "f1-score    0.653061         0.0  0.507614    0.405055      0.474137  \n",
      "support    33.000000        10.0  0.507614  197.000000    197.000000  \n",
      "\n",
      "=======================\n",
      "\n",
      "RandomForest depth 5\n",
      "\n",
      "              C         C#        C++   HTML       Java  JavaScript  \\\n",
      "precision   0.0   1.000000   1.000000   1.00   1.000000    0.370370   \n",
      "recall      0.0   0.583333   0.555556   0.60   0.062500    1.000000   \n",
      "f1-score    0.0   0.736842   0.714286   0.75   0.117647    0.540541   \n",
      "support    18.0  24.000000  36.000000  10.00  16.000000   50.000000   \n",
      "\n",
      "              Python  TypeScript  accuracy   macro avg  weighted avg  \n",
      "precision   1.000000    1.000000  0.568528    0.796296      0.748825  \n",
      "recall      0.575758    0.200000  0.568528    0.447143      0.568528  \n",
      "f1-score    0.730769    0.333333  0.568528    0.490427      0.544450  \n",
      "support    33.000000   10.000000  0.568528  197.000000    197.000000  \n",
      "\n",
      "=======================\n",
      "\n",
      "RandomForest depth 6\n",
      "\n",
      "                   C         C#        C++   HTML       Java  JavaScript  \\\n",
      "precision   1.000000   1.000000   0.956522   1.00   1.000000    0.400000   \n",
      "recall      0.166667   0.625000   0.611111   0.60   0.187500    1.000000   \n",
      "f1-score    0.285714   0.769231   0.745763   0.75   0.315789    0.571429   \n",
      "support    18.000000  24.000000  36.000000  10.00  16.000000   50.000000   \n",
      "\n",
      "              Python  TypeScript  accuracy   macro avg  weighted avg  \n",
      "precision   1.000000    1.000000  0.614213    0.919565      0.839770  \n",
      "recall      0.575758    0.300000  0.614213    0.508254      0.614213  \n",
      "f1-score    0.730769    0.461538  0.614213    0.578779      0.610694  \n",
      "support    33.000000   10.000000  0.614213  197.000000    197.000000  \n",
      "\n",
      "=======================\n",
      "\n",
      "RandomForest depth 7\n",
      "\n",
      "                   C         C#        C++   HTML       Java  JavaScript  \\\n",
      "precision   1.000000   1.000000   1.000000   1.00   1.000000    0.442478   \n",
      "recall      0.388889   0.708333   0.638889   0.60   0.437500    1.000000   \n",
      "f1-score    0.560000   0.829268   0.779661   0.75   0.608696    0.613497   \n",
      "support    18.000000  24.000000  36.000000  10.00  16.000000   50.000000   \n",
      "\n",
      "              Python  TypeScript  accuracy   macro avg  weighted avg  \n",
      "precision   1.000000    1.000000  0.680203    0.930310      0.858497  \n",
      "recall      0.606061    0.400000  0.680203    0.597459      0.680203  \n",
      "f1-score    0.754717    0.571429  0.680203    0.683408      0.693321  \n",
      "support    33.000000   10.000000  0.680203  197.000000    197.000000  \n",
      "\n",
      "=======================\n",
      "\n",
      "RandomForest depth 8\n",
      "\n",
      "                   C         C#        C++   HTML       Java  JavaScript  \\\n",
      "precision   1.000000   1.000000   1.000000   1.00   1.000000    0.462963   \n",
      "recall      0.500000   0.708333   0.694444   0.60   0.437500    1.000000   \n",
      "f1-score    0.666667   0.829268   0.819672   0.75   0.608696    0.632911   \n",
      "support    18.000000  24.000000  36.000000  10.00  16.000000   50.000000   \n",
      "\n",
      "              Python  TypeScript  accuracy   macro avg  weighted avg  \n",
      "precision   1.000000    1.000000  0.705584    0.932870      0.863696  \n",
      "recall      0.636364    0.400000  0.705584    0.622080      0.705584  \n",
      "f1-score    0.777778    0.571429  0.705584    0.707053      0.719169  \n",
      "support    33.000000   10.000000  0.705584  197.000000    197.000000  \n",
      "\n",
      "=======================\n",
      "\n",
      "RandomForest depth 9\n",
      "\n",
      "                   C         C#        C++       HTML       Java  JavaScript  \\\n",
      "precision   1.000000   1.000000   1.000000   1.000000   1.000000    0.495050   \n",
      "recall      0.611111   0.750000   0.694444   0.700000   0.500000    1.000000   \n",
      "f1-score    0.758621   0.857143   0.819672   0.823529   0.666667    0.662252   \n",
      "support    18.000000  24.000000  36.000000  10.000000  16.000000   50.000000   \n",
      "\n",
      "              Python  TypeScript  accuracy   macro avg  weighted avg  \n",
      "precision   1.000000        1.00  0.741117    0.936881      0.871840  \n",
      "recall      0.636364        0.60  0.741117    0.686490      0.741117  \n",
      "f1-score    0.777778        0.75  0.741117    0.764458      0.755919  \n",
      "support    33.000000       10.00  0.741117  197.000000    197.000000  \n",
      "\n",
      "=======================\n",
      "\n",
      "RandomForest depth 10\n",
      "\n",
      "                   C         C#        C++       HTML     Java  JavaScript  \\\n",
      "precision   1.000000   1.000000   1.000000   1.000000   1.0000    0.543478   \n",
      "recall      0.666667   0.833333   0.750000   0.700000   0.5625    1.000000   \n",
      "f1-score    0.800000   0.909091   0.857143   0.823529   0.7200    0.704225   \n",
      "support    18.000000  24.000000  36.000000  10.000000  16.0000   50.000000   \n",
      "\n",
      "              Python  TypeScript  accuracy   macro avg  weighted avg  \n",
      "precision   1.000000        1.00  0.786802    0.942935      0.884132  \n",
      "recall      0.727273        0.60  0.786802    0.729972      0.786802  \n",
      "f1-score    0.842105        0.75  0.786802    0.800762      0.798636  \n",
      "support    33.000000       10.00  0.786802  197.000000    197.000000  \n",
      "\n",
      "=======================\n",
      "\n",
      "RandomForest depth 11\n",
      "\n",
      "                   C         C#        C++       HTML     Java  JavaScript  \\\n",
      "precision   1.000000   1.000000   1.000000   1.000000   1.0000    0.568182   \n",
      "recall      0.722222   0.791667   0.750000   0.800000   0.5625    1.000000   \n",
      "f1-score    0.838710   0.883721   0.857143   0.888889   0.7200    0.724638   \n",
      "support    18.000000  24.000000  36.000000  10.000000  16.0000   50.000000   \n",
      "\n",
      "              Python  TypeScript  accuracy   macro avg  weighted avg  \n",
      "precision   1.000000    1.000000  0.807107    0.946023      0.890401  \n",
      "recall      0.787879    0.700000  0.807107    0.764283      0.807107  \n",
      "f1-score    0.881356    0.823529  0.807107    0.827248      0.817888  \n",
      "support    33.000000   10.000000  0.807107  197.000000    197.000000  \n",
      "\n",
      "=======================\n",
      "\n",
      "RandomForest depth 12\n",
      "\n",
      "                   C         C#        C++       HTML     Java  JavaScript  \\\n",
      "precision   1.000000   1.000000   1.000000   1.000000   1.0000    0.595238   \n",
      "recall      0.722222   0.875000   0.777778   0.800000   0.5625    1.000000   \n",
      "f1-score    0.838710   0.933333   0.875000   0.888889   0.7200    0.746269   \n",
      "support    18.000000  24.000000  36.000000  10.000000  16.0000   50.000000   \n",
      "\n",
      "              Python  TypeScript  accuracy   macro avg  weighted avg  \n",
      "precision   1.000000    1.000000  0.827411    0.949405      0.897269  \n",
      "recall      0.818182    0.700000  0.827411    0.781960      0.827411  \n",
      "f1-score    0.900000    0.823529  0.827411    0.840716      0.835809  \n",
      "support    33.000000   10.000000  0.827411  197.000000    197.000000  \n",
      "\n",
      "=======================\n",
      "\n"
     ]
    }
   ],
   "source": [
    "# Writing a loop to capture a certain range of depth for the model to consider\n",
    "# Random Forest Default values on validate dataset\n",
    "for i in range(3, 13):\n",
    "    multi_depth = RandomForestClassifier(max_depth=i, random_state=175)\n",
    "\n",
    "    all_rf = multi_depth.fit(X_train, y_train)\n",
    "\n",
    "    y_pred_rfc = all_rf.predict(X_train)\n",
    "\n",
    "    report = classification_report(y_train, y_pred_rfc, output_dict=True)\n",
    "    print(f'RandomForest depth {i}\\n')\n",
    "    print(pd.DataFrame(report))\n",
    "    print('\\n=======================\\n')"
   ]
  },
  {
   "cell_type": "markdown",
   "id": "c0a54f29",
   "metadata": {},
   "source": [
    ">### The best depth is depth 12 with an accuracy at 82.74% and recall at 100% and a low precision at 59.52%. The precision of this model is higher than that of the Logistic Regression Model.  \n",
    "We limited the depth to 12 so to not overfit our model."
   ]
  },
  {
   "cell_type": "markdown",
   "id": "c9477556",
   "metadata": {},
   "source": [
    ">### On out-of-sample data, Validate"
   ]
  },
  {
   "cell_type": "code",
   "execution_count": 41,
   "id": "ce21a4ca",
   "metadata": {
    "scrolled": true
   },
   "outputs": [
    {
     "name": "stdout",
     "output_type": "stream",
     "text": [
      "RandomForest depth 3\n",
      "\n",
      "             C    C#        C++      HTML  Java  JavaScript     Python  \\\n",
      "precision  0.0   0.0   0.666667  1.000000   0.0    0.282051   1.000000   \n",
      "recall     0.0   0.0   0.125000  0.500000   0.0    1.000000   0.142857   \n",
      "f1-score   0.0   0.0   0.210526  0.666667   0.0    0.440000   0.250000   \n",
      "support    7.0  11.0  16.000000  4.000000   7.0   22.000000  14.000000   \n",
      "\n",
      "           TypeScript  accuracy  macro avg  weighted avg  \n",
      "precision         0.0  0.329412   0.368590      0.410256  \n",
      "recall            0.0  0.329412   0.220982      0.329412  \n",
      "f1-score          0.0  0.329412   0.195899      0.226060  \n",
      "support           4.0  0.329412  85.000000     85.000000  \n",
      "\n",
      "=======================\n",
      "\n",
      "RandomForest depth 4\n",
      "\n",
      "             C         C#        C++      HTML  Java  JavaScript     Python  \\\n",
      "precision  0.0   1.000000   0.666667  1.000000   0.0    0.297297   1.000000   \n",
      "recall     0.0   0.090909   0.250000  0.500000   0.0    1.000000   0.142857   \n",
      "f1-score   0.0   0.166667   0.363636  0.666667   0.0    0.458333   0.250000   \n",
      "support    7.0  11.000000  16.000000  4.000000   7.0   22.000000  14.000000   \n",
      "\n",
      "           TypeScript  accuracy  macro avg  weighted avg  \n",
      "precision         0.0  0.364706   0.495495      0.543614  \n",
      "recall            0.0  0.364706   0.247971      0.364706  \n",
      "f1-score          0.0  0.364706   0.238163      0.281194  \n",
      "support           4.0  0.364706  85.000000     85.000000  \n",
      "\n",
      "=======================\n",
      "\n",
      "RandomForest depth 5\n",
      "\n",
      "             C         C#        C++      HTML  Java  JavaScript     Python  \\\n",
      "precision  0.0   1.000000   0.625000  1.000000   0.0    0.305556   1.000000   \n",
      "recall     0.0   0.090909   0.312500  0.500000   0.0    1.000000   0.142857   \n",
      "f1-score   0.0   0.166667   0.416667  0.666667   0.0    0.468085   0.250000   \n",
      "support    7.0  11.000000  16.000000  4.000000   7.0   22.000000  14.000000   \n",
      "\n",
      "           TypeScript  accuracy  macro avg  weighted avg  \n",
      "precision         0.0  0.376471   0.491319      0.537908  \n",
      "recall            0.0  0.376471   0.255783      0.376471  \n",
      "f1-score          0.0  0.376471   0.246011      0.293700  \n",
      "support           4.0  0.376471  85.000000     85.000000  \n",
      "\n",
      "=======================\n",
      "\n",
      "RandomForest depth 6\n",
      "\n",
      "             C         C#        C++      HTML  Java  JavaScript     Python  \\\n",
      "precision  0.0   1.000000   0.500000  1.000000   0.0    0.323529   1.000000   \n",
      "recall     0.0   0.090909   0.375000  0.500000   0.0    1.000000   0.142857   \n",
      "f1-score   0.0   0.166667   0.428571  0.666667   0.0    0.488889   0.250000   \n",
      "support    7.0  11.000000  16.000000  4.000000   7.0   22.000000  14.000000   \n",
      "\n",
      "           TypeScript  accuracy  macro avg  weighted avg  \n",
      "precision         0.0  0.388235   0.477941      0.519031  \n",
      "recall            0.0  0.388235   0.263596      0.388235  \n",
      "f1-score          0.0  0.388235   0.250099      0.301326  \n",
      "support           4.0  0.388235  85.000000     85.000000  \n",
      "\n",
      "=======================\n",
      "\n",
      "RandomForest depth 7\n",
      "\n",
      "             C         C#        C++      HTML      Java  JavaScript  \\\n",
      "precision  0.0   1.000000   0.642857  1.000000  1.000000    0.354839   \n",
      "recall     0.0   0.181818   0.562500  0.500000  0.142857    1.000000   \n",
      "f1-score   0.0   0.307692   0.600000  0.666667  0.250000    0.523810   \n",
      "support    7.0  11.000000  16.000000  4.000000  7.000000   22.000000   \n",
      "\n",
      "              Python  TypeScript  accuracy  macro avg  weighted avg  \n",
      "precision   0.750000         0.0  0.458824   0.593462      0.595202  \n",
      "recall      0.214286         0.0  0.458824   0.325183      0.458824  \n",
      "f1-score    0.333333         0.0  0.458824   0.335188      0.395197  \n",
      "support    14.000000         4.0  0.458824  85.000000     85.000000  \n",
      "\n",
      "=======================\n",
      "\n",
      "RandomForest depth 8\n",
      "\n",
      "                  C         C#        C++      HTML      Java  JavaScript  \\\n",
      "precision  1.000000   1.000000   0.636364  1.000000  1.000000    0.333333   \n",
      "recall     0.142857   0.181818   0.437500  0.500000  0.142857    0.954545   \n",
      "f1-score   0.250000   0.307692   0.518519  0.666667  0.250000    0.494118   \n",
      "support    7.000000  11.000000  16.000000  4.000000  7.000000   22.000000   \n",
      "\n",
      "              Python  TypeScript  accuracy  macro avg  weighted avg  \n",
      "precision   0.600000         0.0  0.435294   0.696212      0.646061  \n",
      "recall      0.214286         0.0  0.435294   0.321733      0.435294  \n",
      "f1-score    0.315789         0.0  0.435294   0.350348      0.389873  \n",
      "support    14.000000         4.0  0.435294  85.000000     85.000000  \n",
      "\n",
      "=======================\n",
      "\n",
      "RandomForest depth 9\n",
      "\n",
      "                  C         C#        C++      HTML      Java  JavaScript  \\\n",
      "precision  1.000000   0.500000   0.600000  1.000000  1.000000    0.328125   \n",
      "recall     0.142857   0.090909   0.375000  0.500000  0.142857    0.954545   \n",
      "f1-score   0.250000   0.153846   0.461538  0.666667  0.250000    0.488372   \n",
      "support    7.000000  11.000000  16.000000  4.000000  7.000000   22.000000   \n",
      "\n",
      "              Python  TypeScript  accuracy  macro avg  weighted avg  \n",
      "precision   0.600000         0.0  0.411765   0.628516      0.573162  \n",
      "recall      0.214286         0.0  0.411765   0.302557      0.411765  \n",
      "f1-score    0.315789         0.0  0.411765   0.323277      0.357751  \n",
      "support    14.000000         4.0  0.411765  85.000000     85.000000  \n",
      "\n",
      "=======================\n",
      "\n",
      "RandomForest depth 10\n",
      "\n",
      "                  C         C#        C++      HTML      Java  JavaScript  \\\n",
      "precision  1.000000   0.666667   0.533333  1.000000  1.000000    0.344828   \n",
      "recall     0.142857   0.181818   0.500000  0.500000  0.142857    0.909091   \n",
      "f1-score   0.250000   0.285714   0.516129  0.666667  0.250000    0.500000   \n",
      "support    7.000000  11.000000  16.000000  4.000000  7.000000   22.000000   \n",
      "\n",
      "              Python  TypeScript  accuracy  macro avg  weighted avg  \n",
      "precision   0.600000         0.0  0.435294   0.643103      0.586504  \n",
      "recall      0.214286         0.0  0.435294   0.323864      0.435294  \n",
      "f1-score    0.315789         0.0  0.435294   0.348037      0.388102  \n",
      "support    14.000000         4.0  0.435294  85.000000     85.000000  \n",
      "\n",
      "=======================\n",
      "\n",
      "RandomForest depth 11\n",
      "\n",
      "                  C         C#        C++      HTML      Java  JavaScript  \\\n",
      "precision  0.500000   1.000000   0.470588  1.000000  1.000000    0.368421   \n",
      "recall     0.142857   0.090909   0.500000  0.500000  0.142857    0.954545   \n",
      "f1-score   0.222222   0.166667   0.484848  0.666667  0.250000    0.531646   \n",
      "support    7.000000  11.000000  16.000000  4.000000  7.000000   22.000000   \n",
      "\n",
      "              Python  TypeScript  accuracy  macro avg  weighted avg  \n",
      "precision   0.800000         0.0  0.447059   0.642376      0.615702  \n",
      "recall      0.285714         0.0  0.447059   0.327110      0.447059  \n",
      "f1-score    0.421053         0.0  0.447059   0.342888      0.390048  \n",
      "support    14.000000         4.0  0.447059  85.000000     85.000000  \n",
      "\n",
      "=======================\n",
      "\n",
      "RandomForest depth 12\n",
      "\n",
      "                  C         C#        C++      HTML      Java  JavaScript  \\\n",
      "precision  1.000000   1.000000   0.571429  1.000000  1.000000    0.350000   \n",
      "recall     0.142857   0.090909   0.500000  0.500000  0.142857    0.954545   \n",
      "f1-score   0.250000   0.166667   0.533333  0.666667  0.250000    0.512195   \n",
      "support    7.000000  11.000000  16.000000  4.000000  7.000000   22.000000   \n",
      "\n",
      "              Python  TypeScript  accuracy  macro avg  weighted avg  \n",
      "precision   0.666667         0.0  0.447059   0.698512      0.649132  \n",
      "recall      0.285714         0.0  0.447059   0.327110      0.447059  \n",
      "f1-score    0.400000         0.0  0.447059   0.347358      0.392960  \n",
      "support    14.000000         4.0  0.447059  85.000000     85.000000  \n",
      "\n",
      "=======================\n",
      "\n"
     ]
    }
   ],
   "source": [
    "# Random Forest Default values on validate dataset\n",
    "for i in range(3, 13):\n",
    "    multi_depth = RandomForestClassifier(max_depth=i, random_state=175)\n",
    "\n",
    "    all_rf = multi_depth.fit(X_train, y_train)\n",
    "\n",
    "    y_pred_validate_rfc = all_rf.predict(X_validate)\n",
    "\n",
    "    report = classification_report(y_validate, y_pred_validate_rfc, output_dict=True)\n",
    "    print(f'RandomForest depth {i}\\n')\n",
    "    print(pd.DataFrame(report))\n",
    "    print('\\n=======================\\n')"
   ]
  },
  {
   "cell_type": "markdown",
   "id": "99995271",
   "metadata": {},
   "source": [
    ">### Summary for Random Forest Classifier  \n",
    "        - The best depth for the train dataset is 12 with an accuracy at 82.74%, recall at 100% and a low precision at 56.81%.\n",
    "        - The best depth for the validate dataset is 11 and 12 with an accuracy at 44.7%.\n",
    "        - Recall for both is at 95.45% but precision is different. Depth 11 has a higher 36.84% Precision while depth 12 has 35% Precision. We will pick depth 11."
   ]
  },
  {
   "cell_type": "markdown",
   "id": "4b18cfe3",
   "metadata": {},
   "source": [
    ">### Plotting the models"
   ]
  },
  {
   "cell_type": "code",
   "execution_count": null,
   "id": "6389afe6",
   "metadata": {},
   "outputs": [],
   "source": [
    "y_train.values"
   ]
  },
  {
   "cell_type": "code",
   "execution_count": null,
   "id": "bf849175",
   "metadata": {},
   "outputs": [],
   "source": [
    "# I doubt the sparse matrix will work with the code below but will try\n",
    "X_train"
   ]
  },
  {
   "cell_type": "code",
   "execution_count": null,
   "id": "c129a28b",
   "metadata": {},
   "outputs": [],
   "source": [
    "# Displaying model for best depth which is 12\n",
    "model = RandomForestClassifier(max_depth=12, random_state=175)\n",
    "\n",
    "# Train\n",
    "model.fit(X_train, y_train)\n",
    "# Extract single tree\n",
    "estimator = model.estimators_[5]\n",
    "\n",
    "# Export as dot file\n",
    "export_graphviz(estimator, out_file='tree.dot', \n",
    "                feature_names = X_train.shape[0],\n",
    "                class_names = y_train.values,\n",
    "                rounded = True, proportion = False, \n",
    "                precision = 2, filled = True)\n",
    "\n",
    "# Convert to png using system command (requires Graphviz)\n",
    "from subprocess import call\n",
    "call(['dot', '-Tpng', 'tree.dot', '-o', 'tree.png', '-Gdpi=600'])\n",
    "\n",
    "# Display in jupyter notebook\n",
    "from IPython.display import Image\n",
    "Image(filename = 'tree.png')"
   ]
  },
  {
   "cell_type": "markdown",
   "id": "bf07a714",
   "metadata": {},
   "source": [
    ">### Maybe resorting to the conversion performed in the curriculum would work but that is not an MVP. Pursue once all is done for an MVP."
   ]
  },
  {
   "cell_type": "markdown",
   "id": "f608476c",
   "metadata": {},
   "source": [
    "## K Nearest Neighbor Model (KNN) "
   ]
  },
  {
   "cell_type": "code",
   "execution_count": 42,
   "id": "eb08e53f",
   "metadata": {},
   "outputs": [
    {
     "name": "stdout",
     "output_type": "stream",
     "text": [
      "KNN depth 3\n",
      "\n",
      "                   C     C#        C++   HTML       Java  JavaScript  \\\n",
      "precision   0.173077   1.00   0.952381   1.00   1.000000    1.000000   \n",
      "recall      1.000000   0.25   0.555556   0.60   0.437500    0.560000   \n",
      "f1-score    0.295082   0.40   0.701754   0.75   0.608696    0.717949   \n",
      "support    18.000000  24.00  36.000000  10.00  16.000000   50.000000   \n",
      "\n",
      "              Python  TypeScript  accuracy   macro avg  weighted avg  \n",
      "precision   1.000000    1.000000  0.558376    0.890682      0.915742  \n",
      "recall      0.666667    0.300000  0.558376    0.546215      0.558376  \n",
      "f1-score    0.800000    0.461538  0.558376    0.591877      0.631099  \n",
      "support    33.000000   10.000000  0.558376  197.000000    197.000000  \n",
      "\n",
      "=======================\n",
      "\n",
      "KNN depth 4\n",
      "\n",
      "               C     C#        C++   HTML       Java  JavaScript     Python  \\\n",
      "precision   0.25   0.75   0.913043   1.00   0.909091    0.820513   0.923077   \n",
      "recall      1.00   0.50   0.583333   0.60   0.625000    0.640000   0.727273   \n",
      "f1-score    0.40   0.60   0.711864   0.75   0.740741    0.719101   0.813559   \n",
      "support    18.00  24.00  36.000000  10.00  16.000000   50.000000  33.000000   \n",
      "\n",
      "           TypeScript  accuracy   macro avg  weighted avg  \n",
      "precision    0.750000  0.639594    0.789466      0.806610  \n",
      "recall       0.300000  0.639594    0.621951      0.639594  \n",
      "f1-score     0.428571  0.639594    0.645480      0.678514  \n",
      "support     10.000000  0.639594  197.000000    197.000000  \n",
      "\n",
      "=======================\n",
      "\n",
      "KNN depth 5\n",
      "\n",
      "                   C         C#        C++   HTML       Java  JavaScript  \\\n",
      "precision   0.367347   0.714286   0.564103   1.00   0.888889    0.727273   \n",
      "recall      1.000000   0.625000   0.611111   0.60   0.500000    0.640000   \n",
      "f1-score    0.537313   0.666667   0.586667   0.75   0.640000    0.680851   \n",
      "support    18.000000  24.000000  36.000000  10.00  16.000000   50.000000   \n",
      "\n",
      "              Python  TypeScript  accuracy   macro avg  weighted avg  \n",
      "precision   0.916667         0.6  0.639594    0.722320      0.715222  \n",
      "recall      0.666667         0.3  0.639594    0.617847      0.639594  \n",
      "f1-score    0.771930         0.4  0.639594    0.629178      0.649989  \n",
      "support    33.000000        10.0  0.639594  197.000000    197.000000  \n",
      "\n",
      "=======================\n",
      "\n",
      "KNN depth 6\n",
      "\n",
      "                   C         C#        C++   HTML       Java  JavaScript  \\\n",
      "precision   0.326531   0.560000   0.600000   1.00   0.750000    0.736842   \n",
      "recall      0.888889   0.583333   0.583333   0.60   0.562500    0.560000   \n",
      "f1-score    0.477612   0.571429   0.591549   0.75   0.642857    0.636364   \n",
      "support    18.000000  24.000000  36.000000  10.00  16.000000   50.000000   \n",
      "\n",
      "              Python  TypeScript  accuracy   macro avg  weighted avg  \n",
      "precision   0.793103         0.0  0.593909    0.595810      0.639249  \n",
      "recall      0.696970         0.0  0.593909    0.559378      0.593909  \n",
      "f1-score    0.741935         0.0  0.593909    0.551468      0.597436  \n",
      "support    33.000000        10.0  0.593909  197.000000    197.000000  \n",
      "\n",
      "=======================\n",
      "\n",
      "KNN depth 7\n",
      "\n",
      "                   C         C#        C++       HTML       Java  JavaScript  \\\n",
      "precision   0.352941   0.500000   0.513514   0.750000   0.571429    0.738095   \n",
      "recall      0.666667   0.666667   0.527778   0.600000   0.500000    0.620000   \n",
      "f1-score    0.461538   0.571429   0.520548   0.666667   0.533333    0.673913   \n",
      "support    18.000000  24.000000  36.000000  10.000000  16.000000   50.000000   \n",
      "\n",
      "              Python  TypeScript  accuracy   macro avg  weighted avg  \n",
      "precision   0.758621         0.0   0.57868    0.523075      0.585896  \n",
      "recall      0.666667         0.0   0.57868    0.530972      0.578680  \n",
      "f1-score    0.709677         0.0   0.57868    0.517138      0.573993  \n",
      "support    33.000000        10.0   0.57868  197.000000    197.000000  \n",
      "\n",
      "=======================\n",
      "\n",
      "KNN depth 8\n",
      "\n",
      "                   C         C#        C++       HTML       Java  JavaScript  \\\n",
      "precision   0.384615   0.533333   0.564103   0.750000   0.600000    0.714286   \n",
      "recall      0.555556   0.666667   0.611111   0.600000   0.562500    0.700000   \n",
      "f1-score    0.454545   0.592593   0.586667   0.666667   0.580645    0.707071   \n",
      "support    18.000000  24.000000  36.000000  10.000000  16.000000   50.000000   \n",
      "\n",
      "              Python  TypeScript  accuracy   macro avg  weighted avg  \n",
      "precision   0.724138         0.0  0.604061    0.533809      0.592597  \n",
      "recall      0.636364         0.0  0.604061    0.541525      0.604061  \n",
      "f1-score    0.677419         0.0  0.604061    0.533201      0.594870  \n",
      "support    33.000000        10.0  0.604061  197.000000    197.000000  \n",
      "\n",
      "=======================\n",
      "\n",
      "KNN depth 9\n",
      "\n",
      "                   C         C#        C++       HTML       Java  JavaScript  \\\n",
      "precision   0.450000   0.607143   0.534884   0.545455   0.571429    0.692308   \n",
      "recall      0.500000   0.708333   0.638889   0.600000   0.500000    0.720000   \n",
      "f1-score    0.473684   0.653846   0.582278   0.571429   0.533333    0.705882   \n",
      "support    18.000000  24.000000  36.000000  10.000000  16.000000   50.000000   \n",
      "\n",
      "              Python  TypeScript  accuracy   macro avg  weighted avg  \n",
      "precision   0.785714         0.0  0.614213    0.523366      0.594257  \n",
      "recall      0.666667         0.0  0.614213    0.541736      0.614213  \n",
      "f1-score    0.721311         0.0  0.614213    0.530221      0.601653  \n",
      "support    33.000000        10.0  0.614213  197.000000    197.000000  \n",
      "\n",
      "=======================\n",
      "\n",
      "KNN depth 10\n",
      "\n",
      "                   C         C#        C++       HTML       Java  JavaScript  \\\n",
      "precision   0.428571   0.482759   0.478261   0.500000   0.571429    0.673077   \n",
      "recall      0.333333   0.583333   0.611111   0.600000   0.500000    0.700000   \n",
      "f1-score    0.375000   0.528302   0.536585   0.545455   0.533333    0.686275   \n",
      "support    18.000000  24.000000  36.000000  10.000000  16.000000   50.000000   \n",
      "\n",
      "              Python  TypeScript  accuracy   macro avg  weighted avg  \n",
      "precision   0.793103         0.0   0.57868    0.490900      0.560848  \n",
      "recall      0.696970         0.0   0.57868    0.503093      0.578680  \n",
      "f1-score    0.741935         0.0   0.57868    0.493361      0.566151  \n",
      "support    33.000000        10.0   0.57868  197.000000    197.000000  \n",
      "\n",
      "=======================\n",
      "\n",
      "KNN depth 11\n",
      "\n",
      "                   C         C#        C++   HTML       Java  JavaScript  \\\n",
      "precision   0.500000   0.451613   0.522727   0.40   0.636364    0.611111   \n",
      "recall      0.333333   0.583333   0.638889   0.60   0.437500    0.660000   \n",
      "f1-score    0.400000   0.509091   0.575000   0.48   0.518519    0.634615   \n",
      "support    18.000000  24.000000  36.000000  10.00  16.000000   50.000000   \n",
      "\n",
      "              Python  TypeScript  accuracy   macro avg  weighted avg  \n",
      "precision   0.800000         0.0  0.573604    0.490227      0.557331  \n",
      "recall      0.727273         0.0  0.573604    0.497541      0.573604  \n",
      "f1-score    0.761905         0.0  0.573604    0.484891      0.558823  \n",
      "support    33.000000        10.0  0.573604  197.000000    197.000000  \n",
      "\n",
      "=======================\n",
      "\n",
      "KNN depth 12\n",
      "\n",
      "                   C         C#        C++   HTML       Java  JavaScript  \\\n",
      "precision   0.400000   0.437500   0.511111   0.40   0.500000    0.527273   \n",
      "recall      0.111111   0.583333   0.638889   0.60   0.375000    0.580000   \n",
      "f1-score    0.173913   0.500000   0.567901   0.48   0.428571    0.552381   \n",
      "support    18.000000  24.000000  36.000000  10.00  16.000000   50.000000   \n",
      "\n",
      "              Python  TypeScript  accuracy   macro avg  weighted avg  \n",
      "precision   0.666667         0.0  0.517766    0.430319      0.489663  \n",
      "recall      0.666667         0.0  0.517766    0.444375      0.517766  \n",
      "f1-score    0.666667         0.0  0.517766    0.421179      0.491630  \n",
      "support    33.000000        10.0  0.517766  197.000000    197.000000  \n",
      "\n",
      "=======================\n",
      "\n"
     ]
    }
   ],
   "source": [
    "# KNN Default values on train dataset\n",
    "for i in range(3, 13):\n",
    "    knn_depth = KNeighborsClassifier(n_neighbors=i)\n",
    "\n",
    "    all_knn = knn_depth.fit(X_train, y_train)\n",
    "\n",
    "    y_pred_knn = all_knn.predict(X_train)\n",
    "\n",
    "    report = classification_report(y_train, y_pred_knn, output_dict=True)\n",
    "    print(f'KNN depth {i}\\n')\n",
    "    print(pd.DataFrame(report))\n",
    "    print('\\n=======================\\n')"
   ]
  },
  {
   "cell_type": "markdown",
   "id": "a577b644",
   "metadata": {},
   "source": [
    ">### The best depth of the model on train dataset is 4 and it has a 63.95 % Accuracy, a 92.30% Precision, and a Recall at 72.73%"
   ]
  },
  {
   "cell_type": "markdown",
   "id": "c152f062",
   "metadata": {},
   "source": [
    ">### On out-of-sample data"
   ]
  },
  {
   "cell_type": "code",
   "execution_count": 43,
   "id": "ee7105af",
   "metadata": {
    "scrolled": false
   },
   "outputs": [
    {
     "name": "stdout",
     "output_type": "stream",
     "text": [
      "KNN depth 3\n",
      "\n",
      "                  C         C#        C++      HTML  Java  JavaScript  \\\n",
      "precision  0.113208   0.400000   0.571429  1.000000   0.0    0.692308   \n",
      "recall     0.857143   0.181818   0.250000  0.500000   0.0    0.409091   \n",
      "f1-score   0.200000   0.250000   0.347826  0.666667   0.0    0.514286   \n",
      "support    7.000000  11.000000  16.000000  4.000000   7.0   22.000000   \n",
      "\n",
      "              Python  TypeScript  accuracy  macro avg  weighted avg  \n",
      "precision   0.200000         0.0  0.282353   0.372118      0.427836  \n",
      "recall      0.071429         0.0  0.282353   0.283685      0.282353  \n",
      "f1-score    0.105263         0.0  0.282353   0.260505      0.296116  \n",
      "support    14.000000         4.0  0.282353  85.000000     85.000000  \n",
      "\n",
      "=======================\n",
      "\n",
      "KNN depth 4\n",
      "\n",
      "                  C         C#        C++      HTML  Java  JavaScript  \\\n",
      "precision  0.162162   0.272727   0.333333  1.000000   0.0    0.647059   \n",
      "recall     0.857143   0.272727   0.125000  0.500000   0.0    0.500000   \n",
      "f1-score   0.272727   0.272727   0.181818  0.666667   0.0    0.564103   \n",
      "support    7.000000  11.000000  16.000000  4.000000   7.0   22.000000   \n",
      "\n",
      "              Python  TypeScript  accuracy  macro avg  weighted avg  \n",
      "precision   0.583333         0.0  0.364706   0.374827      0.422005  \n",
      "recall      0.500000         0.0  0.364706   0.344359      0.364706  \n",
      "f1-score    0.538462         0.0  0.364706   0.312063      0.358042  \n",
      "support    14.000000         4.0  0.364706  85.000000     85.000000  \n",
      "\n",
      "=======================\n",
      "\n",
      "KNN depth 5\n",
      "\n",
      "                  C         C#        C++      HTML  Java  JavaScript  \\\n",
      "precision  0.217391   0.312500   0.363636  1.000000   0.0    0.611111   \n",
      "recall     0.714286   0.454545   0.250000  0.500000   0.0    0.500000   \n",
      "f1-score   0.333333   0.370370   0.296296  0.666667   0.0    0.550000   \n",
      "support    7.000000  11.000000  16.000000  4.000000   7.0   22.000000   \n",
      "\n",
      "              Python  TypeScript  accuracy  macro avg  weighted avg  \n",
      "precision   0.666667         0.0  0.411765   0.396413      0.441826  \n",
      "recall      0.571429         0.0  0.411765   0.373782      0.411765  \n",
      "f1-score    0.615385         0.0  0.411765   0.354006      0.406238  \n",
      "support    14.000000         4.0  0.411765  85.000000     85.000000  \n",
      "\n",
      "=======================\n",
      "\n",
      "KNN depth 6\n",
      "\n",
      "                  C         C#        C++      HTML  Java  JavaScript  \\\n",
      "precision  0.294118   0.333333   0.400000  1.000000   0.0    0.722222   \n",
      "recall     0.714286   0.545455   0.375000  0.500000   0.0    0.590909   \n",
      "f1-score   0.416667   0.413793   0.387097  0.666667   0.0    0.650000   \n",
      "support    7.000000  11.000000  16.000000  4.000000   7.0   22.000000   \n",
      "\n",
      "              Python  TypeScript  accuracy  macro avg  weighted avg  \n",
      "precision   0.666667         0.0  0.470588   0.427042      0.486444  \n",
      "recall      0.571429         0.0  0.470588   0.412135      0.470588  \n",
      "f1-score    0.615385         0.0  0.470588   0.393701      0.461694  \n",
      "support    14.000000         4.0  0.470588  85.000000     85.000000  \n",
      "\n",
      "=======================\n",
      "\n",
      "KNN depth 7\n",
      "\n",
      "                  C         C#        C++      HTML  Java  JavaScript  \\\n",
      "precision  0.285714   0.333333   0.384615  1.000000   0.0    0.608696   \n",
      "recall     0.571429   0.545455   0.312500  0.500000   0.0    0.636364   \n",
      "f1-score   0.380952   0.413793   0.344828  0.666667   0.0    0.622222   \n",
      "support    7.000000  11.000000  16.000000  4.000000   7.0   22.000000   \n",
      "\n",
      "              Python  TypeScript  accuracy  macro avg  weighted avg  \n",
      "precision   0.571429         0.0  0.458824   0.397973      0.437786  \n",
      "recall      0.571429         0.0  0.458824   0.392147      0.458824  \n",
      "f1-score    0.571429         0.0  0.458824   0.374986      0.436367  \n",
      "support    14.000000         4.0  0.458824  85.000000     85.000000  \n",
      "\n",
      "=======================\n",
      "\n",
      "KNN depth 8\n",
      "\n",
      "                  C         C#        C++      HTML  Java  JavaScript  \\\n",
      "precision  0.166667   0.222222   0.357143  1.000000   0.0    0.608696   \n",
      "recall     0.285714   0.363636   0.312500  0.500000   0.0    0.636364   \n",
      "f1-score   0.210526   0.275862   0.333333  0.666667   0.0    0.622222   \n",
      "support    7.000000  11.000000  16.000000  4.000000   7.0   22.000000   \n",
      "\n",
      "              Python  TypeScript  accuracy  macro avg  weighted avg  \n",
      "precision   0.571429         0.0  0.411765   0.365769      0.408432  \n",
      "recall      0.571429         0.0  0.411765   0.333705      0.411765  \n",
      "f1-score    0.571429         0.0  0.411765   0.335005      0.402318  \n",
      "support    14.000000         4.0  0.411765  85.000000     85.000000  \n",
      "\n",
      "=======================\n",
      "\n",
      "KNN depth 9\n",
      "\n",
      "                  C         C#        C++      HTML  Java  JavaScript  \\\n",
      "precision  0.230769   0.461538   0.411765  1.000000   0.0    0.615385   \n",
      "recall     0.428571   0.545455   0.437500  0.500000   0.0    0.727273   \n",
      "f1-score   0.300000   0.500000   0.424242  0.666667   0.0    0.666667   \n",
      "support    7.000000  11.000000  16.000000  4.000000   7.0   22.000000   \n",
      "\n",
      "              Python  TypeScript  accuracy  macro avg  weighted avg  \n",
      "precision   0.500000         0.0  0.470588   0.402432      0.444929  \n",
      "recall      0.428571         0.0  0.470588   0.383421      0.470588  \n",
      "f1-score    0.461538         0.0  0.470588   0.377389      0.449209  \n",
      "support    14.000000         4.0  0.470588  85.000000     85.000000  \n",
      "\n",
      "=======================\n",
      "\n",
      "KNN depth 10\n",
      "\n",
      "                  C         C#      C++      HTML  Java  JavaScript  \\\n",
      "precision  0.272727   0.400000   0.3125  1.000000   0.0    0.555556   \n",
      "recall     0.428571   0.545455   0.3125  0.500000   0.0    0.681818   \n",
      "f1-score   0.333333   0.461538   0.3125  0.666667   0.0    0.612245   \n",
      "support    7.000000  11.000000  16.0000  4.000000   7.0   22.000000   \n",
      "\n",
      "              Python  TypeScript  accuracy  macro avg  weighted avg  \n",
      "precision   0.461538         0.0  0.435294   0.375290      0.399916  \n",
      "recall      0.428571         0.0  0.435294   0.362114      0.435294  \n",
      "f1-score    0.444444         0.0  0.435294   0.353841      0.409042  \n",
      "support    14.000000         4.0  0.435294  85.000000     85.000000  \n",
      "\n",
      "=======================\n",
      "\n",
      "KNN depth 11\n",
      "\n",
      "                  C         C#        C++      HTML  Java  JavaScript  \\\n",
      "precision  0.300000   0.315789   0.235294  1.000000   0.0    0.607143   \n",
      "recall     0.428571   0.545455   0.250000  0.500000   0.0    0.772727   \n",
      "f1-score   0.352941   0.400000   0.242424  0.666667   0.0    0.680000   \n",
      "support    7.000000  11.000000  16.000000  4.000000   7.0   22.000000   \n",
      "\n",
      "              Python  TypeScript  accuracy  macro avg  weighted avg  \n",
      "precision   0.625000         0.0  0.435294   0.385403      0.417006  \n",
      "recall      0.357143         0.0  0.435294   0.356737      0.435294  \n",
      "f1-score    0.454545         0.0  0.435294   0.349572      0.408702  \n",
      "support    14.000000         4.0  0.435294  85.000000     85.000000  \n",
      "\n",
      "=======================\n",
      "\n",
      "KNN depth 12\n",
      "\n",
      "             C         C#        C++      HTML      Java  JavaScript  \\\n",
      "precision  0.0   0.352941   0.263158  1.000000  0.500000    0.629630   \n",
      "recall     0.0   0.545455   0.312500  0.500000  0.142857    0.772727   \n",
      "f1-score   0.0   0.428571   0.285714  0.666667  0.222222    0.693878   \n",
      "support    7.0  11.000000  16.000000  4.000000  7.000000   22.000000   \n",
      "\n",
      "              Python  TypeScript  accuracy  macro avg  weighted avg  \n",
      "precision   0.666667         0.0  0.435294   0.426549      0.456213  \n",
      "recall      0.428571         0.0  0.435294   0.337764      0.435294  \n",
      "f1-score    0.521739         0.0  0.435294   0.352349      0.424442  \n",
      "support    14.000000         4.0  0.435294  85.000000     85.000000  \n",
      "\n",
      "=======================\n",
      "\n"
     ]
    }
   ],
   "source": [
    "# KNN Default values on validate dataset\n",
    "for i in range(3, 13):\n",
    "    knn_depth = KNeighborsClassifier(n_neighbors=i)\n",
    "\n",
    "    all_knn = knn_depth.fit(X_train, y_train)\n",
    "\n",
    "    y_val_pred_knn = all_knn.predict(X_validate)\n",
    "\n",
    "    report = classification_report(y_validate, y_val_pred_knn, output_dict=True)\n",
    "    print(f'KNN depth {i}\\n')\n",
    "    print(pd.DataFrame(report))\n",
    "    print('\\n=======================\\n')"
   ]
  },
  {
   "cell_type": "markdown",
   "id": "d8fe7a2d",
   "metadata": {},
   "source": [
    ">### Summary for K Nearest Neighbor  \n",
    "        - The best depth of the model on train dataset is 4 and it has a 63.95 % Accuracy and a 92.30% Precision. This is the highest Precision so far.\n",
    "        - The best depth for the validate dataset is 6 with a 47.06% Accuracy and a 72.22% Precsion."
   ]
  },
  {
   "cell_type": "markdown",
   "id": "2f1708b4",
   "metadata": {},
   "source": [
    ">### General Summary  \n",
    "        - The model that performs best on the validate dataset is the Random Forest Classifier at depth 11 with 89.41% Accuracy, 100% Recall, and 70.96% Precision.\n",
    "        - Now, I will run this model on the test dataset with the same default hyper-parameters."
   ]
  },
  {
   "cell_type": "markdown",
   "id": "a94cc6e8",
   "metadata": {},
   "source": [
    ">### K-Neighbors Classifier at depth 6 on test dataset"
   ]
  },
  {
   "cell_type": "code",
   "execution_count": 44,
   "id": "9a56002d",
   "metadata": {},
   "outputs": [
    {
     "name": "stdout",
     "output_type": "stream",
     "text": [
      "Classification Report on test dataset\n",
      "\n",
      "=======================\n",
      "\n",
      "                  C        C#        C++      HTML      Java  JavaScript  \\\n",
      "precision  0.200000  0.250000   0.363636  1.000000  0.500000    0.421053   \n",
      "recall     0.333333  0.444444   0.307692  0.333333  0.166667    0.444444   \n",
      "f1-score   0.250000  0.320000   0.333333  0.500000  0.250000    0.432432   \n",
      "support    6.000000  9.000000  13.000000  3.000000  6.000000   18.000000   \n",
      "\n",
      "              Python  TypeScript  accuracy  macro avg  weighted avg  \n",
      "precision   0.700000         0.0  0.380282   0.429336      0.424735  \n",
      "recall      0.583333         0.0  0.380282   0.326656      0.380282  \n",
      "f1-score    0.636364         0.0  0.380282   0.340266      0.382162  \n",
      "support    12.000000         4.0  0.380282  71.000000     71.000000  \n"
     ]
    }
   ],
   "source": [
    "# Creating, Fitting, Making, and Predicting on the test dataset\n",
    "\n",
    "knn = KNeighborsClassifier(n_neighbors=6)\n",
    "knn.fit(X_train, y_train)\n",
    "y_pred_test_knn = knn.predict(X_test)\n",
    "report = classification_report(y_test, y_pred_test_knn, output_dict=True)\n",
    "print('Classification Report on test dataset')\n",
    "print('\\n=======================\\n')\n",
    "print(pd.DataFrame(report))"
   ]
  },
  {
   "cell_type": "markdown",
   "id": "4b5ff84f",
   "metadata": {},
   "source": [
    ">### The K-Nearest Neighbor at depth 6 has a 38.02% Accuracy and a 42.1% Precision.\n",
    "        This model is the best at predicting the language used to build a game based on the README content.\n",
    "        It beats the baseline which is 25.38% by 12.64 points of percent."
   ]
  },
  {
   "cell_type": "code",
   "execution_count": null,
   "id": "fdf43321",
   "metadata": {},
   "outputs": [],
   "source": []
  }
 ],
 "metadata": {
  "kernelspec": {
   "display_name": "Python 3 (ipykernel)",
   "language": "python",
   "name": "python3"
  },
  "language_info": {
   "codemirror_mode": {
    "name": "ipython",
    "version": 3
   },
   "file_extension": ".py",
   "mimetype": "text/x-python",
   "name": "python",
   "nbconvert_exporter": "python",
   "pygments_lexer": "ipython3",
   "version": "3.9.7"
  }
 },
 "nbformat": 4,
 "nbformat_minor": 5
}
