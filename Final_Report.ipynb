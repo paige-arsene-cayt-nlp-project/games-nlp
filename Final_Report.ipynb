{
 "cells": [
  {
   "cell_type": "markdown",
   "id": "ae6c7fe8",
   "metadata": {},
   "source": [
    "# Predicting Coding Language in 'Games' Readmes\n",
    "**Author: Arsene Boundaone, Cayt Schlichting, Paige Rackley**<br>\n",
    "*Audience: *\n",
    "\n",
    "**Project Goal:**  The goal of this project is to use natural language processing and classification models to identify terms for predicting a readme's primary language on Github.\n",
    "\n",
    "\n",
    "**Jump to Section:** &ensp;   [Acquisition and Prep](#acq-prep) - [Exploration](#explore) - [Modeling](#modeling) - [Conclusion](#ConclusionC88)"
   ]
  },
  {
   "cell_type": "code",
   "execution_count": 1,
   "id": "4fdcaa85",
   "metadata": {},
   "outputs": [],
   "source": [
    "# Ignoring warning messages from python\n",
    "import warnings\n",
    "warnings.filterwarnings('ignore')\n",
    "\n",
    "#Basics\n",
    "import numpy as np\n",
    "import pandas as pd\n",
    "from IPython.display import Markdown, display\n",
    "\n",
    "#Viz\n",
    "import matplotlib.pyplot as plt\n",
    "import seaborn as sns\n",
    "sns.set_theme(palette='colorblind') #set theme for all viz\n",
    "\n",
    "#modeling and stats\n",
    "\n",
    "#Modules\n",
    "import prepare as prep\n",
    "import utils\n",
    "\n",
    "# Modeling imports\n",
    "import nltk\n",
    "from sklearn.feature_extraction.text import TfidfVectorizer\n",
    "from sklearn.ensemble import RandomForestClassifier\n",
    "from sklearn.neighbors import KNeighborsClassifier\n",
    "from sklearn.linear_model import LogisticRegression\n",
    "from sklearn.metrics import classification_report, accuracy_score"
   ]
  },
  {
   "cell_type": "markdown",
   "id": "d115fa11",
   "metadata": {},
   "source": [
    "***\n",
    "## Data Acquisition and Preparation  <a class=\"anchor\" id=\"acq-prep\">\n",
    "***\n",
    "\n",
    "**Source:** Web scrapping of Github search results. The first 500 repos with the keyword of 'games' on the search date of July 22, 2022 were used.\n",
    "\n",
    "**Filtering:**\n",
    "> - Any repos without readmes or without a language were dropped.\n",
    "> - Any repos whose language occured less than 10 times in the dataset were dropped.\n",
    "\n",
    "**Cleaning on Readme Contents:**\n",
    "> - Normalized to unicode and ascii\n",
    "> - Removed markdown character strings such as '\\n', '\\r', '(http..', '##', etc\n",
    "> - Removed any characteres that were not: a-z, 0-9, #, apostrophe, or space\n",
    "> - Stripped whitespace\n"
   ]
  },
  {
   "cell_type": "markdown",
   "id": "ae0ba1b8",
   "metadata": {},
   "source": [
    "##### Acquire, Prep and Split data"
   ]
  },
  {
   "cell_type": "code",
   "execution_count": 2,
   "id": "4ea955e0",
   "metadata": {},
   "outputs": [],
   "source": [
    "#Acquisition and Prep\n",
    "df = prep.prep_data()"
   ]
  },
  {
   "cell_type": "code",
   "execution_count": 3,
   "id": "821dba32",
   "metadata": {},
   "outputs": [],
   "source": [
    "#split\n",
    "train, validate, test = prep.split_data(df)"
   ]
  },
  {
   "cell_type": "code",
   "execution_count": 4,
   "id": "254e512e",
   "metadata": {},
   "outputs": [
    {
     "name": "stdout",
     "output_type": "stream",
     "text": [
      "<class 'pandas.core.frame.DataFrame'>\n",
      "Int64Index: 197 entries, 115 to 153\n",
      "Data columns (total 3 columns):\n",
      " #   Column    Non-Null Count  Dtype \n",
      "---  ------    --------------  ----- \n",
      " 0   repo      197 non-null    object\n",
      " 1   language  197 non-null    object\n",
      " 2   content   197 non-null    object\n",
      "dtypes: object(3)\n",
      "memory usage: 6.2+ KB\n"
     ]
    }
   ],
   "source": [
    "train.info()"
   ]
  },
  {
   "cell_type": "markdown",
   "id": "b52e0c01",
   "metadata": {},
   "source": [
    "***\n",
    "## Exploration  <a class=\"anchor\" id=\"explore\" />\n",
    "***\n",
    "*More exploration can be found in the supporting notebooks*\n"
   ]
  },
  {
   "cell_type": "markdown",
   "id": "a4d01369",
   "metadata": {},
   "source": [
    "##### Target variable distribution"
   ]
  },
  {
   "cell_type": "code",
   "execution_count": 16,
   "id": "0df633e0",
   "metadata": {},
   "outputs": [
    {
     "data": {
      "image/png": "[encoded data removed]",
      "text/plain": [
       "<Figure size 432x288 with 1 Axes>"
      ]
     },
     "metadata": {},
     "output_type": "display_data"
    }
   ],
   "source": [
    "utils.plot_target_distro(train)"
   ]
  },
  {
   "cell_type": "markdown",
   "id": "3f189346",
   "metadata": {},
   "source": [
    "### Question 1?\n",
    "\n",
    "<div class=\"alert alert-success\"><b>Alt Question format</b></div>"
   ]
  },
  {
   "cell_type": "code",
   "execution_count": 17,
   "id": "8ddc45fd",
   "metadata": {},
   "outputs": [
    {
     "data": {
      "text/markdown": [
       "### Alt question format using markdown"
      ],
      "text/plain": [
       "<IPython.core.display.Markdown object>"
      ]
     },
     "metadata": {},
     "output_type": "display_data"
    }
   ],
   "source": [
    "display(Markdown('### Alt question format using markdown'))\n",
    "#Do Visualizations"
   ]
  },
  {
   "cell_type": "markdown",
   "id": "12437dbd",
   "metadata": {},
   "source": [
    "**Notes:**"
   ]
  },
  {
   "cell_type": "markdown",
   "id": "ce6e2622",
   "metadata": {},
   "source": [
    "### Question 2?\n",
    "\n",
    "<div class=\"alert alert-success\"><b>Alt Question format</b></div>"
   ]
  },
  {
   "cell_type": "code",
   "execution_count": null,
   "id": "f22568d6",
   "metadata": {},
   "outputs": [],
   "source": [
    "#Do Visualizations"
   ]
  },
  {
   "cell_type": "markdown",
   "id": "263e093c",
   "metadata": {},
   "source": [
    "**Notes:**"
   ]
  },
  {
   "cell_type": "markdown",
   "id": "6358f60b",
   "metadata": {},
   "source": [
    "### Question 3?\n",
    "\n",
    "<div class=\"alert alert-success\"><b>Alt Question format</b></div>"
   ]
  },
  {
   "cell_type": "code",
   "execution_count": null,
   "id": "1bbd7ff1",
   "metadata": {},
   "outputs": [],
   "source": [
    "#Do Visualizations"
   ]
  },
  {
   "cell_type": "markdown",
   "id": "cb108a67",
   "metadata": {},
   "source": [
    "**Notes:**"
   ]
  },
  {
   "cell_type": "markdown",
   "id": "c9c90d12",
   "metadata": {},
   "source": [
    "### Question 3?\n",
    "\n",
    "<div class=\"alert alert-success\"><b>Alt Question format</b></div>"
   ]
  },
  {
   "cell_type": "code",
   "execution_count": null,
   "id": "c5b14357",
   "metadata": {},
   "outputs": [],
   "source": [
    "#Do Visualizations"
   ]
  },
  {
   "cell_type": "markdown",
   "id": "268df6e9",
   "metadata": {},
   "source": [
    "**Notes:**"
   ]
  },
  {
   "cell_type": "markdown",
   "id": "3fc3a585",
   "metadata": {},
   "source": [
    "### Exploration Summary:\n",
    "\n",
    "> - \n",
    "> - \n",
    "> - \n"
   ]
  },
  {
   "cell_type": "markdown",
   "id": "afb3403d",
   "metadata": {},
   "source": [
    "***\n",
    "## Modeling <a class=\"anchor\" id=\"modeling\" />\n",
    "***\n",
    "*More modeling can be found in the supporting notebooks*\n",
    "    \n",
    "**Model Evaluation:**"
   ]
  },
  {
   "cell_type": "code",
   "execution_count": 5,
   "id": "2148bc00",
   "metadata": {},
   "outputs": [],
   "source": [
    "# Vectorizing and 'learning' on train dataset\n",
    "\n",
    "tfidf = TfidfVectorizer()\n",
    "X_train = tfidf.fit_transform(train.content)\n",
    "y_train = train.language"
   ]
  },
  {
   "cell_type": "code",
   "execution_count": 6,
   "id": "239d5e5e",
   "metadata": {},
   "outputs": [],
   "source": [
    "# Applying the vectorization without giving out the content of validate\n",
    "X_validate = tfidf.transform(validate.content)\n",
    "y_validate = validate.language"
   ]
  },
  {
   "cell_type": "code",
   "execution_count": 7,
   "id": "557e7511",
   "metadata": {},
   "outputs": [],
   "source": [
    "# Applying the vectorization without giving out the content of validate\n",
    "X_test = tfidf.transform(test.content)\n",
    "y_test = test.language"
   ]
  },
  {
   "cell_type": "markdown",
   "id": "39973c01",
   "metadata": {},
   "source": [
    ">### Creating a baseline"
   ]
  },
  {
   "cell_type": "code",
   "execution_count": 8,
   "id": "d013e337",
   "metadata": {},
   "outputs": [
    {
     "name": "stdout",
     "output_type": "stream",
     "text": [
      "The baseline model has an average capture rate for Javascript of: 25.38%\n"
     ]
    }
   ],
   "source": [
    "# Creating a dataframe of the target variable for creating a baseline\n",
    "y_train_df = pd.DataFrame(dict(actual=y_train))\n",
    "\n",
    "# Since JavaScript has the highest occurence I'll use it as positive case\n",
    "y_train_df['baseline'] = y_train_df['actual'] == 'JavaScript'\n",
    "\n",
    "# Calculating the baseline model\n",
    "print(f'The baseline model has an average capture rate for Javascript of: {y_train_df.baseline.mean():.2%}')"
   ]
  },
  {
   "cell_type": "markdown",
   "id": "e31a1fde",
   "metadata": {},
   "source": [
    ">### Logistic Regression Model"
   ]
  },
  {
   "cell_type": "code",
   "execution_count": 10,
   "id": "206645d6",
   "metadata": {},
   "outputs": [
    {
     "name": "stdout",
     "output_type": "stream",
     "text": [
      "Accuracy: 45.88%\n",
      "------------------\n",
      "Confusion Matrix\n",
      "language    C  C#  C++  HTML  Java  JavaScript  Python  TypeScript\n",
      "row_0                                                             \n",
      "C           1   0    0     0     0           0       0           0\n",
      "C#          0   2    0     0     0           0       0           0\n",
      "C++         1   0    6     0     3           0       1           0\n",
      "HTML        0   0    0     2     0           0       0           0\n",
      "JavaScript  5   9    9     2     4          22       7           4\n",
      "Python      0   0    1     0     0           0       6           0\n",
      "------------------\n",
      "Classification Report\n",
      "\n",
      "\n",
      "              precision    recall  f1-score   support\n",
      "\n",
      "           C       1.00      0.14      0.25         7\n",
      "          C#       1.00      0.18      0.31        11\n",
      "         C++       0.55      0.38      0.44        16\n",
      "        HTML       1.00      0.50      0.67         4\n",
      "        Java       0.00      0.00      0.00         7\n",
      "  JavaScript       0.35      1.00      0.52        22\n",
      "      Python       0.86      0.43      0.57        14\n",
      "  TypeScript       0.00      0.00      0.00         4\n",
      "\n",
      "    accuracy                           0.46        85\n",
      "   macro avg       0.59      0.33      0.35        85\n",
      "weighted avg       0.59      0.46      0.41        85\n",
      "\n"
     ]
    }
   ],
   "source": [
    "# Logistic Regression Default setup on validate dataset\n",
    "lm = LogisticRegression().fit(X_train, y_train)\n",
    "y_validate_pred = lm.predict(X_validate)\n",
    "\n",
    "# Printing the accuracy value, the confusion matrix, and the classification report\n",
    "print('Accuracy: {:.2%}'.format(accuracy_score(y_validate, y_validate_pred)))\n",
    "print('------------------')\n",
    "print('Confusion Matrix')\n",
    "print(pd.crosstab(y_validate_pred, y_validate))\n",
    "print('------------------')\n",
    "print('Classification Report')\n",
    "print('\\n')\n",
    "print(classification_report(y_validate, y_validate_pred))"
   ]
  },
  {
   "cell_type": "markdown",
   "id": "66421014",
   "metadata": {},
   "source": [
    ">### Random Forest Classifier Model"
   ]
  },
  {
   "cell_type": "code",
   "execution_count": 12,
   "id": "ec5903fe",
   "metadata": {
    "scrolled": true
   },
   "outputs": [
    {
     "name": "stdout",
     "output_type": "stream",
     "text": [
      "RandomForest depth 3\n",
      "\n",
      "             C    C#        C++      HTML  Java  JavaScript     Python  \\\n",
      "precision  0.0   0.0   0.600000  1.000000   0.0    0.285714   1.000000   \n",
      "recall     0.0   0.0   0.187500  0.500000   0.0    1.000000   0.071429   \n",
      "f1-score   0.0   0.0   0.285714  0.666667   0.0    0.444444   0.133333   \n",
      "support    7.0  11.0  16.000000  4.000000   7.0   22.000000  14.000000   \n",
      "\n",
      "           TypeScript  accuracy  macro avg  weighted avg  \n",
      "precision         0.0  0.329412   0.360714      0.398655  \n",
      "recall            0.0  0.329412   0.219866      0.329412  \n",
      "f1-score          0.0  0.329412   0.191270      0.222148  \n",
      "support           4.0  0.329412  85.000000     85.000000  \n",
      "\n",
      "=======================\n",
      "\n",
      "RandomForest depth 4\n",
      "\n",
      "             C         C#        C++      HTML  Java  JavaScript     Python  \\\n",
      "precision  0.0   0.500000   0.625000  1.000000   0.0    0.309859   0.500000   \n",
      "recall     0.0   0.090909   0.312500  0.500000   0.0    1.000000   0.071429   \n",
      "f1-score   0.0   0.153846   0.416667  0.666667   0.0    0.473118   0.125000   \n",
      "support    7.0  11.000000  16.000000  4.000000   7.0   22.000000  14.000000   \n",
      "\n",
      "           TypeScript  accuracy  macro avg  weighted avg  \n",
      "precision         0.0  0.364706   0.366857      0.391964  \n",
      "recall            0.0  0.364706   0.246855      0.364706  \n",
      "f1-score          0.0  0.364706   0.229412      0.272756  \n",
      "support           4.0  0.364706  85.000000     85.000000  \n",
      "\n",
      "=======================\n",
      "\n",
      "RandomForest depth 5\n",
      "\n",
      "             C         C#        C++      HTML  Java  JavaScript     Python  \\\n",
      "precision  0.0   1.000000   0.625000  1.000000   0.0    0.300000   0.750000   \n",
      "recall     0.0   0.090909   0.312500  0.500000   0.0    0.954545   0.214286   \n",
      "f1-score   0.0   0.166667   0.416667  0.666667   0.0    0.456522   0.333333   \n",
      "support    7.0  11.000000  16.000000  4.000000   7.0   22.000000  14.000000   \n",
      "\n",
      "           TypeScript  accuracy  macro avg  weighted avg  \n",
      "precision         0.0  0.376471   0.459375      0.495294  \n",
      "recall            0.0  0.376471   0.259030      0.376471  \n",
      "f1-score          0.0  0.376471   0.254982      0.304433  \n",
      "support           4.0  0.376471  85.000000     85.000000  \n",
      "\n",
      "=======================\n",
      "\n",
      "RandomForest depth 6\n",
      "\n",
      "             C         C#        C++      HTML  Java  JavaScript     Python  \\\n",
      "precision  0.0   0.500000   0.545455  1.000000   0.0    0.312500   0.750000   \n",
      "recall     0.0   0.181818   0.375000  0.500000   0.0    0.909091   0.214286   \n",
      "f1-score   0.0   0.266667   0.444444  0.666667   0.0    0.465116   0.333333   \n",
      "support    7.0  11.000000  16.000000  4.000000   7.0   22.000000  14.000000   \n",
      "\n",
      "           TypeScript  accuracy  macro avg  weighted avg  \n",
      "precision         0.0  0.388235   0.388494      0.418850  \n",
      "recall            0.0  0.388235   0.272524      0.388235  \n",
      "f1-score          0.0  0.388235   0.272028      0.324827  \n",
      "support           4.0  0.388235  85.000000     85.000000  \n",
      "\n",
      "=======================\n",
      "\n",
      "RandomForest depth 7\n",
      "\n",
      "             C         C#        C++      HTML      Java  JavaScript  \\\n",
      "precision  0.0   1.000000   0.666667  1.000000  1.000000    0.317460   \n",
      "recall     0.0   0.181818   0.375000  0.500000  0.142857    0.909091   \n",
      "f1-score   0.0   0.307692   0.480000  0.666667  0.250000    0.470588   \n",
      "support    7.0  11.000000  16.000000  4.000000  7.000000   22.000000   \n",
      "\n",
      "              Python  TypeScript  accuracy  macro avg  weighted avg  \n",
      "precision   0.625000         0.0  0.423529   0.576141      0.569421  \n",
      "recall      0.357143         0.0  0.423529   0.308239      0.423529  \n",
      "f1-score    0.454545         0.0  0.423529   0.328687      0.378798  \n",
      "support    14.000000         4.0  0.423529  85.000000     85.000000  \n",
      "\n",
      "=======================\n",
      "\n",
      "RandomForest depth 8\n",
      "\n",
      "                  C         C#        C++      HTML      Java  JavaScript  \\\n",
      "precision  1.000000   1.000000   0.727273  1.000000  1.000000    0.338710   \n",
      "recall     0.142857   0.272727   0.500000  0.500000  0.142857    0.954545   \n",
      "f1-score   0.250000   0.428571   0.592593  0.666667  0.250000    0.500000   \n",
      "support    7.000000  11.000000  16.000000  4.000000  7.000000   22.000000   \n",
      "\n",
      "              Python  TypeScript  accuracy  macro avg  weighted avg  \n",
      "precision   0.600000         0.0  0.458824   0.708248      0.664564  \n",
      "recall      0.214286         0.0  0.458824   0.340909      0.458824  \n",
      "f1-score    0.315789         0.0  0.458824   0.375453      0.420982  \n",
      "support    14.000000         4.0  0.458824  85.000000     85.000000  \n",
      "\n",
      "=======================\n",
      "\n",
      "RandomForest depth 9\n",
      "\n",
      "                  C         C#        C++      HTML      Java  JavaScript  \\\n",
      "precision  1.000000   0.500000   0.583333  1.000000  1.000000    0.338983   \n",
      "recall     0.142857   0.181818   0.437500  0.500000  0.142857    0.909091   \n",
      "f1-score   0.250000   0.266667   0.500000  0.666667  0.250000    0.493827   \n",
      "support    7.000000  11.000000  16.000000  4.000000  7.000000   22.000000   \n",
      "\n",
      "              Python  TypeScript  accuracy  macro avg  weighted avg  \n",
      "precision   0.666667         0.0  0.435294   0.636123      0.583815  \n",
      "recall      0.285714         0.0  0.435294   0.324980      0.435294  \n",
      "f1-score    0.400000         0.0  0.435294   0.353395      0.394873  \n",
      "support    14.000000         4.0  0.435294  85.000000     85.000000  \n",
      "\n",
      "=======================\n",
      "\n",
      "RandomForest depth 10\n",
      "\n",
      "                  C         C#        C++      HTML      Java  JavaScript  \\\n",
      "precision  1.000000   0.500000   0.636364  1.000000  1.000000    0.339286   \n",
      "recall     0.142857   0.272727   0.437500  0.500000  0.142857    0.863636   \n",
      "f1-score   0.250000   0.352941   0.518519  0.666667  0.250000    0.487179   \n",
      "support    7.000000  11.000000  16.000000  4.000000  7.000000   22.000000   \n",
      "\n",
      "              Python  TypeScript  accuracy  macro avg  weighted avg  \n",
      "precision   0.625000         0.0  0.447059   0.637581      0.587013  \n",
      "recall      0.357143         0.0  0.447059   0.339590      0.447059  \n",
      "f1-score    0.454545         0.0  0.447059   0.372481      0.416787  \n",
      "support    14.000000         4.0  0.447059  85.000000     85.000000  \n",
      "\n",
      "=======================\n",
      "\n",
      "RandomForest depth 11\n",
      "\n",
      "                  C         C#        C++      HTML      Java  JavaScript  \\\n",
      "precision  1.000000   0.500000   0.666667  1.000000  1.000000    0.351852   \n",
      "recall     0.142857   0.272727   0.500000  0.500000  0.142857    0.863636   \n",
      "f1-score   0.250000   0.352941   0.571429  0.666667  0.250000    0.500000   \n",
      "support    7.000000  11.000000  16.000000  4.000000  7.000000   22.000000   \n",
      "\n",
      "              Python  TypeScript  accuracy  macro avg  weighted avg  \n",
      "precision   0.666667         0.0  0.470588   0.648148      0.602832  \n",
      "recall      0.428571         0.0  0.470588   0.356331      0.470588  \n",
      "f1-score    0.521739         0.0  0.470588   0.389097      0.441132  \n",
      "support    14.000000         4.0  0.470588  85.000000     85.000000  \n",
      "\n",
      "=======================\n",
      "\n",
      "RandomForest depth 12\n",
      "\n",
      "                  C         C#        C++      HTML      Java  JavaScript  \\\n",
      "precision  1.000000   0.400000   0.461538  1.000000  1.000000    0.339286   \n",
      "recall     0.142857   0.181818   0.375000  0.500000  0.142857    0.863636   \n",
      "f1-score   0.250000   0.250000   0.413793  0.666667  0.250000    0.487179   \n",
      "support    7.000000  11.000000  16.000000  4.000000  7.000000   22.000000   \n",
      "\n",
      "              Python  TypeScript  accuracy  macro avg  weighted avg  \n",
      "precision   0.571429         0.0  0.411765   0.596532      0.532340  \n",
      "recall      0.285714         0.0  0.411765   0.311485      0.411765  \n",
      "f1-score    0.380952         0.0  0.411765   0.337324      0.371631  \n",
      "support    14.000000         4.0  0.411765  85.000000     85.000000  \n",
      "\n",
      "=======================\n",
      "\n"
     ]
    }
   ],
   "source": [
    "# Random Forest Default setup on validate dataset\n",
    "for i in range(3, 13):\n",
    "    multi_depth = RandomForestClassifier(max_depth=i, random_state=175)\n",
    "\n",
    "    all_rf = multi_depth.fit(X_train, y_train)\n",
    "\n",
    "    y_pred_validate_rfc = all_rf.predict(X_validate)\n",
    "\n",
    "    report = classification_report(y_validate, y_pred_validate_rfc, output_dict=True)\n",
    "    print(f'RandomForest depth {i}\\n')\n",
    "    print(pd.DataFrame(report))\n",
    "    print('\\n=======================\\n')"
   ]
  },
  {
   "cell_type": "markdown",
   "id": "f88e80ab",
   "metadata": {},
   "source": [
    ">### K-Nearest Neighbor Classifier"
   ]
  },
  {
   "cell_type": "code",
   "execution_count": 14,
   "id": "075c6760",
   "metadata": {},
   "outputs": [
    {
     "name": "stdout",
     "output_type": "stream",
     "text": [
      "KNN depth 3\n",
      "\n",
      "                  C    C#        C++      HTML  Java  JavaScript  Python  \\\n",
      "precision  0.060606   0.0   0.500000  1.000000   0.0    0.666667     0.0   \n",
      "recall     0.571429   0.0   0.437500  0.500000   0.0    0.090909     0.0   \n",
      "f1-score   0.109589   0.0   0.466667  0.666667   0.0    0.160000     0.0   \n",
      "support    7.000000  11.0  16.000000  4.000000   7.0   22.000000    14.0   \n",
      "\n",
      "           TypeScript  accuracy  macro avg  weighted avg  \n",
      "precision         0.0  0.176471   0.278409      0.318717  \n",
      "recall            0.0  0.176471   0.199980      0.176471  \n",
      "f1-score          0.0  0.176471   0.175365      0.169652  \n",
      "support           4.0  0.176471  85.000000     85.000000  \n",
      "\n",
      "=======================\n",
      "\n",
      "KNN depth 4\n",
      "\n",
      "                  C         C#        C++      HTML  Java  JavaScript  \\\n",
      "precision  0.150000   0.600000   0.571429  1.000000   0.0    0.750000   \n",
      "recall     0.857143   0.272727   0.500000  0.500000   0.0    0.545455   \n",
      "f1-score   0.255319   0.375000   0.533333  0.666667   0.0    0.631579   \n",
      "support    7.000000  11.000000  16.000000  4.000000   7.0   22.000000   \n",
      "\n",
      "              Python  TypeScript  accuracy  macro avg  weighted avg  \n",
      "precision   0.500000         0.0  0.411765   0.446429      0.521092  \n",
      "recall      0.285714         0.0  0.411765   0.370130      0.411765  \n",
      "f1-score    0.363636         0.0  0.411765   0.353192      0.424681  \n",
      "support    14.000000         4.0  0.411765  85.000000     85.000000  \n",
      "\n",
      "=======================\n",
      "\n",
      "KNN depth 5\n",
      "\n",
      "                  C         C#        C++      HTML  Java  JavaScript  \\\n",
      "precision  0.200000   0.266667   0.176471  1.000000   0.0    0.722222   \n",
      "recall     0.571429   0.363636   0.187500  0.500000   0.0    0.590909   \n",
      "f1-score   0.296296   0.307692   0.181818  0.666667   0.0    0.650000   \n",
      "support    7.000000  11.000000  16.000000  4.000000   7.0   22.000000   \n",
      "\n",
      "              Python  TypeScript  accuracy  macro avg  weighted avg  \n",
      "precision   0.583333         0.0  0.388235   0.368587      0.414264  \n",
      "recall      0.500000         0.0  0.388235   0.339184      0.388235  \n",
      "f1-score    0.538462         0.0  0.388235   0.330117      0.386740  \n",
      "support    14.000000         4.0  0.388235  85.000000     85.000000  \n",
      "\n",
      "=======================\n",
      "\n",
      "KNN depth 6\n",
      "\n",
      "                  C         C#        C++      HTML  Java  JavaScript  \\\n",
      "precision  0.333333   0.300000   0.318182  1.000000   0.0    0.625000   \n",
      "recall     0.571429   0.545455   0.437500  0.500000   0.0    0.454545   \n",
      "f1-score   0.421053   0.387097   0.368421  0.666667   0.0    0.526316   \n",
      "support    7.000000  11.000000  16.000000  4.000000   7.0   22.000000   \n",
      "\n",
      "              Python  TypeScript  accuracy  macro avg  weighted avg  \n",
      "precision   0.666667         0.0  0.435294   0.405398      0.444795  \n",
      "recall      0.571429         0.0  0.435294   0.385045      0.435294  \n",
      "f1-score    0.615385         0.0  0.435294   0.373117      0.423073  \n",
      "support    14.000000         4.0  0.435294  85.000000     85.000000  \n",
      "\n",
      "=======================\n",
      "\n",
      "KNN depth 7\n",
      "\n",
      "                  C         C#        C++      HTML  Java  JavaScript  \\\n",
      "precision  0.222222   0.368421   0.370370  1.000000   0.0    0.750000   \n",
      "recall     0.285714   0.636364   0.625000  0.500000   0.0    0.545455   \n",
      "f1-score   0.250000   0.466667   0.465116  0.666667   0.0    0.631579   \n",
      "support    7.000000  11.000000  16.000000  4.000000   7.0   22.000000   \n",
      "\n",
      "              Python  TypeScript  accuracy  macro avg  weighted avg  \n",
      "precision   0.700000         0.0  0.470588   0.426377      0.492166  \n",
      "recall      0.500000         0.0  0.470588   0.386567      0.470588  \n",
      "f1-score    0.583333         0.0  0.470588   0.382920      0.459450  \n",
      "support    14.000000         4.0  0.470588  85.000000     85.000000  \n",
      "\n",
      "=======================\n",
      "\n",
      "KNN depth 8\n",
      "\n",
      "                  C         C#        C++      HTML  Java  JavaScript  \\\n",
      "precision  0.166667   0.400000   0.333333  1.000000   0.0    0.681818   \n",
      "recall     0.285714   0.545455   0.500000  0.500000   0.0    0.681818   \n",
      "f1-score   0.210526   0.461538   0.400000  0.666667   0.0    0.681818   \n",
      "support    7.000000  11.000000  16.000000  4.000000   7.0   22.000000   \n",
      "\n",
      "              Python  TypeScript  accuracy  macro avg  weighted avg  \n",
      "precision   0.700000         0.0  0.470588   0.410227      0.467059  \n",
      "recall      0.500000         0.0  0.470588   0.376623      0.470588  \n",
      "f1-score    0.583333         0.0  0.470588   0.375485      0.456282  \n",
      "support    14.000000         4.0  0.470588  85.000000     85.000000  \n",
      "\n",
      "=======================\n",
      "\n",
      "KNN depth 9\n",
      "\n",
      "                  C         C#        C++      HTML  Java  JavaScript  \\\n",
      "precision  0.200000   0.400000   0.346154  1.000000   0.0    0.619048   \n",
      "recall     0.285714   0.545455   0.562500  0.500000   0.0    0.590909   \n",
      "f1-score   0.235294   0.461538   0.428571  0.666667   0.0    0.604651   \n",
      "support    7.000000  11.000000  16.000000  4.000000   7.0   22.000000   \n",
      "\n",
      "              Python  TypeScript  accuracy  macro avg  weighted avg  \n",
      "precision   0.700000         0.0  0.458824   0.408150      0.455971  \n",
      "recall      0.500000         0.0  0.458824   0.373072      0.458824  \n",
      "f1-score    0.583333         0.0  0.458824   0.372507      0.443727  \n",
      "support    14.000000         4.0  0.458824  85.000000     85.000000  \n",
      "\n",
      "=======================\n",
      "\n",
      "KNN depth 10\n",
      "\n",
      "                  C         C#        C++      HTML  Java  JavaScript  \\\n",
      "precision  0.181818   0.500000   0.291667  1.000000   0.0    0.608696   \n",
      "recall     0.285714   0.454545   0.437500  0.500000   0.0    0.636364   \n",
      "f1-score   0.222222   0.476190   0.350000  0.666667   0.0    0.622222   \n",
      "support    7.000000  11.000000  16.000000  4.000000   7.0   22.000000   \n",
      "\n",
      "              Python  TypeScript  accuracy  macro avg  weighted avg  \n",
      "precision   0.538462         0.0  0.435294   0.390080      0.427872  \n",
      "recall      0.500000         0.0  0.435294   0.351765      0.435294  \n",
      "f1-score    0.518519         0.0  0.435294   0.356978      0.423629  \n",
      "support    14.000000         4.0  0.435294  85.000000     85.000000  \n",
      "\n",
      "=======================\n",
      "\n",
      "KNN depth 11\n",
      "\n",
      "                  C         C#        C++      HTML  Java  JavaScript  \\\n",
      "precision  0.250000   0.500000   0.333333  1.000000   0.0    0.590909   \n",
      "recall     0.142857   0.454545   0.625000  0.500000   0.0    0.590909   \n",
      "f1-score   0.181818   0.476190   0.434783  0.666667   0.0    0.590909   \n",
      "support    7.000000  11.000000  16.000000  4.000000   7.0   22.000000   \n",
      "\n",
      "              Python  TypeScript  accuracy  macro avg  weighted avg  \n",
      "precision   0.466667         0.0  0.447059   0.392614      0.424902  \n",
      "recall      0.500000         0.0  0.447059   0.351664      0.447059  \n",
      "f1-score    0.482759         0.0  0.447059   0.354141      0.422266  \n",
      "support    14.000000         4.0  0.447059  85.000000     85.000000  \n",
      "\n",
      "=======================\n",
      "\n",
      "KNN depth 12\n",
      "\n",
      "             C         C#        C++      HTML  Java  JavaScript     Python  \\\n",
      "precision  0.0   0.357143   0.312500  1.000000   0.0    0.608696   0.600000   \n",
      "recall     0.0   0.454545   0.625000  0.500000   0.0    0.636364   0.428571   \n",
      "f1-score   0.0   0.400000   0.416667  0.666667   0.0    0.622222   0.500000   \n",
      "support    7.0  11.000000  16.000000  4.000000   7.0   22.000000  14.000000   \n",
      "\n",
      "           TypeScript  accuracy  macro avg  weighted avg  \n",
      "precision         0.0  0.435294   0.359792      0.408469  \n",
      "recall            0.0  0.435294   0.330560      0.435294  \n",
      "f1-score          0.0  0.435294   0.325694      0.404967  \n",
      "support           4.0  0.435294  85.000000     85.000000  \n",
      "\n",
      "=======================\n",
      "\n"
     ]
    }
   ],
   "source": [
    "# KNN Default values on validate dataset\n",
    "for i in range(3, 13):\n",
    "    knn_depth = KNeighborsClassifier(n_neighbors=i)\n",
    "\n",
    "    all_knn = knn_depth.fit(X_train, y_train)\n",
    "\n",
    "    y_val_pred_knn = all_knn.predict(X_validate)\n",
    "\n",
    "    report = classification_report(y_validate, y_val_pred_knn, output_dict=True)\n",
    "    print(f'KNN depth {i}\\n')\n",
    "    print(pd.DataFrame(report))\n",
    "    print('\\n=======================\\n')"
   ]
  },
  {
   "cell_type": "code",
   "execution_count": 15,
   "id": "b76584f3",
   "metadata": {},
   "outputs": [
    {
     "name": "stdout",
     "output_type": "stream",
     "text": [
      "Classification Report on test dataset\n",
      "\n",
      "=======================\n",
      "\n",
      "                  C        C#        C++      HTML  Java  JavaScript  \\\n",
      "precision  0.333333  0.307692   0.275862  1.000000   0.0    0.307692   \n",
      "recall     0.333333  0.444444   0.615385  0.333333   0.0    0.222222   \n",
      "f1-score   0.333333  0.363636   0.380952  0.500000   0.0    0.258065   \n",
      "support    6.000000  9.000000  13.000000  3.000000   6.0   18.000000   \n",
      "\n",
      "              Python  TypeScript  accuracy  macro avg  weighted avg  \n",
      "precision   0.714286         0.0  0.338028   0.367358      0.358667  \n",
      "recall      0.416667         0.0  0.338028   0.295673      0.338028  \n",
      "f1-score    0.526316         0.0  0.338028   0.295288      0.319522  \n",
      "support    12.000000         4.0  0.338028  71.000000     71.000000  \n"
     ]
    }
   ],
   "source": [
    "# K-Nearest Neighbor on the test dataset\n",
    "\n",
    "knn = KNeighborsClassifier(n_neighbors=6)\n",
    "knn.fit(X_train, y_train)\n",
    "y_pred_test_knn = knn.predict(X_test)\n",
    "report = classification_report(y_test, y_pred_test_knn, output_dict=True)\n",
    "print('Classification Report on test dataset')\n",
    "print('\\n=======================\\n')\n",
    "print(pd.DataFrame(report))"
   ]
  },
  {
   "cell_type": "markdown",
   "id": "fc43fa67",
   "metadata": {},
   "source": [
    "### Modeling Summary:\n",
    "\n",
    "> - The three models performance on validate:  \n",
    "        * Logistic Regression Accuracy 45.88% Precision 35%  \n",
    "        * Random Forest  Classifier Accuracy 45.88% Precision 33.87%  \n",
    "        * K-Nearest Neighbor Accuracy 47.05% Precision 75%  \n",
    "  - The K-Nearest Neighbor is the best model of the three and beast the Baseline by 21.67 points.  \n",
    "> - After running the K-Nearest Neighbor model on the test dataset we obtain a 33.8% Accuracy with a 30.76% Precision  \n",
    "  - This beats the Baseline by 8.42 points  \n",
    "> - Our model is able to predict the language used to build game based on the README content slightly better than the baseline."
   ]
  },
  {
   "cell_type": "markdown",
   "id": "81e18641",
   "metadata": {},
   "source": [
    "***\n",
    "## Conclusion <a class=\"anchor\" id=\"ConclusionC88\" />\n",
    "***\n",
    "\n",
    "**Goal Recap:** \n",
    "\n",
    "**Key Findings:**\n",
    "> - \n",
    "> -\n",
    "> - \n",
    "> -\n",
    "\n",
    "**Recommendations:**\n",
    "> - \n",
    "> - \n",
    "\n",
    "\n",
    "**Next Steps:**\n",
    "> - \n",
    "> -\n"
   ]
  },
  {
   "cell_type": "markdown",
   "id": "6754c0c6",
   "metadata": {},
   "source": [
    "***\n",
    "## Appendix:\n",
    "***\n",
    "\n",
    "*place for more complex graphs and implications relevant for next steps.  Or just add extra details that I don't want to take away from the rest of the report*"
   ]
  }
 ],
 "metadata": {
  "kernelspec": {
   "display_name": "Python 3 (ipykernel)",
   "language": "python",
   "name": "python3"
  },
  "language_info": {
   "codemirror_mode": {
    "name": "ipython",
    "version": 3
   },
   "file_extension": ".py",
   "mimetype": "text/x-python",
   "name": "python",
   "nbconvert_exporter": "python",
   "pygments_lexer": "ipython3",
   "version": "3.9.7"
  }
 },
 "nbformat": 4,
 "nbformat_minor": 5
}
