{
 "cells": [
  {
   "cell_type": "markdown",
   "id": "ae6c7fe8",
   "metadata": {},
   "source": [
    "# PROJECT TITLE\n",
    "**Author: Cayt Schlichting**<br>\n",
    "*Audience: *\n",
    "\n",
    "**Project Goal:**\n",
    "\n",
    "\n",
    "\n",
    "**Jump to Section:** &ensp;   [Acquisition and Prep](#acq-prep) - [Exploration](#explore) - [Modeling](#modeling) - [Conclusion](#ConclusionC88)"
   ]
  },
  {
   "cell_type": "code",
   "execution_count": 1,
   "id": "4fdcaa85",
   "metadata": {},
   "outputs": [],
   "source": [
    "#Basics\n",
    "import numpy as np\n",
    "import pandas as pd\n",
    "from IPython.display import Markdown, display\n",
    "\n",
    "#Viz\n",
    "import matplotlib.pyplot as plt\n",
    "import seaborn as sns\n",
    "sns.set_theme(palette='colorblind') #set theme for all viz\n",
    "\n",
    "#modeling and stats\n",
    "\n",
    "#Modules"
   ]
  },
  {
   "cell_type": "markdown",
   "id": "d115fa11",
   "metadata": {},
   "source": [
    "***\n",
    "## Data Acquisition and Preparation  <a class=\"anchor\" id=\"acq-prep\">\n",
    "***\n",
    "\n",
    "**Source:** \n",
    "\n",
    "**Filtering:**\n",
    "> - \n",
    "> -\n",
    "\n",
    "**Cleaning:**\n",
    "> - \n",
    "> - "
   ]
  },
  {
   "cell_type": "markdown",
   "id": "ae0ba1b8",
   "metadata": {},
   "source": [
    "##### Acquire, Prep and Split data"
   ]
  },
  {
   "cell_type": "code",
   "execution_count": 2,
   "id": "4ea955e0",
   "metadata": {},
   "outputs": [],
   "source": [
    "#Acquisition and Prep"
   ]
  },
  {
   "cell_type": "markdown",
   "id": "b52e0c01",
   "metadata": {},
   "source": [
    "***\n",
    "## Exploration  <a class=\"anchor\" id=\"explore\" />\n",
    "***\n",
    "*More exploration can be found in the supporting notebooks*\n"
   ]
  },
  {
   "cell_type": "markdown",
   "id": "a4d01369",
   "metadata": {},
   "source": [
    "##### Target variable distribution"
   ]
  },
  {
   "cell_type": "code",
   "execution_count": null,
   "id": "0df633e0",
   "metadata": {},
   "outputs": [],
   "source": []
  },
  {
   "cell_type": "markdown",
   "id": "3f189346",
   "metadata": {},
   "source": [
    "### Question 1?\n",
    "\n",
    "<div class=\"alert alert-success\"><b>Alt Question format</b></div>"
   ]
  },
  {
   "cell_type": "code",
   "execution_count": 3,
   "id": "8ddc45fd",
   "metadata": {},
   "outputs": [
    {
     "data": {
      "text/markdown": [
       "### Alt question format using markdown"
      ],
      "text/plain": [
       "<IPython.core.display.Markdown object>"
      ]
     },
     "metadata": {},
     "output_type": "display_data"
    }
   ],
   "source": [
    "display(Markdown('### Alt question format using markdown'))\n",
    "#Do Visualizations"
   ]
  },
  {
   "cell_type": "markdown",
   "id": "12437dbd",
   "metadata": {},
   "source": [
    "**Notes:**"
   ]
  },
  {
   "cell_type": "markdown",
   "id": "ce6e2622",
   "metadata": {},
   "source": [
    "### Question 2?\n",
    "\n",
    "<div class=\"alert alert-success\"><b>Alt Question format</b></div>"
   ]
  },
  {
   "cell_type": "code",
   "execution_count": 4,
   "id": "f22568d6",
   "metadata": {},
   "outputs": [],
   "source": [
    "#Do Visualizations"
   ]
  },
  {
   "cell_type": "markdown",
   "id": "263e093c",
   "metadata": {},
   "source": [
    "**Notes:**"
   ]
  },
  {
   "cell_type": "markdown",
   "id": "6358f60b",
   "metadata": {},
   "source": [
    "### Question 3?\n",
    "\n",
    "<div class=\"alert alert-success\"><b>Alt Question format</b></div>"
   ]
  },
  {
   "cell_type": "code",
   "execution_count": 5,
   "id": "1bbd7ff1",
   "metadata": {},
   "outputs": [],
   "source": [
    "#Do Visualizations"
   ]
  },
  {
   "cell_type": "markdown",
   "id": "cb108a67",
   "metadata": {},
   "source": [
    "**Notes:**"
   ]
  },
  {
   "cell_type": "markdown",
   "id": "c9c90d12",
   "metadata": {},
   "source": [
    "### Question 3?\n",
    "\n",
    "<div class=\"alert alert-success\"><b>Alt Question format</b></div>"
   ]
  },
  {
   "cell_type": "code",
   "execution_count": 6,
   "id": "c5b14357",
   "metadata": {},
   "outputs": [],
   "source": [
    "#Do Visualizations"
   ]
  },
  {
   "cell_type": "markdown",
   "id": "268df6e9",
   "metadata": {},
   "source": [
    "**Notes:**"
   ]
  },
  {
   "cell_type": "markdown",
   "id": "3fc3a585",
   "metadata": {},
   "source": [
    "### Exploration Summary:\n",
    "\n",
    "> - \n",
    "> - \n",
    "> - \n"
   ]
  },
  {
   "cell_type": "markdown",
   "id": "afb3403d",
   "metadata": {},
   "source": [
    "***\n",
    "## Modeling <a class=\"anchor\" id=\"modeling\" />\n",
    "***\n",
    "*More modeling can be found in the supporting notebooks*\n",
    "    \n",
    "**Model Evaluation:**"
   ]
  },
  {
   "cell_type": "code",
   "execution_count": null,
   "id": "e75b7497",
   "metadata": {},
   "outputs": [],
   "source": []
  },
  {
   "cell_type": "code",
   "execution_count": null,
   "id": "b76584f3",
   "metadata": {},
   "outputs": [],
   "source": []
  },
  {
   "cell_type": "markdown",
   "id": "fc43fa67",
   "metadata": {},
   "source": [
    "### Modeling Summary:\n",
    "\n",
    "> - \n",
    "> - \n",
    "> - \n"
   ]
  },
  {
   "cell_type": "markdown",
   "id": "81e18641",
   "metadata": {},
   "source": [
    "***\n",
    "## Conclusion <a class=\"anchor\" id=\"ConclusionC88\" />\n",
    "***\n",
    "\n",
    "**Goal Recap:** \n",
    "\n",
    "**Key Findings:**\n",
    "> - \n",
    "> -\n",
    "> - \n",
    "> -\n",
    "\n",
    "**Recommendations:**\n",
    "> - \n",
    "> - \n",
    "\n",
    "\n",
    "**Next Steps:**\n",
    "> - \n",
    "> -\n"
   ]
  },
  {
   "cell_type": "markdown",
   "id": "6754c0c6",
   "metadata": {},
   "source": [
    "***\n",
    "## Appendix:\n",
    "***\n",
    "\n",
    "*place for more complex graphs and implications relevant for next steps.  Or just add extra details that I don't want to take away from the rest of the report*"
   ]
  }
 ],
 "metadata": {
  "kernelspec": {
   "display_name": "Python 3 (ipykernel)",
   "language": "python",
   "name": "python3"
  },
  "language_info": {
   "codemirror_mode": {
    "name": "ipython",
    "version": 3
   },
   "file_extension": ".py",
   "mimetype": "text/x-python",
   "name": "python",
   "nbconvert_exporter": "python",
   "pygments_lexer": "ipython3",
   "version": "3.9.7"
  }
 },
 "nbformat": 4,
 "nbformat_minor": 5
}
